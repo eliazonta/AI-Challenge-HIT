{
  "nbformat": 4,
  "nbformat_minor": 0,
  "metadata": {
    "colab": {
      "provenance": [],
      "collapsed_sections": [],
      "authorship_tag": "ABX9TyPAulcDrCzmC/wYXaX55Sxo",
      "include_colab_link": true
    },
    "kernelspec": {
      "name": "python3",
      "display_name": "Python 3"
    },
    "language_info": {
      "name": "python"
    }
  },
  "cells": [
    {
      "cell_type": "markdown",
      "metadata": {
        "id": "view-in-github",
        "colab_type": "text"
      },
      "source": [
        "<a href=\"https://colab.research.google.com/github/eliazonta/AI-Challenge-HIT/blob/main/nb1.ipynb\" target=\"_parent\"><img src=\"https://colab.research.google.com/assets/colab-badge.svg\" alt=\"Open In Colab\"/></a>"
      ]
    },
    {
      "cell_type": "markdown",
      "source": [
        "# Team 10. MeteoTrentino"
      ],
      "metadata": {
        "id": "7qfv2YI2ccne"
      }
    },
    {
      "cell_type": "code",
      "execution_count": 1,
      "metadata": {
        "colab": {
          "base_uri": "https://localhost:8080/"
        },
        "id": "fgMB3vR3cbVX",
        "outputId": "49b8ec1e-2035-4383-b312-e50c6f1220e0"
      },
      "outputs": [
        {
          "output_type": "stream",
          "name": "stdout",
          "text": [
            "Mounted at /content/gdrive\n",
            "/content/gdrive\n",
            "MyDrive\n",
            "MyDrive\n"
          ]
        }
      ],
      "source": [
        "import pandas as pd\n",
        "import os\n",
        "from google.colab import drive\n",
        "import matplotlib.pyplot as plt\n",
        "\n",
        "drive.mount(\"/content/gdrive\", force_remount=True)\n",
        "#%cd '/content/drive/'\n",
        "%cd '/content/gdrive/'\n",
        "!ls\n",
        "!ls\n",
        "#file = pd.read_csv(\"/content/gdrive/MyDrive/AI-Challenge/MeteoTrentino/\")\n",
        "#file.to_csv () #directory da definire "
      ]
    }
  ]
}