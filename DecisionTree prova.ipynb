{
  "nbformat": 4,
  "nbformat_minor": 0,
  "metadata": {
    "colab": {
      "provenance": []
    },
    "kernelspec": {
      "name": "python3",
      "display_name": "Python 3"
    },
    "language_info": {
      "name": "python"
    }
  },
  "cells": [
    {
      "cell_type": "code",
      "execution_count": 1,
      "metadata": {
        "colab": {
          "base_uri": "https://localhost:8080/"
        },
        "id": "WB4KFmU4EUZV",
        "outputId": "bd9eaedd-e389-493f-dace-11ffd25ba612"
      },
      "outputs": [
        {
          "output_type": "stream",
          "name": "stdout",
          "text": [
            "Drive already mounted at /content/drive; to attempt to forcibly remount, call drive.mount(\"/content/drive\", force_remount=True).\n",
            "[1]\n"
          ]
        },
        {
          "output_type": "stream",
          "name": "stderr",
          "text": [
            "/usr/local/lib/python3.7/dist-packages/sklearn/base.py:451: UserWarning: X does not have valid feature names, but DecisionTreeClassifier was fitted with feature names\n",
            "  \"X does not have valid feature names, but\"\n"
          ]
        },
        {
          "output_type": "stream",
          "name": "stdout",
          "text": [
            "Drive already mounted at /content/drive; to attempt to forcibly remount, call drive.mount(\"/content/drive\", force_remount=True).\n"
          ]
        }
      ],
      "source": [
        "from google.colab import drive\n",
        "drive.mount('/content/drive')\n",
        "\n",
        "import numpy as np\n",
        "import pandas as pd\n",
        "\n",
        "from sklearn import tree\n",
        "\n",
        "df = pd.read_csv (r\"/content/drive/MyDrive/10. Meteotrentino/Dati csv convalidati/radiazione_solare_A.csv\", sep=';', header=None)\n",
        "df.columns = ['staz', 'data', 'ora', 'val', 'code']\n",
        "\n",
        "df.loc[:, 'ora'] = pd.to_datetime(df.loc[:, 'ora'])\n",
        "df.loc[:, 'ora'] = df.loc[:, 'ora'].dt.hour*60+df.loc[:, 'ora'].dt.minute\n",
        "\n",
        "feature = df.iloc[:,[2,3]]\n",
        "label = df.loc[:, 'code']\n",
        "\n",
        "prediction = [735,0.1]\n",
        "prediction = np.array(prediction)\n",
        "\n",
        "clf = tree.DecisionTreeClassifier()\n",
        "clf = clf.fit(feature,label)\n",
        "\n",
        "pred_code = clf.predict(prediction.reshape(1,-1))\n",
        "print (pred_code)"
      ]
    }
  ]
}