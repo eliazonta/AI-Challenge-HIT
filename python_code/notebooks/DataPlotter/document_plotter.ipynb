{
 "cells": [
  {
   "cell_type": "code",
   "execution_count": 1,
   "metadata": {
    "id": "Oq6wWe-GhPnp"
   },
   "outputs": [],
   "source": [
    "# load libraries\n",
    "import os\n",
    "import pandas as pd\n",
    "import numpy as np\n",
    "import matplotlib.pyplot as plt\n",
    "from math import ceil\n",
    "from math import nan # importing nan to avoid overlapping in plotting datas\n",
    "from datetime import datetime\n",
    "# from google.colab import drive"
   ]
  },
  {
   "cell_type": "code",
   "execution_count": null,
   "metadata": {},
   "outputs": [],
   "source": [
    "from google.colab import drive\n",
    "drive.mount('/content/drive')"
   ]
  },
  {
   "cell_type": "code",
   "execution_count": 2,
   "metadata": {
    "id": "kbaVgqmyhUXg"
   },
   "outputs": [],
   "source": [
    "# path of our dataframe\n",
    "data_path =  \"temperatura1_A.csv\""
   ]
  },
  {
   "cell_type": "code",
   "execution_count": null,
   "metadata": {},
   "outputs": [],
   "source": [
    "# RUN ON COLAB\n",
    "# change me, have to point to the Meteotrentino drive folder\n",
    "wk =  \"/content/drive/My Drive/10. Meteotrentino/\"\n",
    "\n",
    "# folder for the csv\n",
    "subfolder = \"Dati csv convalidati/\"\n",
    "\n",
    "# select the filename, make me dynamic\n",
    "selected_dataset = \"temperatura1_A.csv\"\n",
    "\n",
    "data_path = wk+subfolder+selected_dataset"
   ]
  },
  {
   "cell_type": "code",
   "execution_count": 3,
   "metadata": {},
   "outputs": [
    {
     "name": "stdout",
     "output_type": "stream",
     "text": [
      "temperatura\n"
     ]
    }
   ],
   "source": [
    "# select the filename of the dataset (Dario: dont judge me)\n",
    "selected_dataset = os.path.basename(data_path).split('_A')[0] \n",
    "if selected_dataset > \"vel\":\n",
    "  dataset_sensor = \"vento\"\n",
    "elif selected_dataset > \"umidita\":\n",
    "  dataset_sensor = \"umidità\"\n",
    "elif selected_dataset > \"temperatura\":    \n",
    "  dataset_sensor = \"temperatura\"\n",
    "elif selected_dataset > \"radiazione\":\n",
    "  dataset_sensor = \"radiazione\"\n",
    "elif selected_dataset > \"pioggia\":\n",
    "  dataset_sensor = \"pioggia\"\n",
    "elif selected_dataset > \"direzione\":\n",
    "  dataset_sensor = \"vento\"\n",
    "else:\n",
    "  dataset_sensor = \"Altezza neve\"\n",
    "print(dataset_sensor)"
   ]
  },
  {
   "cell_type": "code",
   "execution_count": 8,
   "metadata": {
    "id": "TFdcg_W8iQqH"
   },
   "outputs": [],
   "source": [
    "# loading in pandas dataframe\n",
    "df = pd.read_csv(\n",
    "  data_path,\n",
    "  sep = \";\", # not a CSV, separator is ';'\n",
    "  header = None, # no header\n",
    "  dtype = {'0' : str, '1': str, '2': str, '3' : np.float64, '4':int}\n",
    "  ) \n"
   ]
  },
  {
   "cell_type": "code",
   "execution_count": 10,
   "metadata": {
    "id": "juYu5qLsie5J"
   },
   "outputs": [
    {
     "name": "stderr",
     "output_type": "stream",
     "text": [
      "/tmp/ipykernel_1758895/3586892922.py:2: FutureWarning: DataFrame.set_axis 'inplace' keyword is deprecated and will be removed in a future version. Use `obj = obj.set_axis(..., copy=False)` instead\n",
      "  df= df.set_axis(\n"
     ]
    }
   ],
   "source": [
    "# define a header \n",
    "df= df.set_axis(\n",
    "    ['label', 'date', 'time', 'value','validation_code'],\n",
    "    axis = 1,\n",
    "    inplace = False\n",
    "\n",
    ")"
   ]
  },
  {
   "cell_type": "code",
   "execution_count": 11,
   "metadata": {},
   "outputs": [],
   "source": [
    "df['datetime'] = pd.to_datetime(df['date']+\" \"+df['time'], format = '%d/%m/%Y %H:%M')"
   ]
  },
  {
   "cell_type": "code",
   "execution_count": 12,
   "metadata": {
    "colab": {
     "base_uri": "https://localhost:8080/",
     "height": 424
    },
    "id": "mGOjhUTiita0",
    "outputId": "e11b2394-0162-4cc1-8fab-bd533a493252"
   },
   "outputs": [
    {
     "data": {
      "text/html": [
       "<div>\n",
       "<style scoped>\n",
       "    .dataframe tbody tr th:only-of-type {\n",
       "        vertical-align: middle;\n",
       "    }\n",
       "\n",
       "    .dataframe tbody tr th {\n",
       "        vertical-align: top;\n",
       "    }\n",
       "\n",
       "    .dataframe thead th {\n",
       "        text-align: right;\n",
       "    }\n",
       "</style>\n",
       "<table border=\"1\" class=\"dataframe\">\n",
       "  <thead>\n",
       "    <tr style=\"text-align: right;\">\n",
       "      <th></th>\n",
       "      <th>label</th>\n",
       "      <th>date</th>\n",
       "      <th>time</th>\n",
       "      <th>value</th>\n",
       "      <th>validation_code</th>\n",
       "      <th>datetime</th>\n",
       "    </tr>\n",
       "  </thead>\n",
       "  <tbody>\n",
       "    <tr>\n",
       "      <th>0</th>\n",
       "      <td>T0009</td>\n",
       "      <td>01/01/2014</td>\n",
       "      <td>00:00</td>\n",
       "      <td>-2.1</td>\n",
       "      <td>1</td>\n",
       "      <td>2014-01-01 00:00:00</td>\n",
       "    </tr>\n",
       "    <tr>\n",
       "      <th>1</th>\n",
       "      <td>T0009</td>\n",
       "      <td>01/01/2014</td>\n",
       "      <td>00:15</td>\n",
       "      <td>-2.3</td>\n",
       "      <td>1</td>\n",
       "      <td>2014-01-01 00:15:00</td>\n",
       "    </tr>\n",
       "    <tr>\n",
       "      <th>2</th>\n",
       "      <td>T0009</td>\n",
       "      <td>01/01/2014</td>\n",
       "      <td>00:30</td>\n",
       "      <td>-2.2</td>\n",
       "      <td>1</td>\n",
       "      <td>2014-01-01 00:30:00</td>\n",
       "    </tr>\n",
       "    <tr>\n",
       "      <th>3</th>\n",
       "      <td>T0009</td>\n",
       "      <td>01/01/2014</td>\n",
       "      <td>00:45</td>\n",
       "      <td>-2.3</td>\n",
       "      <td>1</td>\n",
       "      <td>2014-01-01 00:45:00</td>\n",
       "    </tr>\n",
       "    <tr>\n",
       "      <th>4</th>\n",
       "      <td>T0009</td>\n",
       "      <td>01/01/2014</td>\n",
       "      <td>01:00</td>\n",
       "      <td>-2.5</td>\n",
       "      <td>1</td>\n",
       "      <td>2014-01-01 01:00:00</td>\n",
       "    </tr>\n",
       "    <tr>\n",
       "      <th>...</th>\n",
       "      <td>...</td>\n",
       "      <td>...</td>\n",
       "      <td>...</td>\n",
       "      <td>...</td>\n",
       "      <td>...</td>\n",
       "      <td>...</td>\n",
       "    </tr>\n",
       "    <tr>\n",
       "      <th>11763686</th>\n",
       "      <td>T0227</td>\n",
       "      <td>31/12/2021</td>\n",
       "      <td>22:45</td>\n",
       "      <td>8.1</td>\n",
       "      <td>1</td>\n",
       "      <td>2021-12-31 22:45:00</td>\n",
       "    </tr>\n",
       "    <tr>\n",
       "      <th>11763687</th>\n",
       "      <td>T0227</td>\n",
       "      <td>31/12/2021</td>\n",
       "      <td>23:00</td>\n",
       "      <td>8.2</td>\n",
       "      <td>1</td>\n",
       "      <td>2021-12-31 23:00:00</td>\n",
       "    </tr>\n",
       "    <tr>\n",
       "      <th>11763688</th>\n",
       "      <td>T0227</td>\n",
       "      <td>31/12/2021</td>\n",
       "      <td>23:15</td>\n",
       "      <td>8.1</td>\n",
       "      <td>1</td>\n",
       "      <td>2021-12-31 23:15:00</td>\n",
       "    </tr>\n",
       "    <tr>\n",
       "      <th>11763689</th>\n",
       "      <td>T0227</td>\n",
       "      <td>31/12/2021</td>\n",
       "      <td>23:30</td>\n",
       "      <td>8.0</td>\n",
       "      <td>1</td>\n",
       "      <td>2021-12-31 23:30:00</td>\n",
       "    </tr>\n",
       "    <tr>\n",
       "      <th>11763690</th>\n",
       "      <td>T0227</td>\n",
       "      <td>31/12/2021</td>\n",
       "      <td>23:45</td>\n",
       "      <td>8.0</td>\n",
       "      <td>1</td>\n",
       "      <td>2021-12-31 23:45:00</td>\n",
       "    </tr>\n",
       "  </tbody>\n",
       "</table>\n",
       "<p>11763691 rows × 6 columns</p>\n",
       "</div>"
      ],
      "text/plain": [
       "          label        date   time  value  validation_code            datetime\n",
       "0         T0009  01/01/2014  00:00   -2.1                1 2014-01-01 00:00:00\n",
       "1         T0009  01/01/2014  00:15   -2.3                1 2014-01-01 00:15:00\n",
       "2         T0009  01/01/2014  00:30   -2.2                1 2014-01-01 00:30:00\n",
       "3         T0009  01/01/2014  00:45   -2.3                1 2014-01-01 00:45:00\n",
       "4         T0009  01/01/2014  01:00   -2.5                1 2014-01-01 01:00:00\n",
       "...         ...         ...    ...    ...              ...                 ...\n",
       "11763686  T0227  31/12/2021  22:45    8.1                1 2021-12-31 22:45:00\n",
       "11763687  T0227  31/12/2021  23:00    8.2                1 2021-12-31 23:00:00\n",
       "11763688  T0227  31/12/2021  23:15    8.1                1 2021-12-31 23:15:00\n",
       "11763689  T0227  31/12/2021  23:30    8.0                1 2021-12-31 23:30:00\n",
       "11763690  T0227  31/12/2021  23:45    8.0                1 2021-12-31 23:45:00\n",
       "\n",
       "[11763691 rows x 6 columns]"
      ]
     },
     "execution_count": 12,
     "metadata": {},
     "output_type": "execute_result"
    }
   ],
   "source": [
    "df #Printing table"
   ]
  },
  {
   "cell_type": "code",
   "execution_count": 13,
   "metadata": {
    "id": "hmpSHqZEkXp4"
   },
   "outputs": [
    {
     "data": {
      "text/html": [
       "<div>\n",
       "<style scoped>\n",
       "    .dataframe tbody tr th:only-of-type {\n",
       "        vertical-align: middle;\n",
       "    }\n",
       "\n",
       "    .dataframe tbody tr th {\n",
       "        vertical-align: top;\n",
       "    }\n",
       "\n",
       "    .dataframe thead th {\n",
       "        text-align: right;\n",
       "    }\n",
       "</style>\n",
       "<table border=\"1\" class=\"dataframe\">\n",
       "  <thead>\n",
       "    <tr style=\"text-align: right;\">\n",
       "      <th></th>\n",
       "      <th>label</th>\n",
       "      <th>date</th>\n",
       "      <th>time</th>\n",
       "      <th>value</th>\n",
       "      <th>validation_code</th>\n",
       "      <th>datetime</th>\n",
       "    </tr>\n",
       "  </thead>\n",
       "  <tbody>\n",
       "    <tr>\n",
       "      <th>2334744</th>\n",
       "      <td>T0059</td>\n",
       "      <td>2016-08-30</td>\n",
       "      <td>00:00</td>\n",
       "      <td>11.3</td>\n",
       "      <td>1</td>\n",
       "      <td>2016-08-30 00:00:00</td>\n",
       "    </tr>\n",
       "    <tr>\n",
       "      <th>2334745</th>\n",
       "      <td>T0059</td>\n",
       "      <td>2016-08-30</td>\n",
       "      <td>00:15</td>\n",
       "      <td>11.3</td>\n",
       "      <td>1</td>\n",
       "      <td>2016-08-30 00:15:00</td>\n",
       "    </tr>\n",
       "    <tr>\n",
       "      <th>2334746</th>\n",
       "      <td>T0059</td>\n",
       "      <td>2016-08-30</td>\n",
       "      <td>00:30</td>\n",
       "      <td>11.2</td>\n",
       "      <td>1</td>\n",
       "      <td>2016-08-30 00:30:00</td>\n",
       "    </tr>\n",
       "    <tr>\n",
       "      <th>2334747</th>\n",
       "      <td>T0059</td>\n",
       "      <td>2016-08-30</td>\n",
       "      <td>00:45</td>\n",
       "      <td>11.1</td>\n",
       "      <td>1</td>\n",
       "      <td>2016-08-30 00:45:00</td>\n",
       "    </tr>\n",
       "    <tr>\n",
       "      <th>2334748</th>\n",
       "      <td>T0059</td>\n",
       "      <td>2016-08-30</td>\n",
       "      <td>01:00</td>\n",
       "      <td>11.1</td>\n",
       "      <td>1</td>\n",
       "      <td>2016-08-30 01:00:00</td>\n",
       "    </tr>\n",
       "    <tr>\n",
       "      <th>...</th>\n",
       "      <td>...</td>\n",
       "      <td>...</td>\n",
       "      <td>...</td>\n",
       "      <td>...</td>\n",
       "      <td>...</td>\n",
       "      <td>...</td>\n",
       "    </tr>\n",
       "    <tr>\n",
       "      <th>2334931</th>\n",
       "      <td>T0059</td>\n",
       "      <td>2016-08-31</td>\n",
       "      <td>22:45</td>\n",
       "      <td>13.1</td>\n",
       "      <td>1</td>\n",
       "      <td>2016-08-31 22:45:00</td>\n",
       "    </tr>\n",
       "    <tr>\n",
       "      <th>2334932</th>\n",
       "      <td>T0059</td>\n",
       "      <td>2016-08-31</td>\n",
       "      <td>23:00</td>\n",
       "      <td>13.0</td>\n",
       "      <td>1</td>\n",
       "      <td>2016-08-31 23:00:00</td>\n",
       "    </tr>\n",
       "    <tr>\n",
       "      <th>2334933</th>\n",
       "      <td>T0059</td>\n",
       "      <td>2016-08-31</td>\n",
       "      <td>23:15</td>\n",
       "      <td>13.1</td>\n",
       "      <td>1</td>\n",
       "      <td>2016-08-31 23:15:00</td>\n",
       "    </tr>\n",
       "    <tr>\n",
       "      <th>2334934</th>\n",
       "      <td>T0059</td>\n",
       "      <td>2016-08-31</td>\n",
       "      <td>23:30</td>\n",
       "      <td>13.2</td>\n",
       "      <td>1</td>\n",
       "      <td>2016-08-31 23:30:00</td>\n",
       "    </tr>\n",
       "    <tr>\n",
       "      <th>2334935</th>\n",
       "      <td>T0059</td>\n",
       "      <td>2016-08-31</td>\n",
       "      <td>23:45</td>\n",
       "      <td>12.9</td>\n",
       "      <td>1</td>\n",
       "      <td>2016-08-31 23:45:00</td>\n",
       "    </tr>\n",
       "  </tbody>\n",
       "</table>\n",
       "<p>192 rows × 6 columns</p>\n",
       "</div>"
      ],
      "text/plain": [
       "         label       date   time  value  validation_code            datetime\n",
       "2334744  T0059 2016-08-30  00:00   11.3                1 2016-08-30 00:00:00\n",
       "2334745  T0059 2016-08-30  00:15   11.3                1 2016-08-30 00:15:00\n",
       "2334746  T0059 2016-08-30  00:30   11.2                1 2016-08-30 00:30:00\n",
       "2334747  T0059 2016-08-30  00:45   11.1                1 2016-08-30 00:45:00\n",
       "2334748  T0059 2016-08-30  01:00   11.1                1 2016-08-30 01:00:00\n",
       "...        ...        ...    ...    ...              ...                 ...\n",
       "2334931  T0059 2016-08-31  22:45   13.1                1 2016-08-31 22:45:00\n",
       "2334932  T0059 2016-08-31  23:00   13.0                1 2016-08-31 23:00:00\n",
       "2334933  T0059 2016-08-31  23:15   13.1                1 2016-08-31 23:15:00\n",
       "2334934  T0059 2016-08-31  23:30   13.2                1 2016-08-31 23:30:00\n",
       "2334935  T0059 2016-08-31  23:45   12.9                1 2016-08-31 23:45:00\n",
       "\n",
       "[192 rows x 6 columns]"
      ]
     },
     "execution_count": 13,
     "metadata": {},
     "output_type": "execute_result"
    }
   ],
   "source": [
    "date_start = \"30/08/2016\" #@param {type:\"string\"}\n",
    "date_end = \"31/08/2016\" #@param {type:\"string\"}\n",
    "station_num = \"T0059\" #@param {type:\"string\"}\n",
    "\n",
    "df['date'] = pd.to_datetime(df['date'], format = '%d/%m/%Y')\n",
    "\n",
    "# Converting string in to datetime\n",
    "date_start = datetime.strptime(date_start, '%d/%m/%Y')\n",
    "date_end = datetime.strptime(date_end, '%d/%m/%Y')\n",
    "\n",
    "df_filtered = df[(df['label'] == station_num) &\n",
    "         (df['date'] >= date_start) & \n",
    "         (df['date'] <= date_end)]\n",
    "\n",
    "\n",
    "# Create a dataframe of only that station in that day\n",
    "df_filtered = df[(df['label'] == station_num) &\n",
    "         (df['date'] >= date_start) & \n",
    "         (df['date'] <= date_end)]\n",
    "\n",
    "df_filtered"
   ]
  },
  {
   "cell_type": "code",
   "execution_count": 14,
   "metadata": {},
   "outputs": [],
   "source": [
    "# Split good and bad data into 2 samples \n",
    "y_signal = df_filtered.value\n",
    "y_outliers = np.where(df_filtered[\"validation_code\"] == 1, nan, df_filtered.value)"
   ]
  },
  {
   "cell_type": "code",
   "execution_count": 15,
   "metadata": {},
   "outputs": [
    {
     "name": "stderr",
     "output_type": "stream",
     "text": [
      "/tmp/ipykernel_1758895/2564339885.py:3: SettingWithCopyWarning: \n",
      "A value is trying to be set on a copy of a slice from a DataFrame.\n",
      "Try using .loc[row_indexer,col_indexer] = value instead\n",
      "\n",
      "See the caveats in the documentation: https://pandas.pydata.org/pandas-docs/stable/user_guide/indexing.html#returning-a-view-versus-a-copy\n",
      "  df_filtered[\"ax\"] = df_filtered.datetime.astype(str)\n",
      "/tmp/ipykernel_1758895/2564339885.py:6: SettingWithCopyWarning: \n",
      "A value is trying to be set on a copy of a slice from a DataFrame\n",
      "\n",
      "See the caveats in the documentation: https://pandas.pydata.org/pandas-docs/stable/user_guide/indexing.html#returning-a-view-versus-a-copy\n",
      "  df_filtered[\"ax\"][i] = os.path.basename(df_filtered[\"ax\"][i]).split('-')[2]\n"
     ]
    }
   ],
   "source": [
    "# Define the x axis value\n",
    "x_range = range(len(df_filtered.time))\n",
    "df_filtered[\"ax\"] = df_filtered.datetime.astype(str)\n",
    "\n",
    "for i in range(df_filtered.index[0], (df_filtered.index[0] + len(df_filtered.index))):\n",
    "    df_filtered[\"ax\"][i] = os.path.basename(df_filtered[\"ax\"][i]).split('-')[2]\n",
    "    \n",
    "x_plot = np.array(df_filtered.ax)"
   ]
  },
  {
   "cell_type": "code",
   "execution_count": 27,
   "metadata": {
    "colab": {
     "base_uri": "https://localhost:8080/",
     "height": 292
    },
    "id": "7PsLHRy92cQk",
    "outputId": "352ac387-0a2b-4a1a-afd0-4379d16fae23"
   },
   "outputs": [
    {
     "data": {
      "image/png": "[encoded data removed]",
      "text/plain": [
       "<Figure size 2000x1000 with 1 Axes>"
      ]
     },
     "metadata": {},
     "output_type": "display_data"
    }
   ],
   "source": [
    "import matplotlib.pyplot as plt\n",
    "import matplotlib.ticker as ticker\n",
    "import matplotlib.dates as mdates\n",
    "\n",
    "# Shapes sizes\n",
    "figure_width = 20 #@param {type:\"integer\"}\n",
    "figure_height = 10 #@param {type:\"integer\"}\n",
    "x_margin = 0 #@param {type:\"number\"}\n",
    "y_margin = 0.1 #@param {type:\"number\"}\n",
    "\n",
    "# Setting font\n",
    "font =\"Verdana\" #@param {type:\"string\"}\n",
    "plt.rc(font)\n",
    "\n",
    "# Styling text\n",
    "title_fontsize = 10 #@param {type:\"integer\"}\n",
    "label_fontsize = 10 #@param {type:\"integer\"}\n",
    "legend_size = 10 #@param {type:\"integer\"}\n",
    "axis_fontsize = 18 #@param {type:\"integer\"}\n",
    "\n",
    "# Set unit\n",
    "x_unit = \"%H:%M\" #@param {type:\"string\"}\n",
    "y_unit = \"°C\" #@param {type:\"string\"}\n",
    "\n",
    "# Set tick \n",
    "n_xinterval = 4  #@param {type:\"integer\"} in ore\n",
    "\n",
    "# Reshaping the plot\n",
    "f = plt.figure()\n",
    "f.set_figwidth(figure_width)\n",
    "f.set_figheight(figure_height)\n",
    "\n",
    "# Create subplot\n",
    "ax = plt.subplot()\n",
    "\n",
    "# Set labels\n",
    "plt.title('Grafico '+ dataset_sensor +' ' +station_num + ' dal ' + str(date_start) ,fontsize = title_fontsize, style = 'italic')\n",
    "plt.xlabel('$\\it{time}$' + ' [' + x_unit +']', fontsize = axis_fontsize) #se tutto in corsivo style = 'italic' \n",
    "plt.ylabel('$\\it{value}$' + ' [' + y_unit +']', fontsize = axis_fontsize)\n",
    "ax.set_xticks(range(len(x_plot)))\n",
    "ax.tick_params(axis=\"y\",direction=\"in\",pad=label_margin)\n",
    "plt.xticks(fontsize=label_fontsize)\n",
    "plt.yticks(np.arange(0, ceil(max(y_signal))+2, 2),fontsize=label_fontsize)\n",
    "ax.tick_params(axis=\"x\",direction=\"in\",pad=label_margin)\n",
    "\n",
    "hours = mdates.HourLocator(interval = 193*n_xinterval)\n",
    "h_fmt = mdates.DateFormatter(x_unit)\n",
    "ax.xaxis.set_major_locator(hours)\n",
    "ax.xaxis.set_major_formatter(h_fmt)\n",
    "\n",
    "\n",
    "#ax.yaxis.set_major_locator(ticker.LinearLocator(n_yticks))\n",
    "\n",
    "f.autofmt_xdate()\n",
    "\n",
    "# Plotting datas\n",
    "plt.plot(x_plot, y_signal, \"-\",ms=8,color=\"blue\")\t\n",
    "plt.plot(x_plot, y_outliers, \"-\",ms=8,mew=5,color=\"red\")\n",
    "\n",
    "# Making a legend\n",
    "ax.legend(['Good values', 'Bad values'], prop={'size': legend_size})\n",
    "\n",
    "plt.margins(x=x_margin, y=y_margin)\n",
    "\n",
    "#Saving as PDF\n",
    "my_file = selected_dataset + \"_\" + station_num + '.pdf'\n",
    "#savewk = '/content/drive/My Drive/10. Meteotrentino/ReportPlots' #Colab\n",
    "savewk = \"\" #local\n",
    "plt.savefig(os.path.join(savewk, my_file), bbox_inches='tight')    \n",
    "\n",
    "# Visualize\n",
    "plt.show()"
   ]
  },
  {
   "cell_type": "code",
   "execution_count": null,
   "metadata": {},
   "outputs": [],
   "source": []
  }
 ],
 "metadata": {
  "colab": {
   "provenance": []
  },
  "kernelspec": {
   "display_name": "Python 3 (ipykernel)",
   "language": "python",
   "name": "python3"
  },
  "language_info": {
   "codemirror_mode": {
    "name": "ipython",
    "version": 3
   },
   "file_extension": ".py",
   "mimetype": "text/x-python",
   "name": "python",
   "nbconvert_exporter": "python",
   "pygments_lexer": "ipython3",
   "version": "3.10.6"
  },
  "vscode": {
   "interpreter": {
    "hash": "db3b0be3bb1f6db1a0432c56ec1c0f7459936b81fd9ed1b468b8c4ba9c3d8298"
   }
  }
 },
 "nbformat": 4,
 "nbformat_minor": 4
}
