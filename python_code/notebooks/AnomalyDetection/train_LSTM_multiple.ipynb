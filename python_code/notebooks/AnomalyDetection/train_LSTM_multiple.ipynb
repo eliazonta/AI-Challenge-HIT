{
  "cells": [
    {
      "cell_type": "code",
      "execution_count": 1,
      "metadata": {
        "id": "UHZ5dgtBUukH"
      },
      "outputs": [],
      "source": [
        "# load libraries\n",
        "import pandas as pd\n",
        "import os\n",
        "import numpy as np\n",
        "import datetime\n",
        "from torch.utils.data import Dataset, DataLoader\n",
        "from torch import save"
      ]
    },
    {
      "cell_type": "code",
      "execution_count": 2,
      "metadata": {
        "colab": {
          "base_uri": "https://localhost:8080/"
        },
        "id": "ejv9HkvpQlzo",
        "outputId": "1b430919-12c9-4866-d820-fec6834fb6ad"
      },
      "outputs": [
        {
          "name": "stdout",
          "output_type": "stream",
          "text": [
            "Mounted at /content/drive\n"
          ]
        }
      ],
      "source": [
        "# mount drive\n",
        "from google.colab import drive\n",
        "drive.mount('/content/drive')"
      ]
    },
    {
      "cell_type": "code",
      "execution_count": 3,
      "metadata": {
        "id": "EdTf6K23VyxH"
      },
      "outputs": [],
      "source": [
        "# change me, have to point to the Meteotrentino drive folder\n",
        "wk =  \"/content/drive/My Drive/10. Meteotrentino/\"\n",
        "\n",
        "# path to the datasets\n",
        "dataset_path = wk+\"DatasetPytorch/\"\n",
        "\n",
        "# specify sensor type\n",
        "sensor_type = \"pioggia\"\n",
        "\n",
        "file_name_test = \"test_join_tsf.pt\"\n",
        "file_name_train = \"train_join_tsf.pt\"\n",
        "\n",
        "# extrapolate the paths\n",
        "file_test_to_read_path = os.path.join(wk, dataset_path, sensor_type, file_name_test)\n",
        "file_train_to_read_path = os.path.join(wk, dataset_path, sensor_type, file_name_train)"
      ]
    },
    {
      "cell_type": "code",
      "execution_count": 4,
      "metadata": {
        "colab": {
          "base_uri": "https://localhost:8080/"
        },
        "id": "axqYKVdiQ46d",
        "outputId": "b46a0442-11d3-4874-b5ca-044f13ea44bb"
      },
      "outputs": [
        {
          "name": "stdout",
          "output_type": "stream",
          "text": [
            "Cloning into 'AI-Challenge-HIT'...\n",
            "remote: Enumerating objects: 574, done.\u001b[K\n",
            "remote: Counting objects: 100% (305/305), done.\u001b[K\n",
            "remote: Compressing objects: 100% (138/138), done.\u001b[K\n",
            "remote: Total 574 (delta 131), reused 280 (delta 119), pack-reused 269\u001b[K\n",
            "Receiving objects: 100% (574/574), 30.55 MiB | 16.69 MiB/s, done.\n",
            "Resolving deltas: 100% (246/246), done.\n"
          ]
        }
      ],
      "source": [
        "import torch\n",
        "import sys\n",
        "# clone the libraries if not done \n",
        "!git clone https://github.com/eliazonta/AI-Challenge-HIT\n",
        "# append to sys.path to load other modules, needed for the custom dataset\n",
        "sys.path.append(\"/content/AI-Challenge-HIT/python_code/notebooks/PytorchFormatter/\")\n",
        "\n",
        "from custom_datasets_pytorch import CustomDataset\n",
        "\n",
        "def down_sampling(tensor,window):\n",
        "    \"\"\"The function performs a down sampling of the tensor by averaging a number of values equal to window.\"\"\"\n",
        "    shape = tensor.size()\n",
        "    return tensor.reshape(shape[0],int(shape[1]/window),window,shape[2]).mean(dim=2)"
      ]
    },
    {
      "cell_type": "code",
      "execution_count": 5,
      "metadata": {
        "id": "Foewherb6_GU"
      },
      "outputs": [],
      "source": [
        "from torch import save,load\n",
        "dataset = {}\n",
        "splits = ['train','test']\n",
        "shuffle = {'train':True,'test':False}\n",
        "# here load a pre-existing dataset\n",
        "dataset['train'] = load(file_train_to_read_path)\n",
        "dataset['test'] = load(file_test_to_read_path)\n",
        "# down-sampling\n",
        "dataset['train'].features = down_sampling(dataset['train'].features,4)\n",
        "dataset['train'].target = down_sampling(dataset['train'].target,4)\n",
        "dataset['test'].features = down_sampling(dataset['test'].features,4)\n",
        "dataset['test'].target = down_sampling(dataset['test'].target,4)\n",
        "\n",
        "# mean and std of train (target is small)\n",
        "mean = dataset['train'].features.mean()\n",
        "std = dataset['train'].features.std()\n",
        "# for training, standardize the dataset\n",
        "dataset['train'].features = (dataset['train'].features - mean)/std\n",
        "dataset['train'].target = (dataset['train'].target - mean)/std\n",
        "dataset['test'].features = (dataset['test'].features - mean)/std\n",
        "dataset['test'].target = (dataset['test'].target - mean)/std\n",
        "\n",
        "# definition of the dataloader\n",
        "b_size = {'train':64,'test':len(dataset['test'])}\n",
        "dataloader = {x: torch.utils.data.DataLoader(dataset=dataset[x],\n",
        "                                            batch_size=b_size[x],\n",
        "                                            shuffle=shuffle[x],\n",
        "                                            collate_fn=lambda x: x,\n",
        "                                            drop_last=True)\n",
        "            for x in splits}"
      ]
    },
    {
      "cell_type": "code",
      "execution_count": 6,
      "metadata": {
        "id": "ZqHKnrjG4Z2z"
      },
      "outputs": [],
      "source": [
        "# split required if dataset is too fat\n",
        "SPLIT_NUMBER = 50"
      ]
    },
    {
      "cell_type": "code",
      "execution_count": 11,
      "metadata": {
        "colab": {
          "base_uri": "https://localhost:8080/",
          "height": 438
        },
        "id": "RJd1i5QXQ46f",
        "outputId": "3e68a877-29eb-4b7b-b195-00abb3192709"
      },
      "outputs": [
        {
          "name": "stderr",
          "output_type": "stream",
          "text": [
            "100%|██████████| 208/208 [00:02<00:00, 93.85it/s]\n"
          ]
        },
        {
          "name": "stdout",
          "output_type": "stream",
          "text": [
            "Epoch = 1\n",
            "\tTraining Loss: 0.9686\n",
            "\tTest Loss: 0.9580\n"
          ]
        },
        {
          "name": "stderr",
          "output_type": "stream",
          "text": [
            "100%|██████████| 208/208 [00:02<00:00, 95.38it/s]\n"
          ]
        },
        {
          "name": "stdout",
          "output_type": "stream",
          "text": [
            "Epoch = 2\n",
            "\tTraining Loss: 0.9479\n",
            "\tTest Loss: 0.9369\n"
          ]
        },
        {
          "data": {
            "text/plain": [
              "<matplotlib.legend.Legend at 0x7fe38024d210>"
            ]
          },
          "execution_count": 11,
          "metadata": {},
          "output_type": "execute_result"
        },
        {
          "data": {
            "image/png": "[encoded data removed]",
            "text/plain": [
              "<Figure size 432x288 with 1 Axes>"
            ]
          },
          "metadata": {
            "needs_background": "light"
          },
          "output_type": "display_data"
        }
      ],
      "source": [
        "from collections.abc import Sequence\n",
        "from importlib import reload  # Python 3.4+\n",
        "import torch\n",
        "from torch import nn\n",
        "sys.path.append(\"/content/AI-Challenge-HIT/python_code/notebooks/AnomalyDetection/\")\n",
        "import networks\n",
        "LSTMs = reload(networks)\n",
        "from networks import LSTM_multiple_stations\n",
        "from tqdm import tqdm\n",
        "\n",
        "# specify the device (\"cuda\" for GPU, \"cpu\" for CPU)\n",
        "device = torch.device(\"cuda\")\n",
        "\n",
        "# get dome parameters from the dataset\n",
        "sequence_length = dataset['train'][0]['features'].size(0)\n",
        "pred_length = dataset['train'][0]['target'].size(0)\n",
        "# Instantiate the model with hyperparameters (NOTICE THE MULTIPLE FEATURES IN INPUT SIZE: ONE FOR EACH SENSOR OF THE GROUP)\n",
        "model = LSTM_multiple_stations(input_size=3, output_size=3, hidden_dim=64, num_layers=5, device = device)\n",
        "train_loss = []\n",
        "test_loss = []\n",
        "\n",
        "# We'll also set the model to the device that we defined earlier\n",
        "model = model.to(device)\n",
        "\n",
        "# Define hyperparameters\n",
        "lr = 1e-5\n",
        "\n",
        "# Define Loss and Optimizer\n",
        "criterion = nn.MSELoss()\n",
        "optimizer = torch.optim.Adam(model.parameters(), lr=lr)\n",
        "\n",
        "n_epochs = 2\n",
        "for epoch in range(1, n_epochs + 1):\n",
        "    model.train()\n",
        "    loss_train_batch = []\n",
        "    for data in tqdm(dataloader['train'], leave=True, total=len(dataloader['train'])):\n",
        "      # preparing the input\n",
        "      batch_input_features = torch.stack([v[\"features\"] for v in data]).to(device)\n",
        "      target_features = torch.stack([v[\"target\"] for v in data]).to(device)\n",
        "      # feed the model and make the prediction\n",
        "      output = model(batch_input_features,pred_length)\n",
        "      output = output.to(device)[:,-pred_length:]\n",
        "      # compute the loss\n",
        "      loss_train = criterion(output, target_features)\n",
        "      # backpropagation and gradients\n",
        "      loss_train.backward() \n",
        "      # Update of the weights accordingly\n",
        "      optimizer.step() \n",
        "      # Append the loss to batch list\n",
        "      loss_train_batch.append(loss_train.item())\n",
        "    \n",
        "    # average on bath train loss\n",
        "    mean_train_loss = np.mean(loss_train_batch)\n",
        "\n",
        "    # test-time\n",
        "    model.eval()\n",
        "    test_input_features = dataset['test'].features.to(device)\n",
        "    test_target_features = dataset['test'].target.to(device)\n",
        "    \n",
        "    # split when it is too fat (out of memory)\n",
        "    test_input_features_splitted = np.array_split(test_input_features, SPLIT_NUMBER)\n",
        "    output_test_list = []\n",
        "    for input_feature_split_subset in test_input_features_splitted:\n",
        "      output_test_list.append(model(input_feature_split_subset,pred_length)[:,-pred_length:])\n",
        "    output_test_flat = [item for item in output_test_list]\n",
        "    output_test = torch.cat(output_test_flat)\n",
        "    # compute loss on test set for validation on unseen data\n",
        "    loss_test = criterion(output_test, test_target_features)\n",
        "    \n",
        "    train_loss.append(mean_train_loss)\n",
        "    test_loss.append(loss_test.item())\n",
        "    print(\"Epoch = \" + str(epoch))\n",
        "    print(\"\\tTraining Loss: {:.4f}\".format(mean_train_loss))\n",
        "    print(\"\\tTest Loss: {:.4f}\".format(loss_test.item()))\n",
        "\n",
        "    # stop criterion on the train loss value\n",
        "    if mean_train_loss < 0.010:\n",
        "        break\n",
        "\n",
        "# plot the training performance (todo: use W&B)\n",
        "import matplotlib.pyplot as plt\n",
        "plt.plot(train_loss,'o-',label=\"train\")\n",
        "plt.plot(test_loss,'o-',label=\"test\")\n",
        "plt.xlabel(\"Epoch\")\n",
        "plt.ylabel(\"Loss\")\n",
        "plt.legend()"
      ]
    },
    {
      "cell_type": "code",
      "execution_count": null,
      "metadata": {
        "id": "CXULxyKkohrR"
      },
      "outputs": [],
      "source": [
        "# save model\n",
        "torch.save(model.state_dict(),\n",
        "           os.path.join(wk, \"TrainedModels/\", \"joint_\"+sensor_type+\"_model.pt\")\n",
        ")"
      ]
    }
  ],
  "metadata": {
    "accelerator": "GPU",
    "colab": {
      "machine_shape": "hm",
      "provenance": []
    },
    "gpuClass": "premium",
    "kernelspec": {
      "display_name": "Python 3.9.7 ('base')",
      "language": "python",
      "name": "python3"
    },
    "language_info": {
      "codemirror_mode": {
        "name": "ipython",
        "version": 3
      },
      "file_extension": ".py",
      "mimetype": "text/x-python",
      "name": "python",
      "nbconvert_exporter": "python",
      "pygments_lexer": "ipython3",
      "version": "3.9.7"
    },
    "vscode": {
      "interpreter": {
        "hash": "db3b0be3bb1f6db1a0432c56ec1c0f7459936b81fd9ed1b468b8c4ba9c3d8298"
      }
    }
  },
  "nbformat": 4,
  "nbformat_minor": 0
}
