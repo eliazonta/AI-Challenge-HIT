{
  "cells": [
    {
      "cell_type": "code",
      "execution_count": 85,
      "metadata": {
        "id": "UHZ5dgtBUukH"
      },
      "outputs": [],
      "source": [
        "# load libraries\n",
        "import pandas as pd\n",
        "import os\n",
        "import numpy as np\n",
        "import datetime\n",
        "# from google.colab import drive\n",
        "from torch.utils.data import Dataset, DataLoader\n",
        "from torch import save"
      ]
    },
    {
      "cell_type": "code",
      "execution_count": 2,
      "metadata": {
        "colab": {
          "base_uri": "https://localhost:8080/"
        },
        "id": "0d21WFZCV19F",
        "outputId": "1173ee33-c071-49d0-c816-0d93d1d3ccd0"
      },
      "outputs": [
        {
          "name": "stdout",
          "output_type": "stream",
          "text": [
            "Drive already mounted at /content/drive; to attempt to forcibly remount, call drive.mount(\"/content/drive\", force_remount=True).\n"
          ]
        }
      ],
      "source": [
        "# mount drive\n",
        "drive.mount('/content/drive')"
      ]
    },
    {
      "cell_type": "code",
      "execution_count": 2,
      "metadata": {
        "id": "EdTf6K23VyxH"
      },
      "outputs": [],
      "source": [
        "# change me, have to point to the Meteotrentino drive folder\n",
        "wk =  \"/content/drive/My Drive/10. Meteotrentino/\"\n",
        "\n",
        "# folder for the csv\n",
        "subfolder = \"CSVs/\"\n",
        "\n",
        "# select the filename, make me dynamic\n",
        "selected_dataset = \"temperature.csv\""
      ]
    },
    {
      "cell_type": "code",
      "execution_count": 195,
      "metadata": {
        "id": "2OMJvpn3VN8J"
      },
      "outputs": [],
      "source": [
        "# data_path = wk+subfolder+selected_dataset\n",
        "data_path = \"../../radiazione_solare_A.csv\""
      ]
    },
    {
      "cell_type": "code",
      "execution_count": 196,
      "metadata": {
        "id": "1UMaZX3Ud1Q8"
      },
      "outputs": [
        {
          "data": {
            "text/html": [
              "<div>\n",
              "<style scoped>\n",
              "    .dataframe tbody tr th:only-of-type {\n",
              "        vertical-align: middle;\n",
              "    }\n",
              "\n",
              "    .dataframe tbody tr th {\n",
              "        vertical-align: top;\n",
              "    }\n",
              "\n",
              "    .dataframe thead th {\n",
              "        text-align: right;\n",
              "    }\n",
              "</style>\n",
              "<table border=\"1\" class=\"dataframe\">\n",
              "  <thead>\n",
              "    <tr style=\"text-align: right;\">\n",
              "      <th></th>\n",
              "      <th>label</th>\n",
              "      <th>date</th>\n",
              "      <th>time</th>\n",
              "      <th>value</th>\n",
              "      <th>validation_code</th>\n",
              "      <th>datetime</th>\n",
              "    </tr>\n",
              "  </thead>\n",
              "  <tbody>\n",
              "    <tr>\n",
              "      <th>0</th>\n",
              "      <td>T0010</td>\n",
              "      <td>01/01/2014</td>\n",
              "      <td>00:00</td>\n",
              "      <td>0.0</td>\n",
              "      <td>1</td>\n",
              "      <td>2014-01-01 00:00:00</td>\n",
              "    </tr>\n",
              "    <tr>\n",
              "      <th>1</th>\n",
              "      <td>T0010</td>\n",
              "      <td>01/01/2014</td>\n",
              "      <td>00:15</td>\n",
              "      <td>0.0</td>\n",
              "      <td>1</td>\n",
              "      <td>2014-01-01 00:15:00</td>\n",
              "    </tr>\n",
              "    <tr>\n",
              "      <th>2</th>\n",
              "      <td>T0010</td>\n",
              "      <td>01/01/2014</td>\n",
              "      <td>00:30</td>\n",
              "      <td>0.0</td>\n",
              "      <td>1</td>\n",
              "      <td>2014-01-01 00:30:00</td>\n",
              "    </tr>\n",
              "    <tr>\n",
              "      <th>3</th>\n",
              "      <td>T0010</td>\n",
              "      <td>01/01/2014</td>\n",
              "      <td>00:45</td>\n",
              "      <td>0.0</td>\n",
              "      <td>1</td>\n",
              "      <td>2014-01-01 00:45:00</td>\n",
              "    </tr>\n",
              "    <tr>\n",
              "      <th>4</th>\n",
              "      <td>T0010</td>\n",
              "      <td>01/01/2014</td>\n",
              "      <td>01:00</td>\n",
              "      <td>0.0</td>\n",
              "      <td>1</td>\n",
              "      <td>2014-01-01 01:00:00</td>\n",
              "    </tr>\n",
              "    <tr>\n",
              "      <th>...</th>\n",
              "      <td>...</td>\n",
              "      <td>...</td>\n",
              "      <td>...</td>\n",
              "      <td>...</td>\n",
              "      <td>...</td>\n",
              "      <td>...</td>\n",
              "    </tr>\n",
              "    <tr>\n",
              "      <th>8660686</th>\n",
              "      <td>T0469</td>\n",
              "      <td>31/12/2021</td>\n",
              "      <td>22:45</td>\n",
              "      <td>0.0</td>\n",
              "      <td>1</td>\n",
              "      <td>2021-12-31 22:45:00</td>\n",
              "    </tr>\n",
              "    <tr>\n",
              "      <th>8660687</th>\n",
              "      <td>T0469</td>\n",
              "      <td>31/12/2021</td>\n",
              "      <td>23:00</td>\n",
              "      <td>0.0</td>\n",
              "      <td>1</td>\n",
              "      <td>2021-12-31 23:00:00</td>\n",
              "    </tr>\n",
              "    <tr>\n",
              "      <th>8660688</th>\n",
              "      <td>T0469</td>\n",
              "      <td>31/12/2021</td>\n",
              "      <td>23:15</td>\n",
              "      <td>0.0</td>\n",
              "      <td>1</td>\n",
              "      <td>2021-12-31 23:15:00</td>\n",
              "    </tr>\n",
              "    <tr>\n",
              "      <th>8660689</th>\n",
              "      <td>T0469</td>\n",
              "      <td>31/12/2021</td>\n",
              "      <td>23:30</td>\n",
              "      <td>0.0</td>\n",
              "      <td>1</td>\n",
              "      <td>2021-12-31 23:30:00</td>\n",
              "    </tr>\n",
              "    <tr>\n",
              "      <th>8660690</th>\n",
              "      <td>T0469</td>\n",
              "      <td>31/12/2021</td>\n",
              "      <td>23:45</td>\n",
              "      <td>0.0</td>\n",
              "      <td>1</td>\n",
              "      <td>2021-12-31 23:45:00</td>\n",
              "    </tr>\n",
              "  </tbody>\n",
              "</table>\n",
              "<p>8660691 rows × 6 columns</p>\n",
              "</div>"
            ],
            "text/plain": [
              "         label        date   time  value  validation_code            datetime\n",
              "0        T0010  01/01/2014  00:00    0.0                1 2014-01-01 00:00:00\n",
              "1        T0010  01/01/2014  00:15    0.0                1 2014-01-01 00:15:00\n",
              "2        T0010  01/01/2014  00:30    0.0                1 2014-01-01 00:30:00\n",
              "3        T0010  01/01/2014  00:45    0.0                1 2014-01-01 00:45:00\n",
              "4        T0010  01/01/2014  01:00    0.0                1 2014-01-01 01:00:00\n",
              "...        ...         ...    ...    ...              ...                 ...\n",
              "8660686  T0469  31/12/2021  22:45    0.0                1 2021-12-31 22:45:00\n",
              "8660687  T0469  31/12/2021  23:00    0.0                1 2021-12-31 23:00:00\n",
              "8660688  T0469  31/12/2021  23:15    0.0                1 2021-12-31 23:15:00\n",
              "8660689  T0469  31/12/2021  23:30    0.0                1 2021-12-31 23:30:00\n",
              "8660690  T0469  31/12/2021  23:45    0.0                1 2021-12-31 23:45:00\n",
              "\n",
              "[8660691 rows x 6 columns]"
            ]
          },
          "execution_count": 196,
          "metadata": {},
          "output_type": "execute_result"
        }
      ],
      "source": [
        "df_row_data = pd.read_csv(\n",
        "  data_path,\n",
        "  sep = \";\", # not a CSV, separator is ';'\n",
        "  header = None, # no header\n",
        "  dtype = {'0' : str, '1': str, '2': str, '3' : np.float64, '4':int} # Daniele: added the validation code so we can train on validated data (no need of classes, just distinguish between good and bad data)\n",
        "  ) \n",
        "\n",
        "# define a header \n",
        "df_row_data = df_row_data.set_axis(\n",
        "    ['label', 'date', 'time', 'value','validation_code'],\n",
        "    axis = 1,\n",
        "    inplace = False\n",
        ")\n",
        "df_row_data['datetime'] = pd.to_datetime(df_row_data['date']+\" \"+df_row_data['time'], format = '%d/%m/%Y %H:%M')\n",
        "df_row_data"
      ]
    },
    {
      "cell_type": "code",
      "execution_count": 199,
      "metadata": {},
      "outputs": [
        {
          "name": "stdout",
          "output_type": "stream",
          "text": [
            "(array([  1, 140, 255]), array([270807,   9481,      1]))\n"
          ]
        }
      ],
      "source": [
        "# select a single station\n",
        "df_single_station = df_row_data[df_row_data['label'] == 'T0071'].reset_index(drop=True)\n",
        "print(np.unique(df_single_station['validation_code'].values,return_counts=True))\n",
        "# print(np.unique(df_row_data['label'].values))"
      ]
    },
    {
      "cell_type": "code",
      "execution_count": 125,
      "metadata": {},
      "outputs": [
        {
          "name": "stdout",
          "output_type": "stream",
          "text": [
            "        label        date   time  value  validation_code            datetime\n",
            "0       T0074  01/01/2014  00:00   99.0              145 2014-01-01 00:00:00\n",
            "1       T0074  01/01/2014  00:15   97.0              145 2014-01-01 00:15:00\n",
            "2       T0074  01/01/2014  00:30   99.0              145 2014-01-01 00:30:00\n",
            "3       T0074  01/01/2014  00:45  100.0              145 2014-01-01 00:45:00\n",
            "4       T0074  01/01/2014  01:00   99.0              145 2014-01-01 01:00:00\n",
            "...       ...         ...    ...    ...              ...                 ...\n",
            "279984  T0074  31/12/2021  22:45   80.0                1 2021-12-31 22:45:00\n",
            "279985  T0074  31/12/2021  23:00   77.0                1 2021-12-31 23:00:00\n",
            "279986  T0074  31/12/2021  23:15   79.0                1 2021-12-31 23:15:00\n",
            "279987  T0074  31/12/2021  23:30   77.0                1 2021-12-31 23:30:00\n",
            "279988  T0074  31/12/2021  23:45   79.0                1 2021-12-31 23:45:00\n",
            "\n",
            "[279989 rows x 6 columns]\n"
          ]
        }
      ],
      "source": [
        "print(df_single_station)"
      ]
    },
    {
      "cell_type": "code",
      "execution_count": 200,
      "metadata": {},
      "outputs": [
        {
          "name": "stdout",
          "output_type": "stream",
          "text": [
            "      sensor_code         in_datetime    0    1    2    3  val_0  val_1  \\\n",
            "0           T0071 2014-01-01 00:15:00  0.0  0.0  0.0  0.0    1.0    1.0   \n",
            "1           T0071 2014-01-01 01:15:00  0.0  0.0  0.0  0.0    1.0    1.0   \n",
            "2           T0071 2014-01-01 02:15:00  0.0  0.0  0.0  0.0    1.0    1.0   \n",
            "3           T0071 2014-01-01 03:15:00  0.0  0.0  0.0  0.0    1.0    1.0   \n",
            "4           T0071 2014-01-01 04:15:00  0.0  0.0  0.0  0.0    1.0    1.0   \n",
            "...           ...                 ...  ...  ...  ...  ...    ...    ...   \n",
            "63210       T0071 2021-12-30 18:15:00  0.0  0.0  0.0  0.0    1.0    1.0   \n",
            "63211       T0071 2021-12-30 19:15:00  0.0  0.0  0.0  0.0    1.0    1.0   \n",
            "63212       T0071 2021-12-30 20:15:00  0.0  0.0  0.0  0.0    1.0    1.0   \n",
            "63213       T0071 2021-12-30 21:15:00  0.0  0.0  0.0  0.0    1.0    1.0   \n",
            "63214       T0071 2021-12-30 22:15:00  0.0  0.0  0.0  0.0    1.0    1.0   \n",
            "\n",
            "       val_2  val_3  \n",
            "0        1.0    1.0  \n",
            "1        1.0    1.0  \n",
            "2        1.0    1.0  \n",
            "3        1.0    1.0  \n",
            "4        1.0    1.0  \n",
            "...      ...    ...  \n",
            "63210    1.0    1.0  \n",
            "63211    1.0    1.0  \n",
            "63212    1.0    1.0  \n",
            "63213    1.0    1.0  \n",
            "63214    1.0    1.0  \n",
            "\n",
            "[63215 rows x 10 columns]\n"
          ]
        }
      ],
      "source": [
        "from importlib import reload  # Python 3.4+\n",
        "import TSF.data_splitter\n",
        "TSF.data_splitter = reload(TSF.data_splitter)\n",
        "from TSF.data_splitter import *\n",
        "# new_data = split_df_for_TSF(df_single_station.iloc[0:10], 24, 1, \".\")\n",
        "\n",
        "# split the data for the time series forecasting (24 hours of training, 1 hour of prediction)\n",
        "PERIOD = 24\n",
        "PREDICTION = 1\n",
        "df = df_single_station#.iloc[0:120]\n",
        "df_train,df_prediction,n_previsions = split_df_for_TSF(df, 24, 1)\n",
        "# df_train = df_train.reset_index(drop=True)\n",
        "# df_prediction = df_prediction.reset_index(drop=True)\n",
        "# np.unique(df_prediction[['val_0','val_1','val_2','val_3']].values, return_counts=True)\n",
        "print(df_prediction)"
      ]
    },
    {
      "cell_type": "code",
      "execution_count": 150,
      "metadata": {},
      "outputs": [],
      "source": [
        "# np.unique(df_prediction[[f'val_{n}'for n in range(11)]].values, return_counts=True)\n",
        "df_prediction.to_csv(\"prediction.csv\")"
      ]
    },
    {
      "cell_type": "code",
      "execution_count": 203,
      "metadata": {},
      "outputs": [],
      "source": [
        "import torch\n",
        "from torch.utils.data import Dataset, DataLoader\n",
        "class CustomDataset(Dataset):\n",
        "  def __init__(self, df_train, df_test, transform = None, target_transform = None):\n",
        "    self.features = torch.FloatTensor(df_train.drop(['sensor_code','in_datetime'],axis=1).values)\n",
        "    ### standardize the data\n",
        "    means = self.features.mean(dim=1, keepdim=True)\n",
        "    stds = torch.clamp(self.features.std(dim=1, keepdim=True),min=1)\n",
        "    self.features = (self.features - means) / stds\n",
        "    self.target = torch.FloatTensor(df_test.drop(['sensor_code','in_datetime']+[f\"val_{idx}\" for idx in range(n_previsions)],axis=1).values)\n",
        "    self.target = (self.target - means) / stds\n",
        "    \n",
        "    self.sensor_code = df_train['sensor_code'].values\n",
        "    self.in_datetime = df_train['in_datetime'].values\n",
        "    \n",
        "    self.labels = torch.FloatTensor(df_test[[f\"val_{idx}\" for idx in range(n_previsions)]].values)\n",
        "    self.transform = transform\n",
        "    self.target_transform = target_transform\n",
        "\n",
        "  def __len__(self):\n",
        "    return len(self.sensor_code)\n",
        "\n",
        "  def __getitem__(self, idx):\n",
        "    sensor_code = self.sensor_code[idx]\n",
        "    date = self.in_datetime[idx]\n",
        "    features = self.features[idx]\n",
        "    labels = self.labels[idx]\n",
        "    target = self.target[idx]\n",
        "    return {\"sensor_code\": sensor_code, \"date\":date,\"features\": features, \"target\":target,\"labels\":labels}"
      ]
    },
    {
      "cell_type": "code",
      "execution_count": 322,
      "metadata": {},
      "outputs": [],
      "source": [
        "splits = ['train','test']\n",
        "shuffle = {'train':True,'test':False}\n",
        "dataset = {}\n",
        "\n",
        "# split data in training and test (to check generalization)\n",
        "training_features = df_train.sample(frac=0.8)\n",
        "training_target = df_prediction.iloc[training_features.index.values]\n",
        "test_features = df_train.drop(training_features.index)\n",
        "test_target = df_prediction.iloc[test_features.index]\n",
        "\n",
        "training_features = training_features.reset_index(drop=True)\n",
        "training_target = training_target.reset_index(drop=True)\n",
        "test_features = test_features.reset_index(drop=True)\n",
        "test_target = test_target.reset_index(drop=True)\n",
        "\n",
        "from torch import save,load\n",
        "# dataset['train'] = load('T0010_train_temperature_tsf.pt')\n",
        "# dataset['test'] = load('T0010_test_temperature_tsf.pt')\n",
        "dataset['train'] = CustomDataset(training_features, training_target)\n",
        "dataset['test'] = CustomDataset(test_features, test_target)\n",
        "save(dataset['train'], 'T0071_train_solar_rad_tsf.pt')\n",
        "save(dataset['test'], 'T0071_test_solar_rad_tsf.pt')\n",
        "\n",
        "\n",
        "# b_size = {'train':len(dataset['train']),\n",
        "b_size = {'train':64,\n",
        "          'test':len(dataset['test'])}\n",
        "\n",
        "dataloader = {x: torch.utils.data.DataLoader(dataset=dataset[x],\n",
        "                                            batch_size=b_size[x],\n",
        "                                            shuffle=shuffle[x],\n",
        "                                            collate_fn=lambda x: x,\n",
        "                                            drop_last=True)\n",
        "                                            #num_workers=int(opt.workers),\n",
        "                                            #worker_init_fn=(None if opt.manualseed == -1\n",
        "                                            #else lambda x: np.random.seed(opt.manualseed)))\n",
        "            for x in splits}"
      ]
    },
    {
      "cell_type": "code",
      "execution_count": 176,
      "metadata": {},
      "outputs": [
        {
          "name": "stdout",
          "output_type": "stream",
          "text": [
            "(tensor([], dtype=torch.int64), tensor([], dtype=torch.int64))\n"
          ]
        }
      ],
      "source": [
        "sample = next(iter(dataloader['train']))\n",
        "sample_tensor_features = torch.stack([v[\"features\"] for v in sample])\n",
        "wh_nans = (torch.isnan(sample_tensor_features)).nonzero(as_tuple=True)\n",
        "print(wh_nans)\n",
        "# plt.plot(sample_tensor_features[1].numpy())"
      ]
    },
    {
      "cell_type": "code",
      "execution_count": 327,
      "metadata": {},
      "outputs": [
        {
          "name": "stderr",
          "output_type": "stream",
          "text": [
            "  0%|          | 0/790 [00:00<?, ?it/s]"
          ]
        },
        {
          "name": "stdout",
          "output_type": "stream",
          "text": [
            "torch.Size([1, 64, 15])\n",
            "torch.Size([64, 15, 15])\n",
            "torch.Size([960, 1])\n",
            "Unexpected exception formatting exception. Falling back to standard exception\n"
          ]
        },
        {
          "name": "stderr",
          "output_type": "stream",
          "text": [
            "\n",
            "Traceback (most recent call last):\n",
            "  File \"/home/daniele/anaconda3/lib/python3.9/site-packages/IPython/core/interactiveshell.py\", line 3369, in run_code\n",
            "    exec(code_obj, self.user_global_ns, self.user_ns)\n",
            "  File \"/tmp/ipykernel_572/2530051334.py\", line 28, in <cell line: 24>\n",
            "    output = model(batch_input_features)\n",
            "  File \"/home/daniele/anaconda3/lib/python3.9/site-packages/torch/nn/modules/module.py\", line 1130, in _call_impl\n",
            "    return forward_call(*input, **kwargs)\n",
            "  File \"/mnt/c/Users/Daniele/MeteoTrentino/AI-Challenge-HIT/python_code/notebooks/LSTMs.py\", line 93, in forward\n",
            "    outputs = torch.cat((outputs, output.unsqueeze(2)), dim=1)\n",
            "RuntimeError: Sizes of tensors must match except in dimension 1. Expected size 64 but got size 960 for tensor number 1 in the list.\n",
            "\n",
            "During handling of the above exception, another exception occurred:\n",
            "\n",
            "Traceback (most recent call last):\n",
            "  File \"/home/daniele/anaconda3/lib/python3.9/site-packages/IPython/core/interactiveshell.py\", line 1982, in showtraceback\n",
            "    stb = self.InteractiveTB.structured_traceback(\n",
            "  File \"/home/daniele/anaconda3/lib/python3.9/site-packages/IPython/core/ultratb.py\", line 1118, in structured_traceback\n",
            "    return FormattedTB.structured_traceback(\n",
            "  File \"/home/daniele/anaconda3/lib/python3.9/site-packages/IPython/core/ultratb.py\", line 1012, in structured_traceback\n",
            "    return VerboseTB.structured_traceback(\n",
            "  File \"/home/daniele/anaconda3/lib/python3.9/site-packages/IPython/core/ultratb.py\", line 865, in structured_traceback\n",
            "    formatted_exception = self.format_exception_as_a_whole(etype, evalue, etb, number_of_lines_of_context,\n",
            "  File \"/home/daniele/anaconda3/lib/python3.9/site-packages/IPython/core/ultratb.py\", line 818, in format_exception_as_a_whole\n",
            "    frames.append(self.format_record(r))\n",
            "  File \"/home/daniele/anaconda3/lib/python3.9/site-packages/IPython/core/ultratb.py\", line 736, in format_record\n",
            "    result += ''.join(_format_traceback_lines(frame_info.lines, Colors, self.has_colors, lvals))\n",
            "  File \"/home/daniele/anaconda3/lib/python3.9/site-packages/stack_data/utils.py\", line 145, in cached_property_wrapper\n",
            "    value = obj.__dict__[self.func.__name__] = self.func(obj)\n",
            "  File \"/home/daniele/anaconda3/lib/python3.9/site-packages/stack_data/core.py\", line 698, in lines\n",
            "    pieces = self.included_pieces\n",
            "  File \"/home/daniele/anaconda3/lib/python3.9/site-packages/stack_data/utils.py\", line 145, in cached_property_wrapper\n",
            "    value = obj.__dict__[self.func.__name__] = self.func(obj)\n",
            "  File \"/home/daniele/anaconda3/lib/python3.9/site-packages/stack_data/core.py\", line 649, in included_pieces\n",
            "    pos = scope_pieces.index(self.executing_piece)\n",
            "  File \"/home/daniele/anaconda3/lib/python3.9/site-packages/stack_data/utils.py\", line 145, in cached_property_wrapper\n",
            "    value = obj.__dict__[self.func.__name__] = self.func(obj)\n",
            "  File \"/home/daniele/anaconda3/lib/python3.9/site-packages/stack_data/core.py\", line 628, in executing_piece\n",
            "    return only(\n",
            "  File \"/home/daniele/anaconda3/lib/python3.9/site-packages/executing/executing.py\", line 164, in only\n",
            "    raise NotOneValueFound('Expected one value, found 0')\n",
            "executing.executing.NotOneValueFound: Expected one value, found 0\n"
          ]
        }
      ],
      "source": [
        "from collections.abc import Sequence\n",
        "from torch import nn\n",
        "import LSTMs\n",
        "LSTMs = reload(LSTMs)\n",
        "from LSTMs import SingleLSTMCell,LSTM\n",
        "\n",
        "device = torch.device(\"cpu\")\n",
        "sequence_length = 96\n",
        "pred_length = n_previsions\n",
        "# Instantiate the model with hyperparameters\n",
        "model = LSTM(input_size=1, output_size=1, batch_size=64, hidden_dim=15, moving_window = 60)\n",
        "# We'll also set the model to the device that we defined earlier (default is CPU)\n",
        "model = model.to(device)\n",
        "\n",
        "# Define hyperparameters\n",
        "lr = 0.0001#0.0005\n",
        "\n",
        "# Define Loss, Optimizer\n",
        "criterion = nn.MSELoss()#CrossEntropyLoss()\n",
        "optimizer = torch.optim.Adam(model.parameters(), lr=lr)\n",
        "\n",
        "from tqdm import tqdm\n",
        "n_epochs = 1\n",
        "for epoch in range(1, n_epochs + 1):\n",
        "    for data in tqdm(dataloader['train'], leave=True, total=len(dataloader['train'])):\n",
        "        batch_input_features = torch.stack([v[\"features\"] for v in data])\n",
        "        # target_features = torch.stack([v[\"target\"] for v in data])\n",
        "        output = model(batch_input_features)\n",
        "        output = output.to(device)\n",
        "        loss = criterion(output, batch_input_features)\n",
        "        loss.backward() # Does backpropagation and calculates gradients\n",
        "        optimizer.step() # Updates the weights accordingly\n",
        "        # print(\"Loss: {:.4f}\".format(loss.item()))\n",
        "    if loss.item() < 0.015:\n",
        "        break\n",
        "    print(\"Loss: {:.4f}\".format(loss.item()))\n",
        "torch.save(model.state_dict(), \"T0065_rad_sol_model.pt\")"
      ]
    },
    {
      "cell_type": "code",
      "execution_count": 312,
      "metadata": {},
      "outputs": [
        {
          "name": "stdout",
          "output_type": "stream",
          "text": [
            "(tensor([6067]), tensor([3]))\n",
            "torch.Size([12643, 96])\n"
          ]
        }
      ],
      "source": [
        "b_size = {'train':len(dataset['train']),\n",
        "          'test':len(dataset['test'])}\n",
        "shuffle = {'train':False,'test':False}\n",
        "\n",
        "\n",
        "dataloader = {x: torch.utils.data.DataLoader(dataset=dataset[x],\n",
        "                                            batch_size=b_size[x],\n",
        "                                            shuffle=shuffle[x],\n",
        "                                            collate_fn=lambda x: x,\n",
        "                                            drop_last=True) for x in splits}\n",
        "sample = next(iter(dataloader['test']))\n",
        "sample_tensor_validation = torch.stack([v[\"labels\"] for v in sample])\n",
        "sample_tensor_features = torch.stack([v[\"features\"] for v in sample])\n",
        "print((sample_tensor_validation == 140).nonzero(as_tuple=True))\n",
        "print(sample_tensor_features.size())"
      ]
    },
    {
      "cell_type": "code",
      "execution_count": 319,
      "metadata": {},
      "outputs": [
        {
          "name": "stdout",
          "output_type": "stream",
          "text": [
            "tensor([[-0.6693, -0.6693, -0.6693,  ..., -0.6693, -0.6693, -0.6693],\n",
            "        [ 0.7469,  0.8128,  0.9664,  ...,  2.0196,  2.5901,  3.4635],\n",
            "        [ 1.5444,  1.3007,  1.0119,  ...,  0.5832,  0.9126,  0.6780],\n",
            "        ...,\n",
            "        [-0.6332, -0.6332, -0.6332,  ..., -0.6332, -0.6332, -0.6332],\n",
            "        [-0.6332, -0.6332, -0.6332,  ..., -0.6332, -0.6332, -0.6332],\n",
            "        [ 3.4229,  2.8783,  2.6349,  ...,  1.1169,  1.0996,  0.9837]])\n"
          ]
        },
        {
          "data": {
            "image/png": "[encoded data removed]",
            "text/plain": [
              "<Figure size 3600x720 with 1 Axes>"
            ]
          },
          "metadata": {
            "needs_background": "light"
          },
          "output_type": "display_data"
        }
      ],
      "source": [
        "import matplotlib.pyplot as plt\n",
        "from datetime import datetime\n",
        "import pandas as pd\n",
        "import numpy as np\n",
        "\n",
        "f = plt.figure()\n",
        "f.set_figwidth(50)\n",
        "f.set_figheight(10)\n",
        "plt.ylabel('standardized value')\n",
        "plt.xlabel('test')\n",
        "which = 0\n",
        "anomaly = 1\n",
        "sample = next(iter(dataloader['test']))\n",
        "sample_tensor_validation = torch.stack([v[\"labels\"] for v in sample])\n",
        "# print((sample_tensor_validation == 140).nonzero(as_tuple=True))\n",
        "sample_tensor_validation = sample_tensor_validation[anomaly:anomaly+64,:]\n",
        "\n",
        "sample_tensor_features = torch.stack([v[\"features\"] for v in sample])\n",
        "print(sample_tensor_features)\n",
        "sample_tensor_features = sample_tensor_features[anomaly:anomaly+64,:]\n",
        "\n",
        "sample_tensor_target = torch.stack([v[\"target\"] for v in sample])\n",
        "sample_tensor_target = sample_tensor_target[anomaly:anomaly+64,:]\n",
        "\n",
        "sensor_code = [v[\"sensor_code\"] for v in sample][anomaly]\n",
        "date = pd.to_datetime([v[\"date\"] for v in sample][anomaly],format = '%d/%m/%Y %H:%M').strftime(\"%d/%m/%Y %H:%M\") \n",
        "\n",
        "string_to_plot = f\"{sensor_code} starting from {date}\"\n",
        "plt.title('Time series forecasting for ' +string_to_plot ,fontsize = 26)\n",
        "\n",
        "# sample_tensor_validation = torch.stack(sample_tensor_validation)\n",
        "# sample_validation = sample['val_label']\n",
        "model.eval()\n",
        "with torch.no_grad():\n",
        "    reconstructed = model(sample_tensor_features,0)\n",
        "y_outliers = np.where(sample_tensor_validation[which] != 140, np.NaN, sample_tensor_target[which][0:4])\n",
        "# plt.xlim(96,102)\n",
        "original_signal = torch.cat((sample_tensor_features, sample_tensor_target), 1)[which]\n",
        "# # confidence interval\n",
        "# # rolling mean over n_steps\n",
        "# n_steps = 3\n",
        "# time_series_df = pd.DataFrame(original_signal)\n",
        "# line = time_series_df.rolling(n_steps).mean()\n",
        "# # 98% confidence\n",
        "# line_deviation = 2.326 * time_series_df.rolling(n_steps).std()\n",
        "# under_line = (line - line_deviation)[0]\n",
        "# over_line = (line + line_deviation)[0]\n",
        "\n",
        "plt.plot(original_signal, \"o-\",ms=8,color=\"blue\")\n",
        "plt.plot(reconstructed[which],\"o-\",ms=8,color=\"orange\")\n",
        "plt.plot(np.arange(96,100), y_outliers, \"x-\",ms=15,mew=10,color=\"red\")\n",
        "# plt.fill_between(line_deviation.index,under_line,over_line, color='b', alpha=.1)\n",
        "plt.axvline(x=95, color='red')\n",
        "plt.savefig('T0010_temperature_anomaly.pdf')"
      ]
    },
    {
      "cell_type": "code",
      "execution_count": null,
      "metadata": {},
      "outputs": [],
      "source": []
    }
  ],
  "metadata": {
    "colab": {
      "provenance": []
    },
    "kernelspec": {
      "display_name": "Python 3.9.12 ('base')",
      "language": "python",
      "name": "python3"
    },
    "language_info": {
      "codemirror_mode": {
        "name": "ipython",
        "version": 3
      },
      "file_extension": ".py",
      "mimetype": "text/x-python",
      "name": "python",
      "nbconvert_exporter": "python",
      "pygments_lexer": "ipython3",
      "version": "3.9.12"
    },
    "vscode": {
      "interpreter": {
        "hash": "db3b0be3bb1f6db1a0432c56ec1c0f7459936b81fd9ed1b468b8c4ba9c3d8298"
      }
    }
  },
  "nbformat": 4,
  "nbformat_minor": 0
}
