{
  "cells": [
    {
      "cell_type": "code",
      "execution_count": 6,
      "metadata": {
        "id": "UHZ5dgtBUukH"
      },
      "outputs": [],
      "source": [
        "# load libraries\n",
        "import pandas as pd\n",
        "import os\n",
        "import numpy as np\n",
        "import datetime\n",
        "# from google.colab import drive\n",
        "from torch.utils.data import Dataset, DataLoader\n",
        "from torch import save"
      ]
    },
    {
      "cell_type": "code",
      "execution_count": 7,
      "metadata": {
        "colab": {
          "base_uri": "https://localhost:8080/"
        },
        "id": "0d21WFZCV19F",
        "outputId": "8bb3b50a-6e20-426e-c800-ebbeff300c86"
      },
      "outputs": [
        {
          "output_type": "stream",
          "name": "stdout",
          "text": [
            "Drive already mounted at /content/drive; to attempt to forcibly remount, call drive.mount(\"/content/drive\", force_remount=True).\n"
          ]
        }
      ],
      "source": [
        "# mount drive\n",
        "drive.mount('/content/drive')"
      ]
    },
    {
      "cell_type": "code",
      "execution_count": 8,
      "metadata": {
        "id": "EdTf6K23VyxH"
      },
      "outputs": [],
      "source": [
        "# change me, have to point to the Meteotrentino drive folder\n",
        "wk =  \"/content/drive/My Drive/10. Meteotrentino/\"\n",
        "\n",
        "# folder for the csv\n",
        "subfolder = \"Dati csv convalidati/\"\n",
        "\n",
        "# select the filename, make me dynamic\n",
        "selected_dataset = \"temperatura1_A.csv\""
      ]
    },
    {
      "cell_type": "code",
      "execution_count": 9,
      "metadata": {
        "id": "2OMJvpn3VN8J"
      },
      "outputs": [],
      "source": [
        "data_path = wk+subfolder+selected_dataset\n",
        "# data_path = \"../../radiazione_solare_A.csv\""
      ]
    },
    {
      "cell_type": "code",
      "execution_count": 10,
      "metadata": {
        "id": "1UMaZX3Ud1Q8",
        "outputId": "af4f45e8-f2c2-41f4-d71f-5dfb6bcf00e8",
        "colab": {
          "base_uri": "https://localhost:8080/",
          "height": 419
        }
      },
      "outputs": [
        {
          "output_type": "execute_result",
          "data": {
            "text/plain": [
              "          label        date   time  value  validation_code            datetime\n",
              "0         T0009  01/01/2014  00:00   -2.1                1 2014-01-01 00:00:00\n",
              "1         T0009  01/01/2014  00:15   -2.3                1 2014-01-01 00:15:00\n",
              "2         T0009  01/01/2014  00:30   -2.2                1 2014-01-01 00:30:00\n",
              "3         T0009  01/01/2014  00:45   -2.3                1 2014-01-01 00:45:00\n",
              "4         T0009  01/01/2014  01:00   -2.5                1 2014-01-01 01:00:00\n",
              "...         ...         ...    ...    ...              ...                 ...\n",
              "11763686  T0227  31/12/2021  22:45    8.1                1 2021-12-31 22:45:00\n",
              "11763687  T0227  31/12/2021  23:00    8.2                1 2021-12-31 23:00:00\n",
              "11763688  T0227  31/12/2021  23:15    8.1                1 2021-12-31 23:15:00\n",
              "11763689  T0227  31/12/2021  23:30    8.0                1 2021-12-31 23:30:00\n",
              "11763690  T0227  31/12/2021  23:45    8.0                1 2021-12-31 23:45:00\n",
              "\n",
              "[11763691 rows x 6 columns]"
            ],
            "text/html": [
              "\n",
              "  <div id=\"df-94ccd423-9cc1-47f2-9e94-351cbfae5b4c\">\n",
              "    <div class=\"colab-df-container\">\n",
              "      <div>\n",
              "<style scoped>\n",
              "    .dataframe tbody tr th:only-of-type {\n",
              "        vertical-align: middle;\n",
              "    }\n",
              "\n",
              "    .dataframe tbody tr th {\n",
              "        vertical-align: top;\n",
              "    }\n",
              "\n",
              "    .dataframe thead th {\n",
              "        text-align: right;\n",
              "    }\n",
              "</style>\n",
              "<table border=\"1\" class=\"dataframe\">\n",
              "  <thead>\n",
              "    <tr style=\"text-align: right;\">\n",
              "      <th></th>\n",
              "      <th>label</th>\n",
              "      <th>date</th>\n",
              "      <th>time</th>\n",
              "      <th>value</th>\n",
              "      <th>validation_code</th>\n",
              "      <th>datetime</th>\n",
              "    </tr>\n",
              "  </thead>\n",
              "  <tbody>\n",
              "    <tr>\n",
              "      <th>0</th>\n",
              "      <td>T0009</td>\n",
              "      <td>01/01/2014</td>\n",
              "      <td>00:00</td>\n",
              "      <td>-2.1</td>\n",
              "      <td>1</td>\n",
              "      <td>2014-01-01 00:00:00</td>\n",
              "    </tr>\n",
              "    <tr>\n",
              "      <th>1</th>\n",
              "      <td>T0009</td>\n",
              "      <td>01/01/2014</td>\n",
              "      <td>00:15</td>\n",
              "      <td>-2.3</td>\n",
              "      <td>1</td>\n",
              "      <td>2014-01-01 00:15:00</td>\n",
              "    </tr>\n",
              "    <tr>\n",
              "      <th>2</th>\n",
              "      <td>T0009</td>\n",
              "      <td>01/01/2014</td>\n",
              "      <td>00:30</td>\n",
              "      <td>-2.2</td>\n",
              "      <td>1</td>\n",
              "      <td>2014-01-01 00:30:00</td>\n",
              "    </tr>\n",
              "    <tr>\n",
              "      <th>3</th>\n",
              "      <td>T0009</td>\n",
              "      <td>01/01/2014</td>\n",
              "      <td>00:45</td>\n",
              "      <td>-2.3</td>\n",
              "      <td>1</td>\n",
              "      <td>2014-01-01 00:45:00</td>\n",
              "    </tr>\n",
              "    <tr>\n",
              "      <th>4</th>\n",
              "      <td>T0009</td>\n",
              "      <td>01/01/2014</td>\n",
              "      <td>01:00</td>\n",
              "      <td>-2.5</td>\n",
              "      <td>1</td>\n",
              "      <td>2014-01-01 01:00:00</td>\n",
              "    </tr>\n",
              "    <tr>\n",
              "      <th>...</th>\n",
              "      <td>...</td>\n",
              "      <td>...</td>\n",
              "      <td>...</td>\n",
              "      <td>...</td>\n",
              "      <td>...</td>\n",
              "      <td>...</td>\n",
              "    </tr>\n",
              "    <tr>\n",
              "      <th>11763686</th>\n",
              "      <td>T0227</td>\n",
              "      <td>31/12/2021</td>\n",
              "      <td>22:45</td>\n",
              "      <td>8.1</td>\n",
              "      <td>1</td>\n",
              "      <td>2021-12-31 22:45:00</td>\n",
              "    </tr>\n",
              "    <tr>\n",
              "      <th>11763687</th>\n",
              "      <td>T0227</td>\n",
              "      <td>31/12/2021</td>\n",
              "      <td>23:00</td>\n",
              "      <td>8.2</td>\n",
              "      <td>1</td>\n",
              "      <td>2021-12-31 23:00:00</td>\n",
              "    </tr>\n",
              "    <tr>\n",
              "      <th>11763688</th>\n",
              "      <td>T0227</td>\n",
              "      <td>31/12/2021</td>\n",
              "      <td>23:15</td>\n",
              "      <td>8.1</td>\n",
              "      <td>1</td>\n",
              "      <td>2021-12-31 23:15:00</td>\n",
              "    </tr>\n",
              "    <tr>\n",
              "      <th>11763689</th>\n",
              "      <td>T0227</td>\n",
              "      <td>31/12/2021</td>\n",
              "      <td>23:30</td>\n",
              "      <td>8.0</td>\n",
              "      <td>1</td>\n",
              "      <td>2021-12-31 23:30:00</td>\n",
              "    </tr>\n",
              "    <tr>\n",
              "      <th>11763690</th>\n",
              "      <td>T0227</td>\n",
              "      <td>31/12/2021</td>\n",
              "      <td>23:45</td>\n",
              "      <td>8.0</td>\n",
              "      <td>1</td>\n",
              "      <td>2021-12-31 23:45:00</td>\n",
              "    </tr>\n",
              "  </tbody>\n",
              "</table>\n",
              "<p>11763691 rows × 6 columns</p>\n",
              "</div>\n",
              "      <button class=\"colab-df-convert\" onclick=\"convertToInteractive('df-94ccd423-9cc1-47f2-9e94-351cbfae5b4c')\"\n",
              "              title=\"Convert this dataframe to an interactive table.\"\n",
              "              style=\"display:none;\">\n",
              "        \n",
              "  <svg xmlns=\"http://www.w3.org/2000/svg\" height=\"24px\"viewBox=\"0 0 24 24\"\n",
              "       width=\"24px\">\n",
              "    <path d=\"M0 0h24v24H0V0z\" fill=\"none\"/>\n",
              "    <path d=\"M18.56 5.44l.94 2.06.94-2.06 2.06-.94-2.06-.94-.94-2.06-.94 2.06-2.06.94zm-11 1L8.5 8.5l.94-2.06 2.06-.94-2.06-.94L8.5 2.5l-.94 2.06-2.06.94zm10 10l.94 2.06.94-2.06 2.06-.94-2.06-.94-.94-2.06-.94 2.06-2.06.94z\"/><path d=\"M17.41 7.96l-1.37-1.37c-.4-.4-.92-.59-1.43-.59-.52 0-1.04.2-1.43.59L10.3 9.45l-7.72 7.72c-.78.78-.78 2.05 0 2.83L4 21.41c.39.39.9.59 1.41.59.51 0 1.02-.2 1.41-.59l7.78-7.78 2.81-2.81c.8-.78.8-2.07 0-2.86zM5.41 20L4 18.59l7.72-7.72 1.47 1.35L5.41 20z\"/>\n",
              "  </svg>\n",
              "      </button>\n",
              "      \n",
              "  <style>\n",
              "    .colab-df-container {\n",
              "      display:flex;\n",
              "      flex-wrap:wrap;\n",
              "      gap: 12px;\n",
              "    }\n",
              "\n",
              "    .colab-df-convert {\n",
              "      background-color: #E8F0FE;\n",
              "      border: none;\n",
              "      border-radius: 50%;\n",
              "      cursor: pointer;\n",
              "      display: none;\n",
              "      fill: #1967D2;\n",
              "      height: 32px;\n",
              "      padding: 0 0 0 0;\n",
              "      width: 32px;\n",
              "    }\n",
              "\n",
              "    .colab-df-convert:hover {\n",
              "      background-color: #E2EBFA;\n",
              "      box-shadow: 0px 1px 2px rgba(60, 64, 67, 0.3), 0px 1px 3px 1px rgba(60, 64, 67, 0.15);\n",
              "      fill: #174EA6;\n",
              "    }\n",
              "\n",
              "    [theme=dark] .colab-df-convert {\n",
              "      background-color: #3B4455;\n",
              "      fill: #D2E3FC;\n",
              "    }\n",
              "\n",
              "    [theme=dark] .colab-df-convert:hover {\n",
              "      background-color: #434B5C;\n",
              "      box-shadow: 0px 1px 3px 1px rgba(0, 0, 0, 0.15);\n",
              "      filter: drop-shadow(0px 1px 2px rgba(0, 0, 0, 0.3));\n",
              "      fill: #FFFFFF;\n",
              "    }\n",
              "  </style>\n",
              "\n",
              "      <script>\n",
              "        const buttonEl =\n",
              "          document.querySelector('#df-94ccd423-9cc1-47f2-9e94-351cbfae5b4c button.colab-df-convert');\n",
              "        buttonEl.style.display =\n",
              "          google.colab.kernel.accessAllowed ? 'block' : 'none';\n",
              "\n",
              "        async function convertToInteractive(key) {\n",
              "          const element = document.querySelector('#df-94ccd423-9cc1-47f2-9e94-351cbfae5b4c');\n",
              "          const dataTable =\n",
              "            await google.colab.kernel.invokeFunction('convertToInteractive',\n",
              "                                                     [key], {});\n",
              "          if (!dataTable) return;\n",
              "\n",
              "          const docLinkHtml = 'Like what you see? Visit the ' +\n",
              "            '<a target=\"_blank\" href=https://colab.research.google.com/notebooks/data_table.ipynb>data table notebook</a>'\n",
              "            + ' to learn more about interactive tables.';\n",
              "          element.innerHTML = '';\n",
              "          dataTable['output_type'] = 'display_data';\n",
              "          await google.colab.output.renderOutput(dataTable, element);\n",
              "          const docLink = document.createElement('div');\n",
              "          docLink.innerHTML = docLinkHtml;\n",
              "          element.appendChild(docLink);\n",
              "        }\n",
              "      </script>\n",
              "    </div>\n",
              "  </div>\n",
              "  "
            ]
          },
          "metadata": {},
          "execution_count": 10
        }
      ],
      "source": [
        "df_row_data = pd.read_csv(\n",
        "  data_path,\n",
        "  sep = \";\", # not a CSV, separator is ';'\n",
        "  header = None, # no header\n",
        "  dtype = {'0' : str, '1': str, '2': str, '3' : np.float64, '4':int} # Daniele: added the validation code so we can train on validated data (no need of classes, just distinguish between good and bad data)\n",
        "  ) \n",
        "\n",
        "# define a header \n",
        "df_row_data = df_row_data.set_axis(\n",
        "    ['label', 'date', 'time', 'value','validation_code'],\n",
        "    axis = 1,\n",
        "    inplace = False\n",
        ")\n",
        "df_row_data['datetime'] = pd.to_datetime(df_row_data['date']+\" \"+df_row_data['time'], format = '%d/%m/%Y %H:%M')\n",
        "df_row_data"
      ]
    },
    {
      "cell_type": "code",
      "execution_count": 11,
      "metadata": {
        "id": "MaUN7Z8cQ46b",
        "outputId": "70f9ce91-9573-4139-dc05-a58a33074a63",
        "colab": {
          "base_uri": "https://localhost:8080/"
        }
      },
      "outputs": [
        {
          "output_type": "stream",
          "name": "stdout",
          "text": [
            "(array([  1, 255]), array([280285,      1]))\n"
          ]
        }
      ],
      "source": [
        "# select a single station\n",
        "df_single_station = df_row_data[df_row_data['label'] == 'T0071'].reset_index(drop=True)\n",
        "print(np.unique(df_single_station['validation_code'].values,return_counts=True))\n",
        "# print(np.unique(df_row_data['label'].values))"
      ]
    },
    {
      "cell_type": "code",
      "execution_count": 12,
      "metadata": {
        "id": "SWDDUYNZQ46c",
        "outputId": "9ec875e8-a0e4-4a10-bfc7-b71eff19598e",
        "colab": {
          "base_uri": "https://localhost:8080/"
        }
      },
      "outputs": [
        {
          "output_type": "stream",
          "name": "stdout",
          "text": [
            "        label        date   time  value  validation_code            datetime\n",
            "0       T0071  01/01/2014  00:00   -6.5                1 2014-01-01 00:00:00\n",
            "1       T0071  01/01/2014  00:15   -8.2                1 2014-01-01 00:15:00\n",
            "2       T0071  01/01/2014  00:30   -7.5                1 2014-01-01 00:30:00\n",
            "3       T0071  01/01/2014  00:45   -7.2                1 2014-01-01 00:45:00\n",
            "4       T0071  01/01/2014  01:00   -7.8                1 2014-01-01 01:00:00\n",
            "...       ...         ...    ...    ...              ...                 ...\n",
            "280281  T0071  31/12/2021  22:45    0.4                1 2021-12-31 22:45:00\n",
            "280282  T0071  31/12/2021  23:00    0.0                1 2021-12-31 23:00:00\n",
            "280283  T0071  31/12/2021  23:15    0.3                1 2021-12-31 23:15:00\n",
            "280284  T0071  31/12/2021  23:30    0.4                1 2021-12-31 23:30:00\n",
            "280285  T0071  31/12/2021  23:45   -0.1                1 2021-12-31 23:45:00\n",
            "\n",
            "[280286 rows x 6 columns]\n"
          ]
        }
      ],
      "source": [
        "print(df_single_station)"
      ]
    },
    {
      "cell_type": "code",
      "execution_count": 15,
      "metadata": {
        "id": "7z6pGax4Q46c",
        "outputId": "d312f457-2d11-443c-b232-42cb6cba1da3",
        "colab": {
          "base_uri": "https://localhost:8080/",
          "height": 368
        }
      },
      "outputs": [
        {
          "output_type": "error",
          "ename": "ModuleNotFoundError",
          "evalue": "ignored",
          "traceback": [
            "\u001b[0;31m---------------------------------------------------------------------------\u001b[0m",
            "\u001b[0;31mModuleNotFoundError\u001b[0m                       Traceback (most recent call last)",
            "\u001b[0;32m<ipython-input-15-c5488fa09dd9>\u001b[0m in \u001b[0;36m<module>\u001b[0;34m\u001b[0m\n\u001b[1;32m      2\u001b[0m \u001b[0;32mimport\u001b[0m \u001b[0msys\u001b[0m\u001b[0;34m\u001b[0m\u001b[0;34m\u001b[0m\u001b[0m\n\u001b[1;32m      3\u001b[0m \u001b[0msys\u001b[0m\u001b[0;34m.\u001b[0m\u001b[0mpath\u001b[0m\u001b[0;34m.\u001b[0m\u001b[0mappend\u001b[0m\u001b[0;34m(\u001b[0m\u001b[0;34m\"../TSF\"\u001b[0m\u001b[0;34m)\u001b[0m\u001b[0;34m\u001b[0m\u001b[0;34m\u001b[0m\u001b[0m\n\u001b[0;32m----> 4\u001b[0;31m \u001b[0;32mimport\u001b[0m \u001b[0mTSF\u001b[0m\u001b[0;34m.\u001b[0m\u001b[0mdata_splitter\u001b[0m\u001b[0;34m\u001b[0m\u001b[0;34m\u001b[0m\u001b[0m\n\u001b[0m\u001b[1;32m      5\u001b[0m \u001b[0mTSF\u001b[0m\u001b[0;34m.\u001b[0m\u001b[0mdata_splitter\u001b[0m \u001b[0;34m=\u001b[0m \u001b[0mreload\u001b[0m\u001b[0;34m(\u001b[0m\u001b[0mTSF\u001b[0m\u001b[0;34m.\u001b[0m\u001b[0mdata_splitter\u001b[0m\u001b[0;34m)\u001b[0m\u001b[0;34m\u001b[0m\u001b[0;34m\u001b[0m\u001b[0m\n\u001b[1;32m      6\u001b[0m \u001b[0;32mfrom\u001b[0m \u001b[0mTSF\u001b[0m\u001b[0;34m.\u001b[0m\u001b[0mdata_splitter\u001b[0m \u001b[0;32mimport\u001b[0m \u001b[0;34m*\u001b[0m\u001b[0;34m\u001b[0m\u001b[0;34m\u001b[0m\u001b[0m\n",
            "\u001b[0;31mModuleNotFoundError\u001b[0m: No module named 'TSF'",
            "",
            "\u001b[0;31m---------------------------------------------------------------------------\u001b[0;32m\nNOTE: If your import is failing due to a missing package, you can\nmanually install dependencies using either !pip or !apt.\n\nTo view examples of installing some common dependencies, click the\n\"Open Examples\" button below.\n\u001b[0;31m---------------------------------------------------------------------------\u001b[0m\n"
          ],
          "errorDetails": {
            "actions": [
              {
                "action": "open_url",
                "actionText": "Open Examples",
                "url": "/notebooks/snippets/importing_libraries.ipynb"
              }
            ]
          }
        }
      ],
      "source": [
        "from importlib import reload  # Python 3.4+\n",
        "import sys\n",
        "sys.path.append(\"../TSF\") # ERROR HERE , colab doesn't import data splitter, gonna fix asap\n",
        "import TSF.data_splitter\n",
        "TSF.data_splitter = reload(TSF.data_splitter)\n",
        "from TSF.data_splitter import *\n",
        "# new_data = split_df_for_TSF(df_single_station.iloc[0:10], 24, 1, \".\")\n",
        "\n",
        "# split the data for the time series forecasting (24 hours of training, 1 hour of prediction)\n",
        "PERIOD = 24\n",
        "PREDICTION = 1\n",
        "df = df_single_station#.iloc[0:120]\n",
        "df_train,df_prediction,n_previsions = split_df_for_TSF(df, 24, 1)\n",
        "# df_train = df_train.reset_index(drop=True)\n",
        "# df_prediction = df_prediction.reset_index(drop=True)\n",
        "# np.unique(df_prediction[['val_0','val_1','val_2','val_3']].values, return_counts=True)\n",
        "print(df_prediction)"
      ]
    },
    {
      "cell_type": "code",
      "source": [
        "print(sys.path)"
      ],
      "metadata": {
        "id": "QFmIsMOaS3oT",
        "outputId": "ca79b3e2-4e6f-4fbc-8168-ca0a90998a45",
        "colab": {
          "base_uri": "https://localhost:8080/"
        }
      },
      "execution_count": 16,
      "outputs": [
        {
          "output_type": "stream",
          "name": "stdout",
          "text": [
            "['/content', '/env/python', '/usr/lib/python37.zip', '/usr/lib/python3.7', '/usr/lib/python3.7/lib-dynload', '', '/usr/local/lib/python3.7/dist-packages', '/usr/lib/python3/dist-packages', '/usr/local/lib/python3.7/dist-packages/IPython/extensions', '/root/.ipython', '../TSF']\n"
          ]
        }
      ]
    },
    {
      "cell_type": "code",
      "execution_count": null,
      "metadata": {
        "id": "AFQOT7kkQ46d"
      },
      "outputs": [],
      "source": [
        "# np.unique(df_prediction[[f'val_{n}'for n in range(11)]].values, return_counts=True)\n",
        "df_prediction.to_csv(\"prediction.csv\")"
      ]
    },
    {
      "cell_type": "code",
      "execution_count": null,
      "metadata": {
        "id": "axqYKVdiQ46d"
      },
      "outputs": [],
      "source": [
        "import torch\n",
        "from torch.utils.data import Dataset, DataLoader\n",
        "class CustomDataset(Dataset):\n",
        "  def __init__(self, df_train, df_test, transform = None, target_transform = None):\n",
        "    self.features = torch.FloatTensor(df_train.drop(['sensor_code','in_datetime'],axis=1).values)\n",
        "    ### standardize the data\n",
        "    means = self.features.mean(dim=1, keepdim=True)\n",
        "    stds = torch.clamp(self.features.std(dim=1, keepdim=True),min=1)\n",
        "    self.features = (self.features - means) / stds\n",
        "    self.target = torch.FloatTensor(df_test.drop(['sensor_code','in_datetime']+[f\"val_{idx}\" for idx in range(n_previsions)],axis=1).values)\n",
        "    self.target = (self.target - means) / stds\n",
        "    \n",
        "    self.sensor_code = df_train['sensor_code'].values\n",
        "    self.in_datetime = df_train['in_datetime'].values\n",
        "    \n",
        "    self.labels = torch.FloatTensor(df_test[[f\"val_{idx}\" for idx in range(n_previsions)]].values)\n",
        "    self.transform = transform\n",
        "    self.target_transform = target_transform\n",
        "\n",
        "  def __len__(self):\n",
        "    return len(self.sensor_code)\n",
        "\n",
        "  def __getitem__(self, idx):\n",
        "    sensor_code = self.sensor_code[idx]\n",
        "    date = self.in_datetime[idx]\n",
        "    features = self.features[idx]\n",
        "    labels = self.labels[idx]\n",
        "    target = self.target[idx]\n",
        "    return {\"sensor_code\": sensor_code, \"date\":date,\"features\": features, \"target\":target,\"labels\":labels}"
      ]
    },
    {
      "cell_type": "code",
      "execution_count": null,
      "metadata": {
        "id": "whYDC-LzQ46e"
      },
      "outputs": [],
      "source": [
        "splits = ['train','test']\n",
        "shuffle = {'train':True,'test':False}\n",
        "dataset = {}\n",
        "\n",
        "# split data in training and test (to check generalization)\n",
        "training_features = df_train.sample(frac=0.8)\n",
        "training_target = df_prediction.iloc[training_features.index.values]\n",
        "test_features = df_train.drop(training_features.index)\n",
        "test_target = df_prediction.iloc[test_features.index]\n",
        "\n",
        "training_features = training_features.reset_index(drop=True)\n",
        "training_target = training_target.reset_index(drop=True)\n",
        "test_features = test_features.reset_index(drop=True)\n",
        "test_target = test_target.reset_index(drop=True)\n",
        "\n",
        "from torch import save,load\n",
        "# dataset['train'] = load('T0010_train_temperature_tsf.pt')\n",
        "# dataset['test'] = load('T0010_test_temperature_tsf.pt')\n",
        "dataset['train'] = CustomDataset(training_features, training_target)\n",
        "dataset['test'] = CustomDataset(test_features, test_target)\n",
        "save(dataset['train'], 'T0071_train_solar_rad_tsf.pt')\n",
        "save(dataset['test'], 'T0071_test_solar_rad_tsf.pt')\n",
        "\n",
        "\n",
        "# b_size = {'train':len(dataset['train']),\n",
        "b_size = {'train':64,\n",
        "          'test':len(dataset['test'])}\n",
        "\n",
        "dataloader = {x: torch.utils.data.DataLoader(dataset=dataset[x],\n",
        "                                            batch_size=b_size[x],\n",
        "                                            shuffle=shuffle[x],\n",
        "                                            collate_fn=lambda x: x,\n",
        "                                            drop_last=True)\n",
        "                                            #num_workers=int(opt.workers),\n",
        "                                            #worker_init_fn=(None if opt.manualseed == -1\n",
        "                                            #else lambda x: np.random.seed(opt.manualseed)))\n",
        "            for x in splits}"
      ]
    },
    {
      "cell_type": "code",
      "execution_count": null,
      "metadata": {
        "id": "YrcIPLObQ46e",
        "outputId": "92c4239b-81e9-44ab-ddc9-1bc8acb7ba2a"
      },
      "outputs": [
        {
          "name": "stdout",
          "output_type": "stream",
          "text": [
            "(tensor([], dtype=torch.int64), tensor([], dtype=torch.int64))\n"
          ]
        }
      ],
      "source": [
        "sample = next(iter(dataloader['train']))\n",
        "sample_tensor_features = torch.stack([v[\"features\"] for v in sample])\n",
        "wh_nans = (torch.isnan(sample_tensor_features)).nonzero(as_tuple=True)\n",
        "print(wh_nans)\n",
        "# plt.plot(sample_tensor_features[1].numpy())"
      ]
    },
    {
      "cell_type": "code",
      "execution_count": null,
      "metadata": {
        "id": "RJd1i5QXQ46f",
        "outputId": "e31b7c83-207f-40a6-94c3-da87b04b4c03"
      },
      "outputs": [
        {
          "name": "stderr",
          "output_type": "stream",
          "text": [
            "/home/daniele/anaconda3/lib/python3.9/site-packages/torch/nn/modules/rnn.py:62: UserWarning: dropout option adds dropout after all but last recurrent layer, so non-zero dropout expects num_layers greater than 1, but got dropout=0.2 and num_layers=1\n",
            "  warnings.warn(\"dropout option adds dropout after all but last \"\n",
            "100%|██████████| 790/790 [04:56<00:00,  2.66it/s]\n"
          ]
        },
        {
          "name": "stdout",
          "output_type": "stream",
          "text": [
            "Loss: 0.0447\n"
          ]
        },
        {
          "name": "stderr",
          "output_type": "stream",
          "text": [
            "100%|██████████| 790/790 [04:56<00:00,  2.66it/s]\n"
          ]
        },
        {
          "name": "stdout",
          "output_type": "stream",
          "text": [
            "Loss: 0.0237\n"
          ]
        },
        {
          "name": "stderr",
          "output_type": "stream",
          "text": [
            "100%|██████████| 790/790 [05:09<00:00,  2.55it/s]"
          ]
        },
        {
          "name": "stdout",
          "output_type": "stream",
          "text": [
            "Loss: 0.0281\n"
          ]
        },
        {
          "name": "stderr",
          "output_type": "stream",
          "text": [
            "\n"
          ]
        }
      ],
      "source": [
        "from collections.abc import Sequence\n",
        "from torch import nn\n",
        "import LSTMs\n",
        "LSTMs = reload(LSTMs)\n",
        "from LSTMs import SingleLSTMCell,LSTM\n",
        "\n",
        "device = torch.device(\"cpu\")\n",
        "sequence_length = 96\n",
        "pred_length = n_previsions\n",
        "# Instantiate the model with hyperparameters\n",
        "model = LSTM(input_size=1, output_size=1, batch_size=64, hidden_dim=15, moving_window = 60)\n",
        "# We'll also set the model to the device that we defined earlier (default is CPU)\n",
        "model = model.to(device)\n",
        "model.load_state_dict(torch.load('T0065_rad_sol_model.pt', map_location=torch.device('cpu')))\n",
        "\n",
        "# Define hyperparameters\n",
        "lr = 0.0001#0.0005\n",
        "\n",
        "# Define Loss, Optimizer\n",
        "criterion = nn.MSELoss()#CrossEntropyLoss()\n",
        "optimizer = torch.optim.Adam(model.parameters(), lr=lr)\n",
        "\n",
        "from tqdm import tqdm\n",
        "n_epochs = 3\n",
        "for epoch in range(1, n_epochs + 1):\n",
        "    for data in tqdm(dataloader['train'], leave=True, total=len(dataloader['train'])):\n",
        "        batch_input_features = torch.stack([v[\"features\"] for v in data])\n",
        "        # target_features = torch.stack([v[\"target\"] for v in data])\n",
        "        output = model(batch_input_features)\n",
        "        output = output.to(device)\n",
        "        loss = criterion(output, batch_input_features)\n",
        "        loss.backward() # Does backpropagation and calculates gradients\n",
        "        optimizer.step() # Updates the weights accordingly\n",
        "        # print(\"Loss: {:.4f}\".format(loss.item()))\n",
        "    if loss.item() < 0.015:\n",
        "        break\n",
        "    print(\"Loss: {:.4f}\".format(loss.item()))\n",
        "torch.save(model.state_dict(), \"T0065_rad_sol_model.pt\")"
      ]
    },
    {
      "cell_type": "code",
      "execution_count": null,
      "metadata": {
        "id": "tIdf7LQ_Q46f",
        "outputId": "97474885-411e-4c68-c323-c71974893ba9"
      },
      "outputs": [
        {
          "name": "stdout",
          "output_type": "stream",
          "text": [
            "(tensor([6044]), tensor([3]))\n",
            "torch.Size([12643, 96])\n"
          ]
        }
      ],
      "source": [
        "b_size = {'train':len(dataset['train']),\n",
        "          'test':len(dataset['test'])}\n",
        "shuffle = {'train':False,'test':False}\n",
        "\n",
        "\n",
        "dataloader = {x: torch.utils.data.DataLoader(dataset=dataset[x],\n",
        "                                            batch_size=b_size[x],\n",
        "                                            shuffle=shuffle[x],\n",
        "                                            collate_fn=lambda x: x,\n",
        "                                            drop_last=True) for x in splits}\n",
        "sample = next(iter(dataloader['test']))\n",
        "sample_tensor_validation = torch.stack([v[\"labels\"] for v in sample])\n",
        "sample_tensor_features = torch.stack([v[\"features\"] for v in sample])\n",
        "print((sample_tensor_validation == 140).nonzero(as_tuple=True))\n",
        "print(sample_tensor_features.size())"
      ]
    },
    {
      "cell_type": "code",
      "execution_count": null,
      "metadata": {
        "id": "tiexXjj5Q46g",
        "outputId": "a7ca2588-aa16-49e1-f573-659c88de9fd9"
      },
      "outputs": [
        {
          "name": "stdout",
          "output_type": "stream",
          "text": [
            "tensor([[-0.6693, -0.6693, -0.6693,  ..., -0.6693, -0.6693, -0.6693],\n",
            "        [ 0.7204,  0.8101,  0.8471,  ..., -0.2192,  0.1556,  0.3825],\n",
            "        [ 1.3050,  1.5481,  1.9065,  ...,  1.8200,  1.3338,  1.2967],\n",
            "        ...,\n",
            "        [ 0.0112, -0.4237, -0.6396,  ...,  0.3617,  0.2522,  0.0457],\n",
            "        [-0.6332, -0.6332, -0.6332,  ..., -0.6332, -0.6332, -0.6332],\n",
            "        [-0.6275, -0.6275, -0.6275,  ..., -0.6275, -0.6275, -0.6275]])\n"
          ]
        },
        {
          "data": {
            "image/png": "[encoded data removed]",
            "text/plain": [
              "<Figure size 3600x720 with 1 Axes>"
            ]
          },
          "metadata": {
            "needs_background": "light"
          },
          "output_type": "display_data"
        }
      ],
      "source": [
        "import matplotlib.pyplot as plt\n",
        "from datetime import datetime\n",
        "import pandas as pd\n",
        "import numpy as np\n",
        "\n",
        "f = plt.figure()\n",
        "f.set_figwidth(50)\n",
        "f.set_figheight(10)\n",
        "plt.ylabel('standardized value')\n",
        "plt.xlabel('test')\n",
        "which = 0\n",
        "anomaly = 4\n",
        "sample = next(iter(dataloader['test']))\n",
        "sample_tensor_validation = torch.stack([v[\"labels\"] for v in sample])\n",
        "# print((sample_tensor_validation == 140).nonzero(as_tuple=True))\n",
        "sample_tensor_validation = sample_tensor_validation[anomaly:anomaly+64,:]\n",
        "\n",
        "sample_tensor_features = torch.stack([v[\"features\"] for v in sample])\n",
        "print(sample_tensor_features)\n",
        "sample_tensor_features = sample_tensor_features[anomaly:anomaly+64,:]\n",
        "\n",
        "sample_tensor_target = torch.stack([v[\"target\"] for v in sample])\n",
        "sample_tensor_target = sample_tensor_target[anomaly:anomaly+64,:]\n",
        "\n",
        "sensor_code = [v[\"sensor_code\"] for v in sample][anomaly]\n",
        "date = pd.to_datetime([v[\"date\"] for v in sample][anomaly],format = '%d/%m/%Y %H:%M').strftime(\"%d/%m/%Y %H:%M\") \n",
        "\n",
        "string_to_plot = f\"{sensor_code} starting from {date}\"\n",
        "plt.title('Time series forecasting for ' +string_to_plot ,fontsize = 26)\n",
        "\n",
        "# sample_tensor_validation = torch.stack(sample_tensor_validation)\n",
        "# sample_validation = sample['val_label']\n",
        "model.eval()\n",
        "with torch.no_grad():\n",
        "    reconstructed = model(sample_tensor_features,4)\n",
        "y_outliers = np.where(sample_tensor_validation[which] != 140, np.NaN, sample_tensor_target[which][0:4])\n",
        "# plt.xlim(96,102)\n",
        "original_signal = torch.cat((sample_tensor_features, sample_tensor_target), 1)[which]\n",
        "# # confidence interval\n",
        "# # rolling mean over n_steps\n",
        "# n_steps = 3\n",
        "# time_series_df = pd.DataFrame(original_signal)\n",
        "# line = time_series_df.rolling(n_steps).mean()\n",
        "# # 98% confidence\n",
        "# line_deviation = 2.326 * time_series_df.rolling(n_steps).std()\n",
        "# under_line = (line - line_deviation)[0]\n",
        "# over_line = (line + line_deviation)[0]\n",
        "\n",
        "plt.plot(original_signal, \"o-\",ms=8,color=\"blue\")\n",
        "plt.plot(reconstructed[which],\"o-\",ms=8,color=\"orange\")\n",
        "plt.plot(np.arange(96,100), y_outliers, \"x-\",ms=15,mew=10,color=\"red\")\n",
        "# plt.fill_between(line_deviation.index,under_line,over_line, color='b', alpha=.1)\n",
        "plt.axvline(x=95, color='red')\n",
        "plt.savefig('T0010_temperature_anomaly.pdf')"
      ]
    },
    {
      "cell_type": "code",
      "execution_count": null,
      "metadata": {
        "id": "JpaXac-yQ46g"
      },
      "outputs": [],
      "source": []
    }
  ],
  "metadata": {
    "colab": {
      "provenance": [],
      "machine_shape": "hm"
    },
    "kernelspec": {
      "display_name": "Python 3.9.12 ('base')",
      "language": "python",
      "name": "python3"
    },
    "language_info": {
      "codemirror_mode": {
        "name": "ipython",
        "version": 3
      },
      "file_extension": ".py",
      "mimetype": "text/x-python",
      "name": "python",
      "nbconvert_exporter": "python",
      "pygments_lexer": "ipython3",
      "version": "3.9.12"
    },
    "vscode": {
      "interpreter": {
        "hash": "db3b0be3bb1f6db1a0432c56ec1c0f7459936b81fd9ed1b468b8c4ba9c3d8298"
      }
    },
    "accelerator": "GPU",
    "gpuClass": "premium"
  },
  "nbformat": 4,
  "nbformat_minor": 0
}