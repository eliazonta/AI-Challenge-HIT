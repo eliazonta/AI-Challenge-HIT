{
  "cells": [
    {
      "cell_type": "markdown",
      "source": [
        "## Google Colab PRO (little flex 🤓 )"
      ],
      "metadata": {
        "id": "eR_jwVC1YEoO"
      }
    },
    {
      "cell_type": "code",
      "source": [
        "# GPU Test if 'Not connected to a GPU' go Runtime > Change runtime type > GPU > GPU Premium\n",
        "gpu_info = !nvidia-smi\n",
        "gpu_info = '\\n'.join(gpu_info)\n",
        "if gpu_info.find('failed') >= 0:\n",
        "  print('Not connected to a GPU')\n",
        "else:\n",
        "  print(gpu_info)"
      ],
      "metadata": {
        "id": "NZ5BcPtBYFO1",
        "outputId": "fe558a15-5f1d-4104-bff7-ef57e5f02a8c",
        "colab": {
          "base_uri": "https://localhost:8080/"
        }
      },
      "execution_count": 1,
      "outputs": [
        {
          "output_type": "stream",
          "name": "stdout",
          "text": [
            "Not connected to a GPU\n"
          ]
        }
      ]
    },
    {
      "cell_type": "code",
      "source": [
        "# High-RAM Test if 'Not using a high-RAM runtime' go Runtime > Change runtime type > RAM > High-RAM\n",
        "from psutil import virtual_memory\n",
        "ram_gb = virtual_memory().total / 1e9\n",
        "print('Your runtime has {:.1f} gigabytes of available RAM\\n'.format(ram_gb))\n",
        "\n",
        "if ram_gb < 20:\n",
        "  print('Not using a high-RAM runtime')\n",
        "else:\n",
        "  print('You are using a high-RAM runtime!')"
      ],
      "metadata": {
        "id": "ELLsO8_MYFEP"
      },
      "execution_count": null,
      "outputs": []
    },
    {
      "cell_type": "code",
      "execution_count": null,
      "metadata": {
        "id": "UHZ5dgtBUukH"
      },
      "outputs": [],
      "source": [
        "# load libraries\n",
        "import pandas as pd\n",
        "import os\n",
        "import numpy as np\n",
        "import datetime\n",
        "# from google.colab import drive\n",
        "from torch.utils.data import Dataset, DataLoader\n",
        "from torch import save"
      ]
    },
    {
      "cell_type": "code",
      "execution_count": null,
      "metadata": {
        "colab": {
          "base_uri": "https://localhost:8080/"
        },
        "id": "0d21WFZCV19F",
        "outputId": "1173ee33-c071-49d0-c816-0d93d1d3ccd0"
      },
      "outputs": [
        {
          "name": "stdout",
          "output_type": "stream",
          "text": [
            "Drive already mounted at /content/drive; to attempt to forcibly remount, call drive.mount(\"/content/drive\", force_remount=True).\n"
          ]
        }
      ],
      "source": [
        "# mount drive\n",
        "drive.mount('/content/drive')"
      ]
    },
    {
      "cell_type": "code",
      "execution_count": null,
      "metadata": {
        "id": "EdTf6K23VyxH"
      },
      "outputs": [],
      "source": [
        "# change me, have to point to the Meteotrentino drive folder\n",
        "wk =  \"/content/drive/My Drive/10. Meteotrentino/\"\n",
        "\n",
        "# folder for the csv\n",
        "subfolder = \"CSVs/\"\n",
        "\n",
        "# select the filename, make me dynamic\n",
        "selected_dataset = \"temperature.csv\""
      ]
    },
    {
      "cell_type": "code",
      "execution_count": null,
      "metadata": {
        "id": "2OMJvpn3VN8J"
      },
      "outputs": [],
      "source": [
        "# data_path = wk+subfolder+selected_dataset\n",
        "data_path = \"../../../vel_vento_A.csv\""
      ]
    },
    {
      "cell_type": "code",
      "execution_count": null,
      "metadata": {
        "id": "1UMaZX3Ud1Q8"
      },
      "outputs": [],
      "source": [
        "df_row_data = pd.read_csv(\n",
        "  data_path,\n",
        "  sep = \";\", # not a CSV, separator is ';'\n",
        "  header = None, # no header\n",
        "  dtype = {'0' : str, '1': str, '2': str, '3' : np.float64, '4':int} # Daniele: added the validation code so we can train on validated data (no need of classes, just distinguish between good and bad data)\n",
        "  ) \n",
        "\n"
      ]
    },
    {
      "cell_type": "code",
      "execution_count": null,
      "metadata": {
        "id": "lm8SzZOFhPAS"
      },
      "outputs": [],
      "source": [
        "# define a header \n",
        "df_row_data = df_row_data.set_axis(\n",
        "    ['label', 'date', 'time', 'value','validation_code'],\n",
        "    axis = 1,\n",
        "    inplace = False\n",
        "\n",
        ")"
      ]
    },
    {
      "cell_type": "code",
      "execution_count": null,
      "metadata": {
        "id": "ZeP4DqRid9uB"
      },
      "outputs": [],
      "source": [
        "df_row_data['datetime'] = pd.to_datetime(df_row_data['date']+\" \"+df_row_data['time'], format = '%d/%m/%Y %H:%M')\n"
      ]
    },
    {
      "cell_type": "code",
      "execution_count": null,
      "metadata": {
        "colab": {
          "base_uri": "https://localhost:8080/",
          "height": 479
        },
        "id": "y8babb6JomG1",
        "outputId": "48fd8a47-813a-44ba-d901-33fd65758aa3"
      },
      "outputs": [
        {
          "data": {
            "text/html": [
              "<div>\n",
              "<style scoped>\n",
              "    .dataframe tbody tr th:only-of-type {\n",
              "        vertical-align: middle;\n",
              "    }\n",
              "\n",
              "    .dataframe tbody tr th {\n",
              "        vertical-align: top;\n",
              "    }\n",
              "\n",
              "    .dataframe thead th {\n",
              "        text-align: right;\n",
              "    }\n",
              "</style>\n",
              "<table border=\"1\" class=\"dataframe\">\n",
              "  <thead>\n",
              "    <tr style=\"text-align: right;\">\n",
              "      <th></th>\n",
              "      <th>label</th>\n",
              "      <th>date</th>\n",
              "      <th>time</th>\n",
              "      <th>value</th>\n",
              "      <th>validation_code</th>\n",
              "      <th>datetime</th>\n",
              "      <th>datetime_enconded</th>\n",
              "    </tr>\n",
              "  </thead>\n",
              "  <tbody>\n",
              "    <tr>\n",
              "      <th>0</th>\n",
              "      <td>T0010</td>\n",
              "      <td>01/01/2014</td>\n",
              "      <td>00:00</td>\n",
              "      <td>0.2</td>\n",
              "      <td>1</td>\n",
              "      <td>2014-01-01 00:00:00</td>\n",
              "      <td>1388534400</td>\n",
              "    </tr>\n",
              "    <tr>\n",
              "      <th>1</th>\n",
              "      <td>T0010</td>\n",
              "      <td>01/01/2014</td>\n",
              "      <td>00:10</td>\n",
              "      <td>0.5</td>\n",
              "      <td>1</td>\n",
              "      <td>2014-01-01 00:10:00</td>\n",
              "      <td>1388535000</td>\n",
              "    </tr>\n",
              "    <tr>\n",
              "      <th>2</th>\n",
              "      <td>T0010</td>\n",
              "      <td>01/01/2014</td>\n",
              "      <td>00:20</td>\n",
              "      <td>0.2</td>\n",
              "      <td>1</td>\n",
              "      <td>2014-01-01 00:20:00</td>\n",
              "      <td>1388535600</td>\n",
              "    </tr>\n",
              "    <tr>\n",
              "      <th>3</th>\n",
              "      <td>T0010</td>\n",
              "      <td>01/01/2014</td>\n",
              "      <td>00:30</td>\n",
              "      <td>0.2</td>\n",
              "      <td>1</td>\n",
              "      <td>2014-01-01 00:30:00</td>\n",
              "      <td>1388536200</td>\n",
              "    </tr>\n",
              "    <tr>\n",
              "      <th>4</th>\n",
              "      <td>T0010</td>\n",
              "      <td>01/01/2014</td>\n",
              "      <td>00:40</td>\n",
              "      <td>0.1</td>\n",
              "      <td>1</td>\n",
              "      <td>2014-01-01 00:40:00</td>\n",
              "      <td>1388536800</td>\n",
              "    </tr>\n",
              "    <tr>\n",
              "      <th>...</th>\n",
              "      <td>...</td>\n",
              "      <td>...</td>\n",
              "      <td>...</td>\n",
              "      <td>...</td>\n",
              "      <td>...</td>\n",
              "      <td>...</td>\n",
              "      <td>...</td>\n",
              "    </tr>\n",
              "    <tr>\n",
              "      <th>12995756</th>\n",
              "      <td>T0469</td>\n",
              "      <td>31/12/2021</td>\n",
              "      <td>23:10</td>\n",
              "      <td>0.9</td>\n",
              "      <td>145</td>\n",
              "      <td>2021-12-31 23:10:00</td>\n",
              "      <td>1640992200</td>\n",
              "    </tr>\n",
              "    <tr>\n",
              "      <th>12995757</th>\n",
              "      <td>T0469</td>\n",
              "      <td>31/12/2021</td>\n",
              "      <td>23:20</td>\n",
              "      <td>0.6</td>\n",
              "      <td>145</td>\n",
              "      <td>2021-12-31 23:20:00</td>\n",
              "      <td>1640992800</td>\n",
              "    </tr>\n",
              "    <tr>\n",
              "      <th>12995758</th>\n",
              "      <td>T0469</td>\n",
              "      <td>31/12/2021</td>\n",
              "      <td>23:30</td>\n",
              "      <td>0.5</td>\n",
              "      <td>145</td>\n",
              "      <td>2021-12-31 23:30:00</td>\n",
              "      <td>1640993400</td>\n",
              "    </tr>\n",
              "    <tr>\n",
              "      <th>12995759</th>\n",
              "      <td>T0469</td>\n",
              "      <td>31/12/2021</td>\n",
              "      <td>23:40</td>\n",
              "      <td>0.7</td>\n",
              "      <td>145</td>\n",
              "      <td>2021-12-31 23:40:00</td>\n",
              "      <td>1640994000</td>\n",
              "    </tr>\n",
              "    <tr>\n",
              "      <th>12995760</th>\n",
              "      <td>T0469</td>\n",
              "      <td>31/12/2021</td>\n",
              "      <td>23:50</td>\n",
              "      <td>0.7</td>\n",
              "      <td>145</td>\n",
              "      <td>2021-12-31 23:50:00</td>\n",
              "      <td>1640994600</td>\n",
              "    </tr>\n",
              "  </tbody>\n",
              "</table>\n",
              "<p>12995761 rows × 7 columns</p>\n",
              "</div>"
            ],
            "text/plain": [
              "          label        date   time  value  validation_code  \\\n",
              "0         T0010  01/01/2014  00:00    0.2                1   \n",
              "1         T0010  01/01/2014  00:10    0.5                1   \n",
              "2         T0010  01/01/2014  00:20    0.2                1   \n",
              "3         T0010  01/01/2014  00:30    0.2                1   \n",
              "4         T0010  01/01/2014  00:40    0.1                1   \n",
              "...         ...         ...    ...    ...              ...   \n",
              "12995756  T0469  31/12/2021  23:10    0.9              145   \n",
              "12995757  T0469  31/12/2021  23:20    0.6              145   \n",
              "12995758  T0469  31/12/2021  23:30    0.5              145   \n",
              "12995759  T0469  31/12/2021  23:40    0.7              145   \n",
              "12995760  T0469  31/12/2021  23:50    0.7              145   \n",
              "\n",
              "                    datetime  datetime_enconded  \n",
              "0        2014-01-01 00:00:00         1388534400  \n",
              "1        2014-01-01 00:10:00         1388535000  \n",
              "2        2014-01-01 00:20:00         1388535600  \n",
              "3        2014-01-01 00:30:00         1388536200  \n",
              "4        2014-01-01 00:40:00         1388536800  \n",
              "...                      ...                ...  \n",
              "12995756 2021-12-31 23:10:00         1640992200  \n",
              "12995757 2021-12-31 23:20:00         1640992800  \n",
              "12995758 2021-12-31 23:30:00         1640993400  \n",
              "12995759 2021-12-31 23:40:00         1640994000  \n",
              "12995760 2021-12-31 23:50:00         1640994600  \n",
              "\n",
              "[12995761 rows x 7 columns]"
            ]
          },
          "execution_count": 6,
          "metadata": {},
          "output_type": "execute_result"
        }
      ],
      "source": [
        "# econde the date as integer\n",
        "df_row_data['datetime_enconded'] = np.int64(df_row_data['datetime'].astype(int)/10**9)\n",
        "df_row_data"
      ]
    },
    {
      "cell_type": "code",
      "execution_count": null,
      "metadata": {
        "colab": {
          "base_uri": "https://localhost:8080/"
        },
        "id": "_wVzzW1ocnOJ",
        "outputId": "761cfff2-5577-4c5e-f272-a0a3b3723003"
      },
      "outputs": [
        {
          "name": "stderr",
          "output_type": "stream",
          "text": [
            "/tmp/ipykernel_4620/3647555548.py:20: SettingWithCopyWarning: \n",
            "A value is trying to be set on a copy of a slice from a DataFrame\n",
            "\n",
            "See the caveats in the documentation: https://pandas.pydata.org/pandas-docs/stable/user_guide/indexing.html#returning-a-view-versus-a-copy\n",
            "  df_row_data['period_index'][(df_row_data['datetime'] < offset_data) & (df_row_data['datetime'] >= current_data)] = i\n"
          ]
        }
      ],
      "source": [
        "# split the dataframe by date\n",
        "\n",
        "date_start = df_row_data['datetime'].min()\n",
        "\n",
        "date_end = df_row_data['datetime'].max()\n",
        "\n",
        "\n",
        "# period\n",
        "period_split = 24 #hours\n",
        "\n",
        "current_data = date_start\n",
        "\n",
        "df_row_data['period_index'] = [-1]*len(df_row_data['datetime'])\n",
        "\n",
        "i = 0\n",
        "while current_data < date_end:\n",
        "\n",
        "  offset_data = current_data+ pd.offsets.Hour(period_split)\n",
        "  \n",
        "  df_row_data['period_index'][(df_row_data['datetime'] < offset_data) & (df_row_data['datetime'] >= current_data)] = i\n",
        "\n",
        "  current_data = offset_data\n",
        "  i = i+1\n"
      ]
    },
    {
      "cell_type": "code",
      "execution_count": null,
      "metadata": {
        "id": "CYLxIpiCYCAt",
        "outputId": "82faa4a2-820b-4e52-a298-48b61289d64a"
      },
      "outputs": [
        {
          "name": "stdout",
          "output_type": "stream",
          "text": [
            "(array(['T0010', 'T0065', 'T0071', 'T0074', 'T0103', 'T0104', 'T0118',\n",
            "       'T0129', 'T0135', 'T0146', 'T0147', 'T0153', 'T0193', 'T0354',\n",
            "       'T0355', 'T0360', 'T0366', 'T0367', 'T0368', 'T0369', 'T0374',\n",
            "       'T0379', 'T0384', 'T0414', 'T0417', 'T0420', 'T0421', 'T0423',\n",
            "       'T0437', 'T0450', 'T0469'], dtype=object), array([420559, 420093, 420383, 419964, 420570, 417733, 420557, 420503,\n",
            "       420481, 420509, 420526, 420096, 419721, 420230, 417889, 420123,\n",
            "       420310, 418525, 419557, 417720, 417208, 419649, 403864, 420407,\n",
            "       420324, 417778, 419167, 420444, 420491, 420280, 420100]))\n",
            "(array([  1, 140, 145, 255]), array([112133,   1869, 306556,      1]))\n"
          ]
        }
      ],
      "source": [
        "# df_row_data.loc[df_row_data['label']=='T0429']\n",
        "print( np.unique(df_row_data['label'],return_counts=True))"
      ]
    },
    {
      "cell_type": "code",
      "execution_count": null,
      "metadata": {
        "id": "yHmhPItYYCAu",
        "outputId": "86eea46d-03f8-41ba-f633-d85b140ff553"
      },
      "outputs": [
        {
          "name": "stdout",
          "output_type": "stream",
          "text": [
            "(array([  1, 140, 145, 255]), array([195188,   8288, 216906,      1]))\n"
          ]
        }
      ],
      "source": [
        "print( np.unique(df_row_data.loc[df_row_data['label']=='T0071']['validation_code'],return_counts=True))"
      ]
    },
    {
      "cell_type": "markdown",
      "metadata": {
        "id": "oCWa6VKCfsm2"
      },
      "source": []
    },
    {
      "cell_type": "code",
      "execution_count": null,
      "metadata": {
        "id": "pVSUTFnJjwgg"
      },
      "outputs": [],
      "source": [
        "data_arr = []\n",
        "\n",
        "for station in ['T0010','T0071']:\n",
        "  df_station = df_row_data.loc[df_row_data['label']==station]\n",
        "  for pk in np.unique(df_station['period_index']):\n",
        "    df_subset = df_station.loc[(df_row_data['period_index'] == pk)]\n",
        "    \n",
        "    if df_subset.empty:\n",
        "      continue\n",
        "\n",
        "    if((df_subset['validation_code'].values != 1).any()):\n",
        "      val_label = 1\n",
        "    else:\n",
        "      val_label = 0\n",
        "\n",
        "    header={\n",
        "      'label':df_subset['label'].values[0],\n",
        "      'in_datetime':df_subset['datetime'].values[0],\n",
        "      'in_datetime_int':df_subset['datetime_enconded'].values[0],\n",
        "      'val_label':val_label\n",
        "    }\n",
        "\n",
        "    features = df_subset['value'].reset_index(drop=True).to_dict()\n",
        "    data_arr.append({**header,**features})\n",
        "df_row_data_converted = pd.DataFrame(data_arr)"
      ]
    },
    {
      "cell_type": "code",
      "execution_count": null,
      "metadata": {
        "id": "QcxkNR2DYCAv",
        "outputId": "7915d66e-2e00-4779-c730-bb8d01ebb0f4"
      },
      "outputs": [
        {
          "data": {
            "text/html": [
              "<div>\n",
              "<style scoped>\n",
              "    .dataframe tbody tr th:only-of-type {\n",
              "        vertical-align: middle;\n",
              "    }\n",
              "\n",
              "    .dataframe tbody tr th {\n",
              "        vertical-align: top;\n",
              "    }\n",
              "\n",
              "    .dataframe thead th {\n",
              "        text-align: right;\n",
              "    }\n",
              "</style>\n",
              "<table border=\"1\" class=\"dataframe\">\n",
              "  <thead>\n",
              "    <tr style=\"text-align: right;\">\n",
              "      <th></th>\n",
              "      <th>label</th>\n",
              "      <th>in_datetime</th>\n",
              "      <th>in_datetime_int</th>\n",
              "      <th>val_label</th>\n",
              "      <th>0</th>\n",
              "      <th>1</th>\n",
              "      <th>2</th>\n",
              "      <th>3</th>\n",
              "      <th>4</th>\n",
              "      <th>5</th>\n",
              "      <th>...</th>\n",
              "      <th>135</th>\n",
              "      <th>136</th>\n",
              "      <th>137</th>\n",
              "      <th>138</th>\n",
              "      <th>139</th>\n",
              "      <th>140</th>\n",
              "      <th>141</th>\n",
              "      <th>142</th>\n",
              "      <th>143</th>\n",
              "      <th>144</th>\n",
              "    </tr>\n",
              "  </thead>\n",
              "  <tbody>\n",
              "    <tr>\n",
              "      <th>0</th>\n",
              "      <td>T0010</td>\n",
              "      <td>2014-01-01</td>\n",
              "      <td>1388534400</td>\n",
              "      <td>0</td>\n",
              "      <td>0.2</td>\n",
              "      <td>0.5</td>\n",
              "      <td>0.2</td>\n",
              "      <td>0.2</td>\n",
              "      <td>0.1</td>\n",
              "      <td>0.0</td>\n",
              "      <td>...</td>\n",
              "      <td>0.2</td>\n",
              "      <td>0.3</td>\n",
              "      <td>0.1</td>\n",
              "      <td>0.3</td>\n",
              "      <td>0.4</td>\n",
              "      <td>0.3</td>\n",
              "      <td>0.1</td>\n",
              "      <td>0.4</td>\n",
              "      <td>0.3</td>\n",
              "      <td>NaN</td>\n",
              "    </tr>\n",
              "    <tr>\n",
              "      <th>1</th>\n",
              "      <td>T0010</td>\n",
              "      <td>2014-01-02</td>\n",
              "      <td>1388620800</td>\n",
              "      <td>0</td>\n",
              "      <td>0.4</td>\n",
              "      <td>0.5</td>\n",
              "      <td>0.4</td>\n",
              "      <td>0.5</td>\n",
              "      <td>0.4</td>\n",
              "      <td>0.4</td>\n",
              "      <td>...</td>\n",
              "      <td>0.2</td>\n",
              "      <td>0.2</td>\n",
              "      <td>0.2</td>\n",
              "      <td>0.1</td>\n",
              "      <td>0.2</td>\n",
              "      <td>0.0</td>\n",
              "      <td>0.0</td>\n",
              "      <td>0.2</td>\n",
              "      <td>0.4</td>\n",
              "      <td>NaN</td>\n",
              "    </tr>\n",
              "    <tr>\n",
              "      <th>2</th>\n",
              "      <td>T0010</td>\n",
              "      <td>2014-01-03</td>\n",
              "      <td>1388707200</td>\n",
              "      <td>0</td>\n",
              "      <td>0.2</td>\n",
              "      <td>0.1</td>\n",
              "      <td>0.1</td>\n",
              "      <td>0.0</td>\n",
              "      <td>0.0</td>\n",
              "      <td>0.2</td>\n",
              "      <td>...</td>\n",
              "      <td>0.1</td>\n",
              "      <td>0.4</td>\n",
              "      <td>0.4</td>\n",
              "      <td>0.5</td>\n",
              "      <td>0.3</td>\n",
              "      <td>0.3</td>\n",
              "      <td>0.3</td>\n",
              "      <td>0.3</td>\n",
              "      <td>0.4</td>\n",
              "      <td>NaN</td>\n",
              "    </tr>\n",
              "    <tr>\n",
              "      <th>3</th>\n",
              "      <td>T0010</td>\n",
              "      <td>2014-01-04</td>\n",
              "      <td>1388793600</td>\n",
              "      <td>0</td>\n",
              "      <td>0.2</td>\n",
              "      <td>0.2</td>\n",
              "      <td>0.3</td>\n",
              "      <td>0.4</td>\n",
              "      <td>0.1</td>\n",
              "      <td>0.0</td>\n",
              "      <td>...</td>\n",
              "      <td>0.7</td>\n",
              "      <td>0.8</td>\n",
              "      <td>0.6</td>\n",
              "      <td>0.8</td>\n",
              "      <td>0.9</td>\n",
              "      <td>0.4</td>\n",
              "      <td>0.6</td>\n",
              "      <td>0.4</td>\n",
              "      <td>0.7</td>\n",
              "      <td>NaN</td>\n",
              "    </tr>\n",
              "    <tr>\n",
              "      <th>4</th>\n",
              "      <td>T0010</td>\n",
              "      <td>2014-01-05</td>\n",
              "      <td>1388880000</td>\n",
              "      <td>0</td>\n",
              "      <td>0.6</td>\n",
              "      <td>0.6</td>\n",
              "      <td>0.8</td>\n",
              "      <td>0.8</td>\n",
              "      <td>0.3</td>\n",
              "      <td>0.3</td>\n",
              "      <td>...</td>\n",
              "      <td>0.5</td>\n",
              "      <td>0.7</td>\n",
              "      <td>0.5</td>\n",
              "      <td>0.3</td>\n",
              "      <td>0.2</td>\n",
              "      <td>0.2</td>\n",
              "      <td>0.2</td>\n",
              "      <td>0.1</td>\n",
              "      <td>0.1</td>\n",
              "      <td>NaN</td>\n",
              "    </tr>\n",
              "    <tr>\n",
              "      <th>...</th>\n",
              "      <td>...</td>\n",
              "      <td>...</td>\n",
              "      <td>...</td>\n",
              "      <td>...</td>\n",
              "      <td>...</td>\n",
              "      <td>...</td>\n",
              "      <td>...</td>\n",
              "      <td>...</td>\n",
              "      <td>...</td>\n",
              "      <td>...</td>\n",
              "      <td>...</td>\n",
              "      <td>...</td>\n",
              "      <td>...</td>\n",
              "      <td>...</td>\n",
              "      <td>...</td>\n",
              "      <td>...</td>\n",
              "      <td>...</td>\n",
              "      <td>...</td>\n",
              "      <td>...</td>\n",
              "      <td>...</td>\n",
              "      <td>...</td>\n",
              "    </tr>\n",
              "    <tr>\n",
              "      <th>4276</th>\n",
              "      <td>T0071</td>\n",
              "      <td>2017-09-16</td>\n",
              "      <td>1505520000</td>\n",
              "      <td>0</td>\n",
              "      <td>0.8</td>\n",
              "      <td>0.1</td>\n",
              "      <td>0.2</td>\n",
              "      <td>0.3</td>\n",
              "      <td>0.3</td>\n",
              "      <td>0.5</td>\n",
              "      <td>...</td>\n",
              "      <td>0.3</td>\n",
              "      <td>0.7</td>\n",
              "      <td>0.8</td>\n",
              "      <td>0.6</td>\n",
              "      <td>0.2</td>\n",
              "      <td>0.7</td>\n",
              "      <td>0.2</td>\n",
              "      <td>0.0</td>\n",
              "      <td>0.0</td>\n",
              "      <td>NaN</td>\n",
              "    </tr>\n",
              "    <tr>\n",
              "      <th>4277</th>\n",
              "      <td>T0071</td>\n",
              "      <td>2017-09-17</td>\n",
              "      <td>1505606400</td>\n",
              "      <td>0</td>\n",
              "      <td>0.8</td>\n",
              "      <td>0.4</td>\n",
              "      <td>0.3</td>\n",
              "      <td>0.5</td>\n",
              "      <td>1.0</td>\n",
              "      <td>0.4</td>\n",
              "      <td>...</td>\n",
              "      <td>1.0</td>\n",
              "      <td>0.7</td>\n",
              "      <td>0.8</td>\n",
              "      <td>1.2</td>\n",
              "      <td>0.9</td>\n",
              "      <td>0.8</td>\n",
              "      <td>0.6</td>\n",
              "      <td>0.2</td>\n",
              "      <td>0.0</td>\n",
              "      <td>NaN</td>\n",
              "    </tr>\n",
              "    <tr>\n",
              "      <th>4278</th>\n",
              "      <td>T0071</td>\n",
              "      <td>2017-09-18</td>\n",
              "      <td>1505692800</td>\n",
              "      <td>0</td>\n",
              "      <td>0.4</td>\n",
              "      <td>0.5</td>\n",
              "      <td>0.7</td>\n",
              "      <td>0.6</td>\n",
              "      <td>0.3</td>\n",
              "      <td>0.3</td>\n",
              "      <td>...</td>\n",
              "      <td>0.5</td>\n",
              "      <td>0.8</td>\n",
              "      <td>0.6</td>\n",
              "      <td>0.6</td>\n",
              "      <td>0.7</td>\n",
              "      <td>0.6</td>\n",
              "      <td>0.2</td>\n",
              "      <td>0.6</td>\n",
              "      <td>NaN</td>\n",
              "      <td>NaN</td>\n",
              "    </tr>\n",
              "    <tr>\n",
              "      <th>4279</th>\n",
              "      <td>T0071</td>\n",
              "      <td>2017-09-19</td>\n",
              "      <td>1505779200</td>\n",
              "      <td>0</td>\n",
              "      <td>0.4</td>\n",
              "      <td>0.7</td>\n",
              "      <td>0.4</td>\n",
              "      <td>0.8</td>\n",
              "      <td>0.7</td>\n",
              "      <td>0.8</td>\n",
              "      <td>...</td>\n",
              "      <td>0.5</td>\n",
              "      <td>0.9</td>\n",
              "      <td>0.8</td>\n",
              "      <td>1.3</td>\n",
              "      <td>1.4</td>\n",
              "      <td>0.2</td>\n",
              "      <td>0.8</td>\n",
              "      <td>1.2</td>\n",
              "      <td>0.6</td>\n",
              "      <td>NaN</td>\n",
              "    </tr>\n",
              "    <tr>\n",
              "      <th>4280</th>\n",
              "      <td>T0071</td>\n",
              "      <td>2017-09-20</td>\n",
              "      <td>1505865600</td>\n",
              "      <td>0</td>\n",
              "      <td>0.4</td>\n",
              "      <td>0.5</td>\n",
              "      <td>1.0</td>\n",
              "      <td>1.2</td>\n",
              "      <td>1.1</td>\n",
              "      <td>1.5</td>\n",
              "      <td>...</td>\n",
              "      <td>1.1</td>\n",
              "      <td>1.0</td>\n",
              "      <td>1.2</td>\n",
              "      <td>1.1</td>\n",
              "      <td>0.8</td>\n",
              "      <td>0.9</td>\n",
              "      <td>1.0</td>\n",
              "      <td>1.0</td>\n",
              "      <td>0.8</td>\n",
              "      <td>NaN</td>\n",
              "    </tr>\n",
              "  </tbody>\n",
              "</table>\n",
              "<p>2132 rows × 149 columns</p>\n",
              "</div>"
            ],
            "text/plain": [
              "      label in_datetime  in_datetime_int  val_label    0    1    2    3    4  \\\n",
              "0     T0010  2014-01-01       1388534400          0  0.2  0.5  0.2  0.2  0.1   \n",
              "1     T0010  2014-01-02       1388620800          0  0.4  0.5  0.4  0.5  0.4   \n",
              "2     T0010  2014-01-03       1388707200          0  0.2  0.1  0.1  0.0  0.0   \n",
              "3     T0010  2014-01-04       1388793600          0  0.2  0.2  0.3  0.4  0.1   \n",
              "4     T0010  2014-01-05       1388880000          0  0.6  0.6  0.8  0.8  0.3   \n",
              "...     ...         ...              ...        ...  ...  ...  ...  ...  ...   \n",
              "4276  T0071  2017-09-16       1505520000          0  0.8  0.1  0.2  0.3  0.3   \n",
              "4277  T0071  2017-09-17       1505606400          0  0.8  0.4  0.3  0.5  1.0   \n",
              "4278  T0071  2017-09-18       1505692800          0  0.4  0.5  0.7  0.6  0.3   \n",
              "4279  T0071  2017-09-19       1505779200          0  0.4  0.7  0.4  0.8  0.7   \n",
              "4280  T0071  2017-09-20       1505865600          0  0.4  0.5  1.0  1.2  1.1   \n",
              "\n",
              "        5  ...  135  136  137  138  139  140  141  142  143  144  \n",
              "0     0.0  ...  0.2  0.3  0.1  0.3  0.4  0.3  0.1  0.4  0.3  NaN  \n",
              "1     0.4  ...  0.2  0.2  0.2  0.1  0.2  0.0  0.0  0.2  0.4  NaN  \n",
              "2     0.2  ...  0.1  0.4  0.4  0.5  0.3  0.3  0.3  0.3  0.4  NaN  \n",
              "3     0.0  ...  0.7  0.8  0.6  0.8  0.9  0.4  0.6  0.4  0.7  NaN  \n",
              "4     0.3  ...  0.5  0.7  0.5  0.3  0.2  0.2  0.2  0.1  0.1  NaN  \n",
              "...   ...  ...  ...  ...  ...  ...  ...  ...  ...  ...  ...  ...  \n",
              "4276  0.5  ...  0.3  0.7  0.8  0.6  0.2  0.7  0.2  0.0  0.0  NaN  \n",
              "4277  0.4  ...  1.0  0.7  0.8  1.2  0.9  0.8  0.6  0.2  0.0  NaN  \n",
              "4278  0.3  ...  0.5  0.8  0.6  0.6  0.7  0.6  0.2  0.6  NaN  NaN  \n",
              "4279  0.8  ...  0.5  0.9  0.8  1.3  1.4  0.2  0.8  1.2  0.6  NaN  \n",
              "4280  1.5  ...  1.1  1.0  1.2  1.1  0.8  0.9  1.0  1.0  0.8  NaN  \n",
              "\n",
              "[2132 rows x 149 columns]"
            ]
          },
          "execution_count": 67,
          "metadata": {},
          "output_type": "execute_result"
        }
      ],
      "source": [
        "df_row_data_converted.loc[df_row_data_converted['val_label']==0]"
      ]
    },
    {
      "cell_type": "code",
      "execution_count": null,
      "metadata": {
        "id": "y1JJEnKdd-67"
      },
      "outputs": [],
      "source": [
        "import torch\n",
        "# create pythorc class for the data\n",
        "\n",
        "class CustomDataset(Dataset):\n",
        "  def __init__(self, df, transform = None, target_transform = None):\n",
        "    self.features = torch.FloatTensor(df.drop(['label','in_datetime','in_datetime_int','val_label'],axis=1).values)\n",
        "    ### standardize the data\n",
        "    mean, std= torch.mean(self.features,0), torch.std(self.features,0)\n",
        "    self.features = (self.features-mean)/std\n",
        "\n",
        "    self.label = df['label'].values\n",
        "    self.in_datetime = df['in_datetime'].values\n",
        "    self.in_datetime_int = df['in_datetime_int'].values\n",
        "    self.val_label = df['val_label'].values\n",
        "    self.transform = transform\n",
        "    self.target_transform = target_transform\n",
        "\n",
        "  def __len__(self):\n",
        "    return len(self.label)\n",
        "\n",
        "  def __getitem__(self, idx):\n",
        "    features = self.features[idx]\n",
        "    label = self.label[idx]\n",
        "    date = self.in_datetime[idx]\n",
        "    val_label = self.val_label[idx]\n",
        "    return {\"label\": label, \"features\": features, \"val_label\":val_label, \"date\":date}\n"
      ]
    },
    {
      "cell_type": "code",
      "execution_count": null,
      "metadata": {
        "id": "0O9aZkGqryYP"
      },
      "outputs": [],
      "source": [
        "# define the dataset and split in train and test\n",
        "splits = ['train','test']\n",
        "shuffle = {'train':True,'test':False}\n",
        "dataset = {}\n",
        "\n",
        "df_row_data_converted = df_row_data_converted.drop([144],axis=1)\n",
        "df_row_data_converted = df_row_data_converted.dropna().reset_index(drop=True)\n",
        "\n",
        "good_samples = df_row_data_converted.loc[df_row_data_converted['val_label']==0]\n",
        "bad_samples = df_row_data_converted.loc[df_row_data_converted['val_label']==1]\n",
        "# Test dataframe is made of all bad samples plus an equal number of good ones\n",
        "# test_part_good = good_samples.sample(n = len(bad_samples))\n",
        "# test = pd.concat([test_part_good, bad_samples], axis = 0)\n",
        "test = bad_samples\n",
        "\n",
        "# Train dataframe is made of all good samples \n",
        "# train = good_samples.drop(test_part_good.index)\n",
        "train = good_samples\n",
        "\n",
        "dataset['train'] = CustomDataset(train)\n",
        "dataset['test'] = CustomDataset( test )\n",
        "b_size = {'train':12,'test':len(dataset['test'])}\n",
        "\n",
        "dataloader = {x: torch.utils.data.DataLoader(dataset=dataset[x],\n",
        "                                            batch_size=b_size[x],\n",
        "                                            shuffle=shuffle[x],\n",
        "                                            collate_fn=lambda x: x)\n",
        "                                            #num_workers=int(opt.workers),\n",
        "                                            #drop_last=drop_last_batch[x],\n",
        "                                            #worker_init_fn=(None if opt.manualseed == -1\n",
        "                                            #else lambda x: np.random.seed(opt.manualseed)))\n",
        "            for x in splits}\n",
        "\n",
        "\n"
      ]
    },
    {
      "cell_type": "code",
      "execution_count": null,
      "metadata": {
        "id": "ne79lkBPYCAv",
        "outputId": "4f895d83-faaa-445d-d99a-66efdc53b750"
      },
      "outputs": [
        {
          "name": "stdout",
          "output_type": "stream",
          "text": [
            ">> Training model AE_1D.\n"
          ]
        },
        {
          "name": "stderr",
          "output_type": "stream",
          "text": [
            "100%|██████████| 163/163 [00:00<00:00, 405.69it/s]\n"
          ]
        },
        {
          "name": "stdout",
          "output_type": "stream",
          "text": [
            ">> Training model AE_1D. Epoch 1/100\n",
            ">> Training loss: 1.7982332706451416\n",
            ">> Validation loss: 1.093491554260254\n"
          ]
        },
        {
          "name": "stderr",
          "output_type": "stream",
          "text": [
            "100%|██████████| 163/163 [00:00<00:00, 416.30it/s]\n"
          ]
        },
        {
          "name": "stdout",
          "output_type": "stream",
          "text": [
            ">> Training model AE_1D. Epoch 2/100\n",
            ">> Training loss: 0.8503598570823669\n",
            ">> Validation loss: 1.0162975788116455\n"
          ]
        },
        {
          "name": "stderr",
          "output_type": "stream",
          "text": [
            "100%|██████████| 163/163 [00:00<00:00, 432.68it/s]\n"
          ]
        },
        {
          "name": "stdout",
          "output_type": "stream",
          "text": [
            ">> Training model AE_1D. Epoch 3/100\n",
            ">> Training loss: 1.2220864295959473\n",
            ">> Validation loss: 0.9257073998451233\n"
          ]
        },
        {
          "name": "stderr",
          "output_type": "stream",
          "text": [
            "100%|██████████| 163/163 [00:00<00:00, 428.10it/s]\n"
          ]
        },
        {
          "name": "stdout",
          "output_type": "stream",
          "text": [
            ">> Training model AE_1D. Epoch 4/100\n",
            ">> Training loss: 0.9171295166015625\n",
            ">> Validation loss: 0.811332106590271\n"
          ]
        },
        {
          "name": "stderr",
          "output_type": "stream",
          "text": [
            "100%|██████████| 163/163 [00:00<00:00, 436.11it/s]\n"
          ]
        },
        {
          "name": "stdout",
          "output_type": "stream",
          "text": [
            ">> Training model AE_1D. Epoch 5/100\n",
            ">> Training loss: 0.42146649956703186\n",
            ">> Validation loss: 0.671506404876709\n"
          ]
        },
        {
          "name": "stderr",
          "output_type": "stream",
          "text": [
            "100%|██████████| 163/163 [00:00<00:00, 422.68it/s]\n"
          ]
        },
        {
          "name": "stdout",
          "output_type": "stream",
          "text": [
            ">> Training model AE_1D. Epoch 6/100\n",
            ">> Training loss: 0.6691257953643799\n",
            ">> Validation loss: 0.5318013429641724\n"
          ]
        },
        {
          "name": "stderr",
          "output_type": "stream",
          "text": [
            "100%|██████████| 163/163 [00:00<00:00, 417.09it/s]\n"
          ]
        },
        {
          "name": "stdout",
          "output_type": "stream",
          "text": [
            ">> Training model AE_1D. Epoch 7/100\n",
            ">> Training loss: 0.7862608432769775\n",
            ">> Validation loss: 0.43347010016441345\n"
          ]
        },
        {
          "name": "stderr",
          "output_type": "stream",
          "text": [
            "100%|██████████| 163/163 [00:00<00:00, 446.76it/s]\n"
          ]
        },
        {
          "name": "stdout",
          "output_type": "stream",
          "text": [
            ">> Training model AE_1D. Epoch 8/100\n",
            ">> Training loss: 0.4099947214126587\n",
            ">> Validation loss: 0.3809879720211029\n"
          ]
        },
        {
          "name": "stderr",
          "output_type": "stream",
          "text": [
            "100%|██████████| 163/163 [00:00<00:00, 437.62it/s]\n"
          ]
        },
        {
          "name": "stdout",
          "output_type": "stream",
          "text": [
            ">> Training model AE_1D. Epoch 9/100\n",
            ">> Training loss: 0.45103660225868225\n",
            ">> Validation loss: 0.35164743661880493\n"
          ]
        },
        {
          "name": "stderr",
          "output_type": "stream",
          "text": [
            "100%|██████████| 163/163 [00:00<00:00, 405.17it/s]\n"
          ]
        },
        {
          "name": "stdout",
          "output_type": "stream",
          "text": [
            ">> Training model AE_1D. Epoch 10/100\n",
            ">> Training loss: 0.5653296709060669\n",
            ">> Validation loss: 0.33239173889160156\n"
          ]
        },
        {
          "name": "stderr",
          "output_type": "stream",
          "text": [
            "100%|██████████| 163/163 [00:00<00:00, 433.01it/s]\n"
          ]
        },
        {
          "name": "stdout",
          "output_type": "stream",
          "text": [
            ">> Training model AE_1D. Epoch 11/100\n",
            ">> Training loss: 0.2678948640823364\n",
            ">> Validation loss: 0.3173338770866394\n"
          ]
        },
        {
          "name": "stderr",
          "output_type": "stream",
          "text": [
            "100%|██████████| 163/163 [00:00<00:00, 456.20it/s]\n"
          ]
        },
        {
          "name": "stdout",
          "output_type": "stream",
          "text": [
            ">> Training model AE_1D. Epoch 12/100\n",
            ">> Training loss: 0.33407142758369446\n",
            ">> Validation loss: 0.30338725447654724\n"
          ]
        },
        {
          "name": "stderr",
          "output_type": "stream",
          "text": [
            "100%|██████████| 163/163 [00:00<00:00, 428.09it/s]\n"
          ]
        },
        {
          "name": "stdout",
          "output_type": "stream",
          "text": [
            ">> Training model AE_1D. Epoch 13/100\n",
            ">> Training loss: 0.5904824733734131\n",
            ">> Validation loss: 0.28990912437438965\n"
          ]
        },
        {
          "name": "stderr",
          "output_type": "stream",
          "text": [
            "100%|██████████| 163/163 [00:00<00:00, 399.97it/s]\n"
          ]
        },
        {
          "name": "stdout",
          "output_type": "stream",
          "text": [
            ">> Training model AE_1D. Epoch 14/100\n",
            ">> Training loss: 0.613396406173706\n",
            ">> Validation loss: 0.27605295181274414\n"
          ]
        },
        {
          "name": "stderr",
          "output_type": "stream",
          "text": [
            "100%|██████████| 163/163 [00:00<00:00, 391.35it/s]\n"
          ]
        },
        {
          "name": "stdout",
          "output_type": "stream",
          "text": [
            ">> Training model AE_1D. Epoch 15/100\n",
            ">> Training loss: 0.28461799025535583\n",
            ">> Validation loss: 0.2617616355419159\n"
          ]
        },
        {
          "name": "stderr",
          "output_type": "stream",
          "text": [
            "100%|██████████| 163/163 [00:00<00:00, 384.69it/s]\n"
          ]
        },
        {
          "name": "stdout",
          "output_type": "stream",
          "text": [
            ">> Training model AE_1D. Epoch 16/100\n",
            ">> Training loss: 0.3556612730026245\n",
            ">> Validation loss: 0.24704551696777344\n"
          ]
        },
        {
          "name": "stderr",
          "output_type": "stream",
          "text": [
            "100%|██████████| 163/163 [00:00<00:00, 334.59it/s]\n"
          ]
        },
        {
          "name": "stdout",
          "output_type": "stream",
          "text": [
            ">> Training model AE_1D. Epoch 17/100\n",
            ">> Training loss: 0.22527077794075012\n",
            ">> Validation loss: 0.23244886100292206\n"
          ]
        },
        {
          "name": "stderr",
          "output_type": "stream",
          "text": [
            "100%|██████████| 163/163 [00:00<00:00, 309.74it/s]\n"
          ]
        },
        {
          "name": "stdout",
          "output_type": "stream",
          "text": [
            ">> Training model AE_1D. Epoch 18/100\n",
            ">> Training loss: 0.4413720369338989\n",
            ">> Validation loss: 0.21730922162532806\n"
          ]
        },
        {
          "name": "stderr",
          "output_type": "stream",
          "text": [
            "100%|██████████| 163/163 [00:00<00:00, 400.19it/s]\n"
          ]
        },
        {
          "name": "stdout",
          "output_type": "stream",
          "text": [
            ">> Training model AE_1D. Epoch 19/100\n",
            ">> Training loss: 0.24315465986728668\n",
            ">> Validation loss: 0.20281431078910828\n"
          ]
        },
        {
          "name": "stderr",
          "output_type": "stream",
          "text": [
            "100%|██████████| 163/163 [00:00<00:00, 387.61it/s]\n"
          ]
        },
        {
          "name": "stdout",
          "output_type": "stream",
          "text": [
            ">> Training model AE_1D. Epoch 20/100\n",
            ">> Training loss: 0.5162479877471924\n",
            ">> Validation loss: 0.18890027701854706\n"
          ]
        },
        {
          "name": "stderr",
          "output_type": "stream",
          "text": [
            "100%|██████████| 163/163 [00:00<00:00, 376.08it/s]\n"
          ]
        },
        {
          "name": "stdout",
          "output_type": "stream",
          "text": [
            ">> Training model AE_1D. Epoch 21/100\n",
            ">> Training loss: 0.1557718962430954\n",
            ">> Validation loss: 0.17608974874019623\n"
          ]
        },
        {
          "name": "stderr",
          "output_type": "stream",
          "text": [
            "100%|██████████| 163/163 [00:00<00:00, 372.82it/s]\n"
          ]
        },
        {
          "name": "stdout",
          "output_type": "stream",
          "text": [
            ">> Training model AE_1D. Epoch 22/100\n",
            ">> Training loss: 0.27854469418525696\n",
            ">> Validation loss: 0.16455508768558502\n"
          ]
        },
        {
          "name": "stderr",
          "output_type": "stream",
          "text": [
            "100%|██████████| 163/163 [00:00<00:00, 397.36it/s]\n"
          ]
        },
        {
          "name": "stdout",
          "output_type": "stream",
          "text": [
            ">> Training model AE_1D. Epoch 23/100\n",
            ">> Training loss: 0.23846660554409027\n",
            ">> Validation loss: 0.15448696911334991\n"
          ]
        },
        {
          "name": "stderr",
          "output_type": "stream",
          "text": [
            "100%|██████████| 163/163 [00:00<00:00, 423.83it/s]\n"
          ]
        },
        {
          "name": "stdout",
          "output_type": "stream",
          "text": [
            ">> Training model AE_1D. Epoch 24/100\n",
            ">> Training loss: 0.13399916887283325\n",
            ">> Validation loss: 0.14602819085121155\n"
          ]
        },
        {
          "name": "stderr",
          "output_type": "stream",
          "text": [
            "100%|██████████| 163/163 [00:00<00:00, 401.88it/s]\n"
          ]
        },
        {
          "name": "stdout",
          "output_type": "stream",
          "text": [
            ">> Training model AE_1D. Epoch 25/100\n",
            ">> Training loss: 0.14148542284965515\n",
            ">> Validation loss: 0.138818621635437\n"
          ]
        },
        {
          "name": "stderr",
          "output_type": "stream",
          "text": [
            "100%|██████████| 163/163 [00:00<00:00, 420.48it/s]\n"
          ]
        },
        {
          "name": "stdout",
          "output_type": "stream",
          "text": [
            ">> Training model AE_1D. Epoch 26/100\n",
            ">> Training loss: 0.1588069051504135\n",
            ">> Validation loss: 0.1329067498445511\n"
          ]
        },
        {
          "name": "stderr",
          "output_type": "stream",
          "text": [
            "100%|██████████| 163/163 [00:00<00:00, 440.14it/s]\n"
          ]
        },
        {
          "name": "stdout",
          "output_type": "stream",
          "text": [
            ">> Training model AE_1D. Epoch 27/100\n",
            ">> Training loss: 0.2839958965778351\n",
            ">> Validation loss: 0.12773370742797852\n"
          ]
        },
        {
          "name": "stderr",
          "output_type": "stream",
          "text": [
            "100%|██████████| 163/163 [00:00<00:00, 392.65it/s]\n"
          ]
        },
        {
          "name": "stdout",
          "output_type": "stream",
          "text": [
            ">> Training model AE_1D. Epoch 28/100\n",
            ">> Training loss: 0.12034617364406586\n",
            ">> Validation loss: 0.1235557273030281\n"
          ]
        },
        {
          "name": "stderr",
          "output_type": "stream",
          "text": [
            "100%|██████████| 163/163 [00:00<00:00, 389.53it/s]\n"
          ]
        },
        {
          "name": "stdout",
          "output_type": "stream",
          "text": [
            ">> Training model AE_1D. Epoch 29/100\n",
            ">> Training loss: 0.2081461101770401\n",
            ">> Validation loss: 0.11949293315410614\n"
          ]
        },
        {
          "name": "stderr",
          "output_type": "stream",
          "text": [
            "100%|██████████| 163/163 [00:00<00:00, 408.59it/s]\n"
          ]
        },
        {
          "name": "stdout",
          "output_type": "stream",
          "text": [
            ">> Training model AE_1D. Epoch 30/100\n",
            ">> Training loss: 0.20270875096321106\n",
            ">> Validation loss: 0.11605771631002426\n"
          ]
        },
        {
          "name": "stderr",
          "output_type": "stream",
          "text": [
            "100%|██████████| 163/163 [00:00<00:00, 363.63it/s]\n"
          ]
        },
        {
          "name": "stdout",
          "output_type": "stream",
          "text": [
            ">> Training model AE_1D. Epoch 31/100\n",
            ">> Training loss: 0.08604387193918228\n",
            ">> Validation loss: 0.11305491626262665\n"
          ]
        },
        {
          "name": "stderr",
          "output_type": "stream",
          "text": [
            "100%|██████████| 163/163 [00:00<00:00, 420.57it/s]\n"
          ]
        },
        {
          "name": "stdout",
          "output_type": "stream",
          "text": [
            ">> Training model AE_1D. Epoch 32/100\n",
            ">> Training loss: 0.10571328550577164\n",
            ">> Validation loss: 0.11001093685626984\n"
          ]
        },
        {
          "name": "stderr",
          "output_type": "stream",
          "text": [
            "100%|██████████| 163/163 [00:00<00:00, 403.97it/s]\n"
          ]
        },
        {
          "name": "stdout",
          "output_type": "stream",
          "text": [
            ">> Training model AE_1D. Epoch 33/100\n",
            ">> Training loss: 0.37809550762176514\n",
            ">> Validation loss: 0.10750972479581833\n"
          ]
        },
        {
          "name": "stderr",
          "output_type": "stream",
          "text": [
            "100%|██████████| 163/163 [00:00<00:00, 422.73it/s]\n"
          ]
        },
        {
          "name": "stdout",
          "output_type": "stream",
          "text": [
            ">> Training model AE_1D. Epoch 34/100\n",
            ">> Training loss: 0.14251963794231415\n",
            ">> Validation loss: 0.10488934069871902\n"
          ]
        },
        {
          "name": "stderr",
          "output_type": "stream",
          "text": [
            "100%|██████████| 163/163 [00:00<00:00, 424.57it/s]\n"
          ]
        },
        {
          "name": "stdout",
          "output_type": "stream",
          "text": [
            ">> Training model AE_1D. Epoch 35/100\n",
            ">> Training loss: 0.2158907800912857\n",
            ">> Validation loss: 0.10236114263534546\n"
          ]
        },
        {
          "name": "stderr",
          "output_type": "stream",
          "text": [
            "100%|██████████| 163/163 [00:00<00:00, 414.25it/s]\n"
          ]
        },
        {
          "name": "stdout",
          "output_type": "stream",
          "text": [
            ">> Training model AE_1D. Epoch 36/100\n",
            ">> Training loss: 0.15976683795452118\n",
            ">> Validation loss: 0.09972026944160461\n"
          ]
        },
        {
          "name": "stderr",
          "output_type": "stream",
          "text": [
            "100%|██████████| 163/163 [00:00<00:00, 434.58it/s]\n"
          ]
        },
        {
          "name": "stdout",
          "output_type": "stream",
          "text": [
            ">> Training model AE_1D. Epoch 37/100\n",
            ">> Training loss: 0.13695794343948364\n",
            ">> Validation loss: 0.09778935462236404\n"
          ]
        },
        {
          "name": "stderr",
          "output_type": "stream",
          "text": [
            "100%|██████████| 163/163 [00:00<00:00, 422.88it/s]\n"
          ]
        },
        {
          "name": "stdout",
          "output_type": "stream",
          "text": [
            ">> Training model AE_1D. Epoch 38/100\n",
            ">> Training loss: 0.08328943699598312\n",
            ">> Validation loss: 0.09575418382883072\n"
          ]
        },
        {
          "name": "stderr",
          "output_type": "stream",
          "text": [
            "100%|██████████| 163/163 [00:00<00:00, 446.71it/s]\n"
          ]
        },
        {
          "name": "stdout",
          "output_type": "stream",
          "text": [
            ">> Training model AE_1D. Epoch 39/100\n",
            ">> Training loss: 0.22642938792705536\n",
            ">> Validation loss: 0.09343728423118591\n"
          ]
        },
        {
          "name": "stderr",
          "output_type": "stream",
          "text": [
            "100%|██████████| 163/163 [00:00<00:00, 433.40it/s]\n"
          ]
        },
        {
          "name": "stdout",
          "output_type": "stream",
          "text": [
            ">> Training model AE_1D. Epoch 40/100\n",
            ">> Training loss: 0.23737947642803192\n",
            ">> Validation loss: 0.09155452251434326\n"
          ]
        },
        {
          "name": "stderr",
          "output_type": "stream",
          "text": [
            "100%|██████████| 163/163 [00:00<00:00, 349.73it/s]\n"
          ]
        },
        {
          "name": "stdout",
          "output_type": "stream",
          "text": [
            ">> Training model AE_1D. Epoch 41/100\n",
            ">> Training loss: 0.12615063786506653\n",
            ">> Validation loss: 0.08965565264225006\n"
          ]
        },
        {
          "name": "stderr",
          "output_type": "stream",
          "text": [
            "100%|██████████| 163/163 [00:00<00:00, 445.62it/s]\n"
          ]
        },
        {
          "name": "stdout",
          "output_type": "stream",
          "text": [
            ">> Training model AE_1D. Epoch 42/100\n",
            ">> Training loss: 0.10920466482639313\n",
            ">> Validation loss: 0.08727724105119705\n"
          ]
        },
        {
          "name": "stderr",
          "output_type": "stream",
          "text": [
            "100%|██████████| 163/163 [00:00<00:00, 433.76it/s]\n"
          ]
        },
        {
          "name": "stdout",
          "output_type": "stream",
          "text": [
            ">> Training model AE_1D. Epoch 43/100\n",
            ">> Training loss: 0.2488766312599182\n",
            ">> Validation loss: 0.08546753972768784\n"
          ]
        },
        {
          "name": "stderr",
          "output_type": "stream",
          "text": [
            "100%|██████████| 163/163 [00:00<00:00, 446.40it/s]\n"
          ]
        },
        {
          "name": "stdout",
          "output_type": "stream",
          "text": [
            ">> Training model AE_1D. Epoch 44/100\n",
            ">> Training loss: 0.17616915702819824\n",
            ">> Validation loss: 0.08381840586662292\n"
          ]
        },
        {
          "name": "stderr",
          "output_type": "stream",
          "text": [
            "100%|██████████| 163/163 [00:00<00:00, 411.67it/s]\n"
          ]
        },
        {
          "name": "stdout",
          "output_type": "stream",
          "text": [
            ">> Training model AE_1D. Epoch 45/100\n",
            ">> Training loss: 0.04349435493350029\n",
            ">> Validation loss: 0.08196205645799637\n"
          ]
        },
        {
          "name": "stderr",
          "output_type": "stream",
          "text": [
            "100%|██████████| 163/163 [00:00<00:00, 433.99it/s]\n"
          ]
        },
        {
          "name": "stdout",
          "output_type": "stream",
          "text": [
            ">> Training model AE_1D. Epoch 46/100\n",
            ">> Training loss: 0.2234448790550232\n",
            ">> Validation loss: 0.08006070554256439\n"
          ]
        },
        {
          "name": "stderr",
          "output_type": "stream",
          "text": [
            "100%|██████████| 163/163 [00:00<00:00, 395.00it/s]\n"
          ]
        },
        {
          "name": "stdout",
          "output_type": "stream",
          "text": [
            ">> Training model AE_1D. Epoch 47/100\n",
            ">> Training loss: 0.1797812283039093\n",
            ">> Validation loss: 0.07824360579252243\n"
          ]
        },
        {
          "name": "stderr",
          "output_type": "stream",
          "text": [
            "100%|██████████| 163/163 [00:00<00:00, 413.58it/s]\n"
          ]
        },
        {
          "name": "stdout",
          "output_type": "stream",
          "text": [
            ">> Training model AE_1D. Epoch 48/100\n",
            ">> Training loss: 0.09102858603000641\n",
            ">> Validation loss: 0.0765739157795906\n"
          ]
        },
        {
          "name": "stderr",
          "output_type": "stream",
          "text": [
            "100%|██████████| 163/163 [00:00<00:00, 436.71it/s]\n"
          ]
        },
        {
          "name": "stdout",
          "output_type": "stream",
          "text": [
            ">> Training model AE_1D. Epoch 49/100\n",
            ">> Training loss: 0.12522463500499725\n",
            ">> Validation loss: 0.07502913475036621\n"
          ]
        },
        {
          "name": "stderr",
          "output_type": "stream",
          "text": [
            "100%|██████████| 163/163 [00:00<00:00, 382.25it/s]\n"
          ]
        },
        {
          "name": "stdout",
          "output_type": "stream",
          "text": [
            ">> Training model AE_1D. Epoch 50/100\n",
            ">> Training loss: 0.2504199743270874\n",
            ">> Validation loss: 0.07338757812976837\n"
          ]
        },
        {
          "name": "stderr",
          "output_type": "stream",
          "text": [
            "100%|██████████| 163/163 [00:00<00:00, 356.34it/s]\n"
          ]
        },
        {
          "name": "stdout",
          "output_type": "stream",
          "text": [
            ">> Training model AE_1D. Epoch 51/100\n",
            ">> Training loss: 0.6154983043670654\n",
            ">> Validation loss: 0.07172505557537079\n"
          ]
        },
        {
          "name": "stderr",
          "output_type": "stream",
          "text": [
            "100%|██████████| 163/163 [00:00<00:00, 400.97it/s]\n"
          ]
        },
        {
          "name": "stdout",
          "output_type": "stream",
          "text": [
            ">> Training model AE_1D. Epoch 52/100\n",
            ">> Training loss: 0.14040222764015198\n",
            ">> Validation loss: 0.07010240107774734\n"
          ]
        },
        {
          "name": "stderr",
          "output_type": "stream",
          "text": [
            "100%|██████████| 163/163 [00:00<00:00, 416.07it/s]\n"
          ]
        },
        {
          "name": "stdout",
          "output_type": "stream",
          "text": [
            ">> Training model AE_1D. Epoch 53/100\n",
            ">> Training loss: 0.0778990089893341\n",
            ">> Validation loss: 0.068527951836586\n"
          ]
        },
        {
          "name": "stderr",
          "output_type": "stream",
          "text": [
            "100%|██████████| 163/163 [00:00<00:00, 408.89it/s]\n"
          ]
        },
        {
          "name": "stdout",
          "output_type": "stream",
          "text": [
            ">> Training model AE_1D. Epoch 54/100\n",
            ">> Training loss: 0.0629950761795044\n",
            ">> Validation loss: 0.06710836291313171\n"
          ]
        },
        {
          "name": "stderr",
          "output_type": "stream",
          "text": [
            "100%|██████████| 163/163 [00:00<00:00, 414.85it/s]\n"
          ]
        },
        {
          "name": "stdout",
          "output_type": "stream",
          "text": [
            ">> Training model AE_1D. Epoch 55/100\n",
            ">> Training loss: 0.05103233829140663\n",
            ">> Validation loss: 0.06546180695295334\n"
          ]
        },
        {
          "name": "stderr",
          "output_type": "stream",
          "text": [
            "100%|██████████| 163/163 [00:00<00:00, 421.27it/s]\n"
          ]
        },
        {
          "name": "stdout",
          "output_type": "stream",
          "text": [
            ">> Training model AE_1D. Epoch 56/100\n",
            ">> Training loss: 0.06626072525978088\n",
            ">> Validation loss: 0.06394219398498535\n"
          ]
        },
        {
          "name": "stderr",
          "output_type": "stream",
          "text": [
            "100%|██████████| 163/163 [00:00<00:00, 424.17it/s]\n"
          ]
        },
        {
          "name": "stdout",
          "output_type": "stream",
          "text": [
            ">> Training model AE_1D. Epoch 57/100\n",
            ">> Training loss: 0.037870850414037704\n",
            ">> Validation loss: 0.062472909688949585\n"
          ]
        },
        {
          "name": "stderr",
          "output_type": "stream",
          "text": [
            "100%|██████████| 163/163 [00:00<00:00, 429.48it/s]\n"
          ]
        },
        {
          "name": "stdout",
          "output_type": "stream",
          "text": [
            ">> Training model AE_1D. Epoch 58/100\n",
            ">> Training loss: 0.08104467391967773\n",
            ">> Validation loss: 0.06087397411465645\n"
          ]
        },
        {
          "name": "stderr",
          "output_type": "stream",
          "text": [
            "100%|██████████| 163/163 [00:00<00:00, 343.54it/s]\n"
          ]
        },
        {
          "name": "stdout",
          "output_type": "stream",
          "text": [
            ">> Training model AE_1D. Epoch 59/100\n",
            ">> Training loss: 0.08583319187164307\n",
            ">> Validation loss: 0.059367433190345764\n"
          ]
        },
        {
          "name": "stderr",
          "output_type": "stream",
          "text": [
            "100%|██████████| 163/163 [00:00<00:00, 401.64it/s]\n"
          ]
        },
        {
          "name": "stdout",
          "output_type": "stream",
          "text": [
            ">> Training model AE_1D. Epoch 60/100\n",
            ">> Training loss: 0.049094147980213165\n",
            ">> Validation loss: 0.05802203714847565\n"
          ]
        },
        {
          "name": "stderr",
          "output_type": "stream",
          "text": [
            "100%|██████████| 163/163 [00:00<00:00, 431.63it/s]\n"
          ]
        },
        {
          "name": "stdout",
          "output_type": "stream",
          "text": [
            ">> Training model AE_1D. Epoch 61/100\n",
            ">> Training loss: 0.038643889129161835\n",
            ">> Validation loss: 0.05652175471186638\n"
          ]
        },
        {
          "name": "stderr",
          "output_type": "stream",
          "text": [
            "100%|██████████| 163/163 [00:00<00:00, 412.59it/s]\n"
          ]
        },
        {
          "name": "stdout",
          "output_type": "stream",
          "text": [
            ">> Training model AE_1D. Epoch 62/100\n",
            ">> Training loss: 0.0658038854598999\n",
            ">> Validation loss: 0.05509372055530548\n"
          ]
        },
        {
          "name": "stderr",
          "output_type": "stream",
          "text": [
            "100%|██████████| 163/163 [00:00<00:00, 410.44it/s]\n"
          ]
        },
        {
          "name": "stdout",
          "output_type": "stream",
          "text": [
            ">> Training model AE_1D. Epoch 63/100\n",
            ">> Training loss: 0.14825129508972168\n",
            ">> Validation loss: 0.05365236848592758\n"
          ]
        },
        {
          "name": "stderr",
          "output_type": "stream",
          "text": [
            "100%|██████████| 163/163 [00:00<00:00, 377.32it/s]\n"
          ]
        },
        {
          "name": "stdout",
          "output_type": "stream",
          "text": [
            ">> Training model AE_1D. Epoch 64/100\n",
            ">> Training loss: 0.05078859627246857\n",
            ">> Validation loss: 0.05212145298719406\n"
          ]
        },
        {
          "name": "stderr",
          "output_type": "stream",
          "text": [
            "100%|██████████| 163/163 [00:00<00:00, 435.93it/s]\n"
          ]
        },
        {
          "name": "stdout",
          "output_type": "stream",
          "text": [
            ">> Training model AE_1D. Epoch 65/100\n",
            ">> Training loss: 0.037062231451272964\n",
            ">> Validation loss: 0.05078062787652016\n"
          ]
        },
        {
          "name": "stderr",
          "output_type": "stream",
          "text": [
            "100%|██████████| 163/163 [00:00<00:00, 424.12it/s]\n"
          ]
        },
        {
          "name": "stdout",
          "output_type": "stream",
          "text": [
            ">> Training model AE_1D. Epoch 66/100\n",
            ">> Training loss: 0.05818643048405647\n",
            ">> Validation loss: 0.04947744309902191\n"
          ]
        },
        {
          "name": "stderr",
          "output_type": "stream",
          "text": [
            "100%|██████████| 163/163 [00:00<00:00, 410.48it/s]\n"
          ]
        },
        {
          "name": "stdout",
          "output_type": "stream",
          "text": [
            ">> Training model AE_1D. Epoch 67/100\n",
            ">> Training loss: 0.12382965534925461\n",
            ">> Validation loss: 0.04818093776702881\n"
          ]
        },
        {
          "name": "stderr",
          "output_type": "stream",
          "text": [
            "100%|██████████| 163/163 [00:00<00:00, 402.98it/s]\n"
          ]
        },
        {
          "name": "stdout",
          "output_type": "stream",
          "text": [
            ">> Training model AE_1D. Epoch 68/100\n",
            ">> Training loss: 0.05687713623046875\n",
            ">> Validation loss: 0.046888191252946854\n"
          ]
        },
        {
          "name": "stderr",
          "output_type": "stream",
          "text": [
            "100%|██████████| 163/163 [00:00<00:00, 377.36it/s]\n"
          ]
        },
        {
          "name": "stdout",
          "output_type": "stream",
          "text": [
            ">> Training model AE_1D. Epoch 69/100\n",
            ">> Training loss: 0.04585238918662071\n",
            ">> Validation loss: 0.045688431710004807\n"
          ]
        },
        {
          "name": "stderr",
          "output_type": "stream",
          "text": [
            "100%|██████████| 163/163 [00:00<00:00, 449.25it/s]\n"
          ]
        },
        {
          "name": "stdout",
          "output_type": "stream",
          "text": [
            ">> Training model AE_1D. Epoch 70/100\n",
            ">> Training loss: 0.08362916111946106\n",
            ">> Validation loss: 0.044425610452890396\n"
          ]
        },
        {
          "name": "stderr",
          "output_type": "stream",
          "text": [
            "100%|██████████| 163/163 [00:00<00:00, 402.27it/s]\n"
          ]
        },
        {
          "name": "stdout",
          "output_type": "stream",
          "text": [
            ">> Training model AE_1D. Epoch 71/100\n",
            ">> Training loss: 0.10780788958072662\n",
            ">> Validation loss: 0.043406981974840164\n"
          ]
        },
        {
          "name": "stderr",
          "output_type": "stream",
          "text": [
            "100%|██████████| 163/163 [00:00<00:00, 400.97it/s]\n"
          ]
        },
        {
          "name": "stdout",
          "output_type": "stream",
          "text": [
            ">> Training model AE_1D. Epoch 72/100\n",
            ">> Training loss: 0.04466770589351654\n",
            ">> Validation loss: 0.042512744665145874\n"
          ]
        },
        {
          "name": "stderr",
          "output_type": "stream",
          "text": [
            "100%|██████████| 163/163 [00:00<00:00, 418.09it/s]\n"
          ]
        },
        {
          "name": "stdout",
          "output_type": "stream",
          "text": [
            ">> Training model AE_1D. Epoch 73/100\n",
            ">> Training loss: 0.05440656468272209\n",
            ">> Validation loss: 0.04140152409672737\n"
          ]
        },
        {
          "name": "stderr",
          "output_type": "stream",
          "text": [
            "100%|██████████| 163/163 [00:00<00:00, 416.31it/s]\n"
          ]
        },
        {
          "name": "stdout",
          "output_type": "stream",
          "text": [
            ">> Training model AE_1D. Epoch 74/100\n",
            ">> Training loss: 0.061081886291503906\n",
            ">> Validation loss: 0.04049331694841385\n"
          ]
        },
        {
          "name": "stderr",
          "output_type": "stream",
          "text": [
            "100%|██████████| 163/163 [00:00<00:00, 433.61it/s]\n"
          ]
        },
        {
          "name": "stdout",
          "output_type": "stream",
          "text": [
            ">> Training model AE_1D. Epoch 75/100\n",
            ">> Training loss: 0.15734203159809113\n",
            ">> Validation loss: 0.03959084674715996\n"
          ]
        },
        {
          "name": "stderr",
          "output_type": "stream",
          "text": [
            "100%|██████████| 163/163 [00:00<00:00, 416.11it/s]\n"
          ]
        },
        {
          "name": "stdout",
          "output_type": "stream",
          "text": [
            ">> Training model AE_1D. Epoch 76/100\n",
            ">> Training loss: 0.06639359891414642\n",
            ">> Validation loss: 0.038831375539302826\n"
          ]
        },
        {
          "name": "stderr",
          "output_type": "stream",
          "text": [
            "100%|██████████| 163/163 [00:00<00:00, 395.29it/s]\n"
          ]
        },
        {
          "name": "stdout",
          "output_type": "stream",
          "text": [
            ">> Training model AE_1D. Epoch 77/100\n",
            ">> Training loss: 0.05585281178355217\n",
            ">> Validation loss: 0.038180332630872726\n"
          ]
        },
        {
          "name": "stderr",
          "output_type": "stream",
          "text": [
            "100%|██████████| 163/163 [00:00<00:00, 424.23it/s]\n"
          ]
        },
        {
          "name": "stdout",
          "output_type": "stream",
          "text": [
            ">> Training model AE_1D. Epoch 78/100\n",
            ">> Training loss: 0.09944736212491989\n",
            ">> Validation loss: 0.03739003837108612\n"
          ]
        },
        {
          "name": "stderr",
          "output_type": "stream",
          "text": [
            "100%|██████████| 163/163 [00:00<00:00, 399.74it/s]\n"
          ]
        },
        {
          "name": "stdout",
          "output_type": "stream",
          "text": [
            ">> Training model AE_1D. Epoch 79/100\n",
            ">> Training loss: 0.06431373953819275\n",
            ">> Validation loss: 0.03675178438425064\n"
          ]
        },
        {
          "name": "stderr",
          "output_type": "stream",
          "text": [
            "100%|██████████| 163/163 [00:00<00:00, 434.19it/s]\n"
          ]
        },
        {
          "name": "stdout",
          "output_type": "stream",
          "text": [
            ">> Training model AE_1D. Epoch 80/100\n",
            ">> Training loss: 0.0816977322101593\n",
            ">> Validation loss: 0.0360335037112236\n"
          ]
        },
        {
          "name": "stderr",
          "output_type": "stream",
          "text": [
            "100%|██████████| 163/163 [00:00<00:00, 417.75it/s]\n"
          ]
        },
        {
          "name": "stdout",
          "output_type": "stream",
          "text": [
            ">> Training model AE_1D. Epoch 81/100\n",
            ">> Training loss: 0.05832598730921745\n",
            ">> Validation loss: 0.0354643240571022\n"
          ]
        },
        {
          "name": "stderr",
          "output_type": "stream",
          "text": [
            "100%|██████████| 163/163 [00:00<00:00, 410.69it/s]\n"
          ]
        },
        {
          "name": "stdout",
          "output_type": "stream",
          "text": [
            ">> Training model AE_1D. Epoch 82/100\n",
            ">> Training loss: 0.04613213241100311\n",
            ">> Validation loss: 0.035048842430114746\n"
          ]
        },
        {
          "name": "stderr",
          "output_type": "stream",
          "text": [
            "100%|██████████| 163/163 [00:00<00:00, 447.37it/s]\n"
          ]
        },
        {
          "name": "stdout",
          "output_type": "stream",
          "text": [
            ">> Training model AE_1D. Epoch 83/100\n",
            ">> Training loss: 0.06422434002161026\n",
            ">> Validation loss: 0.034328047186136246\n"
          ]
        },
        {
          "name": "stderr",
          "output_type": "stream",
          "text": [
            "100%|██████████| 163/163 [00:00<00:00, 403.08it/s]\n"
          ]
        },
        {
          "name": "stdout",
          "output_type": "stream",
          "text": [
            ">> Training model AE_1D. Epoch 84/100\n",
            ">> Training loss: 0.04888084530830383\n",
            ">> Validation loss: 0.03407903388142586\n"
          ]
        },
        {
          "name": "stderr",
          "output_type": "stream",
          "text": [
            "100%|██████████| 163/163 [00:00<00:00, 428.62it/s]\n"
          ]
        },
        {
          "name": "stdout",
          "output_type": "stream",
          "text": [
            ">> Training model AE_1D. Epoch 85/100\n",
            ">> Training loss: 0.04215138405561447\n",
            ">> Validation loss: 0.03359348326921463\n"
          ]
        },
        {
          "name": "stderr",
          "output_type": "stream",
          "text": [
            "100%|██████████| 163/163 [00:00<00:00, 393.69it/s]\n"
          ]
        },
        {
          "name": "stdout",
          "output_type": "stream",
          "text": [
            ">> Training model AE_1D. Epoch 86/100\n",
            ">> Training loss: 0.07266251742839813\n",
            ">> Validation loss: 0.03326432406902313\n"
          ]
        },
        {
          "name": "stderr",
          "output_type": "stream",
          "text": [
            "100%|██████████| 163/163 [00:00<00:00, 362.06it/s]\n"
          ]
        },
        {
          "name": "stdout",
          "output_type": "stream",
          "text": [
            ">> Training model AE_1D. Epoch 87/100\n",
            ">> Training loss: 0.09016944468021393\n",
            ">> Validation loss: 0.032721176743507385\n"
          ]
        },
        {
          "name": "stderr",
          "output_type": "stream",
          "text": [
            "100%|██████████| 163/163 [00:00<00:00, 307.77it/s]\n"
          ]
        },
        {
          "name": "stdout",
          "output_type": "stream",
          "text": [
            ">> Training model AE_1D. Epoch 88/100\n",
            ">> Training loss: 0.0923861712217331\n",
            ">> Validation loss: 0.032324403524398804\n"
          ]
        },
        {
          "name": "stderr",
          "output_type": "stream",
          "text": [
            "100%|██████████| 163/163 [00:00<00:00, 431.27it/s]\n"
          ]
        },
        {
          "name": "stdout",
          "output_type": "stream",
          "text": [
            ">> Training model AE_1D. Epoch 89/100\n",
            ">> Training loss: 0.031478267163038254\n",
            ">> Validation loss: 0.03193281963467598\n"
          ]
        },
        {
          "name": "stderr",
          "output_type": "stream",
          "text": [
            "100%|██████████| 163/163 [00:00<00:00, 441.40it/s]\n"
          ]
        },
        {
          "name": "stdout",
          "output_type": "stream",
          "text": [
            ">> Training model AE_1D. Epoch 90/100\n",
            ">> Training loss: 0.03128621727228165\n",
            ">> Validation loss: 0.0315396673977375\n"
          ]
        },
        {
          "name": "stderr",
          "output_type": "stream",
          "text": [
            "100%|██████████| 163/163 [00:00<00:00, 414.70it/s]\n"
          ]
        },
        {
          "name": "stdout",
          "output_type": "stream",
          "text": [
            ">> Training model AE_1D. Epoch 91/100\n",
            ">> Training loss: 0.09776166826486588\n",
            ">> Validation loss: 0.03113379515707493\n"
          ]
        },
        {
          "name": "stderr",
          "output_type": "stream",
          "text": [
            "100%|██████████| 163/163 [00:00<00:00, 434.55it/s]\n"
          ]
        },
        {
          "name": "stdout",
          "output_type": "stream",
          "text": [
            ">> Training model AE_1D. Epoch 92/100\n",
            ">> Training loss: 0.03294188529253006\n",
            ">> Validation loss: 0.031006736680865288\n"
          ]
        },
        {
          "name": "stderr",
          "output_type": "stream",
          "text": [
            "100%|██████████| 163/163 [00:00<00:00, 425.24it/s]\n"
          ]
        },
        {
          "name": "stdout",
          "output_type": "stream",
          "text": [
            ">> Training model AE_1D. Epoch 93/100\n",
            ">> Training loss: 0.06251686066389084\n",
            ">> Validation loss: 0.030475540086627007\n"
          ]
        },
        {
          "name": "stderr",
          "output_type": "stream",
          "text": [
            "100%|██████████| 163/163 [00:00<00:00, 415.07it/s]\n"
          ]
        },
        {
          "name": "stdout",
          "output_type": "stream",
          "text": [
            ">> Training model AE_1D. Epoch 94/100\n",
            ">> Training loss: 0.04462551325559616\n",
            ">> Validation loss: 0.030207203701138496\n"
          ]
        },
        {
          "name": "stderr",
          "output_type": "stream",
          "text": [
            "100%|██████████| 163/163 [00:00<00:00, 421.15it/s]\n"
          ]
        },
        {
          "name": "stdout",
          "output_type": "stream",
          "text": [
            ">> Training model AE_1D. Epoch 95/100\n",
            ">> Training loss: 0.15270526707172394\n",
            ">> Validation loss: 0.029902758076786995\n"
          ]
        },
        {
          "name": "stderr",
          "output_type": "stream",
          "text": [
            "100%|██████████| 163/163 [00:00<00:00, 399.67it/s]\n"
          ]
        },
        {
          "name": "stdout",
          "output_type": "stream",
          "text": [
            ">> Training model AE_1D. Epoch 96/100\n",
            ">> Training loss: 0.061960525810718536\n",
            ">> Validation loss: 0.029740432277321815\n"
          ]
        },
        {
          "name": "stderr",
          "output_type": "stream",
          "text": [
            "100%|██████████| 163/163 [00:00<00:00, 409.93it/s]\n"
          ]
        },
        {
          "name": "stdout",
          "output_type": "stream",
          "text": [
            ">> Training model AE_1D. Epoch 97/100\n",
            ">> Training loss: 0.08467259258031845\n",
            ">> Validation loss: 0.029291780665516853\n"
          ]
        },
        {
          "name": "stderr",
          "output_type": "stream",
          "text": [
            "100%|██████████| 163/163 [00:00<00:00, 448.15it/s]\n"
          ]
        },
        {
          "name": "stdout",
          "output_type": "stream",
          "text": [
            ">> Training model AE_1D. Epoch 98/100\n",
            ">> Training loss: 0.05333711951971054\n",
            ">> Validation loss: 0.029092485085129738\n"
          ]
        },
        {
          "name": "stderr",
          "output_type": "stream",
          "text": [
            "100%|██████████| 163/163 [00:00<00:00, 415.67it/s]\n"
          ]
        },
        {
          "name": "stdout",
          "output_type": "stream",
          "text": [
            ">> Training model AE_1D. Epoch 99/100\n",
            ">> Training loss: 0.027808478102087975\n",
            ">> Validation loss: 0.02883869968354702\n"
          ]
        },
        {
          "name": "stderr",
          "output_type": "stream",
          "text": [
            "100%|██████████| 163/163 [00:00<00:00, 417.79it/s]\n"
          ]
        },
        {
          "name": "stdout",
          "output_type": "stream",
          "text": [
            ">> Training model AE_1D. Epoch 100/100\n",
            ">> Training loss: 0.10652139782905579\n",
            ">> Validation loss: 0.02864190936088562\n",
            ">> Training model AE_1D.[Done]\n"
          ]
        },
        {
          "data": {
            "text/plain": [
              "[<matplotlib.lines.Line2D at 0x7faece9a27c0>]"
            ]
          },
          "execution_count": 69,
          "metadata": {},
          "output_type": "execute_result"
        },
        {
          "data": {
            "image/png": "[encoded data removed]",
            "text/plain": [
              "<Figure size 432x288 with 1 Axes>"
            ]
          },
          "metadata": {
            "needs_background": "light"
          },
          "output_type": "display_data"
        }
      ],
      "source": [
        "from importlib import reload  # Python 3.4+\n",
        "import model_simpleAE\n",
        "model_simpleAE = reload(model_simpleAE)\n",
        "from model_simpleAE import AE_1D\n",
        "from options import Options\n",
        "\n",
        "class configuration(object):\n",
        "    def __init__(self, my_dict):\n",
        "        for key in my_dict:\n",
        "            setattr(self, key, my_dict[key])\n",
        "\n",
        "# LOAD MODEL\n",
        "opt_dict = {\n",
        "    'batchsize': 12, \n",
        "    'isize': 96, ## number of features\n",
        "    'device': 'cpu',\n",
        "    'name': 'try1', ## name of experiment\n",
        "    'outf': './output', ## path to save the model\n",
        "    'phase': 'train',\n",
        "    'iter': 0, ## initial iteration step\n",
        "    'niter': 100, ## number of steps\n",
        "    'lr': 1e-5, ## learning rate\n",
        "}\n",
        "\n",
        "opt = configuration(opt_dict)\n",
        "opt.isTrain = True\n",
        "\n",
        "model = AE_1D(opt, dataloader)\n",
        "##\n",
        "# TRAIN MODEL\n",
        "metrics = model.train()\n",
        "\n",
        "metrics = pd.DataFrame(metrics)\n",
        "import matplotlib.pyplot as plt\n",
        "plt.plot(metrics['loss_tr'])\n",
        "plt.plot(metrics['loss_val'])"
      ]
    },
    {
      "cell_type": "code",
      "execution_count": null,
      "metadata": {
        "id": "ol2tAE5RYCAw",
        "outputId": "7c1e2193-3899-4ad6-819b-22f510fcec4c"
      },
      "outputs": [
        {
          "name": "stdout",
          "output_type": "stream",
          "text": [
            "tensor(2420)\n"
          ]
        }
      ],
      "source": [
        "which = 132\n",
        "sample = next(iter(dataloader['test']))\n",
        "sample_tensor = torch.stack([v[\"features\"] for v in sample])\n",
        "# sample_validation = sample['val_label']\n",
        "model.ae.eval()\n",
        "with torch.no_grad():\n",
        "    reconstructed = model.ae(sample_tensor)\n",
        "\n",
        "mse = torch.nn.MSELoss(reduction='none')\n",
        "def l2_loss_batch(x,x_hat):\n",
        "    loss = mse(x,x_hat)\n",
        "    loss = torch.sum(loss, dim=1) \n",
        "    # loss = torch.mean(loss)\n",
        "    return loss\n",
        "test_loss = l2_loss_batch(sample_tensor,reconstructed)\n",
        "print(torch.argmax(test_loss))\n",
        "\n",
        "# print(sample_validation)\n",
        "# plt.plot(sample_tensor)\n",
        "# plt.plot(reconstructed[0])\n",
        "# plt.show()"
      ]
    },
    {
      "cell_type": "code",
      "execution_count": null,
      "metadata": {
        "id": "4cg_ZdBXYCAw"
      },
      "outputs": [],
      "source": [
        "which = 2420\n",
        "sample = next(iter(dataloader['test']))\n",
        "sample_tensor = sample[which]['features']\n",
        "sample_validation = sample[which]['val_label']\n",
        "model.ae.eval()\n",
        "with torch.no_grad():\n",
        "    reconstructed = model.ae(torch.unsqueeze(sample_tensor,0))\n",
        "\n",
        "print(sample_validation)\n",
        "plt.plot(sample_tensor)\n",
        "plt.plot(reconstructed[0])\n",
        "plt.show()"
      ]
    },
    {
      "cell_type": "code",
      "execution_count": null,
      "metadata": {
        "id": "3g942h7xmOun"
      },
      "outputs": [],
      "source": [
        "# save the classes in the typical pytorch class format\n",
        "\n",
        "for i, class_d in enumerate(data_class_arr):\n",
        "  \n",
        "  save(class_d, wk + subfolder + \"split_by_period/\"+str(period_split)+\"h/\"+str(selected_dataset[:-4])+\"/split_\"+str(i)+\".pt\")\n"
      ]
    }
  ],
  "metadata": {
    "colab": {
      "provenance": []
    },
    "kernelspec": {
      "display_name": "Python 3.9.12 ('base')",
      "language": "python",
      "name": "python3"
    },
    "language_info": {
      "codemirror_mode": {
        "name": "ipython",
        "version": 3
      },
      "file_extension": ".py",
      "mimetype": "text/x-python",
      "name": "python",
      "nbconvert_exporter": "python",
      "pygments_lexer": "ipython3",
      "version": "3.9.12"
    },
    "vscode": {
      "interpreter": {
        "hash": "db3b0be3bb1f6db1a0432c56ec1c0f7459936b81fd9ed1b468b8c4ba9c3d8298"
      }
    }
  },
  "nbformat": 4,
  "nbformat_minor": 0
}