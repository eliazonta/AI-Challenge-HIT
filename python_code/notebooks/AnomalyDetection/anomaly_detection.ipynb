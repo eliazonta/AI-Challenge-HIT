{
  "cells": [
    {
      "cell_type": "markdown",
      "source": [
        "## Google Colab PRO (little flex 🤓 )"
      ],
      "metadata": {
        "id": "eR_jwVC1YEoO"
      }
    },
    {
      "cell_type": "code",
<<<<<<< HEAD
      "execution_count": 2,
=======
      "source": [
        "# GPU Test if 'Not connected to a GPU' go Runtime > Change runtime type > GPU > GPU Premium\n",
        "gpu_info = !nvidia-smi\n",
        "gpu_info = '\\n'.join(gpu_info)\n",
        "if gpu_info.find('failed') >= 0:\n",
        "  print('Not connected to a GPU')\n",
        "else:\n",
        "  print(gpu_info)"
      ],
      "metadata": {
        "id": "NZ5BcPtBYFO1",
        "outputId": "fe558a15-5f1d-4104-bff7-ef57e5f02a8c",
        "colab": {
          "base_uri": "https://localhost:8080/"
        }
      },
      "execution_count": 1,
      "outputs": [
        {
          "output_type": "stream",
          "name": "stdout",
          "text": [
            "Not connected to a GPU\n"
          ]
        }
      ]
    },
    {
      "cell_type": "code",
      "source": [
        "# High-RAM Test if 'Not using a high-RAM runtime' go Runtime > Change runtime type > RAM > High-RAM\n",
        "from psutil import virtual_memory\n",
        "ram_gb = virtual_memory().total / 1e9\n",
        "print('Your runtime has {:.1f} gigabytes of available RAM\\n'.format(ram_gb))\n",
        "\n",
        "if ram_gb < 20:\n",
        "  print('Not using a high-RAM runtime')\n",
        "else:\n",
        "  print('You are using a high-RAM runtime!')"
      ],
      "metadata": {
        "id": "ELLsO8_MYFEP"
      },
      "execution_count": null,
      "outputs": []
    },
    {
      "cell_type": "code",
      "execution_count": null,
>>>>>>> 3d189448afa4dfed3b5d33bbe800b784bf556fa7
      "metadata": {
        "id": "UHZ5dgtBUukH"
      },
      "outputs": [],
      "source": [
        "# load libraries\n",
        "import pandas as pd\n",
        "import os\n",
        "import numpy as np\n",
        "import datetime\n",
        "# from google.colab import drive\n",
        "from torch.utils.data import Dataset, DataLoader\n",
        "from torch import save"
      ]
    },
    {
      "cell_type": "code",
      "execution_count": null,
      "metadata": {
        "colab": {
          "base_uri": "https://localhost:8080/"
        },
        "id": "0d21WFZCV19F",
        "outputId": "1173ee33-c071-49d0-c816-0d93d1d3ccd0"
      },
      "outputs": [
        {
          "name": "stdout",
          "output_type": "stream",
          "text": [
            "Drive already mounted at /content/drive; to attempt to forcibly remount, call drive.mount(\"/content/drive\", force_remount=True).\n"
          ]
        }
      ],
      "source": [
        "# mount drive\n",
        "drive.mount('/content/drive')"
      ]
    },
    {
      "cell_type": "code",
      "execution_count": null,
      "metadata": {
        "id": "EdTf6K23VyxH"
      },
      "outputs": [],
      "source": [
        "# change me, have to point to the Meteotrentino drive folder\n",
        "wk =  \"/content/drive/My Drive/10. Meteotrentino/\"\n",
        "\n",
        "# folder for the csv\n",
        "subfolder = \"CSVs/\"\n",
        "\n",
        "# select the filename, make me dynamic\n",
        "selected_dataset = \"temperature.csv\""
      ]
    },
    {
      "cell_type": "code",
<<<<<<< HEAD
      "execution_count": 3,
=======
      "execution_count": null,
>>>>>>> 3d189448afa4dfed3b5d33bbe800b784bf556fa7
      "metadata": {
        "id": "2OMJvpn3VN8J"
      },
      "outputs": [],
      "source": [
        "# data_path = wk+subfolder+selected_dataset\n",
        "data_path = \"../../../direzione_vento_A.csv\""
      ]
    },
    {
      "cell_type": "code",
<<<<<<< HEAD
      "execution_count": 4,
=======
      "execution_count": null,
>>>>>>> 3d189448afa4dfed3b5d33bbe800b784bf556fa7
      "metadata": {
        "id": "1UMaZX3Ud1Q8"
      },
      "outputs": [],
      "source": [
        "df_row_data = pd.read_csv(\n",
        "  data_path,\n",
        "  sep = \";\", # not a CSV, separator is ';'\n",
        "  header = None, # no header\n",
        "  dtype = {'0' : str, '1': str, '2': str, '3' : np.float64, '4':int} # Daniele: added the validation code so we can train on validated data (no need of classes, just distinguish between good and bad data)\n",
        "  ) \n",
        "\n"
      ]
    },
    {
      "cell_type": "code",
<<<<<<< HEAD
      "execution_count": 5,
=======
      "execution_count": null,
>>>>>>> 3d189448afa4dfed3b5d33bbe800b784bf556fa7
      "metadata": {
        "id": "lm8SzZOFhPAS"
      },
      "outputs": [],
      "source": [
        "# define a header \n",
        "df_row_data = df_row_data.set_axis(\n",
        "    ['label', 'date', 'time', 'value','validation_code'],\n",
        "    axis = 1,\n",
        "    inplace = False\n",
        "\n",
        ")"
      ]
    },
    {
      "cell_type": "code",
<<<<<<< HEAD
      "execution_count": 6,
=======
      "execution_count": null,
>>>>>>> 3d189448afa4dfed3b5d33bbe800b784bf556fa7
      "metadata": {
        "id": "ZeP4DqRid9uB"
      },
      "outputs": [],
      "source": [
        "df_row_data['datetime'] = pd.to_datetime(df_row_data['date']+\" \"+df_row_data['time'], format = '%d/%m/%Y %H:%M')\n"
      ]
    },
    {
      "cell_type": "code",
<<<<<<< HEAD
      "execution_count": 7,
=======
      "execution_count": null,
>>>>>>> 3d189448afa4dfed3b5d33bbe800b784bf556fa7
      "metadata": {
        "colab": {
          "base_uri": "https://localhost:8080/",
          "height": 479
        },
        "id": "y8babb6JomG1",
        "outputId": "48fd8a47-813a-44ba-d901-33fd65758aa3"
      },
      "outputs": [
        {
          "name": "stderr",
          "output_type": "stream",
          "text": [
            "/tmp/ipykernel_390/3860720534.py:2: FutureWarning: casting datetime64[ns] values to int64 with .astype(...) is deprecated and will raise in a future version. Use .view(...) instead.\n",
            "  df_row_data['datetime_enconded'] = np.int64(df_row_data['datetime'].astype(int)/10**9)\n"
          ]
        },
        {
          "data": {
            "text/html": [
              "<div>\n",
              "<style scoped>\n",
              "    .dataframe tbody tr th:only-of-type {\n",
              "        vertical-align: middle;\n",
              "    }\n",
              "\n",
              "    .dataframe tbody tr th {\n",
              "        vertical-align: top;\n",
              "    }\n",
              "\n",
              "    .dataframe thead th {\n",
              "        text-align: right;\n",
              "    }\n",
              "</style>\n",
              "<table border=\"1\" class=\"dataframe\">\n",
              "  <thead>\n",
              "    <tr style=\"text-align: right;\">\n",
              "      <th></th>\n",
              "      <th>label</th>\n",
              "      <th>date</th>\n",
              "      <th>time</th>\n",
              "      <th>value</th>\n",
              "      <th>validation_code</th>\n",
              "      <th>datetime</th>\n",
              "      <th>datetime_enconded</th>\n",
              "    </tr>\n",
              "  </thead>\n",
              "  <tbody>\n",
              "    <tr>\n",
              "      <th>0</th>\n",
              "      <td>T0010</td>\n",
              "      <td>01/01/2014</td>\n",
              "      <td>00:00</td>\n",
              "      <td>274.0</td>\n",
              "      <td>1</td>\n",
              "      <td>2014-01-01 00:00:00</td>\n",
              "      <td>1388534400</td>\n",
              "    </tr>\n",
              "    <tr>\n",
              "      <th>1</th>\n",
              "      <td>T0010</td>\n",
              "      <td>01/01/2014</td>\n",
              "      <td>00:10</td>\n",
              "      <td>321.0</td>\n",
              "      <td>1</td>\n",
              "      <td>2014-01-01 00:10:00</td>\n",
              "      <td>1388535000</td>\n",
              "    </tr>\n",
              "    <tr>\n",
              "      <th>2</th>\n",
              "      <td>T0010</td>\n",
              "      <td>01/01/2014</td>\n",
              "      <td>00:20</td>\n",
              "      <td>213.0</td>\n",
              "      <td>1</td>\n",
              "      <td>2014-01-01 00:20:00</td>\n",
              "      <td>1388535600</td>\n",
              "    </tr>\n",
              "    <tr>\n",
              "      <th>3</th>\n",
              "      <td>T0010</td>\n",
              "      <td>01/01/2014</td>\n",
              "      <td>00:30</td>\n",
              "      <td>317.0</td>\n",
              "      <td>1</td>\n",
              "      <td>2014-01-01 00:30:00</td>\n",
              "      <td>1388536200</td>\n",
              "    </tr>\n",
              "    <tr>\n",
              "      <th>4</th>\n",
              "      <td>T0010</td>\n",
              "      <td>01/01/2014</td>\n",
              "      <td>00:40</td>\n",
              "      <td>0.0</td>\n",
              "      <td>1</td>\n",
              "      <td>2014-01-01 00:40:00</td>\n",
              "      <td>1388536800</td>\n",
              "    </tr>\n",
              "    <tr>\n",
              "      <th>...</th>\n",
              "      <td>...</td>\n",
              "      <td>...</td>\n",
              "      <td>...</td>\n",
              "      <td>...</td>\n",
              "      <td>...</td>\n",
              "      <td>...</td>\n",
              "      <td>...</td>\n",
              "    </tr>\n",
              "    <tr>\n",
              "      <th>12994170</th>\n",
              "      <td>T0469</td>\n",
              "      <td>31/12/2021</td>\n",
              "      <td>23:10</td>\n",
              "      <td>17.0</td>\n",
              "      <td>145</td>\n",
              "      <td>2021-12-31 23:10:00</td>\n",
              "      <td>1640992200</td>\n",
              "    </tr>\n",
              "    <tr>\n",
              "      <th>12994171</th>\n",
              "      <td>T0469</td>\n",
              "      <td>31/12/2021</td>\n",
              "      <td>23:20</td>\n",
              "      <td>0.0</td>\n",
              "      <td>145</td>\n",
              "      <td>2021-12-31 23:20:00</td>\n",
              "      <td>1640992800</td>\n",
              "    </tr>\n",
              "    <tr>\n",
              "      <th>12994172</th>\n",
              "      <td>T0469</td>\n",
              "      <td>31/12/2021</td>\n",
              "      <td>23:30</td>\n",
              "      <td>18.0</td>\n",
              "      <td>145</td>\n",
              "      <td>2021-12-31 23:30:00</td>\n",
              "      <td>1640993400</td>\n",
              "    </tr>\n",
              "    <tr>\n",
              "      <th>12994173</th>\n",
              "      <td>T0469</td>\n",
              "      <td>31/12/2021</td>\n",
              "      <td>23:40</td>\n",
              "      <td>357.0</td>\n",
              "      <td>145</td>\n",
              "      <td>2021-12-31 23:40:00</td>\n",
              "      <td>1640994000</td>\n",
              "    </tr>\n",
              "    <tr>\n",
              "      <th>12994174</th>\n",
              "      <td>T0469</td>\n",
              "      <td>31/12/2021</td>\n",
              "      <td>23:50</td>\n",
              "      <td>335.0</td>\n",
              "      <td>145</td>\n",
              "      <td>2021-12-31 23:50:00</td>\n",
              "      <td>1640994600</td>\n",
              "    </tr>\n",
              "  </tbody>\n",
              "</table>\n",
              "<p>12994175 rows × 7 columns</p>\n",
              "</div>"
            ],
            "text/plain": [
              "          label        date   time  value  validation_code  \\\n",
              "0         T0010  01/01/2014  00:00  274.0                1   \n",
              "1         T0010  01/01/2014  00:10  321.0                1   \n",
              "2         T0010  01/01/2014  00:20  213.0                1   \n",
              "3         T0010  01/01/2014  00:30  317.0                1   \n",
              "4         T0010  01/01/2014  00:40    0.0                1   \n",
              "...         ...         ...    ...    ...              ...   \n",
              "12994170  T0469  31/12/2021  23:10   17.0              145   \n",
              "12994171  T0469  31/12/2021  23:20    0.0              145   \n",
              "12994172  T0469  31/12/2021  23:30   18.0              145   \n",
              "12994173  T0469  31/12/2021  23:40  357.0              145   \n",
              "12994174  T0469  31/12/2021  23:50  335.0              145   \n",
              "\n",
              "                    datetime  datetime_enconded  \n",
              "0        2014-01-01 00:00:00         1388534400  \n",
              "1        2014-01-01 00:10:00         1388535000  \n",
              "2        2014-01-01 00:20:00         1388535600  \n",
              "3        2014-01-01 00:30:00         1388536200  \n",
              "4        2014-01-01 00:40:00         1388536800  \n",
              "...                      ...                ...  \n",
              "12994170 2021-12-31 23:10:00         1640992200  \n",
              "12994171 2021-12-31 23:20:00         1640992800  \n",
              "12994172 2021-12-31 23:30:00         1640993400  \n",
              "12994173 2021-12-31 23:40:00         1640994000  \n",
              "12994174 2021-12-31 23:50:00         1640994600  \n",
              "\n",
              "[12994175 rows x 7 columns]"
            ]
          },
          "execution_count": 7,
          "metadata": {},
          "output_type": "execute_result"
        }
      ],
      "source": [
        "# econde the date as integer\n",
        "df_row_data['datetime_enconded'] = np.int64(df_row_data['datetime'].astype(int)/10**9)\n",
        "df_row_data"
      ]
    },
    {
      "cell_type": "code",
<<<<<<< HEAD
      "execution_count": 8,
=======
      "execution_count": null,
>>>>>>> 3d189448afa4dfed3b5d33bbe800b784bf556fa7
      "metadata": {
        "colab": {
          "base_uri": "https://localhost:8080/"
        },
        "id": "_wVzzW1ocnOJ",
        "outputId": "761cfff2-5577-4c5e-f272-a0a3b3723003"
      },
      "outputs": [
        {
          "name": "stderr",
          "output_type": "stream",
          "text": [
            "/tmp/ipykernel_390/3647555548.py:20: SettingWithCopyWarning: \n",
            "A value is trying to be set on a copy of a slice from a DataFrame\n",
            "\n",
            "See the caveats in the documentation: https://pandas.pydata.org/pandas-docs/stable/user_guide/indexing.html#returning-a-view-versus-a-copy\n",
            "  df_row_data['period_index'][(df_row_data['datetime'] < offset_data) & (df_row_data['datetime'] >= current_data)] = i\n"
          ]
        }
      ],
      "source": [
        "# split the dataframe by date\n",
        "\n",
        "date_start = df_row_data['datetime'].min()\n",
        "\n",
        "date_end = df_row_data['datetime'].max()\n",
        "\n",
        "\n",
        "# period\n",
        "period_split = 24 #hours\n",
        "\n",
        "current_data = date_start\n",
        "\n",
        "df_row_data['period_index'] = [-1]*len(df_row_data['datetime'])\n",
        "\n",
        "i = 0\n",
        "while current_data < date_end:\n",
        "\n",
        "  offset_data = current_data+ pd.offsets.Hour(period_split)\n",
        "  \n",
        "  df_row_data['period_index'][(df_row_data['datetime'] < offset_data) & (df_row_data['datetime'] >= current_data)] = i\n",
        "\n",
        "  current_data = offset_data\n",
        "  i = i+1\n"
      ]
    },
    {
      "cell_type": "code",
<<<<<<< HEAD
      "execution_count": 34,
      "metadata": {},
=======
      "execution_count": null,
      "metadata": {
        "id": "CYLxIpiCYCAt",
        "outputId": "82faa4a2-820b-4e52-a298-48b61289d64a"
      },
      "outputs": [
        {
          "name": "stdout",
          "output_type": "stream",
          "text": [
            "(array(['T0010', 'T0065', 'T0071', 'T0074', 'T0103', 'T0104', 'T0118',\n",
            "       'T0129', 'T0135', 'T0146', 'T0147', 'T0153', 'T0193', 'T0354',\n",
            "       'T0355', 'T0360', 'T0366', 'T0367', 'T0368', 'T0369', 'T0374',\n",
            "       'T0379', 'T0384', 'T0414', 'T0417', 'T0420', 'T0421', 'T0423',\n",
            "       'T0437', 'T0450', 'T0469'], dtype=object), array([420559, 420093, 420383, 419964, 420570, 417733, 420557, 420503,\n",
            "       420481, 420509, 420526, 420096, 419721, 420230, 417889, 420123,\n",
            "       420310, 418525, 419557, 417720, 417208, 419649, 403864, 420407,\n",
            "       420324, 417778, 419167, 420444, 420491, 420280, 420100]))\n",
            "(array([  1, 140, 145, 255]), array([112133,   1869, 306556,      1]))\n"
          ]
        }
      ],
      "source": [
        "# df_row_data.loc[df_row_data['label']=='T0429']\n",
        "print( np.unique(df_row_data['label'],return_counts=True))"
      ]
    },
    {
      "cell_type": "code",
      "execution_count": null,
      "metadata": {
        "id": "yHmhPItYYCAu",
        "outputId": "86eea46d-03f8-41ba-f633-d85b140ff553"
      },
>>>>>>> 3d189448afa4dfed3b5d33bbe800b784bf556fa7
      "outputs": [
        {
          "name": "stdout",
          "output_type": "stream",
          "text": [
            "['T0010' 'T0065' 'T0071' 'T0074' 'T0103' 'T0104' 'T0118' 'T0129' 'T0135'\n",
            " 'T0146' 'T0147' 'T0153' 'T0193' 'T0354' 'T0355' 'T0360' 'T0366' 'T0367'\n",
            " 'T0368' 'T0369' 'T0374' 'T0379' 'T0384' 'T0414' 'T0417' 'T0420' 'T0421'\n",
            " 'T0423' 'T0437' 'T0450' 'T0469']\n",
            "(array([  1, 140, 151, 255]), array([410072,  10014,      1,      6]))\n"
          ]
        }
      ],
      "source": [
        "# df_row_data.loc[df_row_data['label']=='T0179']\n",
        "print( np.unique(df_row_data['label']))\n",
        "print( np.unique(df_row_data.loc[df_row_data['label']=='T0065']['validation_code'], return_counts=True))"
      ]
    },
    {
      "cell_type": "markdown",
      "metadata": {
        "id": "oCWa6VKCfsm2"
      },
      "source": []
    },
    {
      "cell_type": "code",
<<<<<<< HEAD
      "execution_count": 35,
=======
      "execution_count": null,
>>>>>>> 3d189448afa4dfed3b5d33bbe800b784bf556fa7
      "metadata": {
        "id": "pVSUTFnJjwgg"
      },
      "outputs": [],
      "source": [
        "data_arr = []\n",
        "\n",
        "for station in ['T0010','T0071']:\n",
        "  df_station = df_row_data.loc[df_row_data['label']==station]\n",
        "  for pk in np.unique(df_station['period_index']):\n",
        "    df_subset = df_station.loc[(df_row_data['period_index'] == pk)]\n",
        "    \n",
        "    if df_subset.empty:\n",
        "      continue\n",
        "\n",
        "    if((df_subset['validation_code'].values != 1).any()):\n",
        "      val_label = 1\n",
        "    else:\n",
        "      val_label = 0\n",
        "\n",
        "    header={\n",
        "      'label':df_subset['label'].values[0],\n",
        "      'in_datetime':df_subset['datetime'].values[0],\n",
        "      'in_datetime_int':df_subset['datetime_enconded'].values[0],\n",
        "      'val_label':val_label\n",
        "    }\n",
        "\n",
        "    features = df_subset['value'].reset_index(drop=True).to_dict()\n",
        "    data_arr.append({**header,**features})\n",
        "df_row_data_converted = pd.DataFrame(data_arr)"
      ]
    },
    {
      "cell_type": "code",
      "execution_count": null,
      "metadata": {
        "id": "QcxkNR2DYCAv",
        "outputId": "7915d66e-2e00-4779-c730-bb8d01ebb0f4"
      },
      "outputs": [
        {
          "data": {
            "text/html": [
              "<div>\n",
              "<style scoped>\n",
              "    .dataframe tbody tr th:only-of-type {\n",
              "        vertical-align: middle;\n",
              "    }\n",
              "\n",
              "    .dataframe tbody tr th {\n",
              "        vertical-align: top;\n",
              "    }\n",
              "\n",
              "    .dataframe thead th {\n",
              "        text-align: right;\n",
              "    }\n",
              "</style>\n",
              "<table border=\"1\" class=\"dataframe\">\n",
              "  <thead>\n",
              "    <tr style=\"text-align: right;\">\n",
              "      <th></th>\n",
              "      <th>label</th>\n",
              "      <th>in_datetime</th>\n",
              "      <th>in_datetime_int</th>\n",
              "      <th>val_label</th>\n",
              "      <th>0</th>\n",
              "      <th>1</th>\n",
              "      <th>2</th>\n",
              "      <th>3</th>\n",
              "      <th>4</th>\n",
              "      <th>5</th>\n",
              "      <th>...</th>\n",
              "      <th>134</th>\n",
              "      <th>135</th>\n",
              "      <th>136</th>\n",
              "      <th>137</th>\n",
              "      <th>138</th>\n",
              "      <th>139</th>\n",
              "      <th>140</th>\n",
              "      <th>141</th>\n",
              "      <th>142</th>\n",
              "      <th>143</th>\n",
              "    </tr>\n",
              "  </thead>\n",
              "  <tbody>\n",
              "    <tr>\n",
              "      <th>0</th>\n",
              "      <td>T0065</td>\n",
              "      <td>2014-01-01</td>\n",
              "      <td>1388534400</td>\n",
              "      <td>0</td>\n",
              "      <td>79.0</td>\n",
              "      <td>83.0</td>\n",
              "      <td>88.0</td>\n",
              "      <td>83.0</td>\n",
              "      <td>96.0</td>\n",
              "      <td>78.0</td>\n",
              "      <td>...</td>\n",
              "      <td>125.0</td>\n",
              "      <td>55.0</td>\n",
              "      <td>92.0</td>\n",
              "      <td>91.0</td>\n",
              "      <td>61.0</td>\n",
              "      <td>120.0</td>\n",
              "      <td>140.0</td>\n",
              "      <td>38.0</td>\n",
              "      <td>93.0</td>\n",
              "      <td>116.0</td>\n",
              "    </tr>\n",
              "    <tr>\n",
              "      <th>1</th>\n",
              "      <td>T0065</td>\n",
              "      <td>2014-01-02</td>\n",
              "      <td>1388620800</td>\n",
              "      <td>0</td>\n",
              "      <td>53.0</td>\n",
              "      <td>100.0</td>\n",
              "      <td>114.0</td>\n",
              "      <td>121.0</td>\n",
              "      <td>118.0</td>\n",
              "      <td>110.0</td>\n",
              "      <td>...</td>\n",
              "      <td>93.0</td>\n",
              "      <td>82.0</td>\n",
              "      <td>93.0</td>\n",
              "      <td>100.0</td>\n",
              "      <td>79.0</td>\n",
              "      <td>88.0</td>\n",
              "      <td>78.0</td>\n",
              "      <td>91.0</td>\n",
              "      <td>101.0</td>\n",
              "      <td>119.0</td>\n",
              "    </tr>\n",
              "    <tr>\n",
              "      <th>2</th>\n",
              "      <td>T0065</td>\n",
              "      <td>2014-01-03</td>\n",
              "      <td>1388707200</td>\n",
              "      <td>0</td>\n",
              "      <td>114.0</td>\n",
              "      <td>85.0</td>\n",
              "      <td>82.0</td>\n",
              "      <td>121.0</td>\n",
              "      <td>104.0</td>\n",
              "      <td>89.0</td>\n",
              "      <td>...</td>\n",
              "      <td>81.0</td>\n",
              "      <td>90.0</td>\n",
              "      <td>93.0</td>\n",
              "      <td>126.0</td>\n",
              "      <td>126.0</td>\n",
              "      <td>51.0</td>\n",
              "      <td>85.0</td>\n",
              "      <td>86.0</td>\n",
              "      <td>94.0</td>\n",
              "      <td>82.0</td>\n",
              "    </tr>\n",
              "    <tr>\n",
              "      <th>3</th>\n",
              "      <td>T0065</td>\n",
              "      <td>2014-01-04</td>\n",
              "      <td>1388793600</td>\n",
              "      <td>0</td>\n",
              "      <td>86.0</td>\n",
              "      <td>100.0</td>\n",
              "      <td>102.0</td>\n",
              "      <td>92.0</td>\n",
              "      <td>139.0</td>\n",
              "      <td>87.0</td>\n",
              "      <td>...</td>\n",
              "      <td>287.0</td>\n",
              "      <td>272.0</td>\n",
              "      <td>308.0</td>\n",
              "      <td>266.0</td>\n",
              "      <td>276.0</td>\n",
              "      <td>277.0</td>\n",
              "      <td>297.0</td>\n",
              "      <td>253.0</td>\n",
              "      <td>308.0</td>\n",
              "      <td>256.0</td>\n",
              "    </tr>\n",
              "    <tr>\n",
              "      <th>4</th>\n",
              "      <td>T0065</td>\n",
              "      <td>2014-01-05</td>\n",
              "      <td>1388880000</td>\n",
              "      <td>0</td>\n",
              "      <td>252.0</td>\n",
              "      <td>295.0</td>\n",
              "      <td>300.0</td>\n",
              "      <td>289.0</td>\n",
              "      <td>296.0</td>\n",
              "      <td>267.0</td>\n",
              "      <td>...</td>\n",
              "      <td>30.0</td>\n",
              "      <td>91.0</td>\n",
              "      <td>260.0</td>\n",
              "      <td>326.0</td>\n",
              "      <td>79.0</td>\n",
              "      <td>107.0</td>\n",
              "      <td>69.0</td>\n",
              "      <td>101.0</td>\n",
              "      <td>103.0</td>\n",
              "      <td>253.0</td>\n",
              "    </tr>\n",
              "    <tr>\n",
              "      <th>...</th>\n",
              "      <td>...</td>\n",
              "      <td>...</td>\n",
              "      <td>...</td>\n",
              "      <td>...</td>\n",
              "      <td>...</td>\n",
              "      <td>...</td>\n",
              "      <td>...</td>\n",
              "      <td>...</td>\n",
              "      <td>...</td>\n",
              "      <td>...</td>\n",
              "      <td>...</td>\n",
              "      <td>...</td>\n",
              "      <td>...</td>\n",
              "      <td>...</td>\n",
              "      <td>...</td>\n",
              "      <td>...</td>\n",
              "      <td>...</td>\n",
              "      <td>...</td>\n",
              "      <td>...</td>\n",
              "      <td>...</td>\n",
              "      <td>...</td>\n",
              "    </tr>\n",
              "    <tr>\n",
              "      <th>2917</th>\n",
              "      <td>T0065</td>\n",
              "      <td>2021-12-27</td>\n",
              "      <td>1640563200</td>\n",
              "      <td>0</td>\n",
              "      <td>78.0</td>\n",
              "      <td>72.0</td>\n",
              "      <td>85.0</td>\n",
              "      <td>73.0</td>\n",
              "      <td>58.0</td>\n",
              "      <td>59.0</td>\n",
              "      <td>...</td>\n",
              "      <td>79.0</td>\n",
              "      <td>70.0</td>\n",
              "      <td>114.0</td>\n",
              "      <td>285.0</td>\n",
              "      <td>291.0</td>\n",
              "      <td>306.0</td>\n",
              "      <td>174.0</td>\n",
              "      <td>224.0</td>\n",
              "      <td>74.0</td>\n",
              "      <td>90.0</td>\n",
              "    </tr>\n",
              "    <tr>\n",
              "      <th>2918</th>\n",
              "      <td>T0065</td>\n",
              "      <td>2021-12-28</td>\n",
              "      <td>1640649600</td>\n",
              "      <td>0</td>\n",
              "      <td>78.0</td>\n",
              "      <td>79.0</td>\n",
              "      <td>104.0</td>\n",
              "      <td>285.0</td>\n",
              "      <td>281.0</td>\n",
              "      <td>7.0</td>\n",
              "      <td>...</td>\n",
              "      <td>265.0</td>\n",
              "      <td>234.0</td>\n",
              "      <td>256.0</td>\n",
              "      <td>256.0</td>\n",
              "      <td>260.0</td>\n",
              "      <td>251.0</td>\n",
              "      <td>262.0</td>\n",
              "      <td>252.0</td>\n",
              "      <td>260.0</td>\n",
              "      <td>254.0</td>\n",
              "    </tr>\n",
              "    <tr>\n",
              "      <th>2919</th>\n",
              "      <td>T0065</td>\n",
              "      <td>2021-12-29</td>\n",
              "      <td>1640736000</td>\n",
              "      <td>0</td>\n",
              "      <td>262.0</td>\n",
              "      <td>257.0</td>\n",
              "      <td>252.0</td>\n",
              "      <td>267.0</td>\n",
              "      <td>258.0</td>\n",
              "      <td>261.0</td>\n",
              "      <td>...</td>\n",
              "      <td>262.0</td>\n",
              "      <td>257.0</td>\n",
              "      <td>260.0</td>\n",
              "      <td>259.0</td>\n",
              "      <td>265.0</td>\n",
              "      <td>283.0</td>\n",
              "      <td>264.0</td>\n",
              "      <td>254.0</td>\n",
              "      <td>261.0</td>\n",
              "      <td>269.0</td>\n",
              "    </tr>\n",
              "    <tr>\n",
              "      <th>2920</th>\n",
              "      <td>T0065</td>\n",
              "      <td>2021-12-30</td>\n",
              "      <td>1640822400</td>\n",
              "      <td>0</td>\n",
              "      <td>261.0</td>\n",
              "      <td>319.0</td>\n",
              "      <td>291.0</td>\n",
              "      <td>277.0</td>\n",
              "      <td>277.0</td>\n",
              "      <td>291.0</td>\n",
              "      <td>...</td>\n",
              "      <td>355.0</td>\n",
              "      <td>350.0</td>\n",
              "      <td>18.0</td>\n",
              "      <td>15.0</td>\n",
              "      <td>341.0</td>\n",
              "      <td>320.0</td>\n",
              "      <td>325.0</td>\n",
              "      <td>332.0</td>\n",
              "      <td>328.0</td>\n",
              "      <td>345.0</td>\n",
              "    </tr>\n",
              "    <tr>\n",
              "      <th>2921</th>\n",
              "      <td>T0065</td>\n",
              "      <td>2021-12-31</td>\n",
              "      <td>1640908800</td>\n",
              "      <td>0</td>\n",
              "      <td>344.0</td>\n",
              "      <td>342.0</td>\n",
              "      <td>324.0</td>\n",
              "      <td>329.0</td>\n",
              "      <td>314.0</td>\n",
              "      <td>310.0</td>\n",
              "      <td>...</td>\n",
              "      <td>270.0</td>\n",
              "      <td>245.0</td>\n",
              "      <td>268.0</td>\n",
              "      <td>273.0</td>\n",
              "      <td>257.0</td>\n",
              "      <td>275.0</td>\n",
              "      <td>258.0</td>\n",
              "      <td>265.0</td>\n",
              "      <td>266.0</td>\n",
              "      <td>246.0</td>\n",
              "    </tr>\n",
              "  </tbody>\n",
              "</table>\n",
              "<p>2833 rows × 148 columns</p>\n",
              "</div>"
            ],
            "text/plain": [
              "      label in_datetime  in_datetime_int  val_label      0      1      2  \\\n",
              "0     T0065  2014-01-01       1388534400          0   79.0   83.0   88.0   \n",
              "1     T0065  2014-01-02       1388620800          0   53.0  100.0  114.0   \n",
              "2     T0065  2014-01-03       1388707200          0  114.0   85.0   82.0   \n",
              "3     T0065  2014-01-04       1388793600          0   86.0  100.0  102.0   \n",
              "4     T0065  2014-01-05       1388880000          0  252.0  295.0  300.0   \n",
              "...     ...         ...              ...        ...    ...    ...    ...   \n",
              "2917  T0065  2021-12-27       1640563200          0   78.0   72.0   85.0   \n",
              "2918  T0065  2021-12-28       1640649600          0   78.0   79.0  104.0   \n",
              "2919  T0065  2021-12-29       1640736000          0  262.0  257.0  252.0   \n",
              "2920  T0065  2021-12-30       1640822400          0  261.0  319.0  291.0   \n",
              "2921  T0065  2021-12-31       1640908800          0  344.0  342.0  324.0   \n",
              "\n",
              "          3      4      5  ...    134    135    136    137    138    139  \\\n",
              "0      83.0   96.0   78.0  ...  125.0   55.0   92.0   91.0   61.0  120.0   \n",
              "1     121.0  118.0  110.0  ...   93.0   82.0   93.0  100.0   79.0   88.0   \n",
              "2     121.0  104.0   89.0  ...   81.0   90.0   93.0  126.0  126.0   51.0   \n",
              "3      92.0  139.0   87.0  ...  287.0  272.0  308.0  266.0  276.0  277.0   \n",
              "4     289.0  296.0  267.0  ...   30.0   91.0  260.0  326.0   79.0  107.0   \n",
              "...     ...    ...    ...  ...    ...    ...    ...    ...    ...    ...   \n",
              "2917   73.0   58.0   59.0  ...   79.0   70.0  114.0  285.0  291.0  306.0   \n",
              "2918  285.0  281.0    7.0  ...  265.0  234.0  256.0  256.0  260.0  251.0   \n",
              "2919  267.0  258.0  261.0  ...  262.0  257.0  260.0  259.0  265.0  283.0   \n",
              "2920  277.0  277.0  291.0  ...  355.0  350.0   18.0   15.0  341.0  320.0   \n",
              "2921  329.0  314.0  310.0  ...  270.0  245.0  268.0  273.0  257.0  275.0   \n",
              "\n",
              "        140    141    142    143  \n",
              "0     140.0   38.0   93.0  116.0  \n",
              "1      78.0   91.0  101.0  119.0  \n",
              "2      85.0   86.0   94.0   82.0  \n",
              "3     297.0  253.0  308.0  256.0  \n",
              "4      69.0  101.0  103.0  253.0  \n",
              "...     ...    ...    ...    ...  \n",
              "2917  174.0  224.0   74.0   90.0  \n",
              "2918  262.0  252.0  260.0  254.0  \n",
              "2919  264.0  254.0  261.0  269.0  \n",
              "2920  325.0  332.0  328.0  345.0  \n",
              "2921  258.0  265.0  266.0  246.0  \n",
              "\n",
              "[2833 rows x 148 columns]"
            ]
          },
          "execution_count": 35,
          "metadata": {},
          "output_type": "execute_result"
        }
      ],
      "source": [
        "data_arr = []\n",
        "\n",
        "for station in ['T0065']:\n",
        "  df_station = df_row_data.loc[df_row_data['label']==station]\n",
        "  for pk in np.unique(df_station['period_index']):\n",
        "    df_subset = df_station.loc[(df_row_data['period_index'] == pk)]\n",
        "    \n",
        "    if df_subset.empty:\n",
        "      continue\n",
        "\n",
        "    if((df_subset['validation_code'].values != 1).any()):\n",
        "      val_label = 1\n",
        "    else:\n",
        "      val_label = 0\n",
        "\n",
        "    header={\n",
        "      'label':df_subset['label'].values[0],\n",
        "      'in_datetime':df_subset['datetime'].values[0],\n",
        "      'in_datetime_int':df_subset['datetime_enconded'].values[0],\n",
        "      'val_label':val_label\n",
        "    }\n",
        "\n",
        "    features = df_subset['value'].reset_index(drop=True).to_dict()\n",
        "    data_arr.append({**header,**features})\n",
        "df_row_data_converted = pd.DataFrame(data_arr)\n",
        "df_row_data_converted.loc[df_row_data_converted['val_label']==0]"
      ]
    },
    {
      "cell_type": "code",
<<<<<<< HEAD
      "execution_count": 23,
      "metadata": {},
      "outputs": [],
      "source": [
        "df_row_data_converted = df_row_data_converted.drop(columns=[144])"
      ]
    },
    {
      "cell_type": "code",
      "execution_count": 20,
=======
      "execution_count": null,
>>>>>>> 3d189448afa4dfed3b5d33bbe800b784bf556fa7
      "metadata": {
        "id": "y1JJEnKdd-67"
      },
      "outputs": [],
      "source": [
        "import torch\n",
        "# create pythorc class for the data\n",
        "\n",
        "class CustomDataset(Dataset):\n",
        "  def __init__(self, df, transform = None, target_transform = None):\n",
        "    self.features = torch.FloatTensor(df.drop(['label','in_datetime','in_datetime_int','val_label'],axis=1).values)\n",
        "    ### standardize the data\n",
        "    mean, std= torch.mean(self.features,0), torch.std(self.features,0)\n",
        "    self.features = (self.features-mean)/std\n",
        "\n",
        "    self.label = df['label'].values\n",
        "    self.in_datetime = df['in_datetime'].values\n",
        "    self.in_datetime_int = df['in_datetime_int'].values\n",
        "    self.val_label = df['val_label'].values\n",
        "    self.transform = transform\n",
        "    self.target_transform = target_transform\n",
        "\n",
        "  def __len__(self):\n",
        "    return len(self.label)\n",
        "\n",
        "  def __getitem__(self, idx):\n",
        "    features = self.features[idx]\n",
        "    label = self.label[idx]\n",
        "    date = self.in_datetime[idx]\n",
        "    val_label = self.val_label[idx]\n",
        "    return {\"label\": label, \"features\": features, \"val_label\":val_label, \"date\":date}\n"
      ]
    },
    {
      "cell_type": "code",
<<<<<<< HEAD
      "execution_count": 36,
=======
      "execution_count": null,
>>>>>>> 3d189448afa4dfed3b5d33bbe800b784bf556fa7
      "metadata": {
        "id": "0O9aZkGqryYP"
      },
      "outputs": [],
      "source": [
        "# define the dataset and split in train and test\n",
        "splits = ['train','test']\n",
        "shuffle = {'train':True,'test':False}\n",
        "dataset = {}\n",
        "\n",
        "df_row_data_converted = df_row_data_converted.drop([144],axis=1)\n",
        "df_row_data_converted = df_row_data_converted.dropna().reset_index(drop=True)\n",
        "\n",
        "good_samples = df_row_data_converted.loc[df_row_data_converted['val_label']==0]\n",
        "bad_samples = df_row_data_converted.loc[df_row_data_converted['val_label']==1]\n",
        "\n",
        "# Test dataframe is made of all bad samples plus an equal number of good ones\n",
        "# test_part_good = good_samples.sample(n = len(bad_samples))\n",
        "# test = pd.concat([test_part_good, bad_samples], axis = 0)\n",
        "test = bad_samples\n",
        "\n",
        "# Train dataframe is made of all good samples \n",
        "# train = good_samples.drop(test_part_good.index)\n",
        "train = good_samples\n",
        "\n",
        "dataset['train'] = CustomDataset(train)\n",
        "dataset['test'] = CustomDataset( test )\n",
        "b_size = {'train':12,'test':len(dataset['test'])}\n",
        "\n",
        "dataloader = {x: torch.utils.data.DataLoader(dataset=dataset[x],\n",
        "                                            batch_size=b_size[x],\n",
        "                                            shuffle=shuffle[x],\n",
        "                                            collate_fn=lambda x: x)\n",
        "                                            #num_workers=int(opt.workers),\n",
        "                                            #drop_last=drop_last_batch[x],\n",
        "                                            #worker_init_fn=(None if opt.manualseed == -1\n",
        "                                            #else lambda x: np.random.seed(opt.manualseed)))\n",
        "            for x in splits}\n",
        "\n",
        "\n"
      ]
    },
    {
      "cell_type": "code",
<<<<<<< HEAD
      "execution_count": 92,
      "metadata": {},
=======
      "execution_count": null,
      "metadata": {
        "id": "ne79lkBPYCAv",
        "outputId": "4f895d83-faaa-445d-d99a-66efdc53b750"
      },
>>>>>>> 3d189448afa4dfed3b5d33bbe800b784bf556fa7
      "outputs": [
        {
          "name": "stdout",
          "output_type": "stream",
          "text": [
            ">> Training model AE_1D.\n"
          ]
        },
        {
          "name": "stderr",
          "output_type": "stream",
          "text": [
            "100%|██████████| 218/218 [00:01<00:00, 114.98it/s]\n"
          ]
        },
        {
          "name": "stdout",
          "output_type": "stream",
          "text": [
            ">> Training model AE_1D. Epoch 1/20\n",
            ">> Training loss: 1.333119511604309\n",
            ">> Validation loss: 0.9828290343284607\n"
          ]
        },
        {
          "name": "stderr",
          "output_type": "stream",
          "text": [
            "100%|██████████| 218/218 [00:01<00:00, 130.15it/s]\n"
          ]
        },
        {
          "name": "stdout",
          "output_type": "stream",
          "text": [
            ">> Training model AE_1D. Epoch 2/20\n",
            ">> Training loss: 1.1684613227844238\n",
            ">> Validation loss: 0.9461193680763245\n"
          ]
        },
        {
          "name": "stderr",
          "output_type": "stream",
          "text": [
            "100%|██████████| 218/218 [00:01<00:00, 139.83it/s]\n"
          ]
        },
        {
          "name": "stdout",
          "output_type": "stream",
          "text": [
            ">> Training model AE_1D. Epoch 3/20\n",
            ">> Training loss: 0.7570241093635559\n",
            ">> Validation loss: 0.8698598146438599\n"
          ]
        },
        {
          "name": "stderr",
          "output_type": "stream",
          "text": [
            "100%|██████████| 218/218 [00:01<00:00, 145.18it/s]\n"
          ]
        },
        {
          "name": "stdout",
          "output_type": "stream",
          "text": [
            ">> Training model AE_1D. Epoch 4/20\n",
            ">> Training loss: 0.9571021199226379\n",
            ">> Validation loss: 0.7437010407447815\n"
          ]
        },
        {
          "name": "stderr",
          "output_type": "stream",
          "text": [
            "100%|██████████| 218/218 [00:01<00:00, 138.07it/s]\n"
          ]
        },
        {
          "name": "stdout",
          "output_type": "stream",
          "text": [
            ">> Training model AE_1D. Epoch 5/20\n",
            ">> Training loss: 0.7918215394020081\n",
            ">> Validation loss: 0.6570494174957275\n"
          ]
        },
        {
          "name": "stderr",
          "output_type": "stream",
          "text": [
            "100%|██████████| 218/218 [00:01<00:00, 133.88it/s]\n"
          ]
        },
        {
          "name": "stdout",
          "output_type": "stream",
          "text": [
            ">> Training model AE_1D. Epoch 6/20\n",
            ">> Training loss: 0.6403114795684814\n",
            ">> Validation loss: 0.5721225142478943\n"
          ]
        },
        {
          "name": "stderr",
          "output_type": "stream",
          "text": [
            "100%|██████████| 218/218 [00:01<00:00, 138.79it/s]\n"
          ]
        },
        {
          "name": "stdout",
          "output_type": "stream",
          "text": [
            ">> Training model AE_1D. Epoch 7/20\n",
            ">> Training loss: 0.6517478227615356\n",
            ">> Validation loss: 0.47298502922058105\n"
          ]
        },
        {
          "name": "stderr",
          "output_type": "stream",
          "text": [
            "100%|██████████| 218/218 [00:01<00:00, 135.09it/s]\n"
          ]
        },
        {
          "name": "stdout",
          "output_type": "stream",
          "text": [
            ">> Training model AE_1D. Epoch 8/20\n",
            ">> Training loss: 0.3612198531627655\n",
            ">> Validation loss: 0.3808992803096771\n"
          ]
        },
        {
          "name": "stderr",
          "output_type": "stream",
          "text": [
            "100%|██████████| 218/218 [00:01<00:00, 120.26it/s]\n"
          ]
        },
        {
          "name": "stdout",
          "output_type": "stream",
          "text": [
            ">> Training model AE_1D. Epoch 9/20\n",
            ">> Training loss: 0.5241361856460571\n",
            ">> Validation loss: 0.31800487637519836\n"
          ]
        },
        {
          "name": "stderr",
          "output_type": "stream",
          "text": [
            "100%|██████████| 218/218 [00:01<00:00, 121.81it/s]\n"
          ]
        },
        {
          "name": "stdout",
          "output_type": "stream",
          "text": [
            ">> Training model AE_1D. Epoch 10/20\n",
            ">> Training loss: 0.49006223678588867\n",
            ">> Validation loss: 0.27302131056785583\n"
          ]
        },
        {
          "name": "stderr",
          "output_type": "stream",
          "text": [
            "100%|██████████| 218/218 [00:01<00:00, 132.67it/s]\n"
          ]
        },
        {
          "name": "stdout",
          "output_type": "stream",
          "text": [
            ">> Training model AE_1D. Epoch 11/20\n",
            ">> Training loss: 0.3954277038574219\n",
            ">> Validation loss: 0.2377728372812271\n"
          ]
        },
        {
          "name": "stderr",
          "output_type": "stream",
          "text": [
            "100%|██████████| 218/218 [00:01<00:00, 134.57it/s]\n"
          ]
        },
        {
          "name": "stdout",
          "output_type": "stream",
          "text": [
            ">> Training model AE_1D. Epoch 12/20\n",
            ">> Training loss: 0.5148361325263977\n",
            ">> Validation loss: 0.2077593058347702\n"
          ]
        },
        {
          "name": "stderr",
          "output_type": "stream",
          "text": [
            "100%|██████████| 218/218 [00:01<00:00, 144.55it/s]\n"
          ]
        },
        {
          "name": "stdout",
          "output_type": "stream",
          "text": [
            ">> Training model AE_1D. Epoch 13/20\n",
            ">> Training loss: 0.29291242361068726\n",
            ">> Validation loss: 0.1824941635131836\n"
          ]
        },
        {
          "name": "stderr",
          "output_type": "stream",
          "text": [
            "100%|██████████| 218/218 [00:01<00:00, 137.57it/s]\n"
          ]
        },
        {
          "name": "stdout",
          "output_type": "stream",
          "text": [
            ">> Training model AE_1D. Epoch 14/20\n",
            ">> Training loss: 0.4007805287837982\n",
            ">> Validation loss: 0.16160692274570465\n"
          ]
        },
        {
          "name": "stderr",
          "output_type": "stream",
          "text": [
            "100%|██████████| 218/218 [00:01<00:00, 141.58it/s]\n"
          ]
        },
        {
          "name": "stdout",
          "output_type": "stream",
          "text": [
            ">> Training model AE_1D. Epoch 15/20\n",
            ">> Training loss: 0.4590366780757904\n",
            ">> Validation loss: 0.14494279026985168\n"
          ]
        },
        {
          "name": "stderr",
          "output_type": "stream",
          "text": [
            "100%|██████████| 218/218 [00:01<00:00, 140.16it/s]\n"
          ]
        },
        {
          "name": "stdout",
          "output_type": "stream",
          "text": [
            ">> Training model AE_1D. Epoch 16/20\n",
            ">> Training loss: 0.4811989963054657\n",
            ">> Validation loss: 0.13213631510734558\n"
          ]
        },
        {
          "name": "stderr",
          "output_type": "stream",
          "text": [
            "100%|██████████| 218/218 [00:01<00:00, 139.69it/s]\n"
          ]
        },
        {
          "name": "stdout",
          "output_type": "stream",
          "text": [
            ">> Training model AE_1D. Epoch 17/20\n",
            ">> Training loss: 0.34901347756385803\n",
            ">> Validation loss: 0.12243099510669708\n"
          ]
        },
        {
          "name": "stderr",
          "output_type": "stream",
          "text": [
            "100%|██████████| 218/218 [00:01<00:00, 143.59it/s]\n"
          ]
        },
        {
          "name": "stdout",
          "output_type": "stream",
          "text": [
            ">> Training model AE_1D. Epoch 18/20\n",
            ">> Training loss: 0.33105385303497314\n",
            ">> Validation loss: 0.11507183313369751\n"
          ]
        },
        {
          "name": "stderr",
          "output_type": "stream",
          "text": [
            "100%|██████████| 218/218 [00:01<00:00, 139.04it/s]\n"
          ]
        },
        {
          "name": "stdout",
          "output_type": "stream",
          "text": [
            ">> Training model AE_1D. Epoch 19/20\n",
            ">> Training loss: 0.3816811144351959\n",
            ">> Validation loss: 0.10938365012407303\n"
          ]
        },
        {
          "name": "stderr",
          "output_type": "stream",
          "text": [
            "100%|██████████| 218/218 [00:01<00:00, 138.52it/s]\n"
          ]
        },
        {
          "name": "stdout",
          "output_type": "stream",
          "text": [
            ">> Training model AE_1D. Epoch 20/20\n",
            ">> Training loss: 0.3753076195716858\n",
            ">> Validation loss: 0.10449466109275818\n",
            ">> Training model AE_1D.[Done]\n"
          ]
        },
        {
          "data": {
            "text/plain": [
              "[<matplotlib.lines.Line2D at 0x7f95f98c4df0>]"
            ]
          },
          "execution_count": 92,
          "metadata": {},
          "output_type": "execute_result"
        },
        {
          "data": {
            "image/png": "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",
            "text/plain": [
              "<Figure size 432x288 with 1 Axes>"
            ]
          },
          "metadata": {
            "needs_background": "light"
          },
          "output_type": "display_data"
        }
      ],
      "source": [
        "from importlib import reload  # Python 3.4+\n",
        "import model_simpleAE\n",
        "model_simpleAE = reload(model_simpleAE)\n",
        "from model_simpleAE import AE_1D\n",
        "from options import Options\n",
        "\n",
        "class configuration(object):\n",
        "    def __init__(self, my_dict):\n",
        "        for key in my_dict:\n",
        "            setattr(self, key, my_dict[key])\n",
        "\n",
        "# LOAD MODEL\n",
        "opt_dict = {\n",
        "    'batchsize': 12,\n",
        "    'isize': 143,\n",
        "    'device': 'cpu',\n",
        "    'name': 'try1', ## name of experiment\n",
        "    'outf': './output', ## path to save the model\n",
        "    'phase': 'train',\n",
        "    'iter': 0, \n",
        "    'niter': 20,\n",
        "    'lr': 1e-5, \n",
        "}\n",
        "\n",
        "opt = configuration(opt_dict)\n",
        "opt.isTrain = True\n",
        "\n",
        "model = AE_1D(opt, dataloader)\n",
        "##\n",
        "# TRAIN MODEL\n",
        "metrics = model.train()\n",
        "\n",
        "metrics = pd.DataFrame(metrics)\n",
        "import matplotlib.pyplot as plt\n",
        "plt.plot(metrics['loss_tr'])\n",
        "plt.plot(metrics['loss_val'])"
      ]
    },
    {
      "cell_type": "code",
      "execution_count": 94,
      "metadata": {},
      "outputs": [
        {
          "name": "stdout",
          "output_type": "stream",
          "text": [
            "0\n"
          ]
        },
        {
          "data": {
            "image/png": "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",
            "text/plain": [
              "<Figure size 432x288 with 1 Axes>"
            ]
          },
          "metadata": {
            "needs_background": "light"
          },
          "output_type": "display_data"
        }
      ],
      "source": [
<<<<<<< HEAD
        "which = 4\n",
=======
        "from importlib import reload  # Python 3.4+\n",
        "import model_simpleAE\n",
        "model_simpleAE = reload(model_simpleAE)\n",
        "from model_simpleAE import AE_1D\n",
        "from options import Options\n",
        "\n",
        "class configuration(object):\n",
        "    def __init__(self, my_dict):\n",
        "        for key in my_dict:\n",
        "            setattr(self, key, my_dict[key])\n",
        "\n",
        "# LOAD MODEL\n",
        "opt_dict = {\n",
        "    'batchsize': 12, \n",
        "    'isize': 96, ## number of features\n",
        "    'device': 'cpu',\n",
        "    'name': 'try1', ## name of experiment\n",
        "    'outf': './output', ## path to save the model\n",
        "    'phase': 'train',\n",
        "    'iter': 0, ## initial iteration step\n",
        "    'niter': 100, ## number of steps\n",
        "    'lr': 1e-5, ## learning rate\n",
        "}\n",
        "\n",
        "opt = configuration(opt_dict)\n",
        "opt.isTrain = True\n",
        "\n",
        "model = AE_1D(opt, dataloader)\n",
        "##\n",
        "# TRAIN MODEL\n",
        "metrics = model.train()\n",
        "\n",
        "metrics = pd.DataFrame(metrics)\n",
        "import matplotlib.pyplot as plt\n",
        "plt.plot(metrics['loss_tr'])\n",
        "plt.plot(metrics['loss_val'])"
      ]
    },
    {
      "cell_type": "code",
      "execution_count": null,
      "metadata": {
        "id": "ol2tAE5RYCAw",
        "outputId": "7c1e2193-3899-4ad6-819b-22f510fcec4c"
      },
      "outputs": [
        {
          "name": "stdout",
          "output_type": "stream",
          "text": [
            "tensor(2420)\n"
          ]
        }
      ],
      "source": [
        "which = 132\n",
        "sample = next(iter(dataloader['test']))\n",
        "sample_tensor = torch.stack([v[\"features\"] for v in sample])\n",
        "# sample_validation = sample['val_label']\n",
        "model.ae.eval()\n",
        "with torch.no_grad():\n",
        "    reconstructed = model.ae(sample_tensor)\n",
        "\n",
        "mse = torch.nn.MSELoss(reduction='none')\n",
        "def l2_loss_batch(x,x_hat):\n",
        "    loss = mse(x,x_hat)\n",
        "    loss = torch.sum(loss, dim=1) \n",
        "    # loss = torch.mean(loss)\n",
        "    return loss\n",
        "test_loss = l2_loss_batch(sample_tensor,reconstructed)\n",
        "print(torch.argmax(test_loss))\n",
        "\n",
        "# print(sample_validation)\n",
        "# plt.plot(sample_tensor)\n",
        "# plt.plot(reconstructed[0])\n",
        "# plt.show()"
      ]
    },
    {
      "cell_type": "code",
      "execution_count": null,
      "metadata": {
        "id": "4cg_ZdBXYCAw"
      },
      "outputs": [],
      "source": [
        "which = 2420\n",
>>>>>>> 3d189448afa4dfed3b5d33bbe800b784bf556fa7
        "sample = next(iter(dataloader['test']))\n",
        "sample_tensor = sample[which]['features']\n",
        "sample_validation = sample[which]['val_label']\n",
        "model.ae.eval()\n",
        "with torch.no_grad():\n",
        "    reconstructed = model.ae(torch.unsqueeze(sample_tensor,0))\n",
        "\n",
        "print(sample_validation)\n",
        "plt.plot(sample_tensor)\n",
        "plt.plot(reconstructed[0])\n",
        "plt.show()"
      ]
    },
    {
      "cell_type": "code",
      "execution_count": null,
      "metadata": {
        "id": "3g942h7xmOun"
      },
      "outputs": [],
      "source": [
        "# save the classes in the typical pytorch class format\n",
        "\n",
        "for i, class_d in enumerate(data_class_arr):\n",
        "  \n",
        "  save(class_d, wk + subfolder + \"split_by_period/\"+str(period_split)+\"h/\"+str(selected_dataset[:-4])+\"/split_\"+str(i)+\".pt\")\n"
      ]
    }
  ],
  "metadata": {
    "colab": {
      "provenance": []
    },
    "kernelspec": {
      "display_name": "Python 3.9.12 ('base')",
      "language": "python",
      "name": "python3"
    },
    "language_info": {
      "codemirror_mode": {
        "name": "ipython",
        "version": 3
      },
      "file_extension": ".py",
      "mimetype": "text/x-python",
      "name": "python",
      "nbconvert_exporter": "python",
      "pygments_lexer": "ipython3",
      "version": "3.9.7"
    },
    "vscode": {
      "interpreter": {
        "hash": "db3b0be3bb1f6db1a0432c56ec1c0f7459936b81fd9ed1b468b8c4ba9c3d8298"
      }
    }
  },
  "nbformat": 4,
  "nbformat_minor": 0
}