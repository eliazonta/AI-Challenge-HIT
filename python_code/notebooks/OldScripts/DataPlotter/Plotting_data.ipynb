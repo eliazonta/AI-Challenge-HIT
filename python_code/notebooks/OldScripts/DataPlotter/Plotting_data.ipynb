{
  "cells": [
    {
      "cell_type": "code",
      "execution_count": 2,
      "metadata": {
        "id": "Oq6wWe-GhPnp"
      },
      "outputs": [],
      "source": [
        "# load libraries\n",
        "import pandas as pd\n",
        "import numpy as np\n",
        "import matplotlib.pyplot as plt\n",
        "from math import nan # importing nan to avoid overlapping in plotting datas\n",
        "from datetime import datetime\n",
        "# from google.colab import drive"
      ]
    },
    {
      "cell_type": "code",
      "execution_count": 2,
      "metadata": {
        "colab": {
          "base_uri": "https://localhost:8080/"
        },
        "id": "5qC11lfjhFnO",
        "outputId": "b180ad76-38b4-49ad-e06e-a0be6770c112"
      },
      "outputs": [
        {
          "name": "stdout",
          "output_type": "stream",
          "text": [
            "Drive already mounted at /content/drive; to attempt to forcibly remount, call drive.mount(\"/content/drive\", force_remount=True).\n"
          ]
        }
      ],
      "source": [
        "drive.mount('/content/drive')"
      ]
    },
    {
      "cell_type": "code",
      "execution_count": 62,
      "metadata": {
        "id": "kbaVgqmyhUXg"
      },
      "outputs": [],
      "source": [
        "# path of our dataframe\n",
        "data_path =  \"../../../temperatura1_A.csv\""
      ]
    },
    {
      "cell_type": "code",
      "execution_count": 68,
      "metadata": {
        "id": "TFdcg_W8iQqH"
      },
      "outputs": [],
      "source": [
        "# loading in pandas dataframe\n",
        "df = pd.read_csv(\n",
        "  data_path,\n",
        "  sep = \";\", # not a CSV, separator is ';'\n",
        "  header = None, # no header\n",
        "  dtype = {'0' : str, '1': str, '2': str, '3' : np.float64, '4':int}\n",
        "  ) \n"
      ]
    },
    {
      "cell_type": "code",
      "execution_count": 69,
      "metadata": {
        "id": "juYu5qLsie5J"
      },
      "outputs": [],
      "source": [
        "# define a header \n",
        "df= df.set_axis(\n",
        "    ['label', 'date', 'time', 'value','validation_code'],\n",
        "    axis = 1,\n",
        "    inplace = False\n",
        "\n",
        ")"
      ]
    },
    {
      "cell_type": "code",
      "execution_count": 70,
      "metadata": {
        "colab": {
          "base_uri": "https://localhost:8080/",
          "height": 424
        },
        "id": "mGOjhUTiita0",
        "outputId": "e11b2394-0162-4cc1-8fab-bd533a493252"
      },
      "outputs": [
        {
          "data": {
            "text/html": [
              "<div>\n",
              "<style scoped>\n",
              "    .dataframe tbody tr th:only-of-type {\n",
              "        vertical-align: middle;\n",
              "    }\n",
              "\n",
              "    .dataframe tbody tr th {\n",
              "        vertical-align: top;\n",
              "    }\n",
              "\n",
              "    .dataframe thead th {\n",
              "        text-align: right;\n",
              "    }\n",
              "</style>\n",
              "<table border=\"1\" class=\"dataframe\">\n",
              "  <thead>\n",
              "    <tr style=\"text-align: right;\">\n",
              "      <th></th>\n",
              "      <th>label</th>\n",
              "      <th>date</th>\n",
              "      <th>time</th>\n",
              "      <th>value</th>\n",
              "      <th>validation_code</th>\n",
              "    </tr>\n",
              "  </thead>\n",
              "  <tbody>\n",
              "    <tr>\n",
              "      <th>0</th>\n",
              "      <td>T0009</td>\n",
              "      <td>01/01/2014</td>\n",
              "      <td>00:00</td>\n",
              "      <td>-2.1</td>\n",
              "      <td>1</td>\n",
              "    </tr>\n",
              "    <tr>\n",
              "      <th>1</th>\n",
              "      <td>T0009</td>\n",
              "      <td>01/01/2014</td>\n",
              "      <td>00:15</td>\n",
              "      <td>-2.3</td>\n",
              "      <td>1</td>\n",
              "    </tr>\n",
              "    <tr>\n",
              "      <th>2</th>\n",
              "      <td>T0009</td>\n",
              "      <td>01/01/2014</td>\n",
              "      <td>00:30</td>\n",
              "      <td>-2.2</td>\n",
              "      <td>1</td>\n",
              "    </tr>\n",
              "    <tr>\n",
              "      <th>3</th>\n",
              "      <td>T0009</td>\n",
              "      <td>01/01/2014</td>\n",
              "      <td>00:45</td>\n",
              "      <td>-2.3</td>\n",
              "      <td>1</td>\n",
              "    </tr>\n",
              "    <tr>\n",
              "      <th>4</th>\n",
              "      <td>T0009</td>\n",
              "      <td>01/01/2014</td>\n",
              "      <td>01:00</td>\n",
              "      <td>-2.5</td>\n",
              "      <td>1</td>\n",
              "    </tr>\n",
              "    <tr>\n",
              "      <th>...</th>\n",
              "      <td>...</td>\n",
              "      <td>...</td>\n",
              "      <td>...</td>\n",
              "      <td>...</td>\n",
              "      <td>...</td>\n",
              "    </tr>\n",
              "    <tr>\n",
              "      <th>11763686</th>\n",
              "      <td>T0227</td>\n",
              "      <td>31/12/2021</td>\n",
              "      <td>22:45</td>\n",
              "      <td>8.1</td>\n",
              "      <td>1</td>\n",
              "    </tr>\n",
              "    <tr>\n",
              "      <th>11763687</th>\n",
              "      <td>T0227</td>\n",
              "      <td>31/12/2021</td>\n",
              "      <td>23:00</td>\n",
              "      <td>8.2</td>\n",
              "      <td>1</td>\n",
              "    </tr>\n",
              "    <tr>\n",
              "      <th>11763688</th>\n",
              "      <td>T0227</td>\n",
              "      <td>31/12/2021</td>\n",
              "      <td>23:15</td>\n",
              "      <td>8.1</td>\n",
              "      <td>1</td>\n",
              "    </tr>\n",
              "    <tr>\n",
              "      <th>11763689</th>\n",
              "      <td>T0227</td>\n",
              "      <td>31/12/2021</td>\n",
              "      <td>23:30</td>\n",
              "      <td>8.0</td>\n",
              "      <td>1</td>\n",
              "    </tr>\n",
              "    <tr>\n",
              "      <th>11763690</th>\n",
              "      <td>T0227</td>\n",
              "      <td>31/12/2021</td>\n",
              "      <td>23:45</td>\n",
              "      <td>8.0</td>\n",
              "      <td>1</td>\n",
              "    </tr>\n",
              "  </tbody>\n",
              "</table>\n",
              "<p>11763691 rows × 5 columns</p>\n",
              "</div>"
            ],
            "text/plain": [
              "          label        date   time  value  validation_code\n",
              "0         T0009  01/01/2014  00:00   -2.1                1\n",
              "1         T0009  01/01/2014  00:15   -2.3                1\n",
              "2         T0009  01/01/2014  00:30   -2.2                1\n",
              "3         T0009  01/01/2014  00:45   -2.3                1\n",
              "4         T0009  01/01/2014  01:00   -2.5                1\n",
              "...         ...         ...    ...    ...              ...\n",
              "11763686  T0227  31/12/2021  22:45    8.1                1\n",
              "11763687  T0227  31/12/2021  23:00    8.2                1\n",
              "11763688  T0227  31/12/2021  23:15    8.1                1\n",
              "11763689  T0227  31/12/2021  23:30    8.0                1\n",
              "11763690  T0227  31/12/2021  23:45    8.0                1\n",
              "\n",
              "[11763691 rows x 5 columns]"
            ]
          },
          "execution_count": 70,
          "metadata": {},
          "output_type": "execute_result"
        }
      ],
      "source": [
        "df #Printing table"
      ]
    },
    {
      "cell_type": "code",
      "execution_count": 71,
      "metadata": {
        "id": "IJdoMHbf6m1k"
      },
      "outputs": [
        {
          "name": "stdout",
          "output_type": "stream",
          "text": [
            "(array([0, 1]), array([    0, 43394]), array([11725330,    38361]))\n"
          ]
        }
      ],
      "source": [
        "# Reducing every validation code in good or bad\n",
        "# 0 \"good\", 1 \"bad\"\n",
        "df[\"validation_code\"] = np.where(df[\"validation_code\"] == 1, 0, 1)\n",
        "print(np.unique(df[\"validation_code\"],return_counts=True,return_index=True))"
      ]
    },
    {
      "cell_type": "code",
      "execution_count": 72,
      "metadata": {},
      "outputs": [
        {
          "name": "stdout",
          "output_type": "stream",
          "text": [
            "label                   T0009\n",
            "date               29/03/2015\n",
            "time                    01:30\n",
            "value                     0.0\n",
            "validation_code             1\n",
            "Name: 43394, dtype: object\n"
          ]
        }
      ],
      "source": [
        "print(df.iloc[43394])"
      ]
    },
    {
      "cell_type": "code",
      "execution_count": 76,
      "metadata": {
        "id": "hmpSHqZEkXp4"
      },
      "outputs": [
        {
          "data": {
            "text/html": [
              "<div>\n",
              "<style scoped>\n",
              "    .dataframe tbody tr th:only-of-type {\n",
              "        vertical-align: middle;\n",
              "    }\n",
              "\n",
              "    .dataframe tbody tr th {\n",
              "        vertical-align: top;\n",
              "    }\n",
              "\n",
              "    .dataframe thead th {\n",
              "        text-align: right;\n",
              "    }\n",
              "</style>\n",
              "<table border=\"1\" class=\"dataframe\">\n",
              "  <thead>\n",
              "    <tr style=\"text-align: right;\">\n",
              "      <th></th>\n",
              "      <th>label</th>\n",
              "      <th>date</th>\n",
              "      <th>time</th>\n",
              "      <th>value</th>\n",
              "      <th>validation_code</th>\n",
              "    </tr>\n",
              "  </thead>\n",
              "  <tbody>\n",
              "    <tr>\n",
              "      <th>43390</th>\n",
              "      <td>T0009</td>\n",
              "      <td>2015-03-29</td>\n",
              "      <td>00:00</td>\n",
              "      <td>7.2</td>\n",
              "      <td>0</td>\n",
              "    </tr>\n",
              "    <tr>\n",
              "      <th>43391</th>\n",
              "      <td>T0009</td>\n",
              "      <td>2015-03-29</td>\n",
              "      <td>00:15</td>\n",
              "      <td>7.3</td>\n",
              "      <td>0</td>\n",
              "    </tr>\n",
              "    <tr>\n",
              "      <th>43392</th>\n",
              "      <td>T0009</td>\n",
              "      <td>2015-03-29</td>\n",
              "      <td>00:30</td>\n",
              "      <td>6.7</td>\n",
              "      <td>0</td>\n",
              "    </tr>\n",
              "    <tr>\n",
              "      <th>43393</th>\n",
              "      <td>T0009</td>\n",
              "      <td>2015-03-29</td>\n",
              "      <td>00:45</td>\n",
              "      <td>6.4</td>\n",
              "      <td>0</td>\n",
              "    </tr>\n",
              "    <tr>\n",
              "      <th>43394</th>\n",
              "      <td>T0009</td>\n",
              "      <td>2015-03-29</td>\n",
              "      <td>01:30</td>\n",
              "      <td>0.0</td>\n",
              "      <td>1</td>\n",
              "    </tr>\n",
              "    <tr>\n",
              "      <th>...</th>\n",
              "      <td>...</td>\n",
              "      <td>...</td>\n",
              "      <td>...</td>\n",
              "      <td>...</td>\n",
              "      <td>...</td>\n",
              "    </tr>\n",
              "    <tr>\n",
              "      <th>43477</th>\n",
              "      <td>T0009</td>\n",
              "      <td>2015-03-29</td>\n",
              "      <td>22:45</td>\n",
              "      <td>6.4</td>\n",
              "      <td>0</td>\n",
              "    </tr>\n",
              "    <tr>\n",
              "      <th>43478</th>\n",
              "      <td>T0009</td>\n",
              "      <td>2015-03-29</td>\n",
              "      <td>23:00</td>\n",
              "      <td>6.2</td>\n",
              "      <td>0</td>\n",
              "    </tr>\n",
              "    <tr>\n",
              "      <th>43479</th>\n",
              "      <td>T0009</td>\n",
              "      <td>2015-03-29</td>\n",
              "      <td>23:15</td>\n",
              "      <td>6.4</td>\n",
              "      <td>0</td>\n",
              "    </tr>\n",
              "    <tr>\n",
              "      <th>43480</th>\n",
              "      <td>T0009</td>\n",
              "      <td>2015-03-29</td>\n",
              "      <td>23:30</td>\n",
              "      <td>6.1</td>\n",
              "      <td>0</td>\n",
              "    </tr>\n",
              "    <tr>\n",
              "      <th>43481</th>\n",
              "      <td>T0009</td>\n",
              "      <td>2015-03-29</td>\n",
              "      <td>23:45</td>\n",
              "      <td>5.8</td>\n",
              "      <td>0</td>\n",
              "    </tr>\n",
              "  </tbody>\n",
              "</table>\n",
              "<p>92 rows × 5 columns</p>\n",
              "</div>"
            ],
            "text/plain": [
              "       label       date   time  value  validation_code\n",
              "43390  T0009 2015-03-29  00:00    7.2                0\n",
              "43391  T0009 2015-03-29  00:15    7.3                0\n",
              "43392  T0009 2015-03-29  00:30    6.7                0\n",
              "43393  T0009 2015-03-29  00:45    6.4                0\n",
              "43394  T0009 2015-03-29  01:30    0.0                1\n",
              "...      ...        ...    ...    ...              ...\n",
              "43477  T0009 2015-03-29  22:45    6.4                0\n",
              "43478  T0009 2015-03-29  23:00    6.2                0\n",
              "43479  T0009 2015-03-29  23:15    6.4                0\n",
              "43480  T0009 2015-03-29  23:30    6.1                0\n",
              "43481  T0009 2015-03-29  23:45    5.8                0\n",
              "\n",
              "[92 rows x 5 columns]"
            ]
          },
          "execution_count": 76,
          "metadata": {},
          "output_type": "execute_result"
        }
      ],
      "source": [
        "string_to_plot = \"29/03/2015\" #@param {type:\"string\"}\n",
        "station_num = \"T0009\" #@param {type:\"string\"}\n",
        "\n",
        "# Converting string in to datetime\n",
        "df['date'] = pd.to_datetime(df['date'], format = '%d/%m/%Y')\n",
        "date_to_plot = datetime.strptime(string_to_plot, '%d/%m/%Y')\n",
        "\n",
        "# Create a dataframe of only that station in that day\n",
        "df_filtered = df[(df['label'] == station_num) &\n",
        "                  (df['date'] == date_to_plot)]\n",
        "\n",
        "# Split good and bad data into 2 samples \n",
        "# y_good_samples = np.where(df_filtered[\"validation_code\"] == 0, df_filtered.value, nan)\n",
        "y_signal = df_filtered.value\n",
        "# y_bad_samples = np.where(df_filtered[\"validation_code\"] == 0, nan, df_filtered.value)\n",
        "y_outliers = np.where(df_filtered[\"validation_code\"] == 0, nan, df_filtered.value)\n",
        "\n",
        "# Define the x axis value\n",
        "x_plot = df_filtered.time\n",
        "df_filtered"
      ]
    },
    {
      "cell_type": "code",
      "execution_count": 78,
      "metadata": {
        "colab": {
          "base_uri": "https://localhost:8080/",
          "height": 292
        },
        "id": "7PsLHRy92cQk",
        "outputId": "352ac387-0a2b-4a1a-afd0-4379d16fae23"
      },
      "outputs": [
        {
          "name": "stderr",
          "output_type": "stream",
          "text": [
            "/tmp/ipykernel_935/2245474891.py:15: UserWarning: FixedFormatter should only be used together with FixedLocator\n",
            "  ax.set_xticklabels(x_plot,rotation=30)\n"
          ]
        },
        {
          "data": {
            "image/png": "[encoded data removed]",
            "text/plain": [
              "<Figure size 3600x720 with 1 Axes>"
            ]
          },
          "metadata": {
            "needs_background": "light"
          },
          "output_type": "display_data"
        }
      ],
      "source": [
        "# Reshaping the plot\n",
        "f = plt.figure()\n",
        "f.set_figwidth(50)\n",
        "f.set_figheight(10)\n",
        "\n",
        "# Create subplot\n",
        "ax = plt.subplot()\n",
        "\n",
        "# Set labels\n",
        "plt.title('Anomalie il ' +string_to_plot ,fontsize = 26)\n",
        "plt.ylabel('value')\n",
        "plt.xlabel('time')\n",
        "\n",
        "# Define tick label to avoid overlapping\n",
        "ax.set_xticklabels(x_plot,rotation=30)\n",
        "\n",
        "# Plotting datas with different markers\n",
        "plt.plot(x_plot, y_signal, \"o-\",ms=8,color=\"blue\")\t\n",
        "plt.plot(x_plot, y_outliers, \"x-\",ms=15,mew=10,color=\"red\")\n",
        "\n",
        "# Making a legend\n",
        "ax.legend(['Good values', 'Bad values'], prop={'size': 26})\n",
        "\n",
        "# Visualize\n",
        "plt.show()"
      ]
    }
  ],
  "metadata": {
    "colab": {
      "provenance": []
    },
    "kernelspec": {
      "display_name": "Python 3.9.12 ('base')",
      "language": "python",
      "name": "python3"
    },
    "language_info": {
      "codemirror_mode": {
        "name": "ipython",
        "version": 3
      },
      "file_extension": ".py",
      "mimetype": "text/x-python",
      "name": "python",
      "nbconvert_exporter": "python",
      "pygments_lexer": "ipython3",
      "version": "3.9.7"
    },
    "vscode": {
      "interpreter": {
        "hash": "db3b0be3bb1f6db1a0432c56ec1c0f7459936b81fd9ed1b468b8c4ba9c3d8298"
      }
    }
  },
  "nbformat": 4,
  "nbformat_minor": 0
}
