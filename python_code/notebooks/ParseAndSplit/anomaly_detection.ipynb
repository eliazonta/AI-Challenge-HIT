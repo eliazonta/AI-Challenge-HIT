{
  "cells": [
    {
      "cell_type": "code",
      "execution_count": 20,
      "metadata": {
        "id": "UHZ5dgtBUukH"
      },
      "outputs": [],
      "source": [
        "# load libraries\n",
        "import pandas as pd\n",
        "import os\n",
        "import numpy as np\n",
        "import datetime\n",
        "# from google.colab import drive\n",
        "from torch.utils.data import Dataset, DataLoader\n",
        "from torch import save"
      ]
    },
    {
      "cell_type": "code",
      "execution_count": 2,
      "metadata": {
        "colab": {
          "base_uri": "https://localhost:8080/"
        },
        "id": "0d21WFZCV19F",
        "outputId": "1173ee33-c071-49d0-c816-0d93d1d3ccd0"
      },
      "outputs": [
        {
          "name": "stdout",
          "output_type": "stream",
          "text": [
            "Drive already mounted at /content/drive; to attempt to forcibly remount, call drive.mount(\"/content/drive\", force_remount=True).\n"
          ]
        }
      ],
      "source": [
        "# mount drive\n",
        "drive.mount('/content/drive')"
      ]
    },
    {
      "cell_type": "code",
      "execution_count": 3,
      "metadata": {
        "id": "EdTf6K23VyxH"
      },
      "outputs": [],
      "source": [
        "# change me, have to point to the Meteotrentino drive folder\n",
        "wk =  \"/content/drive/My Drive/10. Meteotrentino/\"\n",
        "\n",
        "# folder for the csv\n",
        "subfolder = \"CSVs/\"\n",
        "\n",
        "# select the filename, make me dynamic\n",
        "selected_dataset = \"temperature.csv\""
      ]
    },
    {
      "cell_type": "code",
      "execution_count": 21,
      "metadata": {
        "id": "2OMJvpn3VN8J"
      },
      "outputs": [],
      "source": [
        "# data_path = wk+subfolder+selected_dataset\n",
        "data_path = \"../../../temperatura2_A.csv\""
      ]
    },
    {
      "cell_type": "code",
      "execution_count": 22,
      "metadata": {
        "id": "1UMaZX3Ud1Q8"
      },
      "outputs": [],
      "source": [
        "df_row_data = pd.read_csv(\n",
        "  data_path,\n",
        "  sep = \";\", # not a CSV, separator is ';'\n",
        "  header = None, # no header\n",
        "  dtype = {'0' : str, '1': str, '2': str, '3' : np.float64, '4':int} # Daniele: added the validation code so we can train on validated data (no need of classes, just distinguish between good and bad data)\n",
        "  ) \n",
        "\n"
      ]
    },
    {
      "cell_type": "code",
      "execution_count": 23,
      "metadata": {
        "id": "lm8SzZOFhPAS"
      },
      "outputs": [],
      "source": [
        "# define a header \n",
        "df_row_data = df_row_data.set_axis(\n",
        "    ['label', 'date', 'time', 'value','validation_code'],\n",
        "    axis = 1,\n",
        "    inplace = False\n",
        "\n",
        ")"
      ]
    },
    {
      "cell_type": "code",
      "execution_count": 24,
      "metadata": {
        "id": "ZeP4DqRid9uB"
      },
      "outputs": [],
      "source": [
        "df_row_data['datetime'] = pd.to_datetime(df_row_data['date']+\" \"+df_row_data['time'], format = '%d/%m/%Y %H:%M')\n"
      ]
    },
    {
      "cell_type": "code",
      "execution_count": 25,
      "metadata": {
        "colab": {
          "base_uri": "https://localhost:8080/",
          "height": 479
        },
        "id": "y8babb6JomG1",
        "outputId": "48fd8a47-813a-44ba-d901-33fd65758aa3"
      },
      "outputs": [
        {
          "data": {
            "text/html": [
              "<div>\n",
              "<style scoped>\n",
              "    .dataframe tbody tr th:only-of-type {\n",
              "        vertical-align: middle;\n",
              "    }\n",
              "\n",
              "    .dataframe tbody tr th {\n",
              "        vertical-align: top;\n",
              "    }\n",
              "\n",
              "    .dataframe thead th {\n",
              "        text-align: right;\n",
              "    }\n",
              "</style>\n",
              "<table border=\"1\" class=\"dataframe\">\n",
              "  <thead>\n",
              "    <tr style=\"text-align: right;\">\n",
              "      <th></th>\n",
              "      <th>label</th>\n",
              "      <th>date</th>\n",
              "      <th>time</th>\n",
              "      <th>value</th>\n",
              "      <th>validation_code</th>\n",
              "      <th>datetime</th>\n",
              "      <th>datetime_enconded</th>\n",
              "    </tr>\n",
              "  </thead>\n",
              "  <tbody>\n",
              "    <tr>\n",
              "      <th>0</th>\n",
              "      <td>T0229</td>\n",
              "      <td>01/01/2014</td>\n",
              "      <td>00:00</td>\n",
              "      <td>-7.5</td>\n",
              "      <td>1</td>\n",
              "      <td>2014-01-01 00:00:00</td>\n",
              "      <td>1388534400</td>\n",
              "    </tr>\n",
              "    <tr>\n",
              "      <th>1</th>\n",
              "      <td>T0229</td>\n",
              "      <td>01/01/2014</td>\n",
              "      <td>00:15</td>\n",
              "      <td>-9.3</td>\n",
              "      <td>1</td>\n",
              "      <td>2014-01-01 00:15:00</td>\n",
              "      <td>1388535300</td>\n",
              "    </tr>\n",
              "    <tr>\n",
              "      <th>2</th>\n",
              "      <td>T0229</td>\n",
              "      <td>01/01/2014</td>\n",
              "      <td>00:30</td>\n",
              "      <td>-6.4</td>\n",
              "      <td>1</td>\n",
              "      <td>2014-01-01 00:30:00</td>\n",
              "      <td>1388536200</td>\n",
              "    </tr>\n",
              "    <tr>\n",
              "      <th>3</th>\n",
              "      <td>T0229</td>\n",
              "      <td>01/01/2014</td>\n",
              "      <td>00:45</td>\n",
              "      <td>-7.7</td>\n",
              "      <td>1</td>\n",
              "      <td>2014-01-01 00:45:00</td>\n",
              "      <td>1388537100</td>\n",
              "    </tr>\n",
              "    <tr>\n",
              "      <th>4</th>\n",
              "      <td>T0229</td>\n",
              "      <td>01/01/2014</td>\n",
              "      <td>01:00</td>\n",
              "      <td>-7.1</td>\n",
              "      <td>1</td>\n",
              "      <td>2014-01-01 01:00:00</td>\n",
              "      <td>1388538000</td>\n",
              "    </tr>\n",
              "    <tr>\n",
              "      <th>...</th>\n",
              "      <td>...</td>\n",
              "      <td>...</td>\n",
              "      <td>...</td>\n",
              "      <td>...</td>\n",
              "      <td>...</td>\n",
              "      <td>...</td>\n",
              "      <td>...</td>\n",
              "    </tr>\n",
              "    <tr>\n",
              "      <th>11606963</th>\n",
              "      <td>T0429</td>\n",
              "      <td>31/12/2021</td>\n",
              "      <td>22:45</td>\n",
              "      <td>8.0</td>\n",
              "      <td>1</td>\n",
              "      <td>2021-12-31 22:45:00</td>\n",
              "      <td>1640990700</td>\n",
              "    </tr>\n",
              "    <tr>\n",
              "      <th>11606964</th>\n",
              "      <td>T0429</td>\n",
              "      <td>31/12/2021</td>\n",
              "      <td>23:00</td>\n",
              "      <td>5.1</td>\n",
              "      <td>1</td>\n",
              "      <td>2021-12-31 23:00:00</td>\n",
              "      <td>1640991600</td>\n",
              "    </tr>\n",
              "    <tr>\n",
              "      <th>11606965</th>\n",
              "      <td>T0429</td>\n",
              "      <td>31/12/2021</td>\n",
              "      <td>23:15</td>\n",
              "      <td>3.4</td>\n",
              "      <td>1</td>\n",
              "      <td>2021-12-31 23:15:00</td>\n",
              "      <td>1640992500</td>\n",
              "    </tr>\n",
              "    <tr>\n",
              "      <th>11606966</th>\n",
              "      <td>T0429</td>\n",
              "      <td>31/12/2021</td>\n",
              "      <td>23:30</td>\n",
              "      <td>6.2</td>\n",
              "      <td>1</td>\n",
              "      <td>2021-12-31 23:30:00</td>\n",
              "      <td>1640993400</td>\n",
              "    </tr>\n",
              "    <tr>\n",
              "      <th>11606967</th>\n",
              "      <td>T0429</td>\n",
              "      <td>31/12/2021</td>\n",
              "      <td>23:45</td>\n",
              "      <td>6.0</td>\n",
              "      <td>1</td>\n",
              "      <td>2021-12-31 23:45:00</td>\n",
              "      <td>1640994300</td>\n",
              "    </tr>\n",
              "  </tbody>\n",
              "</table>\n",
              "<p>11606968 rows × 7 columns</p>\n",
              "</div>"
            ],
            "text/plain": [
              "          label        date   time  value  validation_code  \\\n",
              "0         T0229  01/01/2014  00:00   -7.5                1   \n",
              "1         T0229  01/01/2014  00:15   -9.3                1   \n",
              "2         T0229  01/01/2014  00:30   -6.4                1   \n",
              "3         T0229  01/01/2014  00:45   -7.7                1   \n",
              "4         T0229  01/01/2014  01:00   -7.1                1   \n",
              "...         ...         ...    ...    ...              ...   \n",
              "11606963  T0429  31/12/2021  22:45    8.0                1   \n",
              "11606964  T0429  31/12/2021  23:00    5.1                1   \n",
              "11606965  T0429  31/12/2021  23:15    3.4                1   \n",
              "11606966  T0429  31/12/2021  23:30    6.2                1   \n",
              "11606967  T0429  31/12/2021  23:45    6.0                1   \n",
              "\n",
              "                    datetime  datetime_enconded  \n",
              "0        2014-01-01 00:00:00         1388534400  \n",
              "1        2014-01-01 00:15:00         1388535300  \n",
              "2        2014-01-01 00:30:00         1388536200  \n",
              "3        2014-01-01 00:45:00         1388537100  \n",
              "4        2014-01-01 01:00:00         1388538000  \n",
              "...                      ...                ...  \n",
              "11606963 2021-12-31 22:45:00         1640990700  \n",
              "11606964 2021-12-31 23:00:00         1640991600  \n",
              "11606965 2021-12-31 23:15:00         1640992500  \n",
              "11606966 2021-12-31 23:30:00         1640993400  \n",
              "11606967 2021-12-31 23:45:00         1640994300  \n",
              "\n",
              "[11606968 rows x 7 columns]"
            ]
          },
          "execution_count": 25,
          "metadata": {},
          "output_type": "execute_result"
        }
      ],
      "source": [
        "# econde the date as integer\n",
        "df_row_data['datetime_enconded'] = np.int64(df_row_data['datetime'].astype(int)/10**9)\n",
        "df_row_data"
      ]
    },
    {
      "cell_type": "code",
      "execution_count": 26,
      "metadata": {
        "colab": {
          "base_uri": "https://localhost:8080/"
        },
        "id": "_wVzzW1ocnOJ",
        "outputId": "761cfff2-5577-4c5e-f272-a0a3b3723003"
      },
      "outputs": [
        {
          "name": "stderr",
          "output_type": "stream",
          "text": [
            "/tmp/ipykernel_28921/1736077991.py:23: SettingWithCopyWarning: \n",
            "A value is trying to be set on a copy of a slice from a DataFrame\n",
            "\n",
            "See the caveats in the documentation: https://pandas.pydata.org/pandas-docs/stable/user_guide/indexing.html#returning-a-view-versus-a-copy\n",
            "  df_row_data['period_index'][(df_row_data['datetime'] < offset_data) & (df_row_data['datetime'] >= current_data)] = i\n"
          ]
        }
      ],
      "source": [
        "# split the dataframe by date\n",
        "\n",
        "date_start = df_row_data['datetime'].min()\n",
        "\n",
        "date_end = df_row_data['datetime'].max()\n",
        "\n",
        "\n",
        "# period\n",
        "period_split = 24 #hours\n",
        "\n",
        "current_data = date_start\n",
        "\n",
        "df_row_data['period_index'] = [-1]*len(df_row_data['datetime'])\n",
        "\n",
        "i = 0\n",
        "while current_data < date_end:\n",
        "\n",
        "  offset_data = current_data+ pd.offsets.Hour(period_split)\n",
        "  \n",
        "  df_row_data['period_index'][(df_row_data['datetime'] < offset_data) & (df_row_data['datetime'] >= current_data)] = i\n",
        "\n",
        "  current_data = offset_data\n",
        "  i = i+1\n"
      ]
    },
    {
      "cell_type": "code",
      "execution_count": null,
      "metadata": {},
      "outputs": [
        {
          "data": {
            "text/html": [
              "<div>\n",
              "<style scoped>\n",
              "    .dataframe tbody tr th:only-of-type {\n",
              "        vertical-align: middle;\n",
              "    }\n",
              "\n",
              "    .dataframe tbody tr th {\n",
              "        vertical-align: top;\n",
              "    }\n",
              "\n",
              "    .dataframe thead th {\n",
              "        text-align: right;\n",
              "    }\n",
              "</style>\n",
              "<table border=\"1\" class=\"dataframe\">\n",
              "  <thead>\n",
              "    <tr style=\"text-align: right;\">\n",
              "      <th></th>\n",
              "      <th>label</th>\n",
              "      <th>date</th>\n",
              "      <th>time</th>\n",
              "      <th>value</th>\n",
              "      <th>validation_code</th>\n",
              "      <th>datetime</th>\n",
              "      <th>datetime_enconded</th>\n",
              "      <th>period_index</th>\n",
              "    </tr>\n",
              "  </thead>\n",
              "  <tbody>\n",
              "    <tr>\n",
              "      <th>11326645</th>\n",
              "      <td>T0429</td>\n",
              "      <td>01/01/2014</td>\n",
              "      <td>00:00</td>\n",
              "      <td>-12.4</td>\n",
              "      <td>1</td>\n",
              "      <td>2014-01-01 00:00:00</td>\n",
              "      <td>1388534400</td>\n",
              "      <td>0</td>\n",
              "    </tr>\n",
              "    <tr>\n",
              "      <th>11326646</th>\n",
              "      <td>T0429</td>\n",
              "      <td>01/01/2014</td>\n",
              "      <td>00:15</td>\n",
              "      <td>-11.9</td>\n",
              "      <td>1</td>\n",
              "      <td>2014-01-01 00:15:00</td>\n",
              "      <td>1388535300</td>\n",
              "      <td>0</td>\n",
              "    </tr>\n",
              "    <tr>\n",
              "      <th>11326647</th>\n",
              "      <td>T0429</td>\n",
              "      <td>01/01/2014</td>\n",
              "      <td>00:30</td>\n",
              "      <td>-11.2</td>\n",
              "      <td>1</td>\n",
              "      <td>2014-01-01 00:30:00</td>\n",
              "      <td>1388536200</td>\n",
              "      <td>0</td>\n",
              "    </tr>\n",
              "    <tr>\n",
              "      <th>11326648</th>\n",
              "      <td>T0429</td>\n",
              "      <td>01/01/2014</td>\n",
              "      <td>00:45</td>\n",
              "      <td>-11.7</td>\n",
              "      <td>1</td>\n",
              "      <td>2014-01-01 00:45:00</td>\n",
              "      <td>1388537100</td>\n",
              "      <td>0</td>\n",
              "    </tr>\n",
              "    <tr>\n",
              "      <th>11326649</th>\n",
              "      <td>T0429</td>\n",
              "      <td>01/01/2014</td>\n",
              "      <td>01:00</td>\n",
              "      <td>-12.2</td>\n",
              "      <td>1</td>\n",
              "      <td>2014-01-01 01:00:00</td>\n",
              "      <td>1388538000</td>\n",
              "      <td>0</td>\n",
              "    </tr>\n",
              "    <tr>\n",
              "      <th>...</th>\n",
              "      <td>...</td>\n",
              "      <td>...</td>\n",
              "      <td>...</td>\n",
              "      <td>...</td>\n",
              "      <td>...</td>\n",
              "      <td>...</td>\n",
              "      <td>...</td>\n",
              "      <td>...</td>\n",
              "    </tr>\n",
              "    <tr>\n",
              "      <th>11606963</th>\n",
              "      <td>T0429</td>\n",
              "      <td>31/12/2021</td>\n",
              "      <td>22:45</td>\n",
              "      <td>8.0</td>\n",
              "      <td>1</td>\n",
              "      <td>2021-12-31 22:45:00</td>\n",
              "      <td>1640990700</td>\n",
              "      <td>2921</td>\n",
              "    </tr>\n",
              "    <tr>\n",
              "      <th>11606964</th>\n",
              "      <td>T0429</td>\n",
              "      <td>31/12/2021</td>\n",
              "      <td>23:00</td>\n",
              "      <td>5.1</td>\n",
              "      <td>1</td>\n",
              "      <td>2021-12-31 23:00:00</td>\n",
              "      <td>1640991600</td>\n",
              "      <td>2921</td>\n",
              "    </tr>\n",
              "    <tr>\n",
              "      <th>11606965</th>\n",
              "      <td>T0429</td>\n",
              "      <td>31/12/2021</td>\n",
              "      <td>23:15</td>\n",
              "      <td>3.4</td>\n",
              "      <td>1</td>\n",
              "      <td>2021-12-31 23:15:00</td>\n",
              "      <td>1640992500</td>\n",
              "      <td>2921</td>\n",
              "    </tr>\n",
              "    <tr>\n",
              "      <th>11606966</th>\n",
              "      <td>T0429</td>\n",
              "      <td>31/12/2021</td>\n",
              "      <td>23:30</td>\n",
              "      <td>6.2</td>\n",
              "      <td>1</td>\n",
              "      <td>2021-12-31 23:30:00</td>\n",
              "      <td>1640993400</td>\n",
              "      <td>2921</td>\n",
              "    </tr>\n",
              "    <tr>\n",
              "      <th>11606967</th>\n",
              "      <td>T0429</td>\n",
              "      <td>31/12/2021</td>\n",
              "      <td>23:45</td>\n",
              "      <td>6.0</td>\n",
              "      <td>1</td>\n",
              "      <td>2021-12-31 23:45:00</td>\n",
              "      <td>1640994300</td>\n",
              "      <td>2921</td>\n",
              "    </tr>\n",
              "  </tbody>\n",
              "</table>\n",
              "<p>280323 rows × 8 columns</p>\n",
              "</div>"
            ],
            "text/plain": [
              "          label        date   time  value  validation_code  \\\n",
              "11326645  T0429  01/01/2014  00:00  -12.4                1   \n",
              "11326646  T0429  01/01/2014  00:15  -11.9                1   \n",
              "11326647  T0429  01/01/2014  00:30  -11.2                1   \n",
              "11326648  T0429  01/01/2014  00:45  -11.7                1   \n",
              "11326649  T0429  01/01/2014  01:00  -12.2                1   \n",
              "...         ...         ...    ...    ...              ...   \n",
              "11606963  T0429  31/12/2021  22:45    8.0                1   \n",
              "11606964  T0429  31/12/2021  23:00    5.1                1   \n",
              "11606965  T0429  31/12/2021  23:15    3.4                1   \n",
              "11606966  T0429  31/12/2021  23:30    6.2                1   \n",
              "11606967  T0429  31/12/2021  23:45    6.0                1   \n",
              "\n",
              "                    datetime  datetime_enconded  period_index  \n",
              "11326645 2014-01-01 00:00:00         1388534400             0  \n",
              "11326646 2014-01-01 00:15:00         1388535300             0  \n",
              "11326647 2014-01-01 00:30:00         1388536200             0  \n",
              "11326648 2014-01-01 00:45:00         1388537100             0  \n",
              "11326649 2014-01-01 01:00:00         1388538000             0  \n",
              "...                      ...                ...           ...  \n",
              "11606963 2021-12-31 22:45:00         1640990700          2921  \n",
              "11606964 2021-12-31 23:00:00         1640991600          2921  \n",
              "11606965 2021-12-31 23:15:00         1640992500          2921  \n",
              "11606966 2021-12-31 23:30:00         1640993400          2921  \n",
              "11606967 2021-12-31 23:45:00         1640994300          2921  \n",
              "\n",
              "[280323 rows x 8 columns]"
            ]
          },
          "execution_count": 69,
          "metadata": {},
          "output_type": "execute_result"
        }
      ],
      "source": [
        "df_row_data.loc[df_row_data['label']=='T0429']\n",
        "print( np.unique(df_row_data['label']))"
      ]
    },
    {
      "cell_type": "markdown",
      "metadata": {
        "id": "oCWa6VKCfsm2"
      },
      "source": []
    },
    {
      "cell_type": "code",
      "execution_count": 75,
      "metadata": {
        "id": "pVSUTFnJjwgg"
      },
      "outputs": [
        {
          "name": "stdout",
          "output_type": "stream",
          "text": [
            "T0357\n"
          ]
        },
        {
          "data": {
            "text/html": [
              "<div>\n",
              "<style scoped>\n",
              "    .dataframe tbody tr th:only-of-type {\n",
              "        vertical-align: middle;\n",
              "    }\n",
              "\n",
              "    .dataframe tbody tr th {\n",
              "        vertical-align: top;\n",
              "    }\n",
              "\n",
              "    .dataframe thead th {\n",
              "        text-align: right;\n",
              "    }\n",
              "</style>\n",
              "<table border=\"1\" class=\"dataframe\">\n",
              "  <thead>\n",
              "    <tr style=\"text-align: right;\">\n",
              "      <th></th>\n",
              "      <th>label</th>\n",
              "      <th>in_datetime</th>\n",
              "      <th>in_datetime_int</th>\n",
              "      <th>val_label</th>\n",
              "      <th>0</th>\n",
              "      <th>1</th>\n",
              "      <th>2</th>\n",
              "      <th>3</th>\n",
              "      <th>4</th>\n",
              "      <th>5</th>\n",
              "      <th>...</th>\n",
              "      <th>86</th>\n",
              "      <th>87</th>\n",
              "      <th>88</th>\n",
              "      <th>89</th>\n",
              "      <th>90</th>\n",
              "      <th>91</th>\n",
              "      <th>92</th>\n",
              "      <th>93</th>\n",
              "      <th>94</th>\n",
              "      <th>95</th>\n",
              "    </tr>\n",
              "  </thead>\n",
              "  <tbody>\n",
              "    <tr>\n",
              "      <th>45</th>\n",
              "      <td>T0357</td>\n",
              "      <td>2014-02-15</td>\n",
              "      <td>1392422400</td>\n",
              "      <td>bad</td>\n",
              "      <td>-8.7</td>\n",
              "      <td>-9.1</td>\n",
              "      <td>-9.4</td>\n",
              "      <td>-9.5</td>\n",
              "      <td>-9.5</td>\n",
              "      <td>-9.4</td>\n",
              "      <td>...</td>\n",
              "      <td>-1.7</td>\n",
              "      <td>-1.7</td>\n",
              "      <td>-1.7</td>\n",
              "      <td>-1.7</td>\n",
              "      <td>-1.7</td>\n",
              "      <td>-1.7</td>\n",
              "      <td>-1.7</td>\n",
              "      <td>-1.7</td>\n",
              "      <td>-1.7</td>\n",
              "      <td>-1.7</td>\n",
              "    </tr>\n",
              "    <tr>\n",
              "      <th>46</th>\n",
              "      <td>T0357</td>\n",
              "      <td>2014-02-16</td>\n",
              "      <td>1392508800</td>\n",
              "      <td>bad</td>\n",
              "      <td>-1.6</td>\n",
              "      <td>-1.6</td>\n",
              "      <td>-1.6</td>\n",
              "      <td>-1.6</td>\n",
              "      <td>-1.6</td>\n",
              "      <td>-1.6</td>\n",
              "      <td>...</td>\n",
              "      <td>-1.0</td>\n",
              "      <td>-1.0</td>\n",
              "      <td>-1.1</td>\n",
              "      <td>-1.1</td>\n",
              "      <td>-1.1</td>\n",
              "      <td>-1.1</td>\n",
              "      <td>-1.1</td>\n",
              "      <td>-1.1</td>\n",
              "      <td>-1.2</td>\n",
              "      <td>-1.2</td>\n",
              "    </tr>\n",
              "    <tr>\n",
              "      <th>47</th>\n",
              "      <td>T0357</td>\n",
              "      <td>2014-02-17</td>\n",
              "      <td>1392595200</td>\n",
              "      <td>bad</td>\n",
              "      <td>-1.3</td>\n",
              "      <td>-1.3</td>\n",
              "      <td>-1.3</td>\n",
              "      <td>-1.3</td>\n",
              "      <td>-1.3</td>\n",
              "      <td>-1.3</td>\n",
              "      <td>...</td>\n",
              "      <td>-1.1</td>\n",
              "      <td>-1.1</td>\n",
              "      <td>-1.1</td>\n",
              "      <td>-1.2</td>\n",
              "      <td>-1.2</td>\n",
              "      <td>-1.2</td>\n",
              "      <td>-1.2</td>\n",
              "      <td>-1.2</td>\n",
              "      <td>-1.2</td>\n",
              "      <td>-1.2</td>\n",
              "    </tr>\n",
              "    <tr>\n",
              "      <th>48</th>\n",
              "      <td>T0357</td>\n",
              "      <td>2014-02-18</td>\n",
              "      <td>1392681600</td>\n",
              "      <td>bad</td>\n",
              "      <td>-1.2</td>\n",
              "      <td>-1.3</td>\n",
              "      <td>-1.3</td>\n",
              "      <td>-1.3</td>\n",
              "      <td>-1.3</td>\n",
              "      <td>-1.3</td>\n",
              "      <td>...</td>\n",
              "      <td>-0.9</td>\n",
              "      <td>-0.8</td>\n",
              "      <td>-0.8</td>\n",
              "      <td>-0.8</td>\n",
              "      <td>-0.7</td>\n",
              "      <td>-0.7</td>\n",
              "      <td>-0.7</td>\n",
              "      <td>-0.7</td>\n",
              "      <td>-0.7</td>\n",
              "      <td>-0.6</td>\n",
              "    </tr>\n",
              "    <tr>\n",
              "      <th>49</th>\n",
              "      <td>T0357</td>\n",
              "      <td>2014-02-19</td>\n",
              "      <td>1392768000</td>\n",
              "      <td>bad</td>\n",
              "      <td>-0.6</td>\n",
              "      <td>-0.6</td>\n",
              "      <td>-0.6</td>\n",
              "      <td>-0.6</td>\n",
              "      <td>-0.6</td>\n",
              "      <td>-0.6</td>\n",
              "      <td>...</td>\n",
              "      <td>-0.7</td>\n",
              "      <td>-0.7</td>\n",
              "      <td>-0.7</td>\n",
              "      <td>-0.7</td>\n",
              "      <td>-0.7</td>\n",
              "      <td>-0.7</td>\n",
              "      <td>-0.7</td>\n",
              "      <td>-0.7</td>\n",
              "      <td>-0.7</td>\n",
              "      <td>-0.7</td>\n",
              "    </tr>\n",
              "    <tr>\n",
              "      <th>50</th>\n",
              "      <td>T0357</td>\n",
              "      <td>2014-02-20</td>\n",
              "      <td>1392854400</td>\n",
              "      <td>bad</td>\n",
              "      <td>-0.7</td>\n",
              "      <td>-0.7</td>\n",
              "      <td>-0.7</td>\n",
              "      <td>-0.7</td>\n",
              "      <td>-0.7</td>\n",
              "      <td>-0.7</td>\n",
              "      <td>...</td>\n",
              "      <td>-1.6</td>\n",
              "      <td>-1.7</td>\n",
              "      <td>-1.7</td>\n",
              "      <td>-1.8</td>\n",
              "      <td>-1.9</td>\n",
              "      <td>-1.9</td>\n",
              "      <td>-2.1</td>\n",
              "      <td>-2.2</td>\n",
              "      <td>-2.3</td>\n",
              "      <td>-2.4</td>\n",
              "    </tr>\n",
              "    <tr>\n",
              "      <th>51</th>\n",
              "      <td>T0357</td>\n",
              "      <td>2014-02-21</td>\n",
              "      <td>1392940800</td>\n",
              "      <td>bad</td>\n",
              "      <td>-2.5</td>\n",
              "      <td>-2.6</td>\n",
              "      <td>-2.7</td>\n",
              "      <td>-2.8</td>\n",
              "      <td>-2.9</td>\n",
              "      <td>-2.9</td>\n",
              "      <td>...</td>\n",
              "      <td>-2.5</td>\n",
              "      <td>-2.5</td>\n",
              "      <td>-2.5</td>\n",
              "      <td>-2.6</td>\n",
              "      <td>-2.6</td>\n",
              "      <td>-2.6</td>\n",
              "      <td>-2.6</td>\n",
              "      <td>-2.6</td>\n",
              "      <td>-2.5</td>\n",
              "      <td>-2.4</td>\n",
              "    </tr>\n",
              "    <tr>\n",
              "      <th>52</th>\n",
              "      <td>T0357</td>\n",
              "      <td>2014-02-22</td>\n",
              "      <td>1393027200</td>\n",
              "      <td>bad</td>\n",
              "      <td>-2.3</td>\n",
              "      <td>-2.2</td>\n",
              "      <td>-2.2</td>\n",
              "      <td>-2.2</td>\n",
              "      <td>-2.2</td>\n",
              "      <td>-2.2</td>\n",
              "      <td>...</td>\n",
              "      <td>-2.7</td>\n",
              "      <td>-2.7</td>\n",
              "      <td>-2.8</td>\n",
              "      <td>-2.9</td>\n",
              "      <td>-3.0</td>\n",
              "      <td>-3.0</td>\n",
              "      <td>-3.0</td>\n",
              "      <td>-3.1</td>\n",
              "      <td>-3.1</td>\n",
              "      <td>-3.1</td>\n",
              "    </tr>\n",
              "    <tr>\n",
              "      <th>53</th>\n",
              "      <td>T0357</td>\n",
              "      <td>2014-02-23</td>\n",
              "      <td>1393113600</td>\n",
              "      <td>bad</td>\n",
              "      <td>-3.2</td>\n",
              "      <td>-3.2</td>\n",
              "      <td>-3.3</td>\n",
              "      <td>-3.3</td>\n",
              "      <td>-3.4</td>\n",
              "      <td>-3.4</td>\n",
              "      <td>...</td>\n",
              "      <td>-4.0</td>\n",
              "      <td>-4.1</td>\n",
              "      <td>-4.2</td>\n",
              "      <td>-4.2</td>\n",
              "      <td>-4.2</td>\n",
              "      <td>-4.3</td>\n",
              "      <td>-4.4</td>\n",
              "      <td>-4.4</td>\n",
              "      <td>-4.5</td>\n",
              "      <td>-4.6</td>\n",
              "    </tr>\n",
              "    <tr>\n",
              "      <th>54</th>\n",
              "      <td>T0357</td>\n",
              "      <td>2014-02-24</td>\n",
              "      <td>1393200000</td>\n",
              "      <td>bad</td>\n",
              "      <td>-4.7</td>\n",
              "      <td>-4.7</td>\n",
              "      <td>-4.7</td>\n",
              "      <td>-4.6</td>\n",
              "      <td>-4.4</td>\n",
              "      <td>-4.3</td>\n",
              "      <td>...</td>\n",
              "      <td>-3.1</td>\n",
              "      <td>-3.2</td>\n",
              "      <td>-3.4</td>\n",
              "      <td>-3.6</td>\n",
              "      <td>-3.7</td>\n",
              "      <td>-3.5</td>\n",
              "      <td>-3.2</td>\n",
              "      <td>-2.9</td>\n",
              "      <td>-2.7</td>\n",
              "      <td>-2.5</td>\n",
              "    </tr>\n",
              "    <tr>\n",
              "      <th>55</th>\n",
              "      <td>T0357</td>\n",
              "      <td>2014-02-25</td>\n",
              "      <td>1393286400</td>\n",
              "      <td>bad</td>\n",
              "      <td>-2.5</td>\n",
              "      <td>-2.5</td>\n",
              "      <td>-2.5</td>\n",
              "      <td>-2.5</td>\n",
              "      <td>-2.5</td>\n",
              "      <td>-2.4</td>\n",
              "      <td>...</td>\n",
              "      <td>-2.0</td>\n",
              "      <td>-2.0</td>\n",
              "      <td>-2.0</td>\n",
              "      <td>-2.0</td>\n",
              "      <td>-2.1</td>\n",
              "      <td>-2.1</td>\n",
              "      <td>-2.1</td>\n",
              "      <td>-2.1</td>\n",
              "      <td>-2.2</td>\n",
              "      <td>-2.2</td>\n",
              "    </tr>\n",
              "    <tr>\n",
              "      <th>56</th>\n",
              "      <td>T0357</td>\n",
              "      <td>2014-02-26</td>\n",
              "      <td>1393372800</td>\n",
              "      <td>bad</td>\n",
              "      <td>-2.2</td>\n",
              "      <td>-2.2</td>\n",
              "      <td>-2.2</td>\n",
              "      <td>-2.2</td>\n",
              "      <td>-2.2</td>\n",
              "      <td>-2.2</td>\n",
              "      <td>...</td>\n",
              "      <td>-2.1</td>\n",
              "      <td>-2.1</td>\n",
              "      <td>-2.1</td>\n",
              "      <td>-2.1</td>\n",
              "      <td>-2.1</td>\n",
              "      <td>-2.2</td>\n",
              "      <td>-2.2</td>\n",
              "      <td>-2.2</td>\n",
              "      <td>-2.2</td>\n",
              "      <td>-2.3</td>\n",
              "    </tr>\n",
              "    <tr>\n",
              "      <th>57</th>\n",
              "      <td>T0357</td>\n",
              "      <td>2014-02-27</td>\n",
              "      <td>1393459200</td>\n",
              "      <td>bad</td>\n",
              "      <td>-2.3</td>\n",
              "      <td>-2.3</td>\n",
              "      <td>-2.3</td>\n",
              "      <td>-2.3</td>\n",
              "      <td>-2.3</td>\n",
              "      <td>-2.3</td>\n",
              "      <td>...</td>\n",
              "      <td>-1.7</td>\n",
              "      <td>-1.7</td>\n",
              "      <td>-1.7</td>\n",
              "      <td>-1.7</td>\n",
              "      <td>-1.7</td>\n",
              "      <td>-1.7</td>\n",
              "      <td>-1.8</td>\n",
              "      <td>-1.8</td>\n",
              "      <td>-1.8</td>\n",
              "      <td>-1.8</td>\n",
              "    </tr>\n",
              "    <tr>\n",
              "      <th>58</th>\n",
              "      <td>T0357</td>\n",
              "      <td>2014-02-28</td>\n",
              "      <td>1393545600</td>\n",
              "      <td>bad</td>\n",
              "      <td>-1.9</td>\n",
              "      <td>-1.9</td>\n",
              "      <td>-1.9</td>\n",
              "      <td>-1.9</td>\n",
              "      <td>-1.9</td>\n",
              "      <td>-1.9</td>\n",
              "      <td>...</td>\n",
              "      <td>-1.8</td>\n",
              "      <td>-1.8</td>\n",
              "      <td>-1.8</td>\n",
              "      <td>-1.8</td>\n",
              "      <td>-1.8</td>\n",
              "      <td>-1.9</td>\n",
              "      <td>-1.9</td>\n",
              "      <td>-1.9</td>\n",
              "      <td>-1.9</td>\n",
              "      <td>-1.9</td>\n",
              "    </tr>\n",
              "    <tr>\n",
              "      <th>59</th>\n",
              "      <td>T0357</td>\n",
              "      <td>2014-03-01</td>\n",
              "      <td>1393632000</td>\n",
              "      <td>bad</td>\n",
              "      <td>-1.9</td>\n",
              "      <td>-2.0</td>\n",
              "      <td>-2.0</td>\n",
              "      <td>-2.1</td>\n",
              "      <td>-2.1</td>\n",
              "      <td>-2.1</td>\n",
              "      <td>...</td>\n",
              "      <td>-4.0</td>\n",
              "      <td>-4.1</td>\n",
              "      <td>-4.2</td>\n",
              "      <td>-4.2</td>\n",
              "      <td>-4.3</td>\n",
              "      <td>-4.3</td>\n",
              "      <td>-4.3</td>\n",
              "      <td>-4.4</td>\n",
              "      <td>-4.4</td>\n",
              "      <td>-4.4</td>\n",
              "    </tr>\n",
              "    <tr>\n",
              "      <th>60</th>\n",
              "      <td>T0357</td>\n",
              "      <td>2014-03-02</td>\n",
              "      <td>1393718400</td>\n",
              "      <td>bad</td>\n",
              "      <td>-4.4</td>\n",
              "      <td>-4.4</td>\n",
              "      <td>-4.4</td>\n",
              "      <td>-4.4</td>\n",
              "      <td>-4.4</td>\n",
              "      <td>-4.4</td>\n",
              "      <td>...</td>\n",
              "      <td>-1.8</td>\n",
              "      <td>-1.8</td>\n",
              "      <td>-1.9</td>\n",
              "      <td>-1.9</td>\n",
              "      <td>-1.9</td>\n",
              "      <td>-1.9</td>\n",
              "      <td>-1.9</td>\n",
              "      <td>-1.9</td>\n",
              "      <td>-1.9</td>\n",
              "      <td>-1.9</td>\n",
              "    </tr>\n",
              "    <tr>\n",
              "      <th>61</th>\n",
              "      <td>T0357</td>\n",
              "      <td>2014-03-03</td>\n",
              "      <td>1393804800</td>\n",
              "      <td>bad</td>\n",
              "      <td>-2.0</td>\n",
              "      <td>-2.0</td>\n",
              "      <td>-2.0</td>\n",
              "      <td>-2.0</td>\n",
              "      <td>-2.0</td>\n",
              "      <td>-2.0</td>\n",
              "      <td>...</td>\n",
              "      <td>-2.6</td>\n",
              "      <td>-2.6</td>\n",
              "      <td>-2.7</td>\n",
              "      <td>-2.8</td>\n",
              "      <td>-2.8</td>\n",
              "      <td>-2.8</td>\n",
              "      <td>-2.8</td>\n",
              "      <td>-2.8</td>\n",
              "      <td>-2.9</td>\n",
              "      <td>-2.9</td>\n",
              "    </tr>\n",
              "    <tr>\n",
              "      <th>62</th>\n",
              "      <td>T0357</td>\n",
              "      <td>2014-03-04</td>\n",
              "      <td>1393891200</td>\n",
              "      <td>bad</td>\n",
              "      <td>-3.0</td>\n",
              "      <td>-2.9</td>\n",
              "      <td>-2.9</td>\n",
              "      <td>-2.9</td>\n",
              "      <td>-2.9</td>\n",
              "      <td>-3.0</td>\n",
              "      <td>...</td>\n",
              "      <td>-4.2</td>\n",
              "      <td>-4.2</td>\n",
              "      <td>-4.2</td>\n",
              "      <td>-4.3</td>\n",
              "      <td>-4.4</td>\n",
              "      <td>-4.4</td>\n",
              "      <td>-4.4</td>\n",
              "      <td>-4.5</td>\n",
              "      <td>-4.7</td>\n",
              "      <td>-4.8</td>\n",
              "    </tr>\n",
              "    <tr>\n",
              "      <th>63</th>\n",
              "      <td>T0357</td>\n",
              "      <td>2014-03-05</td>\n",
              "      <td>1393977600</td>\n",
              "      <td>bad</td>\n",
              "      <td>-4.9</td>\n",
              "      <td>-4.9</td>\n",
              "      <td>-4.9</td>\n",
              "      <td>-4.9</td>\n",
              "      <td>-4.9</td>\n",
              "      <td>-4.9</td>\n",
              "      <td>...</td>\n",
              "      <td>-5.2</td>\n",
              "      <td>-5.5</td>\n",
              "      <td>-5.5</td>\n",
              "      <td>-5.4</td>\n",
              "      <td>-5.4</td>\n",
              "      <td>-5.3</td>\n",
              "      <td>-5.4</td>\n",
              "      <td>-5.5</td>\n",
              "      <td>-5.5</td>\n",
              "      <td>NaN</td>\n",
              "    </tr>\n",
              "    <tr>\n",
              "      <th>64</th>\n",
              "      <td>T0357</td>\n",
              "      <td>2014-03-06</td>\n",
              "      <td>1394064000</td>\n",
              "      <td>bad</td>\n",
              "      <td>-5.7</td>\n",
              "      <td>-5.8</td>\n",
              "      <td>-5.9</td>\n",
              "      <td>-6.0</td>\n",
              "      <td>-6.0</td>\n",
              "      <td>-6.3</td>\n",
              "      <td>...</td>\n",
              "      <td>-4.9</td>\n",
              "      <td>-4.9</td>\n",
              "      <td>-4.7</td>\n",
              "      <td>-4.6</td>\n",
              "      <td>-4.6</td>\n",
              "      <td>-4.6</td>\n",
              "      <td>-4.6</td>\n",
              "      <td>-4.5</td>\n",
              "      <td>-4.3</td>\n",
              "      <td>-4.2</td>\n",
              "    </tr>\n",
              "    <tr>\n",
              "      <th>65</th>\n",
              "      <td>T0357</td>\n",
              "      <td>2014-03-07</td>\n",
              "      <td>1394150400</td>\n",
              "      <td>bad</td>\n",
              "      <td>-4.0</td>\n",
              "      <td>-3.9</td>\n",
              "      <td>-3.8</td>\n",
              "      <td>-3.8</td>\n",
              "      <td>-3.8</td>\n",
              "      <td>-3.8</td>\n",
              "      <td>...</td>\n",
              "      <td>-1.6</td>\n",
              "      <td>-1.9</td>\n",
              "      <td>-2.1</td>\n",
              "      <td>-2.2</td>\n",
              "      <td>-2.1</td>\n",
              "      <td>-2.1</td>\n",
              "      <td>-2.2</td>\n",
              "      <td>NaN</td>\n",
              "      <td>NaN</td>\n",
              "      <td>NaN</td>\n",
              "    </tr>\n",
              "    <tr>\n",
              "      <th>66</th>\n",
              "      <td>T0357</td>\n",
              "      <td>2014-03-08</td>\n",
              "      <td>1394236800</td>\n",
              "      <td>bad</td>\n",
              "      <td>-2.3</td>\n",
              "      <td>-2.5</td>\n",
              "      <td>-2.6</td>\n",
              "      <td>-2.9</td>\n",
              "      <td>-3.1</td>\n",
              "      <td>-3.1</td>\n",
              "      <td>...</td>\n",
              "      <td>-4.9</td>\n",
              "      <td>-5.0</td>\n",
              "      <td>-5.0</td>\n",
              "      <td>-5.1</td>\n",
              "      <td>-5.2</td>\n",
              "      <td>-5.3</td>\n",
              "      <td>-5.3</td>\n",
              "      <td>-5.4</td>\n",
              "      <td>NaN</td>\n",
              "      <td>NaN</td>\n",
              "    </tr>\n",
              "  </tbody>\n",
              "</table>\n",
              "<p>22 rows × 100 columns</p>\n",
              "</div>"
            ],
            "text/plain": [
              "    label in_datetime  in_datetime_int val_label    0    1    2    3    4  \\\n",
              "45  T0357  2014-02-15       1392422400       bad -8.7 -9.1 -9.4 -9.5 -9.5   \n",
              "46  T0357  2014-02-16       1392508800       bad -1.6 -1.6 -1.6 -1.6 -1.6   \n",
              "47  T0357  2014-02-17       1392595200       bad -1.3 -1.3 -1.3 -1.3 -1.3   \n",
              "48  T0357  2014-02-18       1392681600       bad -1.2 -1.3 -1.3 -1.3 -1.3   \n",
              "49  T0357  2014-02-19       1392768000       bad -0.6 -0.6 -0.6 -0.6 -0.6   \n",
              "50  T0357  2014-02-20       1392854400       bad -0.7 -0.7 -0.7 -0.7 -0.7   \n",
              "51  T0357  2014-02-21       1392940800       bad -2.5 -2.6 -2.7 -2.8 -2.9   \n",
              "52  T0357  2014-02-22       1393027200       bad -2.3 -2.2 -2.2 -2.2 -2.2   \n",
              "53  T0357  2014-02-23       1393113600       bad -3.2 -3.2 -3.3 -3.3 -3.4   \n",
              "54  T0357  2014-02-24       1393200000       bad -4.7 -4.7 -4.7 -4.6 -4.4   \n",
              "55  T0357  2014-02-25       1393286400       bad -2.5 -2.5 -2.5 -2.5 -2.5   \n",
              "56  T0357  2014-02-26       1393372800       bad -2.2 -2.2 -2.2 -2.2 -2.2   \n",
              "57  T0357  2014-02-27       1393459200       bad -2.3 -2.3 -2.3 -2.3 -2.3   \n",
              "58  T0357  2014-02-28       1393545600       bad -1.9 -1.9 -1.9 -1.9 -1.9   \n",
              "59  T0357  2014-03-01       1393632000       bad -1.9 -2.0 -2.0 -2.1 -2.1   \n",
              "60  T0357  2014-03-02       1393718400       bad -4.4 -4.4 -4.4 -4.4 -4.4   \n",
              "61  T0357  2014-03-03       1393804800       bad -2.0 -2.0 -2.0 -2.0 -2.0   \n",
              "62  T0357  2014-03-04       1393891200       bad -3.0 -2.9 -2.9 -2.9 -2.9   \n",
              "63  T0357  2014-03-05       1393977600       bad -4.9 -4.9 -4.9 -4.9 -4.9   \n",
              "64  T0357  2014-03-06       1394064000       bad -5.7 -5.8 -5.9 -6.0 -6.0   \n",
              "65  T0357  2014-03-07       1394150400       bad -4.0 -3.9 -3.8 -3.8 -3.8   \n",
              "66  T0357  2014-03-08       1394236800       bad -2.3 -2.5 -2.6 -2.9 -3.1   \n",
              "\n",
              "      5  ...   86   87   88   89   90   91   92   93   94   95  \n",
              "45 -9.4  ... -1.7 -1.7 -1.7 -1.7 -1.7 -1.7 -1.7 -1.7 -1.7 -1.7  \n",
              "46 -1.6  ... -1.0 -1.0 -1.1 -1.1 -1.1 -1.1 -1.1 -1.1 -1.2 -1.2  \n",
              "47 -1.3  ... -1.1 -1.1 -1.1 -1.2 -1.2 -1.2 -1.2 -1.2 -1.2 -1.2  \n",
              "48 -1.3  ... -0.9 -0.8 -0.8 -0.8 -0.7 -0.7 -0.7 -0.7 -0.7 -0.6  \n",
              "49 -0.6  ... -0.7 -0.7 -0.7 -0.7 -0.7 -0.7 -0.7 -0.7 -0.7 -0.7  \n",
              "50 -0.7  ... -1.6 -1.7 -1.7 -1.8 -1.9 -1.9 -2.1 -2.2 -2.3 -2.4  \n",
              "51 -2.9  ... -2.5 -2.5 -2.5 -2.6 -2.6 -2.6 -2.6 -2.6 -2.5 -2.4  \n",
              "52 -2.2  ... -2.7 -2.7 -2.8 -2.9 -3.0 -3.0 -3.0 -3.1 -3.1 -3.1  \n",
              "53 -3.4  ... -4.0 -4.1 -4.2 -4.2 -4.2 -4.3 -4.4 -4.4 -4.5 -4.6  \n",
              "54 -4.3  ... -3.1 -3.2 -3.4 -3.6 -3.7 -3.5 -3.2 -2.9 -2.7 -2.5  \n",
              "55 -2.4  ... -2.0 -2.0 -2.0 -2.0 -2.1 -2.1 -2.1 -2.1 -2.2 -2.2  \n",
              "56 -2.2  ... -2.1 -2.1 -2.1 -2.1 -2.1 -2.2 -2.2 -2.2 -2.2 -2.3  \n",
              "57 -2.3  ... -1.7 -1.7 -1.7 -1.7 -1.7 -1.7 -1.8 -1.8 -1.8 -1.8  \n",
              "58 -1.9  ... -1.8 -1.8 -1.8 -1.8 -1.8 -1.9 -1.9 -1.9 -1.9 -1.9  \n",
              "59 -2.1  ... -4.0 -4.1 -4.2 -4.2 -4.3 -4.3 -4.3 -4.4 -4.4 -4.4  \n",
              "60 -4.4  ... -1.8 -1.8 -1.9 -1.9 -1.9 -1.9 -1.9 -1.9 -1.9 -1.9  \n",
              "61 -2.0  ... -2.6 -2.6 -2.7 -2.8 -2.8 -2.8 -2.8 -2.8 -2.9 -2.9  \n",
              "62 -3.0  ... -4.2 -4.2 -4.2 -4.3 -4.4 -4.4 -4.4 -4.5 -4.7 -4.8  \n",
              "63 -4.9  ... -5.2 -5.5 -5.5 -5.4 -5.4 -5.3 -5.4 -5.5 -5.5  NaN  \n",
              "64 -6.3  ... -4.9 -4.9 -4.7 -4.6 -4.6 -4.6 -4.6 -4.5 -4.3 -4.2  \n",
              "65 -3.8  ... -1.6 -1.9 -2.1 -2.2 -2.1 -2.1 -2.2  NaN  NaN  NaN  \n",
              "66 -3.1  ... -4.9 -5.0 -5.0 -5.1 -5.2 -5.3 -5.3 -5.4  NaN  NaN  \n",
              "\n",
              "[22 rows x 100 columns]"
            ]
          },
          "execution_count": 75,
          "metadata": {},
          "output_type": "execute_result"
        }
      ],
      "source": [
        "data_arr = []\n",
        "\n",
        "for station in ['T0357']:\n",
        "  df_station = df_row_data.loc[df_row_data['label']==station]\n",
        "  for pk in np.unique(df_station['period_index']):\n",
        "    df_subset = df_station.loc[(df_row_data['period_index'] == pk)]\n",
        "    \n",
        "    if df_subset.empty:\n",
        "      continue\n",
        "\n",
        "    if((df_subset['validation_code'].values != 1).any()):\n",
        "      val_label = 'bad'\n",
        "    else:\n",
        "      val_label = 'good'\n",
        "\n",
        "    header={\n",
        "      'label':df_subset['label'].values[0],\n",
        "      'in_datetime':df_subset['datetime'].values[0],\n",
        "      'in_datetime_int':df_subset['datetime_enconded'].values[0],\n",
        "      'val_label':val_label\n",
        "    }\n",
        "\n",
        "    features = df_subset['value'].reset_index(drop=True).to_dict()\n",
        "    data_arr.append({**header,**features})\n",
        "df_row_data_converted = pd.DataFrame(data_arr)\n",
        "df_row_data_converted.loc[df_row_data_converted['val_label']=='bad']"
      ]
    },
    {
      "cell_type": "code",
      "execution_count": 341,
      "metadata": {
        "id": "y1JJEnKdd-67"
      },
      "outputs": [],
      "source": [
        "import torch\n",
        "# create pythorc class for the data\n",
        "\n",
        "class CustomDataset(Dataset):\n",
        "  def __init__(self, df, transform = None, target_transform = None):\n",
        "    self.features = torch.FloatTensor(df.drop(['label','in_datetime','in_datetime_int','val_label'],axis=1).values)\n",
        "    ### standardize the data\n",
        "    mean, std= torch.mean(self.features,0), torch.std(self.features,0)\n",
        "    self.features = (self.features-mean)/std\n",
        "\n",
        "    self.label = df['label'].values\n",
        "    self.in_datetime = df['in_datetime'].values\n",
        "    self.in_datetime_int = df['in_datetime_int'].values\n",
        "    self.val_label = df['val_label'].values\n",
        "    self.transform = transform\n",
        "    self.target_transform = target_transform\n",
        "\n",
        "  def __len__(self):\n",
        "    return len(self.label)\n",
        "\n",
        "  def __getitem__(self, idx):\n",
        "    features = self.features[idx]\n",
        "    label = self.label[idx]\n",
        "    date = self.in_datetime[idx]\n",
        "    val_label = self.val_label[idx]\n",
        "    return {\"label\": label, \"features\": features, \"val_label\":val_label, \"date\":date}\n"
      ]
    },
    {
      "cell_type": "code",
      "execution_count": 377,
      "metadata": {
        "id": "0O9aZkGqryYP"
      },
      "outputs": [],
      "source": [
        "# define the dataset and split in train and test\n",
        "splits = ['train','test']\n",
        "shuffle = {'train':True,'test':False}\n",
        "dataset = {}\n",
        "\n",
        "df_row_data_converted = df_row_data_converted.dropna().reset_index(drop=True)\n",
        "\n",
        "good_samples = df_row_data_converted.loc[df_row_data_converted['val_label']=='good']\n",
        "bad_samples = df_row_data_converted.loc[df_row_data_converted['val_label']=='bad']\n",
        "\n",
        "# Test dataframe is made of all bad samples plus an equal number of good ones\n",
        "test_part_good = good_samples.sample(n = len(bad_samples))\n",
        "test = pd.concat([test_part_good, bad_samples], axis = 0)\n",
        "\n",
        "# Train dataframe is made of all good samples \n",
        "train = good_samples.drop(test_part_good.index)\n",
        "\n",
        "dataset['train'] = CustomDataset(train)\n",
        "dataset['test'] = CustomDataset( test )\n",
        "b_size = {'train':12,'test':len(dataset['test'])}\n",
        "\n",
        "dataloader = {x: torch.utils.data.DataLoader(dataset=dataset[x],\n",
        "                                            batch_size=b_size[x],\n",
        "                                            shuffle=shuffle[x],\n",
        "                                            collate_fn=lambda x: x)\n",
        "                                            #num_workers=int(opt.workers),\n",
        "                                            #drop_last=drop_last_batch[x],\n",
        "                                            #worker_init_fn=(None if opt.manualseed == -1\n",
        "                                            #else lambda x: np.random.seed(opt.manualseed)))\n",
        "            for x in splits}\n",
        "\n",
        "\n"
      ]
    },
    {
      "cell_type": "code",
      "execution_count": 422,
      "metadata": {},
      "outputs": [
        {
          "name": "stdout",
          "output_type": "stream",
          "text": [
            ">> Training model AE_1D.\n"
          ]
        },
        {
          "name": "stderr",
          "output_type": "stream",
          "text": [
            "100%|██████████| 238/238 [00:00<00:00, 351.61it/s]\n"
          ]
        },
        {
          "name": "stdout",
          "output_type": "stream",
          "text": [
            ">> Training model AE_1D. Epoch 1/100\n",
            ">> Training loss: 0.24828879535198212\n",
            ">> Validation loss: 1.0299310684204102\n"
          ]
        },
        {
          "name": "stderr",
          "output_type": "stream",
          "text": [
            "100%|██████████| 238/238 [00:00<00:00, 454.28it/s]\n"
          ]
        },
        {
          "name": "stdout",
          "output_type": "stream",
          "text": [
            ">> Training model AE_1D. Epoch 2/100\n",
            ">> Training loss: 1.0914562940597534\n",
            ">> Validation loss: 0.8490127921104431\n"
          ]
        },
        {
          "name": "stderr",
          "output_type": "stream",
          "text": [
            "100%|██████████| 238/238 [00:00<00:00, 415.28it/s]\n"
          ]
        },
        {
          "name": "stdout",
          "output_type": "stream",
          "text": [
            ">> Training model AE_1D. Epoch 3/100\n",
            ">> Training loss: 0.13324131071567535\n",
            ">> Validation loss: 0.6449625492095947\n"
          ]
        },
        {
          "name": "stderr",
          "output_type": "stream",
          "text": [
            "100%|██████████| 238/238 [00:00<00:00, 454.80it/s]\n"
          ]
        },
        {
          "name": "stdout",
          "output_type": "stream",
          "text": [
            ">> Training model AE_1D. Epoch 4/100\n",
            ">> Training loss: 0.23125021159648895\n",
            ">> Validation loss: 0.4912521541118622\n"
          ]
        },
        {
          "name": "stderr",
          "output_type": "stream",
          "text": [
            "100%|██████████| 238/238 [00:00<00:00, 484.30it/s]\n"
          ]
        },
        {
          "name": "stdout",
          "output_type": "stream",
          "text": [
            ">> Training model AE_1D. Epoch 5/100\n",
            ">> Training loss: 0.03495529666543007\n",
            ">> Validation loss: 0.40298616886138916\n"
          ]
        },
        {
          "name": "stderr",
          "output_type": "stream",
          "text": [
            "100%|██████████| 238/238 [00:00<00:00, 473.28it/s]\n"
          ]
        },
        {
          "name": "stdout",
          "output_type": "stream",
          "text": [
            ">> Training model AE_1D. Epoch 6/100\n",
            ">> Training loss: 0.09271296113729477\n",
            ">> Validation loss: 0.3518592119216919\n"
          ]
        },
        {
          "name": "stderr",
          "output_type": "stream",
          "text": [
            "100%|██████████| 238/238 [00:00<00:00, 488.33it/s]\n"
          ]
        },
        {
          "name": "stdout",
          "output_type": "stream",
          "text": [
            ">> Training model AE_1D. Epoch 7/100\n",
            ">> Training loss: 0.03252787888050079\n",
            ">> Validation loss: 0.3123932480812073\n"
          ]
        },
        {
          "name": "stderr",
          "output_type": "stream",
          "text": [
            "100%|██████████| 238/238 [00:00<00:00, 466.10it/s]\n"
          ]
        },
        {
          "name": "stdout",
          "output_type": "stream",
          "text": [
            ">> Training model AE_1D. Epoch 8/100\n",
            ">> Training loss: 1.221396803855896\n",
            ">> Validation loss: 0.2737598717212677\n"
          ]
        },
        {
          "name": "stderr",
          "output_type": "stream",
          "text": [
            "100%|██████████| 238/238 [00:00<00:00, 485.99it/s]\n"
          ]
        },
        {
          "name": "stdout",
          "output_type": "stream",
          "text": [
            ">> Training model AE_1D. Epoch 9/100\n",
            ">> Training loss: 0.8805422782897949\n",
            ">> Validation loss: 0.23280324041843414\n"
          ]
        },
        {
          "name": "stderr",
          "output_type": "stream",
          "text": [
            "100%|██████████| 238/238 [00:00<00:00, 473.98it/s]\n"
          ]
        },
        {
          "name": "stdout",
          "output_type": "stream",
          "text": [
            ">> Training model AE_1D. Epoch 10/100\n",
            ">> Training loss: 0.37007367610931396\n",
            ">> Validation loss: 0.19097650051116943\n"
          ]
        },
        {
          "name": "stderr",
          "output_type": "stream",
          "text": [
            "100%|██████████| 238/238 [00:00<00:00, 501.77it/s]\n"
          ]
        },
        {
          "name": "stdout",
          "output_type": "stream",
          "text": [
            ">> Training model AE_1D. Epoch 11/100\n",
            ">> Training loss: 0.012233011424541473\n",
            ">> Validation loss: 0.1503099650144577\n"
          ]
        },
        {
          "name": "stderr",
          "output_type": "stream",
          "text": [
            "100%|██████████| 238/238 [00:00<00:00, 441.07it/s]\n"
          ]
        },
        {
          "name": "stdout",
          "output_type": "stream",
          "text": [
            ">> Training model AE_1D. Epoch 12/100\n",
            ">> Training loss: 0.01253869105130434\n",
            ">> Validation loss: 0.11323188245296478\n"
          ]
        },
        {
          "name": "stderr",
          "output_type": "stream",
          "text": [
            "100%|██████████| 238/238 [00:00<00:00, 483.96it/s]\n"
          ]
        },
        {
          "name": "stdout",
          "output_type": "stream",
          "text": [
            ">> Training model AE_1D. Epoch 13/100\n",
            ">> Training loss: 0.01683666557073593\n",
            ">> Validation loss: 0.08243478834629059\n"
          ]
        },
        {
          "name": "stderr",
          "output_type": "stream",
          "text": [
            "100%|██████████| 238/238 [00:00<00:00, 474.77it/s]\n"
          ]
        },
        {
          "name": "stdout",
          "output_type": "stream",
          "text": [
            ">> Training model AE_1D. Epoch 14/100\n",
            ">> Training loss: 0.02257367968559265\n",
            ">> Validation loss: 0.0596979558467865\n"
          ]
        },
        {
          "name": "stderr",
          "output_type": "stream",
          "text": [
            "100%|██████████| 238/238 [00:00<00:00, 463.97it/s]\n"
          ]
        },
        {
          "name": "stdout",
          "output_type": "stream",
          "text": [
            ">> Training model AE_1D. Epoch 15/100\n",
            ">> Training loss: 0.09294396638870239\n",
            ">> Validation loss: 0.04516129195690155\n"
          ]
        },
        {
          "name": "stderr",
          "output_type": "stream",
          "text": [
            "100%|██████████| 238/238 [00:00<00:00, 470.42it/s]\n"
          ]
        },
        {
          "name": "stdout",
          "output_type": "stream",
          "text": [
            ">> Training model AE_1D. Epoch 16/100\n",
            ">> Training loss: 0.01788480207324028\n",
            ">> Validation loss: 0.03681733459234238\n"
          ]
        },
        {
          "name": "stderr",
          "output_type": "stream",
          "text": [
            "100%|██████████| 238/238 [00:00<00:00, 474.99it/s]\n"
          ]
        },
        {
          "name": "stdout",
          "output_type": "stream",
          "text": [
            ">> Training model AE_1D. Epoch 17/100\n",
            ">> Training loss: 0.1332295686006546\n",
            ">> Validation loss: 0.03284193202853203\n"
          ]
        },
        {
          "name": "stderr",
          "output_type": "stream",
          "text": [
            "100%|██████████| 238/238 [00:00<00:00, 457.48it/s]\n"
          ]
        },
        {
          "name": "stdout",
          "output_type": "stream",
          "text": [
            ">> Training model AE_1D. Epoch 18/100\n",
            ">> Training loss: 0.11640852689743042\n",
            ">> Validation loss: 0.03065348230302334\n"
          ]
        },
        {
          "name": "stderr",
          "output_type": "stream",
          "text": [
            "100%|██████████| 238/238 [00:00<00:00, 459.88it/s]\n"
          ]
        },
        {
          "name": "stdout",
          "output_type": "stream",
          "text": [
            ">> Training model AE_1D. Epoch 19/100\n",
            ">> Training loss: 0.05461544916033745\n",
            ">> Validation loss: 0.029715433716773987\n"
          ]
        },
        {
          "name": "stderr",
          "output_type": "stream",
          "text": [
            "100%|██████████| 238/238 [00:00<00:00, 490.88it/s]\n"
          ]
        },
        {
          "name": "stdout",
          "output_type": "stream",
          "text": [
            ">> Training model AE_1D. Epoch 20/100\n",
            ">> Training loss: 0.0970262959599495\n",
            ">> Validation loss: 0.028905801475048065\n"
          ]
        },
        {
          "name": "stderr",
          "output_type": "stream",
          "text": [
            "100%|██████████| 238/238 [00:00<00:00, 458.62it/s]\n"
          ]
        },
        {
          "name": "stdout",
          "output_type": "stream",
          "text": [
            ">> Training model AE_1D. Epoch 21/100\n",
            ">> Training loss: 0.01785345934331417\n",
            ">> Validation loss: 0.028487280011177063\n"
          ]
        },
        {
          "name": "stderr",
          "output_type": "stream",
          "text": [
            "100%|██████████| 238/238 [00:00<00:00, 466.59it/s]\n"
          ]
        },
        {
          "name": "stdout",
          "output_type": "stream",
          "text": [
            ">> Training model AE_1D. Epoch 22/100\n",
            ">> Training loss: 0.022480756044387817\n",
            ">> Validation loss: 0.028023408725857735\n"
          ]
        },
        {
          "name": "stderr",
          "output_type": "stream",
          "text": [
            "100%|██████████| 238/238 [00:00<00:00, 438.34it/s]\n"
          ]
        },
        {
          "name": "stdout",
          "output_type": "stream",
          "text": [
            ">> Training model AE_1D. Epoch 23/100\n",
            ">> Training loss: 0.1267763078212738\n",
            ">> Validation loss: 0.027790607884526253\n"
          ]
        },
        {
          "name": "stderr",
          "output_type": "stream",
          "text": [
            "100%|██████████| 238/238 [00:00<00:00, 461.26it/s]\n"
          ]
        },
        {
          "name": "stdout",
          "output_type": "stream",
          "text": [
            ">> Training model AE_1D. Epoch 24/100\n",
            ">> Training loss: 0.04448598250746727\n",
            ">> Validation loss: 0.02718614786863327\n"
          ]
        },
        {
          "name": "stderr",
          "output_type": "stream",
          "text": [
            "100%|██████████| 238/238 [00:00<00:00, 474.79it/s]\n"
          ]
        },
        {
          "name": "stdout",
          "output_type": "stream",
          "text": [
            ">> Training model AE_1D. Epoch 25/100\n",
            ">> Training loss: 0.06577485054731369\n",
            ">> Validation loss: 0.02694467082619667\n"
          ]
        },
        {
          "name": "stderr",
          "output_type": "stream",
          "text": [
            "100%|██████████| 238/238 [00:00<00:00, 448.80it/s]\n"
          ]
        },
        {
          "name": "stdout",
          "output_type": "stream",
          "text": [
            ">> Training model AE_1D. Epoch 26/100\n",
            ">> Training loss: 0.0153512479737401\n",
            ">> Validation loss: 0.02624901756644249\n"
          ]
        },
        {
          "name": "stderr",
          "output_type": "stream",
          "text": [
            "100%|██████████| 238/238 [00:00<00:00, 480.23it/s]\n"
          ]
        },
        {
          "name": "stdout",
          "output_type": "stream",
          "text": [
            ">> Training model AE_1D. Epoch 27/100\n",
            ">> Training loss: 0.06041628122329712\n",
            ">> Validation loss: 0.02588261291384697\n"
          ]
        },
        {
          "name": "stderr",
          "output_type": "stream",
          "text": [
            "100%|██████████| 238/238 [00:00<00:00, 437.96it/s]\n"
          ]
        },
        {
          "name": "stdout",
          "output_type": "stream",
          "text": [
            ">> Training model AE_1D. Epoch 28/100\n",
            ">> Training loss: 0.01384724210947752\n",
            ">> Validation loss: 0.02540474198758602\n"
          ]
        },
        {
          "name": "stderr",
          "output_type": "stream",
          "text": [
            "100%|██████████| 238/238 [00:00<00:00, 455.95it/s]\n"
          ]
        },
        {
          "name": "stdout",
          "output_type": "stream",
          "text": [
            ">> Training model AE_1D. Epoch 29/100\n",
            ">> Training loss: 0.03233983367681503\n",
            ">> Validation loss: 0.025031136348843575\n"
          ]
        },
        {
          "name": "stderr",
          "output_type": "stream",
          "text": [
            "100%|██████████| 238/238 [00:00<00:00, 457.48it/s]\n"
          ]
        },
        {
          "name": "stdout",
          "output_type": "stream",
          "text": [
            ">> Training model AE_1D. Epoch 30/100\n",
            ">> Training loss: 0.014431544579565525\n",
            ">> Validation loss: 0.02443147823214531\n"
          ]
        },
        {
          "name": "stderr",
          "output_type": "stream",
          "text": [
            "100%|██████████| 238/238 [00:00<00:00, 467.22it/s]\n"
          ]
        },
        {
          "name": "stdout",
          "output_type": "stream",
          "text": [
            ">> Training model AE_1D. Epoch 31/100\n",
            ">> Training loss: 0.026983624324202538\n",
            ">> Validation loss: 0.023972947150468826\n"
          ]
        },
        {
          "name": "stderr",
          "output_type": "stream",
          "text": [
            "100%|██████████| 238/238 [00:00<00:00, 484.65it/s]\n"
          ]
        },
        {
          "name": "stdout",
          "output_type": "stream",
          "text": [
            ">> Training model AE_1D. Epoch 32/100\n",
            ">> Training loss: 0.024828163906931877\n",
            ">> Validation loss: 0.02384442463517189\n"
          ]
        },
        {
          "name": "stderr",
          "output_type": "stream",
          "text": [
            "100%|██████████| 238/238 [00:00<00:00, 462.25it/s]\n"
          ]
        },
        {
          "name": "stdout",
          "output_type": "stream",
          "text": [
            ">> Training model AE_1D. Epoch 33/100\n",
            ">> Training loss: 0.07900027185678482\n",
            ">> Validation loss: 0.023435592651367188\n"
          ]
        },
        {
          "name": "stderr",
          "output_type": "stream",
          "text": [
            "100%|██████████| 238/238 [00:00<00:00, 476.95it/s]\n"
          ]
        },
        {
          "name": "stdout",
          "output_type": "stream",
          "text": [
            ">> Training model AE_1D. Epoch 34/100\n",
            ">> Training loss: 0.017761530354619026\n",
            ">> Validation loss: 0.022587236016988754\n"
          ]
        },
        {
          "name": "stderr",
          "output_type": "stream",
          "text": [
            "100%|██████████| 238/238 [00:00<00:00, 484.62it/s]\n"
          ]
        },
        {
          "name": "stdout",
          "output_type": "stream",
          "text": [
            ">> Training model AE_1D. Epoch 35/100\n",
            ">> Training loss: 0.053551819175481796\n",
            ">> Validation loss: 0.021947277709841728\n"
          ]
        },
        {
          "name": "stderr",
          "output_type": "stream",
          "text": [
            "100%|██████████| 238/238 [00:00<00:00, 471.98it/s]\n"
          ]
        },
        {
          "name": "stdout",
          "output_type": "stream",
          "text": [
            ">> Training model AE_1D. Epoch 36/100\n",
            ">> Training loss: 0.039311494678258896\n",
            ">> Validation loss: 0.021456176415085793\n"
          ]
        },
        {
          "name": "stderr",
          "output_type": "stream",
          "text": [
            "100%|██████████| 238/238 [00:00<00:00, 497.61it/s]\n"
          ]
        },
        {
          "name": "stdout",
          "output_type": "stream",
          "text": [
            ">> Training model AE_1D. Epoch 37/100\n",
            ">> Training loss: 0.020609650760889053\n",
            ">> Validation loss: 0.021131014451384544\n"
          ]
        },
        {
          "name": "stderr",
          "output_type": "stream",
          "text": [
            "100%|██████████| 238/238 [00:00<00:00, 461.96it/s]\n"
          ]
        },
        {
          "name": "stdout",
          "output_type": "stream",
          "text": [
            ">> Training model AE_1D. Epoch 38/100\n",
            ">> Training loss: 0.05196455121040344\n",
            ">> Validation loss: 0.020900771021842957\n"
          ]
        },
        {
          "name": "stderr",
          "output_type": "stream",
          "text": [
            "100%|██████████| 238/238 [00:00<00:00, 485.38it/s]\n"
          ]
        },
        {
          "name": "stdout",
          "output_type": "stream",
          "text": [
            ">> Training model AE_1D. Epoch 39/100\n",
            ">> Training loss: 0.09272265434265137\n",
            ">> Validation loss: 0.02029854618012905\n"
          ]
        },
        {
          "name": "stderr",
          "output_type": "stream",
          "text": [
            "100%|██████████| 238/238 [00:00<00:00, 460.27it/s]\n"
          ]
        },
        {
          "name": "stdout",
          "output_type": "stream",
          "text": [
            ">> Training model AE_1D. Epoch 40/100\n",
            ">> Training loss: 0.030715899541974068\n",
            ">> Validation loss: 0.019733231514692307\n"
          ]
        },
        {
          "name": "stderr",
          "output_type": "stream",
          "text": [
            "100%|██████████| 238/238 [00:00<00:00, 477.13it/s]\n"
          ]
        },
        {
          "name": "stdout",
          "output_type": "stream",
          "text": [
            ">> Training model AE_1D. Epoch 41/100\n",
            ">> Training loss: 0.010966540314257145\n",
            ">> Validation loss: 0.01948419213294983\n"
          ]
        },
        {
          "name": "stderr",
          "output_type": "stream",
          "text": [
            "100%|██████████| 238/238 [00:00<00:00, 480.98it/s]\n"
          ]
        },
        {
          "name": "stdout",
          "output_type": "stream",
          "text": [
            ">> Training model AE_1D. Epoch 42/100\n",
            ">> Training loss: 0.0630432665348053\n",
            ">> Validation loss: 0.019099712371826172\n"
          ]
        },
        {
          "name": "stderr",
          "output_type": "stream",
          "text": [
            "100%|██████████| 238/238 [00:00<00:00, 500.83it/s]\n"
          ]
        },
        {
          "name": "stdout",
          "output_type": "stream",
          "text": [
            ">> Training model AE_1D. Epoch 43/100\n",
            ">> Training loss: 0.03236917406320572\n",
            ">> Validation loss: 0.018650442361831665\n"
          ]
        },
        {
          "name": "stderr",
          "output_type": "stream",
          "text": [
            "100%|██████████| 238/238 [00:00<00:00, 477.92it/s]\n"
          ]
        },
        {
          "name": "stdout",
          "output_type": "stream",
          "text": [
            ">> Training model AE_1D. Epoch 44/100\n",
            ">> Training loss: 0.05036386847496033\n",
            ">> Validation loss: 0.01857493631541729\n"
          ]
        },
        {
          "name": "stderr",
          "output_type": "stream",
          "text": [
            "100%|██████████| 238/238 [00:00<00:00, 455.39it/s]\n"
          ]
        },
        {
          "name": "stdout",
          "output_type": "stream",
          "text": [
            ">> Training model AE_1D. Epoch 45/100\n",
            ">> Training loss: 0.037278566509485245\n",
            ">> Validation loss: 0.018325408920645714\n"
          ]
        },
        {
          "name": "stderr",
          "output_type": "stream",
          "text": [
            "100%|██████████| 238/238 [00:00<00:00, 479.14it/s]\n"
          ]
        },
        {
          "name": "stdout",
          "output_type": "stream",
          "text": [
            ">> Training model AE_1D. Epoch 46/100\n",
            ">> Training loss: 0.02104119025170803\n",
            ">> Validation loss: 0.01775522530078888\n"
          ]
        },
        {
          "name": "stderr",
          "output_type": "stream",
          "text": [
            "100%|██████████| 238/238 [00:00<00:00, 418.70it/s]\n"
          ]
        },
        {
          "name": "stdout",
          "output_type": "stream",
          "text": [
            ">> Training model AE_1D. Epoch 47/100\n",
            ">> Training loss: 0.017376704141497612\n",
            ">> Validation loss: 0.017688903957605362\n"
          ]
        },
        {
          "name": "stderr",
          "output_type": "stream",
          "text": [
            "100%|██████████| 238/238 [00:00<00:00, 463.29it/s]\n"
          ]
        },
        {
          "name": "stdout",
          "output_type": "stream",
          "text": [
            ">> Training model AE_1D. Epoch 48/100\n",
            ">> Training loss: 0.028042277321219444\n",
            ">> Validation loss: 0.017446648329496384\n"
          ]
        },
        {
          "name": "stderr",
          "output_type": "stream",
          "text": [
            "100%|██████████| 238/238 [00:00<00:00, 424.60it/s]\n"
          ]
        },
        {
          "name": "stdout",
          "output_type": "stream",
          "text": [
            ">> Training model AE_1D. Epoch 49/100\n",
            ">> Training loss: 0.05193124711513519\n",
            ">> Validation loss: 0.017228860408067703\n"
          ]
        },
        {
          "name": "stderr",
          "output_type": "stream",
          "text": [
            "100%|██████████| 238/238 [00:00<00:00, 485.24it/s]\n"
          ]
        },
        {
          "name": "stdout",
          "output_type": "stream",
          "text": [
            ">> Training model AE_1D. Epoch 50/100\n",
            ">> Training loss: 0.05511033162474632\n",
            ">> Validation loss: 0.01681818626821041\n"
          ]
        },
        {
          "name": "stderr",
          "output_type": "stream",
          "text": [
            "100%|██████████| 238/238 [00:00<00:00, 473.65it/s]\n"
          ]
        },
        {
          "name": "stdout",
          "output_type": "stream",
          "text": [
            ">> Training model AE_1D. Epoch 51/100\n",
            ">> Training loss: 0.0153553681448102\n",
            ">> Validation loss: 0.016361577436327934\n"
          ]
        },
        {
          "name": "stderr",
          "output_type": "stream",
          "text": [
            "100%|██████████| 238/238 [00:00<00:00, 475.17it/s]\n"
          ]
        },
        {
          "name": "stdout",
          "output_type": "stream",
          "text": [
            ">> Training model AE_1D. Epoch 52/100\n",
            ">> Training loss: 0.04545186087489128\n",
            ">> Validation loss: 0.016450079157948494\n"
          ]
        },
        {
          "name": "stderr",
          "output_type": "stream",
          "text": [
            "100%|██████████| 238/238 [00:00<00:00, 473.64it/s]\n"
          ]
        },
        {
          "name": "stdout",
          "output_type": "stream",
          "text": [
            ">> Training model AE_1D. Epoch 53/100\n",
            ">> Training loss: 0.006516279187053442\n",
            ">> Validation loss: 0.015890056267380714\n"
          ]
        },
        {
          "name": "stderr",
          "output_type": "stream",
          "text": [
            "100%|██████████| 238/238 [00:00<00:00, 471.29it/s]\n"
          ]
        },
        {
          "name": "stdout",
          "output_type": "stream",
          "text": [
            ">> Training model AE_1D. Epoch 54/100\n",
            ">> Training loss: 0.012313802726566792\n",
            ">> Validation loss: 0.01570717617869377\n"
          ]
        },
        {
          "name": "stderr",
          "output_type": "stream",
          "text": [
            "100%|██████████| 238/238 [00:00<00:00, 478.71it/s]\n"
          ]
        },
        {
          "name": "stdout",
          "output_type": "stream",
          "text": [
            ">> Training model AE_1D. Epoch 55/100\n",
            ">> Training loss: 0.060966312885284424\n",
            ">> Validation loss: 0.015377435833215714\n"
          ]
        },
        {
          "name": "stderr",
          "output_type": "stream",
          "text": [
            "100%|██████████| 238/238 [00:00<00:00, 447.49it/s]\n"
          ]
        },
        {
          "name": "stdout",
          "output_type": "stream",
          "text": [
            ">> Training model AE_1D. Epoch 56/100\n",
            ">> Training loss: 0.019317183643579483\n",
            ">> Validation loss: 0.015586620196700096\n"
          ]
        },
        {
          "name": "stderr",
          "output_type": "stream",
          "text": [
            "100%|██████████| 238/238 [00:00<00:00, 468.90it/s]\n"
          ]
        },
        {
          "name": "stdout",
          "output_type": "stream",
          "text": [
            ">> Training model AE_1D. Epoch 57/100\n",
            ">> Training loss: 0.04999774321913719\n",
            ">> Validation loss: 0.01524471864104271\n"
          ]
        },
        {
          "name": "stderr",
          "output_type": "stream",
          "text": [
            "100%|██████████| 238/238 [00:00<00:00, 479.21it/s]\n"
          ]
        },
        {
          "name": "stdout",
          "output_type": "stream",
          "text": [
            ">> Training model AE_1D. Epoch 58/100\n",
            ">> Training loss: 0.07136982679367065\n",
            ">> Validation loss: 0.014749819412827492\n"
          ]
        },
        {
          "name": "stderr",
          "output_type": "stream",
          "text": [
            "100%|██████████| 238/238 [00:00<00:00, 486.74it/s]\n"
          ]
        },
        {
          "name": "stdout",
          "output_type": "stream",
          "text": [
            ">> Training model AE_1D. Epoch 59/100\n",
            ">> Training loss: 0.024716360494494438\n",
            ">> Validation loss: 0.014618663117289543\n"
          ]
        },
        {
          "name": "stderr",
          "output_type": "stream",
          "text": [
            "100%|██████████| 238/238 [00:00<00:00, 451.27it/s]\n"
          ]
        },
        {
          "name": "stdout",
          "output_type": "stream",
          "text": [
            ">> Training model AE_1D. Epoch 60/100\n",
            ">> Training loss: 0.06824035197496414\n",
            ">> Validation loss: 0.0140739930793643\n"
          ]
        },
        {
          "name": "stderr",
          "output_type": "stream",
          "text": [
            "100%|██████████| 238/238 [00:00<00:00, 480.43it/s]\n"
          ]
        },
        {
          "name": "stdout",
          "output_type": "stream",
          "text": [
            ">> Training model AE_1D. Epoch 61/100\n",
            ">> Training loss: 0.02054685540497303\n",
            ">> Validation loss: 0.0140854986384511\n"
          ]
        },
        {
          "name": "stderr",
          "output_type": "stream",
          "text": [
            "100%|██████████| 238/238 [00:00<00:00, 486.86it/s]\n"
          ]
        },
        {
          "name": "stdout",
          "output_type": "stream",
          "text": [
            ">> Training model AE_1D. Epoch 62/100\n",
            ">> Training loss: 0.028709910809993744\n",
            ">> Validation loss: 0.01414787769317627\n"
          ]
        },
        {
          "name": "stderr",
          "output_type": "stream",
          "text": [
            "100%|██████████| 238/238 [00:00<00:00, 470.79it/s]\n"
          ]
        },
        {
          "name": "stdout",
          "output_type": "stream",
          "text": [
            ">> Training model AE_1D. Epoch 63/100\n",
            ">> Training loss: 0.05096213519573212\n",
            ">> Validation loss: 0.013725535944104195\n"
          ]
        },
        {
          "name": "stderr",
          "output_type": "stream",
          "text": [
            "100%|██████████| 238/238 [00:00<00:00, 502.86it/s]\n"
          ]
        },
        {
          "name": "stdout",
          "output_type": "stream",
          "text": [
            ">> Training model AE_1D. Epoch 64/100\n",
            ">> Training loss: 0.0981752872467041\n",
            ">> Validation loss: 0.0135370884090662\n"
          ]
        },
        {
          "name": "stderr",
          "output_type": "stream",
          "text": [
            "100%|██████████| 238/238 [00:00<00:00, 449.80it/s]\n"
          ]
        },
        {
          "name": "stdout",
          "output_type": "stream",
          "text": [
            ">> Training model AE_1D. Epoch 65/100\n",
            ">> Training loss: 0.07523511350154877\n",
            ">> Validation loss: 0.01348778698593378\n"
          ]
        },
        {
          "name": "stderr",
          "output_type": "stream",
          "text": [
            "100%|██████████| 238/238 [00:00<00:00, 492.33it/s]\n"
          ]
        },
        {
          "name": "stdout",
          "output_type": "stream",
          "text": [
            ">> Training model AE_1D. Epoch 66/100\n",
            ">> Training loss: 0.00818711705505848\n",
            ">> Validation loss: 0.013045988976955414\n"
          ]
        },
        {
          "name": "stderr",
          "output_type": "stream",
          "text": [
            "100%|██████████| 238/238 [00:00<00:00, 427.07it/s]\n"
          ]
        },
        {
          "name": "stdout",
          "output_type": "stream",
          "text": [
            ">> Training model AE_1D. Epoch 67/100\n",
            ">> Training loss: 0.01815004087984562\n",
            ">> Validation loss: 0.012859836220741272\n"
          ]
        },
        {
          "name": "stderr",
          "output_type": "stream",
          "text": [
            "100%|██████████| 238/238 [00:00<00:00, 450.63it/s]\n"
          ]
        },
        {
          "name": "stdout",
          "output_type": "stream",
          "text": [
            ">> Training model AE_1D. Epoch 68/100\n",
            ">> Training loss: 0.03813746199011803\n",
            ">> Validation loss: 0.01283668540418148\n"
          ]
        },
        {
          "name": "stderr",
          "output_type": "stream",
          "text": [
            "100%|██████████| 238/238 [00:00<00:00, 498.99it/s]\n"
          ]
        },
        {
          "name": "stdout",
          "output_type": "stream",
          "text": [
            ">> Training model AE_1D. Epoch 69/100\n",
            ">> Training loss: 0.007307225838303566\n",
            ">> Validation loss: 0.012580185197293758\n"
          ]
        },
        {
          "name": "stderr",
          "output_type": "stream",
          "text": [
            "100%|██████████| 238/238 [00:00<00:00, 454.43it/s]\n"
          ]
        },
        {
          "name": "stdout",
          "output_type": "stream",
          "text": [
            ">> Training model AE_1D. Epoch 70/100\n",
            ">> Training loss: 0.01978284679353237\n",
            ">> Validation loss: 0.012515399605035782\n"
          ]
        },
        {
          "name": "stderr",
          "output_type": "stream",
          "text": [
            "100%|██████████| 238/238 [00:00<00:00, 502.53it/s]\n"
          ]
        },
        {
          "name": "stdout",
          "output_type": "stream",
          "text": [
            ">> Training model AE_1D. Epoch 71/100\n",
            ">> Training loss: 0.03927352651953697\n",
            ">> Validation loss: 0.012200228869915009\n"
          ]
        },
        {
          "name": "stderr",
          "output_type": "stream",
          "text": [
            "100%|██████████| 238/238 [00:00<00:00, 449.77it/s]\n"
          ]
        },
        {
          "name": "stdout",
          "output_type": "stream",
          "text": [
            ">> Training model AE_1D. Epoch 72/100\n",
            ">> Training loss: 0.05174094811081886\n",
            ">> Validation loss: 0.012083426117897034\n"
          ]
        },
        {
          "name": "stderr",
          "output_type": "stream",
          "text": [
            "100%|██████████| 238/238 [00:00<00:00, 492.23it/s]\n"
          ]
        },
        {
          "name": "stdout",
          "output_type": "stream",
          "text": [
            ">> Training model AE_1D. Epoch 73/100\n",
            ">> Training loss: 0.029674209654331207\n",
            ">> Validation loss: 0.011919950135052204\n"
          ]
        },
        {
          "name": "stderr",
          "output_type": "stream",
          "text": [
            "100%|██████████| 238/238 [00:00<00:00, 496.47it/s]\n"
          ]
        },
        {
          "name": "stdout",
          "output_type": "stream",
          "text": [
            ">> Training model AE_1D. Epoch 74/100\n",
            ">> Training loss: 0.010117586702108383\n",
            ">> Validation loss: 0.011711189523339272\n"
          ]
        },
        {
          "name": "stderr",
          "output_type": "stream",
          "text": [
            "100%|██████████| 238/238 [00:00<00:00, 460.27it/s]\n"
          ]
        },
        {
          "name": "stdout",
          "output_type": "stream",
          "text": [
            ">> Training model AE_1D. Epoch 75/100\n",
            ">> Training loss: 0.01415294874459505\n",
            ">> Validation loss: 0.011581601575016975\n"
          ]
        },
        {
          "name": "stderr",
          "output_type": "stream",
          "text": [
            "100%|██████████| 238/238 [00:00<00:00, 474.50it/s]\n"
          ]
        },
        {
          "name": "stdout",
          "output_type": "stream",
          "text": [
            ">> Training model AE_1D. Epoch 76/100\n",
            ">> Training loss: 0.01117552537471056\n",
            ">> Validation loss: 0.011448778212070465\n"
          ]
        },
        {
          "name": "stderr",
          "output_type": "stream",
          "text": [
            "100%|██████████| 238/238 [00:00<00:00, 444.90it/s]\n"
          ]
        },
        {
          "name": "stdout",
          "output_type": "stream",
          "text": [
            ">> Training model AE_1D. Epoch 77/100\n",
            ">> Training loss: 0.03495776653289795\n",
            ">> Validation loss: 0.011210200376808643\n"
          ]
        },
        {
          "name": "stderr",
          "output_type": "stream",
          "text": [
            "100%|██████████| 238/238 [00:00<00:00, 489.84it/s]\n"
          ]
        },
        {
          "name": "stdout",
          "output_type": "stream",
          "text": [
            ">> Training model AE_1D. Epoch 78/100\n",
            ">> Training loss: 0.012411460280418396\n",
            ">> Validation loss: 0.010952983982861042\n"
          ]
        },
        {
          "name": "stderr",
          "output_type": "stream",
          "text": [
            "100%|██████████| 238/238 [00:00<00:00, 451.90it/s]\n"
          ]
        },
        {
          "name": "stdout",
          "output_type": "stream",
          "text": [
            ">> Training model AE_1D. Epoch 79/100\n",
            ">> Training loss: 0.09934625029563904\n",
            ">> Validation loss: 0.010742701590061188\n"
          ]
        },
        {
          "name": "stderr",
          "output_type": "stream",
          "text": [
            "100%|██████████| 238/238 [00:00<00:00, 447.07it/s]\n"
          ]
        },
        {
          "name": "stdout",
          "output_type": "stream",
          "text": [
            ">> Training model AE_1D. Epoch 80/100\n",
            ">> Training loss: 0.027872517704963684\n",
            ">> Validation loss: 0.010714122094213963\n"
          ]
        },
        {
          "name": "stderr",
          "output_type": "stream",
          "text": [
            "100%|██████████| 238/238 [00:00<00:00, 436.85it/s]\n"
          ]
        },
        {
          "name": "stdout",
          "output_type": "stream",
          "text": [
            ">> Training model AE_1D. Epoch 81/100\n",
            ">> Training loss: 0.13539211452007294\n",
            ">> Validation loss: 0.010411052964627743\n"
          ]
        },
        {
          "name": "stderr",
          "output_type": "stream",
          "text": [
            "100%|██████████| 238/238 [00:00<00:00, 487.56it/s]\n"
          ]
        },
        {
          "name": "stdout",
          "output_type": "stream",
          "text": [
            ">> Training model AE_1D. Epoch 82/100\n",
            ">> Training loss: 0.006797491107136011\n",
            ">> Validation loss: 0.010235413908958435\n"
          ]
        },
        {
          "name": "stderr",
          "output_type": "stream",
          "text": [
            "100%|██████████| 238/238 [00:00<00:00, 497.22it/s]\n"
          ]
        },
        {
          "name": "stdout",
          "output_type": "stream",
          "text": [
            ">> Training model AE_1D. Epoch 83/100\n",
            ">> Training loss: 0.016827821731567383\n",
            ">> Validation loss: 0.010258708149194717\n"
          ]
        },
        {
          "name": "stderr",
          "output_type": "stream",
          "text": [
            "100%|██████████| 238/238 [00:00<00:00, 464.52it/s]\n"
          ]
        },
        {
          "name": "stdout",
          "output_type": "stream",
          "text": [
            ">> Training model AE_1D. Epoch 84/100\n",
            ">> Training loss: 0.0051828534342348576\n",
            ">> Validation loss: 0.010030730627477169\n"
          ]
        },
        {
          "name": "stderr",
          "output_type": "stream",
          "text": [
            "100%|██████████| 238/238 [00:00<00:00, 465.73it/s]\n"
          ]
        },
        {
          "name": "stdout",
          "output_type": "stream",
          "text": [
            ">> Training model AE_1D. Epoch 85/100\n",
            ">> Training loss: 0.03630589693784714\n",
            ">> Validation loss: 0.009883840568363667\n"
          ]
        },
        {
          "name": "stderr",
          "output_type": "stream",
          "text": [
            "100%|██████████| 238/238 [00:00<00:00, 490.60it/s]\n"
          ]
        },
        {
          "name": "stdout",
          "output_type": "stream",
          "text": [
            ">> Training model AE_1D. Epoch 86/100\n",
            ">> Training loss: 0.005673456937074661\n",
            ">> Validation loss: 0.009467219933867455\n"
          ]
        },
        {
          "name": "stderr",
          "output_type": "stream",
          "text": [
            "100%|██████████| 238/238 [00:00<00:00, 458.54it/s]\n"
          ]
        },
        {
          "name": "stdout",
          "output_type": "stream",
          "text": [
            ">> Training model AE_1D. Epoch 87/100\n",
            ">> Training loss: 0.010422813706099987\n",
            ">> Validation loss: 0.009280828759074211\n"
          ]
        },
        {
          "name": "stderr",
          "output_type": "stream",
          "text": [
            "100%|██████████| 238/238 [00:00<00:00, 434.44it/s]\n"
          ]
        },
        {
          "name": "stdout",
          "output_type": "stream",
          "text": [
            ">> Training model AE_1D. Epoch 88/100\n",
            ">> Training loss: 0.012823258526623249\n",
            ">> Validation loss: 0.009172082878649235\n"
          ]
        },
        {
          "name": "stderr",
          "output_type": "stream",
          "text": [
            "100%|██████████| 238/238 [00:00<00:00, 498.78it/s]\n"
          ]
        },
        {
          "name": "stdout",
          "output_type": "stream",
          "text": [
            ">> Training model AE_1D. Epoch 89/100\n",
            ">> Training loss: 0.007424740586429834\n",
            ">> Validation loss: 0.009008432738482952\n"
          ]
        },
        {
          "name": "stderr",
          "output_type": "stream",
          "text": [
            "100%|██████████| 238/238 [00:00<00:00, 479.72it/s]\n"
          ]
        },
        {
          "name": "stdout",
          "output_type": "stream",
          "text": [
            ">> Training model AE_1D. Epoch 90/100\n",
            ">> Training loss: 0.009938309900462627\n",
            ">> Validation loss: 0.008840187452733517\n"
          ]
        },
        {
          "name": "stderr",
          "output_type": "stream",
          "text": [
            "100%|██████████| 238/238 [00:00<00:00, 498.67it/s]\n"
          ]
        },
        {
          "name": "stdout",
          "output_type": "stream",
          "text": [
            ">> Training model AE_1D. Epoch 91/100\n",
            ">> Training loss: 0.028314704075455666\n",
            ">> Validation loss: 0.008638396859169006\n"
          ]
        },
        {
          "name": "stderr",
          "output_type": "stream",
          "text": [
            "100%|██████████| 238/238 [00:00<00:00, 442.62it/s]\n"
          ]
        },
        {
          "name": "stdout",
          "output_type": "stream",
          "text": [
            ">> Training model AE_1D. Epoch 92/100\n",
            ">> Training loss: 0.004889167845249176\n",
            ">> Validation loss: 0.008355841040611267\n"
          ]
        },
        {
          "name": "stderr",
          "output_type": "stream",
          "text": [
            "100%|██████████| 238/238 [00:00<00:00, 479.22it/s]\n"
          ]
        },
        {
          "name": "stdout",
          "output_type": "stream",
          "text": [
            ">> Training model AE_1D. Epoch 93/100\n",
            ">> Training loss: 0.03326931968331337\n",
            ">> Validation loss: 0.008328030817210674\n"
          ]
        },
        {
          "name": "stderr",
          "output_type": "stream",
          "text": [
            "100%|██████████| 238/238 [00:00<00:00, 441.63it/s]\n"
          ]
        },
        {
          "name": "stdout",
          "output_type": "stream",
          "text": [
            ">> Training model AE_1D. Epoch 94/100\n",
            ">> Training loss: 0.01200619712471962\n",
            ">> Validation loss: 0.008090746589004993\n"
          ]
        },
        {
          "name": "stderr",
          "output_type": "stream",
          "text": [
            "100%|██████████| 238/238 [00:00<00:00, 467.04it/s]\n"
          ]
        },
        {
          "name": "stdout",
          "output_type": "stream",
          "text": [
            ">> Training model AE_1D. Epoch 95/100\n",
            ">> Training loss: 0.05511453375220299\n",
            ">> Validation loss: 0.00812144111841917\n"
          ]
        },
        {
          "name": "stderr",
          "output_type": "stream",
          "text": [
            "100%|██████████| 238/238 [00:00<00:00, 484.19it/s]\n"
          ]
        },
        {
          "name": "stdout",
          "output_type": "stream",
          "text": [
            ">> Training model AE_1D. Epoch 96/100\n",
            ">> Training loss: 0.005117896944284439\n",
            ">> Validation loss: 0.007903802208602428\n"
          ]
        },
        {
          "name": "stderr",
          "output_type": "stream",
          "text": [
            "100%|██████████| 238/238 [00:00<00:00, 467.07it/s]\n"
          ]
        },
        {
          "name": "stdout",
          "output_type": "stream",
          "text": [
            ">> Training model AE_1D. Epoch 97/100\n",
            ">> Training loss: 0.012657876126468182\n",
            ">> Validation loss: 0.007797053083777428\n"
          ]
        },
        {
          "name": "stderr",
          "output_type": "stream",
          "text": [
            "100%|██████████| 238/238 [00:00<00:00, 497.38it/s]\n"
          ]
        },
        {
          "name": "stdout",
          "output_type": "stream",
          "text": [
            ">> Training model AE_1D. Epoch 98/100\n",
            ">> Training loss: 0.020055027678608894\n",
            ">> Validation loss: 0.007506189867854118\n"
          ]
        },
        {
          "name": "stderr",
          "output_type": "stream",
          "text": [
            "100%|██████████| 238/238 [00:00<00:00, 412.42it/s]\n"
          ]
        },
        {
          "name": "stdout",
          "output_type": "stream",
          "text": [
            ">> Training model AE_1D. Epoch 99/100\n",
            ">> Training loss: 0.043969396501779556\n",
            ">> Validation loss: 0.0072409287095069885\n"
          ]
        },
        {
          "name": "stderr",
          "output_type": "stream",
          "text": [
            "100%|██████████| 238/238 [00:00<00:00, 480.38it/s]\n"
          ]
        },
        {
          "name": "stdout",
          "output_type": "stream",
          "text": [
            ">> Training model AE_1D. Epoch 100/100\n",
            ">> Training loss: 0.019013315439224243\n",
            ">> Validation loss: 0.007390656974166632\n",
            ">> Training model AE_1D.[Done]\n"
          ]
        },
        {
          "data": {
            "text/plain": [
              "[<matplotlib.lines.Line2D at 0x7f0752359fa0>]"
            ]
          },
          "execution_count": 422,
          "metadata": {},
          "output_type": "execute_result"
        },
        {
          "data": {
            "image/png": "[encoded data removed]",
            "text/plain": [
              "<Figure size 432x288 with 1 Axes>"
            ]
          },
          "metadata": {
            "needs_background": "light"
          },
          "output_type": "display_data"
        }
      ],
      "source": [
        "from importlib import reload  # Python 3.4+\n",
        "model_simpleAE = reload(model_simpleAE)\n",
        "from model_simpleAE import AE_1D\n",
        "from options import Options\n",
        "\n",
        "class configuration(object):\n",
        "      \n",
        "    def __init__(self, my_dict):\n",
        "          \n",
        "        for key in my_dict:\n",
        "            setattr(self, key, my_dict[key])\n",
        "\n",
        "# LOAD MODEL\n",
        "opt_dict = {\n",
        "    'batchsize': 12,\n",
        "    'isize': 96,\n",
        "    'lsize':15, \n",
        "    'device': 'cpu',\n",
        "    'name': 'try1',\n",
        "    'outf': './output', \n",
        "    'phase': 'train',\n",
        "    'iter': 0, \n",
        "    'niter': 100,\n",
        "    'lr': 1e-5, \n",
        "}\n",
        "\n",
        "opt = configuration(opt_dict)\n",
        "opt.isTrain = True\n",
        "\n",
        "model = AE_1D(opt, dataloader)\n",
        "##\n",
        "# TRAIN MODEL\n",
        "metrics = model.train()\n",
        "\n",
        "metrics = pd.DataFrame(metrics)\n",
        "import matplotlib.pyplot as plt\n",
        "plt.plot(metrics['loss_tr'])\n",
        "plt.plot(metrics['loss_val'])"
      ]
    },
    {
      "cell_type": "code",
      "execution_count": 428,
      "metadata": {},
      "outputs": [
        {
          "name": "stdout",
          "output_type": "stream",
          "text": [
            "bad\n"
          ]
        },
        {
          "data": {
            "image/png": "[encoded data removed]",
            "text/plain": [
              "<Figure size 432x288 with 1 Axes>"
            ]
          },
          "metadata": {
            "needs_background": "light"
          },
          "output_type": "display_data"
        }
      ],
      "source": [
        "sample = next(iter(dataloader['train']))\n",
        "sample_tensor = sample[-2]['features']\n",
        "sample_validation = sample[-2]['val_label']\n",
        "model.ae.eval()\n",
        "with torch.no_grad():\n",
        "    reconstructed = model.ae(torch.unsqueeze(sample_tensor,0))\n",
        "\n",
        "print(sample_validation)\n",
        "plt.plot(sample_tensor)\n",
        "plt.plot(reconstructed[0])\n",
        "plt.show()"
      ]
    },
    {
      "cell_type": "code",
      "execution_count": null,
      "metadata": {
        "id": "3g942h7xmOun"
      },
      "outputs": [],
      "source": [
        "# save the classes in the typical pytorch class format\n",
        "\n",
        "for i, class_d in enumerate(data_class_arr):\n",
        "  \n",
        "  save(class_d, wk + subfolder + \"split_by_period/\"+str(period_split)+\"h/\"+str(selected_dataset[:-4])+\"/split_\"+str(i)+\".pt\")\n"
      ]
    }
  ],
  "metadata": {
    "colab": {
      "provenance": []
    },
    "kernelspec": {
      "display_name": "Python 3.9.12 ('base')",
      "language": "python",
      "name": "python3"
    },
    "language_info": {
      "codemirror_mode": {
        "name": "ipython",
        "version": 3
      },
      "file_extension": ".py",
      "mimetype": "text/x-python",
      "name": "python",
      "nbconvert_exporter": "python",
      "pygments_lexer": "ipython3",
      "version": "3.9.12"
    },
    "vscode": {
      "interpreter": {
        "hash": "db3b0be3bb1f6db1a0432c56ec1c0f7459936b81fd9ed1b468b8c4ba9c3d8298"
      }
    }
  },
  "nbformat": 4,
  "nbformat_minor": 0
}
