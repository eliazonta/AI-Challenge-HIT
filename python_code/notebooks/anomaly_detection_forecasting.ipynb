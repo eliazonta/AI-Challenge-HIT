{
  "cells": [
    {
      "cell_type": "code",
      "execution_count": 1,
      "metadata": {
        "id": "UHZ5dgtBUukH"
      },
      "outputs": [],
      "source": [
        "# load libraries\n",
        "import pandas as pd\n",
        "import os\n",
        "import numpy as np\n",
        "import datetime\n",
        "# from google.colab import drive\n",
        "from torch.utils.data import Dataset, DataLoader\n",
        "from torch import save"
      ]
    },
    {
      "cell_type": "code",
      "execution_count": 2,
      "metadata": {
        "colab": {
          "base_uri": "https://localhost:8080/"
        },
        "id": "0d21WFZCV19F",
        "outputId": "1173ee33-c071-49d0-c816-0d93d1d3ccd0"
      },
      "outputs": [
        {
          "name": "stdout",
          "output_type": "stream",
          "text": [
            "Drive already mounted at /content/drive; to attempt to forcibly remount, call drive.mount(\"/content/drive\", force_remount=True).\n"
          ]
        }
      ],
      "source": [
        "# mount drive\n",
        "drive.mount('/content/drive')"
      ]
    },
    {
      "cell_type": "code",
      "execution_count": 2,
      "metadata": {
        "id": "EdTf6K23VyxH"
      },
      "outputs": [],
      "source": [
        "# change me, have to point to the Meteotrentino drive folder\n",
        "wk =  \"/content/drive/My Drive/10. Meteotrentino/\"\n",
        "\n",
        "# folder for the csv\n",
        "subfolder = \"CSVs/\"\n",
        "\n",
        "# select the filename, make me dynamic\n",
        "selected_dataset = \"temperature.csv\""
      ]
    },
    {
      "cell_type": "code",
      "execution_count": 2,
      "metadata": {
        "id": "2OMJvpn3VN8J"
      },
      "outputs": [],
      "source": [
        "# data_path = wk+subfolder+selected_dataset\n",
        "data_path = \"../../temperatura1_A.csv\""
      ]
    },
    {
      "cell_type": "code",
      "execution_count": 13,
      "metadata": {
        "id": "1UMaZX3Ud1Q8"
      },
      "outputs": [
        {
          "data": {
            "text/html": [
              "<div>\n",
              "<style scoped>\n",
              "    .dataframe tbody tr th:only-of-type {\n",
              "        vertical-align: middle;\n",
              "    }\n",
              "\n",
              "    .dataframe tbody tr th {\n",
              "        vertical-align: top;\n",
              "    }\n",
              "\n",
              "    .dataframe thead th {\n",
              "        text-align: right;\n",
              "    }\n",
              "</style>\n",
              "<table border=\"1\" class=\"dataframe\">\n",
              "  <thead>\n",
              "    <tr style=\"text-align: right;\">\n",
              "      <th></th>\n",
              "      <th>label</th>\n",
              "      <th>date</th>\n",
              "      <th>time</th>\n",
              "      <th>value</th>\n",
              "      <th>validation_code</th>\n",
              "      <th>datetime</th>\n",
              "    </tr>\n",
              "  </thead>\n",
              "  <tbody>\n",
              "    <tr>\n",
              "      <th>0</th>\n",
              "      <td>T0009</td>\n",
              "      <td>01/01/2014</td>\n",
              "      <td>00:00</td>\n",
              "      <td>-2.1</td>\n",
              "      <td>1</td>\n",
              "      <td>2014-01-01 00:00:00</td>\n",
              "    </tr>\n",
              "    <tr>\n",
              "      <th>1</th>\n",
              "      <td>T0009</td>\n",
              "      <td>01/01/2014</td>\n",
              "      <td>00:15</td>\n",
              "      <td>-2.3</td>\n",
              "      <td>1</td>\n",
              "      <td>2014-01-01 00:15:00</td>\n",
              "    </tr>\n",
              "    <tr>\n",
              "      <th>2</th>\n",
              "      <td>T0009</td>\n",
              "      <td>01/01/2014</td>\n",
              "      <td>00:30</td>\n",
              "      <td>-2.2</td>\n",
              "      <td>1</td>\n",
              "      <td>2014-01-01 00:30:00</td>\n",
              "    </tr>\n",
              "    <tr>\n",
              "      <th>3</th>\n",
              "      <td>T0009</td>\n",
              "      <td>01/01/2014</td>\n",
              "      <td>00:45</td>\n",
              "      <td>-2.3</td>\n",
              "      <td>1</td>\n",
              "      <td>2014-01-01 00:45:00</td>\n",
              "    </tr>\n",
              "    <tr>\n",
              "      <th>4</th>\n",
              "      <td>T0009</td>\n",
              "      <td>01/01/2014</td>\n",
              "      <td>01:00</td>\n",
              "      <td>-2.5</td>\n",
              "      <td>1</td>\n",
              "      <td>2014-01-01 01:00:00</td>\n",
              "    </tr>\n",
              "    <tr>\n",
              "      <th>...</th>\n",
              "      <td>...</td>\n",
              "      <td>...</td>\n",
              "      <td>...</td>\n",
              "      <td>...</td>\n",
              "      <td>...</td>\n",
              "      <td>...</td>\n",
              "    </tr>\n",
              "    <tr>\n",
              "      <th>11763686</th>\n",
              "      <td>T0227</td>\n",
              "      <td>31/12/2021</td>\n",
              "      <td>22:45</td>\n",
              "      <td>8.1</td>\n",
              "      <td>1</td>\n",
              "      <td>2021-12-31 22:45:00</td>\n",
              "    </tr>\n",
              "    <tr>\n",
              "      <th>11763687</th>\n",
              "      <td>T0227</td>\n",
              "      <td>31/12/2021</td>\n",
              "      <td>23:00</td>\n",
              "      <td>8.2</td>\n",
              "      <td>1</td>\n",
              "      <td>2021-12-31 23:00:00</td>\n",
              "    </tr>\n",
              "    <tr>\n",
              "      <th>11763688</th>\n",
              "      <td>T0227</td>\n",
              "      <td>31/12/2021</td>\n",
              "      <td>23:15</td>\n",
              "      <td>8.1</td>\n",
              "      <td>1</td>\n",
              "      <td>2021-12-31 23:15:00</td>\n",
              "    </tr>\n",
              "    <tr>\n",
              "      <th>11763689</th>\n",
              "      <td>T0227</td>\n",
              "      <td>31/12/2021</td>\n",
              "      <td>23:30</td>\n",
              "      <td>8.0</td>\n",
              "      <td>1</td>\n",
              "      <td>2021-12-31 23:30:00</td>\n",
              "    </tr>\n",
              "    <tr>\n",
              "      <th>11763690</th>\n",
              "      <td>T0227</td>\n",
              "      <td>31/12/2021</td>\n",
              "      <td>23:45</td>\n",
              "      <td>8.0</td>\n",
              "      <td>1</td>\n",
              "      <td>2021-12-31 23:45:00</td>\n",
              "    </tr>\n",
              "  </tbody>\n",
              "</table>\n",
              "<p>11763691 rows × 6 columns</p>\n",
              "</div>"
            ],
            "text/plain": [
              "          label        date   time  value  validation_code            datetime\n",
              "0         T0009  01/01/2014  00:00   -2.1                1 2014-01-01 00:00:00\n",
              "1         T0009  01/01/2014  00:15   -2.3                1 2014-01-01 00:15:00\n",
              "2         T0009  01/01/2014  00:30   -2.2                1 2014-01-01 00:30:00\n",
              "3         T0009  01/01/2014  00:45   -2.3                1 2014-01-01 00:45:00\n",
              "4         T0009  01/01/2014  01:00   -2.5                1 2014-01-01 01:00:00\n",
              "...         ...         ...    ...    ...              ...                 ...\n",
              "11763686  T0227  31/12/2021  22:45    8.1                1 2021-12-31 22:45:00\n",
              "11763687  T0227  31/12/2021  23:00    8.2                1 2021-12-31 23:00:00\n",
              "11763688  T0227  31/12/2021  23:15    8.1                1 2021-12-31 23:15:00\n",
              "11763689  T0227  31/12/2021  23:30    8.0                1 2021-12-31 23:30:00\n",
              "11763690  T0227  31/12/2021  23:45    8.0                1 2021-12-31 23:45:00\n",
              "\n",
              "[11763691 rows x 6 columns]"
            ]
          },
          "execution_count": 13,
          "metadata": {},
          "output_type": "execute_result"
        }
      ],
      "source": [
        "df_row_data = pd.read_csv(\n",
        "  data_path,\n",
        "  sep = \";\", # not a CSV, separator is ';'\n",
        "  header = None, # no header\n",
        "  dtype = {'0' : str, '1': str, '2': str, '3' : np.float64, '4':int} # Daniele: added the validation code so we can train on validated data (no need of classes, just distinguish between good and bad data)\n",
        "  ) \n",
        "\n",
        "# define a header \n",
        "df_row_data = df_row_data.set_axis(\n",
        "    ['label', 'date', 'time', 'value','validation_code'],\n",
        "    axis = 1,\n",
        "    inplace = False\n",
        ")\n",
        "df_row_data['datetime'] = pd.to_datetime(df_row_data['date']+\" \"+df_row_data['time'], format = '%d/%m/%Y %H:%M')\n",
        "df_row_data"
      ]
    },
    {
      "cell_type": "code",
      "execution_count": 14,
      "metadata": {},
      "outputs": [
        {
          "data": {
            "text/plain": [
              "array(['T0009', 'T0010', 'T0014', 'T0015', 'T0024', 'T0027', 'T0030',\n",
              "       'T0032', 'T0059', 'T0065', 'T0071', 'T0074', 'T0082', 'T0088',\n",
              "       'T0092', 'T0094', 'T0096', 'T0101', 'T0103', 'T0104', 'T0118',\n",
              "       'T0129', 'T0135', 'T0139', 'T0146', 'T0147', 'T0148', 'T0151',\n",
              "       'T0153', 'T0167', 'T0169', 'T0175', 'T0177', 'T0179', 'T0182',\n",
              "       'T0189', 'T0193', 'T0200', 'T0210', 'T0212', 'T0226', 'T0227'],\n",
              "      dtype=object)"
            ]
          },
          "execution_count": 14,
          "metadata": {},
          "output_type": "execute_result"
        }
      ],
      "source": [
        "df_single_station = df_row_data[df_row_data['label'] == 'T0010']\n",
        "print(np.unique(df_single_station['validation_code'].values))\n",
        "print(np.unique(df_row_data['label'].values))"
      ]
    },
    {
      "cell_type": "code",
      "execution_count": 15,
      "metadata": {},
      "outputs": [
        {
          "name": "stdout",
          "output_type": "stream",
          "text": [
            "      sensor_code         in_datetime    0    1    2    3    4    5    6    7  \\\n",
            "0           T0010 2014-01-01 00:15:00 -2.7 -2.7 -3.0 -3.0 -2.7 -2.9 -3.0 -3.0   \n",
            "1           T0010 2014-01-01 04:15:00 -3.1 -3.1 -3.5 -3.3 -3.6 -3.3 -3.5 -3.4   \n",
            "2           T0010 2014-01-01 08:15:00 -3.7 -3.8 -3.9 -3.7 -3.4 -3.3 -3.3 -3.4   \n",
            "3           T0010 2014-01-01 12:15:00  0.8  1.5  1.7  2.1  2.2  3.8  3.8  3.5   \n",
            "4           T0010 2014-01-01 16:15:00  1.4  1.1  0.5  0.1 -0.2 -0.4 -0.5 -0.6   \n",
            "...           ...                 ...  ...  ...  ...  ...  ...  ...  ...  ...   \n",
            "16887       T0010 2021-12-30 06:15:00  1.8  1.3  1.6  1.3  1.3  0.7  1.0  1.0   \n",
            "16888       T0010 2021-12-30 10:15:00  1.9  3.5  2.9  4.0  4.2  5.2  4.1  5.1   \n",
            "16889       T0010 2021-12-30 14:15:00  7.9  8.3  8.3  8.6  8.7  7.9  7.1  6.6   \n",
            "16890       T0010 2021-12-30 18:15:00  4.7  4.5  4.5  4.1  4.0  4.0  3.7  4.1   \n",
            "16891       T0010 2021-12-30 22:15:00  2.9  3.3  3.3  3.4  2.8  3.1  3.1  2.9   \n",
            "\n",
            "       ...    86   87   88   89   90   91   92   93   94    95  \n",
            "0      ...  -1.7 -1.9 -2.1 -2.1 -2.2 -2.1 -2.2 -2.4 -2.4  -2.4  \n",
            "1      ...  -2.5 -2.1 -2.1 -1.8 -2.1 -1.8 -1.7 -1.8 -1.7  -1.6  \n",
            "2      ...  -1.3 -1.3 -1.2 -1.2 -1.0 -1.0 -1.2 -1.1 -1.0  -0.8  \n",
            "3      ...  -0.4 -0.3 -0.4 -0.3 -0.2 -0.4 -0.4 -0.3 -0.4  -0.3  \n",
            "4      ...   0.1  0.1  0.0  0.1  0.0  0.0  0.0  0.0 -0.1  -0.1  \n",
            "...    ...   ...  ...  ...  ...  ...  ...  ...  ...  ...   ...  \n",
            "16887  ...   2.6  2.5  2.8  2.5  2.3  2.3  2.3  2.3  2.2   2.4  \n",
            "16888  ...   1.7  1.8  2.3  1.9  2.8  2.1  2.2  2.8  1.9   1.9  \n",
            "16889  ...   7.5  7.4  7.4  8.5  8.5  8.7  9.7  9.7  9.9  10.5  \n",
            "16890  ...  10.7  9.1  8.9  8.3  6.9  6.9  6.8  6.1  6.5   6.4  \n",
            "16891  ...   4.5  3.8  4.2  4.1  4.0  3.6  3.9  3.5  3.2   3.5  \n",
            "\n",
            "[16892 rows x 98 columns]\n",
            "      sensor_code         in_datetime     0     1     2     3  val_0  val_1  \\\n",
            "0           T0010 2014-01-01 00:15:00  -2.6  -2.5  -2.4  -2.6    1.0    1.0   \n",
            "1           T0010 2014-01-01 04:15:00  -1.5  -1.5  -1.4  -1.5    1.0    1.0   \n",
            "2           T0010 2014-01-01 08:15:00  -0.9  -0.9  -0.8  -0.6    1.0    1.0   \n",
            "3           T0010 2014-01-01 12:15:00  -0.4  -0.2   0.1   0.2    1.0    1.0   \n",
            "4           T0010 2014-01-01 16:15:00  -0.1  -0.2  -0.3  -0.3    1.0    1.0   \n",
            "...           ...                 ...   ...   ...   ...   ...    ...    ...   \n",
            "16887       T0010 2021-12-30 06:15:00   2.6   2.2   2.1   2.1    1.0    1.0   \n",
            "16888       T0010 2021-12-30 10:15:00   3.1   4.0   4.0   4.9    1.0    1.0   \n",
            "16889       T0010 2021-12-30 14:15:00  10.0  10.6  11.2  11.6    1.0    1.0   \n",
            "16890       T0010 2021-12-30 18:15:00   5.2   5.4   5.0   5.2    1.0    1.0   \n",
            "16891       T0010 2021-12-30 22:15:00   3.3   3.4   3.4   3.7    1.0    1.0   \n",
            "\n",
            "       val_2  val_3  \n",
            "0        1.0    1.0  \n",
            "1        1.0    1.0  \n",
            "2        1.0    1.0  \n",
            "3        1.0    1.0  \n",
            "4        1.0    1.0  \n",
            "...      ...    ...  \n",
            "16887    1.0    1.0  \n",
            "16888    1.0    1.0  \n",
            "16889    1.0    1.0  \n",
            "16890    1.0    1.0  \n",
            "16891    1.0    1.0  \n",
            "\n",
            "[16892 rows x 10 columns]\n"
          ]
        }
      ],
      "source": [
        "from importlib import reload  # Python 3.4+\n",
        "import TSF.data_splitter\n",
        "TSF.data_splitter = reload(TSF.data_splitter)\n",
        "from TSF.data_splitter import *\n",
        "# new_data = split_df_for_TSF(df_single_station.iloc[0:10], 24, 1, \".\")\n",
        "\n",
        "PERIOD = 24\n",
        "PREDICTION = 1\n",
        "df = df_single_station\n",
        "df_train,df_test = split_df_for_TSF(df, 24, 1)\n",
        "df_train = df_train.reset_index(drop=True)\n",
        "df_test = df_test.reset_index(drop=True)\n",
        "print(df_train)\n",
        "print(df_test)"
      ]
    },
    {
      "cell_type": "code",
      "execution_count": 17,
      "metadata": {},
      "outputs": [
        {
          "data": {
            "text/plain": [
              "(array([  1., 140.,  nan]), array([67538,     1,    29]))"
            ]
          },
          "execution_count": 17,
          "metadata": {},
          "output_type": "execute_result"
        }
      ],
      "source": [
        "np.unique(df_test[['val_0','val_1','val_2','val_3']].values, return_counts=True)"
      ]
    },
    {
      "cell_type": "code",
      "execution_count": 18,
      "metadata": {},
      "outputs": [],
      "source": [
        "import torch\n",
        "from torch.utils.data import Dataset, DataLoader\n",
        "class CustomDataset(Dataset):\n",
        "  def __init__(self, df_train, df_test, transform = None, target_transform = None):\n",
        "    self.features = torch.FloatTensor(df_train.drop(['sensor_code','in_datetime'],axis=1).values)\n",
        "    ### standardize the data\n",
        "    means = self.features.mean(dim=1, keepdim=True)\n",
        "    stds = self.features.std(dim=1, keepdim=True)\n",
        "    self.features = (self.features - means) / stds\n",
        "    # mean, std= torch.mean(self.features,0), torch.std(self.features,0)\n",
        "    # self.features = (self.features-mean)/std\n",
        "    # self.features = torch.nn.functional.normalize(self.features, p=1 ,dim=1)\n",
        "\n",
        "    self.sensor_code = df_train['sensor_code'].values\n",
        "    self.in_datetime = df_train['in_datetime'].values\n",
        "    ### this is very bad! the 4 is hard_coded!\n",
        "    self.target = torch.FloatTensor(df_test.drop(['sensor_code','in_datetime']+[f\"val_{idx}\" for idx in range(4)],axis=1).values)\n",
        "    self.target = (self.target - means) / stds\n",
        "\n",
        "    self.labels = torch.FloatTensor(df_test[[f\"val_{idx}\" for idx in range(4)]].values)\n",
        "    self.transform = transform\n",
        "    self.target_transform = target_transform\n",
        "\n",
        "  def __len__(self):\n",
        "    return len(self.sensor_code)\n",
        "\n",
        "  def __getitem__(self, idx):\n",
        "    sensor_code = self.sensor_code[idx]\n",
        "    date = self.in_datetime[idx]\n",
        "    features = self.features[idx]\n",
        "    labels = self.labels[idx]\n",
        "    target = self.target[idx]\n",
        "    return {\"sensor_code\": sensor_code, \"date\":date,\"features\": features, \"target\":target,\"labels\":labels}"
      ]
    },
    {
      "cell_type": "code",
      "execution_count": 29,
      "metadata": {},
      "outputs": [],
      "source": [
        "splits = ['train','test']\n",
        "shuffle = {'train':True,'test':False}\n",
        "dataset = {}\n",
        "\n",
        "training_features = df_train.sample(frac=0.8).reset_index(drop=True)\n",
        "training_target = df_test.iloc[training_features.index.values]\n",
        "test_features = df_train.drop(training_features.index)\n",
        "test_target = df_test.iloc[test_features.index]\n",
        "\n",
        "dataset['train'] = CustomDataset(training_features, training_target)\n",
        "dataset['test'] = CustomDataset(test_features, test_target)\n",
        "from torch import save\n",
        "# save(dataset['train'], 'train.pt')\n",
        "# save(dataset['test'], 'test.pt')\n",
        "\n",
        "# b_size = {'train':64,'test':len(dataset['test'])}\n",
        "b_size = {'train':len(dataset['train']),'test':len(dataset['test'])}\n",
        "\n",
        "dataloader = {x: torch.utils.data.DataLoader(dataset=dataset[x],\n",
        "                                            batch_size=b_size[x],\n",
        "                                            shuffle=shuffle[x],\n",
        "                                            collate_fn=lambda x: x,\n",
        "                                            drop_last=True)\n",
        "                                            #num_workers=int(opt.workers),\n",
        "                                            #worker_init_fn=(None if opt.manualseed == -1\n",
        "                                            #else lambda x: np.random.seed(opt.manualseed)))\n",
        "            for x in splits}\n",
        "\n"
      ]
    },
    {
      "cell_type": "code",
      "execution_count": 20,
      "metadata": {},
      "outputs": [
        {
          "name": "stderr",
          "output_type": "stream",
          "text": [
            "100%|██████████| 211/211 [00:04<00:00, 44.31it/s]\n"
          ]
        },
        {
          "name": "stdout",
          "output_type": "stream",
          "text": [
            "Loss: 0.1193\n"
          ]
        },
        {
          "name": "stderr",
          "output_type": "stream",
          "text": [
            "100%|██████████| 211/211 [00:04<00:00, 45.59it/s]\n"
          ]
        },
        {
          "name": "stdout",
          "output_type": "stream",
          "text": [
            "Loss: 0.0783\n"
          ]
        },
        {
          "name": "stderr",
          "output_type": "stream",
          "text": [
            "100%|██████████| 211/211 [00:04<00:00, 45.34it/s]\n"
          ]
        },
        {
          "name": "stdout",
          "output_type": "stream",
          "text": [
            "Loss: 0.0336\n"
          ]
        },
        {
          "name": "stderr",
          "output_type": "stream",
          "text": [
            "100%|██████████| 211/211 [00:04<00:00, 43.13it/s]\n"
          ]
        },
        {
          "name": "stdout",
          "output_type": "stream",
          "text": [
            "Loss: 0.0541\n"
          ]
        },
        {
          "name": "stderr",
          "output_type": "stream",
          "text": [
            "100%|██████████| 211/211 [00:04<00:00, 44.44it/s]\n"
          ]
        },
        {
          "name": "stdout",
          "output_type": "stream",
          "text": [
            "Loss: 0.0784\n"
          ]
        },
        {
          "name": "stderr",
          "output_type": "stream",
          "text": [
            "100%|██████████| 211/211 [00:04<00:00, 44.44it/s]\n"
          ]
        },
        {
          "name": "stdout",
          "output_type": "stream",
          "text": [
            "Loss: 0.0395\n"
          ]
        },
        {
          "name": "stderr",
          "output_type": "stream",
          "text": [
            "100%|██████████| 211/211 [00:04<00:00, 45.50it/s]\n"
          ]
        },
        {
          "name": "stdout",
          "output_type": "stream",
          "text": [
            "Loss: 0.0408\n"
          ]
        },
        {
          "name": "stderr",
          "output_type": "stream",
          "text": [
            "100%|██████████| 211/211 [00:04<00:00, 45.05it/s]\n"
          ]
        },
        {
          "name": "stdout",
          "output_type": "stream",
          "text": [
            "Loss: 0.0736\n"
          ]
        },
        {
          "name": "stderr",
          "output_type": "stream",
          "text": [
            "100%|██████████| 211/211 [00:04<00:00, 46.28it/s]\n"
          ]
        },
        {
          "name": "stdout",
          "output_type": "stream",
          "text": [
            "Loss: 0.0267\n"
          ]
        },
        {
          "name": "stderr",
          "output_type": "stream",
          "text": [
            "100%|██████████| 211/211 [00:04<00:00, 43.83it/s]\n"
          ]
        },
        {
          "name": "stdout",
          "output_type": "stream",
          "text": [
            "Loss: 0.0478\n"
          ]
        },
        {
          "name": "stderr",
          "output_type": "stream",
          "text": [
            "100%|██████████| 211/211 [00:04<00:00, 44.26it/s]\n"
          ]
        },
        {
          "name": "stdout",
          "output_type": "stream",
          "text": [
            "Loss: 0.0395\n"
          ]
        },
        {
          "name": "stderr",
          "output_type": "stream",
          "text": [
            "100%|██████████| 211/211 [00:04<00:00, 45.47it/s]\n"
          ]
        }
      ],
      "source": [
        "from collections.abc import Sequence\n",
        "from torch import nn\n",
        "class Model(nn.Module):\n",
        "    def __init__(self, input_size, output_size, batch_size, hidden_dim):\n",
        "        super(Model, self).__init__()\n",
        "\n",
        "        # Defining some parameters\n",
        "        self.hidden_dim = hidden_dim\n",
        "\n",
        "        # Defining the layers\n",
        "        # RNN Layer\n",
        "        self.lstm1 = nn.LSTMCell(input_size, hidden_dim)\n",
        "        # self.rnn = nn.RNN(input_size, hidden_dim, n_layers, batch_first=True)   \n",
        "        # Fully connected layer\n",
        "        self.fc = nn.Linear(hidden_dim, output_size)\n",
        "        #Initializing hidden state for first input using method defined below\n",
        "        self.hidden,self.cell = self.init_hidden_and_cell(batch_size)\n",
        "\n",
        "    def forward(self, x, future_preds=0):\n",
        "        outputs, batch_size = [], x.size(0)\n",
        "\n",
        "        #Initializing hidden state for first input using method defined below\n",
        "        hidden,cell = self.init_hidden_and_cell(batch_size)\n",
        "        # hidden,cell = self.hidden, self.cell\n",
        "        \n",
        "        # x = torch.unsqueeze(x, 2)\n",
        "        for time_step in x.split(1, dim=1):\n",
        "            hidden,cell = self.lstm1(time_step, (hidden,cell))\n",
        "            output = self.fc(hidden) # output from the last FC layer\n",
        "            outputs.append(output)\n",
        "        \n",
        "        for i in range(future_preds):\n",
        "            # this only generates future predictions if we pass in future_preds>0\n",
        "            # mirrors the code above, using last output/prediction as input\n",
        "            hidden,cell = self.lstm1(time_step, (hidden,cell))\n",
        "            output = self.fc(hidden) # output from the last FC layer\n",
        "            outputs.append(output)\n",
        "\n",
        "        # transform list to tensor    \n",
        "        outputs = torch.cat(outputs, dim=1)\n",
        "        return outputs\n",
        "    \n",
        "    def init_hidden_and_cell(self, batch_size):\n",
        "        # This method generates the first hidden state of zeros which we'll use in the forward pass\n",
        "        hidden = torch.zeros(batch_size, self.hidden_dim).to(torch.device(\"cpu\"))\n",
        "        cell = torch.zeros(batch_size, self.hidden_dim).to(torch.device(\"cpu\"))\n",
        "         # We'll send the tensor holding the hidden state to the device we specified earlier as well\n",
        "        return hidden,cell\n",
        "\n",
        "device = torch.device(\"cpu\")\n",
        "sequence_length = 96\n",
        "pred_length = 4\n",
        "# Instantiate the model with hyperparameters\n",
        "model = Model(input_size=1, output_size=1, batch_size=64, hidden_dim=24)\n",
        "# We'll also set the model to the device that we defined earlier (default is CPU)\n",
        "model = model.to(device)\n",
        "\n",
        "# Define hyperparameters\n",
        "lr = 0.0005\n",
        "\n",
        "# Define Loss, Optimizer\n",
        "criterion = nn.MSELoss()#CrossEntropyLoss()\n",
        "optimizer = torch.optim.Adam(model.parameters(), lr=lr)\n",
        "\n",
        "from tqdm import tqdm\n",
        "n_epochs = 30\n",
        "for epoch in range(1, n_epochs + 1):\n",
        "    for data in tqdm(dataloader['train'], leave=True, total=len(dataloader['train'])):\n",
        "        batch_input_features = torch.stack([v[\"features\"] for v in data])\n",
        "        # target_features = torch.stack([v[\"target\"] for v in data])\n",
        "        output = model(batch_input_features)\n",
        "        output = output.to(device)\n",
        "        loss = criterion(output, batch_input_features)\n",
        "        loss.backward() # Does backpropagation and calculates gradients\n",
        "        optimizer.step() # Updates the weights accordingly\n",
        "    if loss.item() < 0.02:\n",
        "        break\n",
        "    print(\"Loss: {:.4f}\".format(loss.item()))\n"
      ]
    },
    {
      "cell_type": "code",
      "execution_count": 37,
      "metadata": {},
      "outputs": [
        {
          "data": {
            "text/plain": [
              "<matplotlib.lines.Line2D at 0x7fabf6697490>"
            ]
          },
          "execution_count": 37,
          "metadata": {},
          "output_type": "execute_result"
        },
        {
          "data": {
            "image/png": "[encoded data removed]",
            "text/plain": [
              "<Figure size 432x288 with 1 Axes>"
            ]
          },
          "metadata": {
            "needs_background": "light"
          },
          "output_type": "display_data"
        }
      ],
      "source": [
        "import matplotlib.pyplot as plt\n",
        "which = 8937\n",
        "# sample = next(iter(dataloader['train']))\n",
        "sample_tensor_features = torch.stack([v[\"features\"] for v in sample])\n",
        "sample_tensor_target = torch.stack([v[\"target\"] for v in sample])\n",
        "sample_tensor_validation = torch.stack([v[\"labels\"] for v in sample])\n",
        "# sample_validation = sample['val_label']\n",
        "model.eval()\n",
        "with torch.no_grad():\n",
        "    reconstructed = model(sample_tensor_features, future_preds=4)\n",
        "y_outliers = np.where(sample_tensor_validation[which] == 140, np.NaN, sample_tensor_target[which])\n",
        "plt.plot(torch.cat((sample_tensor_features, sample_tensor_target), 1)[which],color='blue')\n",
        "plt.plot(reconstructed[which],color=\"orange\")\n",
        "plt.plot(np.arange(96,100), y_outliers, \"x-\",ms=15,mew=10,color=\"red\")\n",
        "plt.axvline(x=96, color='red')"
      ]
    },
    {
      "cell_type": "code",
      "execution_count": 34,
      "metadata": {},
      "outputs": [
        {
          "name": "stdout",
          "output_type": "stream",
          "text": [
            "(array([  1., 140.,  nan], dtype=float32), array([   0, 8937, 3663]))\n"
          ]
        }
      ],
      "source": [
        "sample = next(iter(dataloader['train']))\n",
        "print(np.unique(torch.stack([v[\"labels\"] for v in sample]).numpy(),return_index=True))"
      ]
    }
  ],
  "metadata": {
    "colab": {
      "provenance": []
    },
    "kernelspec": {
      "display_name": "Python 3.9.12 ('base')",
      "language": "python",
      "name": "python3"
    },
    "language_info": {
      "codemirror_mode": {
        "name": "ipython",
        "version": 3
      },
      "file_extension": ".py",
      "mimetype": "text/x-python",
      "name": "python",
      "nbconvert_exporter": "python",
      "pygments_lexer": "ipython3",
      "version": "3.9.12"
    },
    "vscode": {
      "interpreter": {
        "hash": "db3b0be3bb1f6db1a0432c56ec1c0f7459936b81fd9ed1b468b8c4ba9c3d8298"
      }
    }
  },
  "nbformat": 4,
  "nbformat_minor": 0
}
