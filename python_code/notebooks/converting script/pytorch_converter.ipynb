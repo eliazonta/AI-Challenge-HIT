{
 "cells": [
  {
   "cell_type": "markdown",
   "metadata": {},
   "source": [
    "# Converting script to generate from the csv the pytorch dataset.\n",
    "\n",
    "### this script convert the csv data provided by meteotrentino in pytorch dataset usable by the LSTM. This do not convert the complex-LSTM (multiple features, like wind direction). It can work in two configuration: getting the dataset by googledrive (use google colab), or on local data, downloaded. The csv data is readed, splittend in PERIOD-h with PREDICTION-h a"
   ]
  },
  {
   "cell_type": "code",
   "execution_count": 1,
   "metadata": {
    "id": "UHZ5dgtBUukH"
   },
   "outputs": [],
   "source": [
    "# load required libraries\n",
    "import pandas as pd\n",
    "import os\n",
    "import numpy as np\n",
    "import datetime\n",
    "import traceback\n",
    "from torch.utils.data import Dataset, DataLoader\n",
    "from torch import save,load"
   ]
  },
  {
   "cell_type": "code",
   "execution_count": 2,
   "metadata": {
    "colab": {
     "base_uri": "https://localhost:8080/"
    },
    "id": "0d21WFZCV19F",
    "outputId": "8f38c512-c7cb-4e47-ca46-f7ba5291e6e8"
   },
   "outputs": [],
   "source": [
    "# mount drive\n",
    "drive.mount('/content/drive')\n"
   ]
  },
  {
   "cell_type": "code",
   "execution_count": 13,
   "metadata": {
    "id": "EdTf6K23VyxH"
   },
   "outputs": [],
   "source": [
    "# Warning: location dependent!\n",
    "#                if local folders: --------\n",
    "# point to the Meteotrentino drive folder\n",
    "wk =  \"/home/pierobon/Documents/data/exp/meteo_TN/raw/\"\n",
    "\n",
    "# folder fot the pytorch\n",
    "pt_subfolder = \"DatasetPytorch/\"\n",
    "\n",
    "# change me, have to point the dataset to convert\n",
    "csv_name = \"temperatura3_A.csv\"\n",
    "data_path = wk+'csv_data_from_gDrive/'+csv_name \n",
    "\n",
    "station_path = wk + \"lista stazioni con sensori_aggiornato al 06072022.xlsx\"\n",
    "\n",
    "\n",
    "#                if drive folders: ---------\n",
    "## point to the Meteotrentino drive folder\n",
    "#wk =  \"/content/drive/My Drive/10. Meteotrentino/\"\n",
    "#\n",
    "## folder for the csv\n",
    "#csv_subfolder = \"Dati csv convalidati/\"\n",
    "#\n",
    "## folder fot the pytorch\n",
    "pt_subfolder = wk+\"pytorch_dataset/\"\n",
    "\n",
    "\n",
    "## change me, have to point the dataset to convert\n",
    "#data_path = wk+csv_subfolder+\"umidità_A.csv\"\n",
    "#\n",
    "#station_path = wk + \"Informazioni sulle stazioni/lista stazioni con sensori_aggiornato al 06072022.xlsx\"\n",
    "\n",
    "\n",
    "\n",
    "# in both cases: --------\n",
    "# conversion log path\n",
    "log_folder = wk+\"conversion_logs/\"\n",
    "\n"
   ]
  },
  {
   "cell_type": "code",
   "execution_count": 4,
   "metadata": {
    "id": "RRFcPP2v8Uqe"
   },
   "outputs": [
    {
     "name": "stdout",
     "output_type": "stream",
     "text": [
      "temperatura\n"
     ]
    }
   ],
   "source": [
    "# select the filename of the dataset (Dario: dont judge me)\n",
    "# I don't know how it works\n",
    "selected_dataset = os.path.basename(data_path).split('_A')[0] \n",
    "if selected_dataset > \"vel\":\n",
    "  dataset_sensor = \"vento\"\n",
    "elif selected_dataset > \"umidita\":\n",
    "  dataset_sensor = \"umidità\"\n",
    "elif selected_dataset > \"temperatura\":    \n",
    "  dataset_sensor = \"temperatura\"\n",
    "elif selected_dataset > \"radiazione\":\n",
    "  dataset_sensor = \"radiazione\"\n",
    "elif selected_dataset > \"pioggia\":\n",
    "  dataset_sensor = \"pioggia\"\n",
    "elif selected_dataset > \"direzione\":\n",
    "  dataset_sensor = \"vento\"\n",
    "else:\n",
    "  dataset_sensor = \"Altezza neve\"\n",
    "print(dataset_sensor)"
   ]
  },
  {
   "cell_type": "code",
   "execution_count": 5,
   "metadata": {
    "colab": {
     "base_uri": "https://localhost:8080/",
     "height": 424
    },
    "id": "1UMaZX3Ud1Q8",
    "outputId": "b3c2bac7-ad4a-4740-d8f2-e57ac9e620a9"
   },
   "outputs": [],
   "source": [
    "# load the dataset\n",
    "df_row_data = pd.read_csv(\n",
    "  data_path,\n",
    "  sep = \";\", # not a CSV, separator is ';'\n",
    "  header = None, # no header\n",
    "  dtype = {'0' : str, '1': str, '2': str, '3' : np.float64, '4':int} # Daniele: added the validation code so we can train on validated data (no need of classes, just distinguish between good and bad data)\n",
    "  ) \n",
    "\n",
    "# define a header \n",
    "df_row_data = df_row_data.set_axis(\n",
    "    ['label', 'date', 'time', 'value','validation_code'],\n",
    "    axis = 1,\n",
    "    inplace = False #inplace deprecated\n",
    ")\n",
    "# create a compact datetime timestamp\n",
    "df_row_data['datetime'] = pd.to_datetime(df_row_data['date']+\" \"+df_row_data['time'], format = '%d/%m/%Y %H:%M')\n",
    "  "
   ]
  },
  {
   "cell_type": "code",
   "execution_count": 6,
   "metadata": {
    "id": "YlkuDgas_pqI"
   },
   "outputs": [],
   "source": [
    "# pytorch class to create the dataset. \n",
    "import torch\n",
    "from torch.utils.data import Dataset, DataLoader\n",
    "class CustomDataset(Dataset):\n",
    "  def __init__(self, df_train, df_test, transform = None, target_transform = None):\n",
    "    self.features = torch.FloatTensor(df_train.drop(['sensor_code','in_datetime'],axis=1).values)\n",
    "    ### standardize the data\n",
    "    means = self.features.mean(dim=1, keepdim=True)\n",
    "    stds = torch.clamp(self.features.std(dim=1, keepdim=True),min=1)\n",
    "    self.features = (self.features - means) / stds\n",
    "    self.target = torch.FloatTensor(df_test.drop(['sensor_code','in_datetime']+[f\"val_{idx}\" for idx in range(n_previsions)],axis=1).values)\n",
    "    self.target = (self.target - means) / stds\n",
    "    \n",
    "    self.sensor_code = df_train['sensor_code'].values\n",
    "    self.in_datetime = df_train['in_datetime'].values\n",
    "    \n",
    "    self.labels = torch.FloatTensor(df_test[[f\"val_{idx}\" for idx in range(n_previsions)]].values)\n",
    "    self.transform = transform\n",
    "    self.target_transform = target_transform\n",
    "\n",
    "  def __len__(self):\n",
    "    return len(self.sensor_code)\n",
    "\n",
    "  def __getitem__(self, idx):\n",
    "    sensor_code = self.sensor_code[idx]\n",
    "    date = self.in_datetime[idx]\n",
    "    features = self.features[idx]\n",
    "    labels = self.labels[idx]\n",
    "    target = self.target[idx]\n",
    "    return {\"sensor_code\": sensor_code, \"date\":date,\"features\": features, \"target\":target,\"labels\":labels}"
   ]
  },
  {
   "cell_type": "code",
   "execution_count": null,
   "metadata": {
    "id": "_WnDVJqN6jdD"
   },
   "outputs": [],
   "source": [
    "from importlib import reload  # Python 3.4+\n",
    "import sys\n",
    "\n",
    "# add the path to TSF/data_splitter\n",
    "!git clone https://github.com/eliazonta/AI-Challenge-HIT\n",
    "\n",
    "# if drive:\n",
    "sys.path.append(\"content/AI-Challenge-HIT/python_code/notebooks/TSF\")\n",
    "                \n",
    "# if local\n",
    "sys.path.append(\"/home/pierobon/Documents/code/python/code/ML/challenge_IA/AI-Challenge-HIT/python_code/notebooks/TSF/\")\n",
    "\n",
    "import data_splitter\n",
    "data_splitter = reload(data_splitter)\n",
    "from data_splitter import *\n",
    "from torch import save,load\n"
   ]
  },
  {
   "cell_type": "code",
   "execution_count": 37,
   "metadata": {
    "id": "hcvALo5t3lCc"
   },
   "outputs": [
    {
     "name": "stdout",
     "output_type": "stream",
     "text": [
      "Processing station = T0431\n",
      "Start...\n",
      "Splitting...\n",
      "Logging to /home/pierobon/Documents/data/exp/meteo_TN/raw/conversion_logs/T0431_temperatura3_A.log\n",
      "Splitting done\n",
      "Resetting index\n",
      "Creating custom datasets\n",
      "T0431 saved\n",
      "Processing station = T0432\n",
      "Start...\n",
      "Splitting...\n",
      "Logging to /home/pierobon/Documents/data/exp/meteo_TN/raw/conversion_logs/T0432_temperatura3_A.log\n",
      "Splitting done\n",
      "Resetting index\n",
      "Creating custom datasets\n",
      "T0432 saved\n",
      "Processing station = T0433\n",
      "Start...\n",
      "Splitting...\n",
      "Logging to /home/pierobon/Documents/data/exp/meteo_TN/raw/conversion_logs/T0433_temperatura3_A.log\n",
      "Splitting done\n",
      "Resetting index\n",
      "Creating custom datasets\n",
      "T0433 saved\n",
      "Processing station = T0435\n",
      "Start...\n",
      "Splitting...\n",
      "Logging to /home/pierobon/Documents/data/exp/meteo_TN/raw/conversion_logs/T0435_temperatura3_A.log\n",
      "Splitting done\n",
      "Resetting index\n",
      "Creating custom datasets\n",
      "T0435 saved\n",
      "Processing station = T0437\n",
      "Start...\n",
      "Splitting...\n",
      "Logging to /home/pierobon/Documents/data/exp/meteo_TN/raw/conversion_logs/T0437_temperatura3_A.log\n",
      "Splitting done\n",
      "Resetting index\n",
      "Creating custom datasets\n",
      "T0437 saved\n",
      "Processing station = T0443\n",
      "Start...\n",
      "Splitting...\n",
      "Logging to /home/pierobon/Documents/data/exp/meteo_TN/raw/conversion_logs/T0443_temperatura3_A.log\n",
      "Splitting done\n",
      "Resetting index\n",
      "Creating custom datasets\n",
      "T0443 saved\n",
      "Processing station = T0450\n",
      "Start...\n",
      "Splitting...\n",
      "Logging to /home/pierobon/Documents/data/exp/meteo_TN/raw/conversion_logs/T0450_temperatura3_A.log\n",
      "Splitting done\n",
      "Resetting index\n",
      "Creating custom datasets\n",
      "T0450 saved\n",
      "Processing station = T0469\n",
      "Start...\n",
      "Splitting...\n",
      "Logging to /home/pierobon/Documents/data/exp/meteo_TN/raw/conversion_logs/T0469_temperatura3_A.log\n",
      "Splitting done\n",
      "Resetting index\n",
      "Creating custom datasets\n",
      "T0469 saved\n",
      "Processing station = T0473\n",
      "Start...\n",
      "Splitting...\n",
      "Logging to /home/pierobon/Documents/data/exp/meteo_TN/raw/conversion_logs/T0473_temperatura3_A.log\n",
      "Splitting done\n",
      "Resetting index\n",
      "Creating custom datasets\n",
      "T0473 saved\n",
      "Processing station = T0994\n",
      "Start...\n",
      "Splitting...\n",
      "Logging to /home/pierobon/Documents/data/exp/meteo_TN/raw/conversion_logs/T0994_temperatura3_A.log\n",
      "Splitting done\n",
      "Resetting index\n",
      "Creating custom datasets\n",
      "T0994 saved\n"
     ]
    }
   ],
   "source": [
    "# select period and prediction. \n",
    "PERIOD = 24\n",
    "PREDICTION = 1\n",
    "\n",
    "for station in pd.unique(df_row_data['label']):\n",
    "    print(\"Processing station = \"+station)\n",
    "    df_single_station = df_row_data[df_row_data['label'] == station].reset_index(drop=True)\n",
    "    if not df_single_station.empty: #some stations has the sensor but not the data idk why\n",
    "        print(\"Start...\")\n",
    "        df = df_single_station\n",
    "        print(\"Splitting...\")\n",
    "        df_train,df_prediction,n_previsions = split_df_for_TSF(\n",
    "            df, # the dataframe\n",
    "            PERIOD, #period\n",
    "            PREDICTION, #prediction\n",
    "            500, #print modulus\n",
    "            log_folder+station+\"_\"+csv_name[:-4]+\".log\" #file log path.\n",
    "        )\n",
    "        try:\n",
    "            some_object_iterator = iter(df_train)\n",
    "        except TypeError as te:\n",
    "            print(\"Unable to process this station\")\n",
    "            continue\n",
    "        print(\"Splitting done\")\n",
    "        \n",
    "        #df_prediction.to_csv( wk + csv_subfolder + \"/\" + station + \"_\" + selected_dataset + \"_\" + \"prediction.csv\") #Save it on GDrive\n",
    "        splits = ['train','test']\n",
    "        shuffle = {'train':True,'test':False}\n",
    "        dataset = {}\n",
    "\n",
    "        print(\"Resetting index\")\n",
    "        # split data in training and test (to check generalization)\n",
    "        training_features = df_train.sample(frac=0.8)\n",
    "        training_target = df_prediction.iloc[training_features.index.values]\n",
    "        test_features = df_train.drop(training_features.index)\n",
    "        test_target = df_prediction.iloc[test_features.index]\n",
    "        \n",
    "        \n",
    "        training_features = training_features.reset_index(drop=True)\n",
    "        training_target = training_target.reset_index(drop=True)\n",
    "        test_features = test_features.reset_index(drop=True)\n",
    "        test_target = test_target.reset_index(drop=True)\n",
    "\n",
    "        print(\"Creating custom datasets\")\n",
    "        dataset['train'] = CustomDataset(training_features, training_target)\n",
    "        dataset['test'] = CustomDataset(test_features, test_target)\n",
    "        \n",
    "        # save\n",
    "        save(dataset['train'], pt_subfolder + station + \"_train_\"+ selected_dataset + \"_tsf.pt\") \n",
    "        save(dataset['test'],  pt_subfolder + station + \"_test_\"+ selected_dataset + \"_tsf.pt\")\n",
    "        print (station + \" saved\")\n",
    "    else:\n",
    "        print(\"Station was empty\")\n"
   ]
  },
  {
   "cell_type": "code",
   "execution_count": null,
   "metadata": {},
   "outputs": [],
   "source": []
  },
  {
   "cell_type": "code",
   "execution_count": null,
   "metadata": {},
   "outputs": [],
   "source": []
  }
 ],
 "metadata": {
  "colab": {
   "provenance": []
  },
  "kernelspec": {
   "display_name": "Python 3 (ipykernel)",
   "language": "python",
   "name": "python3"
  },
  "language_info": {
   "codemirror_mode": {
    "name": "ipython",
    "version": 3
   },
   "file_extension": ".py",
   "mimetype": "text/x-python",
   "name": "python",
   "nbconvert_exporter": "python",
   "pygments_lexer": "ipython3",
   "version": "3.10.8"
  },
  "vscode": {
   "interpreter": {
    "hash": "75c7325c0caecc2d82c8a4e534cbb5ce82d278e087a13a7861173b66f0f67f74"
   }
  }
 },
 "nbformat": 4,
 "nbformat_minor": 4
}
